{
 "cells": [
  {
   "cell_type": "markdown",
   "metadata": {
    "toc": true
   },
   "source": [
    "<h1>Table of Contents<span class=\"tocSkip\"></span></h1>\n",
    "<div class=\"toc\"><ul class=\"toc-item\"><li><span><a href=\"#Project-Description\" data-toc-modified-id=\"Project-Description-1\">Project Description</a></span><ul class=\"toc-item\"><li><span><a href=\"#Data-description\" data-toc-modified-id=\"Data-description-1.1\">Data description</a></span></li></ul></li><li><span><a href=\"#Import-Libraries\" data-toc-modified-id=\"Import-Libraries-2\">Import Libraries</a></span></li><li><span><a href=\"#Exploratory-data-analysis\" data-toc-modified-id=\"Exploratory-data-analysis-3\">Exploratory data analysis</a></span><ul class=\"toc-item\"><li><span><a href=\"#Load-data\" data-toc-modified-id=\"Load-data-3.1\">Load data</a></span></li><li><span><a href=\"#Preprocessing-data\" data-toc-modified-id=\"Preprocessing-data-3.2\">Preprocessing data</a></span></li></ul></li><li><span><a href=\"#Split-Data\" data-toc-modified-id=\"Split-Data-4\">Split Data</a></span></li><li><span><a href=\"#Model-building\" data-toc-modified-id=\"Model-building-5\">Model building</a></span><ul class=\"toc-item\"><li><span><a href=\"#geo_0-region\" data-toc-modified-id=\"geo_0-region-5.1\">geo_0 region</a></span></li><li><span><a href=\"#geo_1-region\" data-toc-modified-id=\"geo_1-region-5.2\">geo_1 region</a></span></li><li><span><a href=\"#geo_2-region\" data-toc-modified-id=\"geo_2-region-5.3\">geo_2 region</a></span></li><li><span><a href=\"#Conclusion\" data-toc-modified-id=\"Conclusion-5.4\">Conclusion</a></span></li></ul></li><li><span><a href=\"#Profit-calculation\" data-toc-modified-id=\"Profit-calculation-6\">Profit calculation</a></span><ul class=\"toc-item\"><li><span><a href=\"#Conclusion\" data-toc-modified-id=\"Conclusion-6.1\">Conclusion</a></span></li></ul></li><li><span><a href=\"#Profit-from-a-set-of-selected-oil-wells-and-model-predictions\" data-toc-modified-id=\"Profit-from-a-set-of-selected-oil-wells-and-model-predictions-7\">Profit from a set of selected oil wells and model predictions</a></span><ul class=\"toc-item\"><li><span><a href=\"#Conclusion\" data-toc-modified-id=\"Conclusion-7.1\">Conclusion</a></span></li></ul></li><li><span><a href=\"#Calculate-risks-and-profit-for-each-region\" data-toc-modified-id=\"Calculate-risks-and-profit-for-each-region-8\">Calculate risks and profit for each region</a></span><ul class=\"toc-item\"><li><span><a href=\"#Conclusion\" data-toc-modified-id=\"Conclusion-8.1\">Conclusion</a></span></li></ul></li><li><span><a href=\"#Overall-Conclusion\" data-toc-modified-id=\"Overall-Conclusion-9\">Overall Conclusion</a></span></li></ul></div>"
   ]
  },
  {
   "cell_type": "markdown",
   "metadata": {
    "id": "VOhq2QwbdfDj"
   },
   "source": [
    "# Project Description\n",
    "\n",
    "---\n",
    "\n",
    "Analyze potential profit and risks for an oil company.\n",
    "\n",
    "Create a model that will analyze different proposed locations for a new oil well that will maximize profits while minimizing risk.\n",
    "\n",
    "Goal is to find the best place for a new oil well using provided data from three different regions.\n",
    "\n",
    "Steps to choose the location:\n",
    "* Collect the oil well parameters in the selected region: oil quality and volume of reserves;\n",
    "* Build a model for predicting the volume of reserves in the new wells;\n",
    "* Pick the oil wells with the highest estimated values;\n",
    "* Pick the region with the highest total profit for the selected oil wells.\n",
    "\n",
    "There is data on oil samples from three regions. Parameters of each oil well in the region are already known. Build a model that will help to pick the region with the highest profit margin. Analyze potential profit and risks using the Bootstrapping technique."
   ]
  },
  {
   "cell_type": "markdown",
   "metadata": {
    "id": "Ib6XHTk-mcKA"
   },
   "source": [
    "## Data description\n",
    "\n",
    "---\n",
    "\n",
    "Geological exploration data for the three regions are stored in files:\n",
    "* *id* — unique oil well identifier\n",
    "* *f0, f1, f2* — three features of points (their specific meaning is unimportant, but the features themselves are significant)\n",
    "* *product* — volume of reserves in the oil well (thousand barrels).\n",
    "\n",
    "**Conditions:**\n",
    "* Only linear regression is suitable for model training (the rest are not sufficiently predictable).\n",
    "* When exploring the region, a study of 500 points is carried with picking the best 200 points for the profit calculation.\n",
    "* The budget for development of 200 oil wells is 100 USD million.\n",
    "* One barrel of raw materials brings 4.5 USD of revenue The revenue from one unit of product is 4,500 dollars (volume of reserves is in thousand barrels).\n",
    "* After the risk evaluation, keep only the regions with the risk of losses lower than 2.5%. From the ones that fit the criteria, the region with the highest average profit should be selected.\n",
    "\n",
    "The data is synthetic: contract details and well characteristics are not disclosed."
   ]
  },
  {
   "cell_type": "markdown",
   "metadata": {},
   "source": [
    "# Import Libraries"
   ]
  },
  {
   "cell_type": "code",
   "execution_count": null,
   "metadata": {
    "id": "VY50K496pU6K"
   },
   "outputs": [],
   "source": [
    "# Import in libraries to use in project\n",
    "\n",
    "import pandas as pd\n",
    "import numpy as np\n",
    "from sklearn.model_selection import train_test_split\n",
    "from sklearn.linear_model import LinearRegression\n",
    "from sklearn.metrics import accuracy_score\n",
    "from sklearn.metrics import r2_score\n",
    "from sklearn.metrics import mean_squared_error\n",
    "from numpy.random import RandomState\n",
    "from tabulate import tabulate\n",
    "from scipy import stats as st"
   ]
  },
  {
   "cell_type": "markdown",
   "metadata": {},
   "source": [
    "# Exploratory data analysis"
   ]
  },
  {
   "cell_type": "markdown",
   "metadata": {},
   "source": [
    "## Load data"
   ]
  },
  {
   "cell_type": "code",
   "execution_count": null,
   "metadata": {
    "id": "1-1WtnK_wP4g"
   },
   "outputs": [],
   "source": [
    "geo_0 = pd.read_csv('/content/datasets/geo_data_0.csv')\n",
    "geo_1 = pd.read_csv('/content/datasets/geo_data_1.csv')\n",
    "geo_2 = pd.read_csv('/content/datasets/geo_data_2.csv')"
   ]
  },
  {
   "cell_type": "code",
   "execution_count": null,
   "metadata": {
    "id": "GR_c_xwLwVz5"
   },
   "outputs": [],
   "source": [
    "# Functions to get descriptions and info from dataframe\n",
    "\n",
    "def get_information(df):\n",
    "  \"\"\" Prints general info about the dataframe to get an idea of what it looks like\"\"\"\n",
    "  print('Head: \\n')\n",
    "  display(df.head())\n",
    "  print('*'*100, '\\n') # Prints a break to seperate print data\n",
    "  \n",
    "  print('Info: \\n')\n",
    "  display(df.info())\n",
    "  print('*'*100, '\\n')\n",
    "\n",
    "  print('Describe: \\n')\n",
    "  display(df.describe())\n",
    "  print('*'*100, '\\n')\n",
    "\n",
    "  print('Columns with nulls: \\n')\n",
    "  display(get_null_df(df,4))\n",
    "  print('*'*100, '\\n')\n",
    "\n",
    "  print('Shape: \\n')\n",
    "  display(df.shape)\n",
    "  print('*'*100, '\\n')\n",
    "\n",
    "  print('Duplicated: \\n')\n",
    "  print('Number of duplicated rows: {}'.format(df.duplicated().sum()))\n",
    "\n",
    "def get_null_df(df, num):\n",
    "  \"\"\"Gets percentage of null values per column per dataframe\"\"\"\n",
    "  df_nulls = pd.DataFrame(df.isna().sum(), columns=['missing_values'])\n",
    "  df_nulls['percent_of_nulls'] = round(df_nulls['missing_values'] / df.shape[0], num) *100\n",
    "  return df_nulls\n",
    "\n",
    "def get_null(df):\n",
    "  \"\"\"Gets percentage of null values in dataframe\"\"\"\n",
    "  count = 0\n",
    "  df = df.copy()\n",
    "  s = (df.isna().sum() / df.shape[0])\n",
    "  for column, percent in zip(s.index, s.values):\n",
    "\n",
    "    num_of_nulls = df[column].isna().sum()\n",
    "    if num_of_nulls == 0:\n",
    "      continue\n",
    "    else:\n",
    "      count += 1\n",
    "    print('Columns {} has {:.{}%} percent of Nulls, and {} number of nulls'.format(column, percent, num, num_of_nulls))\n",
    "\n",
    "    if count !=0:\n",
    "      print('Number of columns with NA: {}'.format(count))\n",
    "    else:\n",
    "      print('\\nNo NA columns found')"
   ]
  },
  {
   "cell_type": "code",
   "execution_count": null,
   "metadata": {
    "colab": {
     "base_uri": "https://localhost:8080/",
     "height": 1000
    },
    "id": "TbKt3XuOxNfa",
    "outputId": "4f8f53f6-4e22-480b-aedd-5f32745ca055"
   },
   "outputs": [
    {
     "name": "stdout",
     "output_type": "stream",
     "text": [
      "Head: \n",
      "\n"
     ]
    },
    {
     "data": {
      "text/html": [
       "<div>\n",
       "<style scoped>\n",
       "    .dataframe tbody tr th:only-of-type {\n",
       "        vertical-align: middle;\n",
       "    }\n",
       "\n",
       "    .dataframe tbody tr th {\n",
       "        vertical-align: top;\n",
       "    }\n",
       "\n",
       "    .dataframe thead th {\n",
       "        text-align: right;\n",
       "    }\n",
       "</style>\n",
       "<table border=\"1\" class=\"dataframe\">\n",
       "  <thead>\n",
       "    <tr style=\"text-align: right;\">\n",
       "      <th></th>\n",
       "      <th>id</th>\n",
       "      <th>f0</th>\n",
       "      <th>f1</th>\n",
       "      <th>f2</th>\n",
       "      <th>product</th>\n",
       "    </tr>\n",
       "  </thead>\n",
       "  <tbody>\n",
       "    <tr>\n",
       "      <th>0</th>\n",
       "      <td>txEyH</td>\n",
       "      <td>0.705745</td>\n",
       "      <td>-0.497823</td>\n",
       "      <td>1.221170</td>\n",
       "      <td>105.280062</td>\n",
       "    </tr>\n",
       "    <tr>\n",
       "      <th>1</th>\n",
       "      <td>2acmU</td>\n",
       "      <td>1.334711</td>\n",
       "      <td>-0.340164</td>\n",
       "      <td>4.365080</td>\n",
       "      <td>73.037750</td>\n",
       "    </tr>\n",
       "    <tr>\n",
       "      <th>2</th>\n",
       "      <td>409Wp</td>\n",
       "      <td>1.022732</td>\n",
       "      <td>0.151990</td>\n",
       "      <td>1.419926</td>\n",
       "      <td>85.265647</td>\n",
       "    </tr>\n",
       "    <tr>\n",
       "      <th>3</th>\n",
       "      <td>iJLyR</td>\n",
       "      <td>-0.032172</td>\n",
       "      <td>0.139033</td>\n",
       "      <td>2.978566</td>\n",
       "      <td>168.620776</td>\n",
       "    </tr>\n",
       "    <tr>\n",
       "      <th>4</th>\n",
       "      <td>Xdl7t</td>\n",
       "      <td>1.988431</td>\n",
       "      <td>0.155413</td>\n",
       "      <td>4.751769</td>\n",
       "      <td>154.036647</td>\n",
       "    </tr>\n",
       "  </tbody>\n",
       "</table>\n",
       "</div>"
      ],
      "text/plain": [
       "      id        f0        f1        f2     product\n",
       "0  txEyH  0.705745 -0.497823  1.221170  105.280062\n",
       "1  2acmU  1.334711 -0.340164  4.365080   73.037750\n",
       "2  409Wp  1.022732  0.151990  1.419926   85.265647\n",
       "3  iJLyR -0.032172  0.139033  2.978566  168.620776\n",
       "4  Xdl7t  1.988431  0.155413  4.751769  154.036647"
      ]
     },
     "metadata": {
      "tags": []
     },
     "output_type": "display_data"
    },
    {
     "name": "stdout",
     "output_type": "stream",
     "text": [
      "**************************************************************************************************** \n",
      "\n",
      "Info: \n",
      "\n",
      "<class 'pandas.core.frame.DataFrame'>\n",
      "RangeIndex: 100000 entries, 0 to 99999\n",
      "Data columns (total 5 columns):\n",
      " #   Column   Non-Null Count   Dtype  \n",
      "---  ------   --------------   -----  \n",
      " 0   id       100000 non-null  object \n",
      " 1   f0       100000 non-null  float64\n",
      " 2   f1       100000 non-null  float64\n",
      " 3   f2       100000 non-null  float64\n",
      " 4   product  100000 non-null  float64\n",
      "dtypes: float64(4), object(1)\n",
      "memory usage: 3.8+ MB\n"
     ]
    },
    {
     "data": {
      "text/plain": [
       "None"
      ]
     },
     "metadata": {
      "tags": []
     },
     "output_type": "display_data"
    },
    {
     "name": "stdout",
     "output_type": "stream",
     "text": [
      "**************************************************************************************************** \n",
      "\n",
      "Describe: \n",
      "\n"
     ]
    },
    {
     "data": {
      "text/html": [
       "<div>\n",
       "<style scoped>\n",
       "    .dataframe tbody tr th:only-of-type {\n",
       "        vertical-align: middle;\n",
       "    }\n",
       "\n",
       "    .dataframe tbody tr th {\n",
       "        vertical-align: top;\n",
       "    }\n",
       "\n",
       "    .dataframe thead th {\n",
       "        text-align: right;\n",
       "    }\n",
       "</style>\n",
       "<table border=\"1\" class=\"dataframe\">\n",
       "  <thead>\n",
       "    <tr style=\"text-align: right;\">\n",
       "      <th></th>\n",
       "      <th>f0</th>\n",
       "      <th>f1</th>\n",
       "      <th>f2</th>\n",
       "      <th>product</th>\n",
       "    </tr>\n",
       "  </thead>\n",
       "  <tbody>\n",
       "    <tr>\n",
       "      <th>count</th>\n",
       "      <td>100000.000000</td>\n",
       "      <td>100000.000000</td>\n",
       "      <td>100000.000000</td>\n",
       "      <td>100000.000000</td>\n",
       "    </tr>\n",
       "    <tr>\n",
       "      <th>mean</th>\n",
       "      <td>0.500419</td>\n",
       "      <td>0.250143</td>\n",
       "      <td>2.502647</td>\n",
       "      <td>92.500000</td>\n",
       "    </tr>\n",
       "    <tr>\n",
       "      <th>std</th>\n",
       "      <td>0.871832</td>\n",
       "      <td>0.504433</td>\n",
       "      <td>3.248248</td>\n",
       "      <td>44.288691</td>\n",
       "    </tr>\n",
       "    <tr>\n",
       "      <th>min</th>\n",
       "      <td>-1.408605</td>\n",
       "      <td>-0.848218</td>\n",
       "      <td>-12.088328</td>\n",
       "      <td>0.000000</td>\n",
       "    </tr>\n",
       "    <tr>\n",
       "      <th>25%</th>\n",
       "      <td>-0.072580</td>\n",
       "      <td>-0.200881</td>\n",
       "      <td>0.287748</td>\n",
       "      <td>56.497507</td>\n",
       "    </tr>\n",
       "    <tr>\n",
       "      <th>50%</th>\n",
       "      <td>0.502360</td>\n",
       "      <td>0.250252</td>\n",
       "      <td>2.515969</td>\n",
       "      <td>91.849972</td>\n",
       "    </tr>\n",
       "    <tr>\n",
       "      <th>75%</th>\n",
       "      <td>1.073581</td>\n",
       "      <td>0.700646</td>\n",
       "      <td>4.715088</td>\n",
       "      <td>128.564089</td>\n",
       "    </tr>\n",
       "    <tr>\n",
       "      <th>max</th>\n",
       "      <td>2.362331</td>\n",
       "      <td>1.343769</td>\n",
       "      <td>16.003790</td>\n",
       "      <td>185.364347</td>\n",
       "    </tr>\n",
       "  </tbody>\n",
       "</table>\n",
       "</div>"
      ],
      "text/plain": [
       "                  f0             f1             f2        product\n",
       "count  100000.000000  100000.000000  100000.000000  100000.000000\n",
       "mean        0.500419       0.250143       2.502647      92.500000\n",
       "std         0.871832       0.504433       3.248248      44.288691\n",
       "min        -1.408605      -0.848218     -12.088328       0.000000\n",
       "25%        -0.072580      -0.200881       0.287748      56.497507\n",
       "50%         0.502360       0.250252       2.515969      91.849972\n",
       "75%         1.073581       0.700646       4.715088     128.564089\n",
       "max         2.362331       1.343769      16.003790     185.364347"
      ]
     },
     "metadata": {
      "tags": []
     },
     "output_type": "display_data"
    },
    {
     "name": "stdout",
     "output_type": "stream",
     "text": [
      "**************************************************************************************************** \n",
      "\n",
      "Columns with nulls: \n",
      "\n"
     ]
    },
    {
     "data": {
      "text/html": [
       "<div>\n",
       "<style scoped>\n",
       "    .dataframe tbody tr th:only-of-type {\n",
       "        vertical-align: middle;\n",
       "    }\n",
       "\n",
       "    .dataframe tbody tr th {\n",
       "        vertical-align: top;\n",
       "    }\n",
       "\n",
       "    .dataframe thead th {\n",
       "        text-align: right;\n",
       "    }\n",
       "</style>\n",
       "<table border=\"1\" class=\"dataframe\">\n",
       "  <thead>\n",
       "    <tr style=\"text-align: right;\">\n",
       "      <th></th>\n",
       "      <th>missing_values</th>\n",
       "      <th>percent_of_nulls</th>\n",
       "    </tr>\n",
       "  </thead>\n",
       "  <tbody>\n",
       "    <tr>\n",
       "      <th>id</th>\n",
       "      <td>0</td>\n",
       "      <td>0.0</td>\n",
       "    </tr>\n",
       "    <tr>\n",
       "      <th>f0</th>\n",
       "      <td>0</td>\n",
       "      <td>0.0</td>\n",
       "    </tr>\n",
       "    <tr>\n",
       "      <th>f1</th>\n",
       "      <td>0</td>\n",
       "      <td>0.0</td>\n",
       "    </tr>\n",
       "    <tr>\n",
       "      <th>f2</th>\n",
       "      <td>0</td>\n",
       "      <td>0.0</td>\n",
       "    </tr>\n",
       "    <tr>\n",
       "      <th>product</th>\n",
       "      <td>0</td>\n",
       "      <td>0.0</td>\n",
       "    </tr>\n",
       "  </tbody>\n",
       "</table>\n",
       "</div>"
      ],
      "text/plain": [
       "         missing_values  percent_of_nulls\n",
       "id                    0               0.0\n",
       "f0                    0               0.0\n",
       "f1                    0               0.0\n",
       "f2                    0               0.0\n",
       "product               0               0.0"
      ]
     },
     "metadata": {
      "tags": []
     },
     "output_type": "display_data"
    },
    {
     "name": "stdout",
     "output_type": "stream",
     "text": [
      "**************************************************************************************************** \n",
      "\n",
      "Shape: \n",
      "\n"
     ]
    },
    {
     "data": {
      "text/plain": [
       "(100000, 5)"
      ]
     },
     "metadata": {
      "tags": []
     },
     "output_type": "display_data"
    },
    {
     "name": "stdout",
     "output_type": "stream",
     "text": [
      "**************************************************************************************************** \n",
      "\n",
      "Duplicated: \n",
      "\n",
      "Number of duplicated rows: 0\n"
     ]
    }
   ],
   "source": [
    "#Opening dataset for geo_0\n",
    "get_information(geo_0)"
   ]
  },
  {
   "cell_type": "markdown",
   "metadata": {
    "id": "KQ4c-3A0x6eV"
   },
   "source": [
    "Dataset for `geo_0` show to have 100000 entries with no null/missing values and datatypes seem to be correct."
   ]
  },
  {
   "cell_type": "code",
   "execution_count": null,
   "metadata": {
    "colab": {
     "base_uri": "https://localhost:8080/",
     "height": 1000
    },
    "id": "sVPODhUmxgif",
    "outputId": "ca829330-740b-4750-d1f4-117dbcd26bfe"
   },
   "outputs": [
    {
     "name": "stdout",
     "output_type": "stream",
     "text": [
      "Head: \n",
      "\n"
     ]
    },
    {
     "data": {
      "text/html": [
       "<div>\n",
       "<style scoped>\n",
       "    .dataframe tbody tr th:only-of-type {\n",
       "        vertical-align: middle;\n",
       "    }\n",
       "\n",
       "    .dataframe tbody tr th {\n",
       "        vertical-align: top;\n",
       "    }\n",
       "\n",
       "    .dataframe thead th {\n",
       "        text-align: right;\n",
       "    }\n",
       "</style>\n",
       "<table border=\"1\" class=\"dataframe\">\n",
       "  <thead>\n",
       "    <tr style=\"text-align: right;\">\n",
       "      <th></th>\n",
       "      <th>id</th>\n",
       "      <th>f0</th>\n",
       "      <th>f1</th>\n",
       "      <th>f2</th>\n",
       "      <th>product</th>\n",
       "    </tr>\n",
       "  </thead>\n",
       "  <tbody>\n",
       "    <tr>\n",
       "      <th>0</th>\n",
       "      <td>kBEdx</td>\n",
       "      <td>-15.001348</td>\n",
       "      <td>-8.276000</td>\n",
       "      <td>-0.005876</td>\n",
       "      <td>3.179103</td>\n",
       "    </tr>\n",
       "    <tr>\n",
       "      <th>1</th>\n",
       "      <td>62mP7</td>\n",
       "      <td>14.272088</td>\n",
       "      <td>-3.475083</td>\n",
       "      <td>0.999183</td>\n",
       "      <td>26.953261</td>\n",
       "    </tr>\n",
       "    <tr>\n",
       "      <th>2</th>\n",
       "      <td>vyE1P</td>\n",
       "      <td>6.263187</td>\n",
       "      <td>-5.948386</td>\n",
       "      <td>5.001160</td>\n",
       "      <td>134.766305</td>\n",
       "    </tr>\n",
       "    <tr>\n",
       "      <th>3</th>\n",
       "      <td>KcrkZ</td>\n",
       "      <td>-13.081196</td>\n",
       "      <td>-11.506057</td>\n",
       "      <td>4.999415</td>\n",
       "      <td>137.945408</td>\n",
       "    </tr>\n",
       "    <tr>\n",
       "      <th>4</th>\n",
       "      <td>AHL4O</td>\n",
       "      <td>12.702195</td>\n",
       "      <td>-8.147433</td>\n",
       "      <td>5.004363</td>\n",
       "      <td>134.766305</td>\n",
       "    </tr>\n",
       "  </tbody>\n",
       "</table>\n",
       "</div>"
      ],
      "text/plain": [
       "      id         f0         f1        f2     product\n",
       "0  kBEdx -15.001348  -8.276000 -0.005876    3.179103\n",
       "1  62mP7  14.272088  -3.475083  0.999183   26.953261\n",
       "2  vyE1P   6.263187  -5.948386  5.001160  134.766305\n",
       "3  KcrkZ -13.081196 -11.506057  4.999415  137.945408\n",
       "4  AHL4O  12.702195  -8.147433  5.004363  134.766305"
      ]
     },
     "metadata": {
      "tags": []
     },
     "output_type": "display_data"
    },
    {
     "name": "stdout",
     "output_type": "stream",
     "text": [
      "**************************************************************************************************** \n",
      "\n",
      "Info: \n",
      "\n",
      "<class 'pandas.core.frame.DataFrame'>\n",
      "RangeIndex: 100000 entries, 0 to 99999\n",
      "Data columns (total 5 columns):\n",
      " #   Column   Non-Null Count   Dtype  \n",
      "---  ------   --------------   -----  \n",
      " 0   id       100000 non-null  object \n",
      " 1   f0       100000 non-null  float64\n",
      " 2   f1       100000 non-null  float64\n",
      " 3   f2       100000 non-null  float64\n",
      " 4   product  100000 non-null  float64\n",
      "dtypes: float64(4), object(1)\n",
      "memory usage: 3.8+ MB\n"
     ]
    },
    {
     "data": {
      "text/plain": [
       "None"
      ]
     },
     "metadata": {
      "tags": []
     },
     "output_type": "display_data"
    },
    {
     "name": "stdout",
     "output_type": "stream",
     "text": [
      "**************************************************************************************************** \n",
      "\n",
      "Describe: \n",
      "\n"
     ]
    },
    {
     "data": {
      "text/html": [
       "<div>\n",
       "<style scoped>\n",
       "    .dataframe tbody tr th:only-of-type {\n",
       "        vertical-align: middle;\n",
       "    }\n",
       "\n",
       "    .dataframe tbody tr th {\n",
       "        vertical-align: top;\n",
       "    }\n",
       "\n",
       "    .dataframe thead th {\n",
       "        text-align: right;\n",
       "    }\n",
       "</style>\n",
       "<table border=\"1\" class=\"dataframe\">\n",
       "  <thead>\n",
       "    <tr style=\"text-align: right;\">\n",
       "      <th></th>\n",
       "      <th>f0</th>\n",
       "      <th>f1</th>\n",
       "      <th>f2</th>\n",
       "      <th>product</th>\n",
       "    </tr>\n",
       "  </thead>\n",
       "  <tbody>\n",
       "    <tr>\n",
       "      <th>count</th>\n",
       "      <td>100000.000000</td>\n",
       "      <td>100000.000000</td>\n",
       "      <td>100000.000000</td>\n",
       "      <td>100000.000000</td>\n",
       "    </tr>\n",
       "    <tr>\n",
       "      <th>mean</th>\n",
       "      <td>1.141296</td>\n",
       "      <td>-4.796579</td>\n",
       "      <td>2.494541</td>\n",
       "      <td>68.825000</td>\n",
       "    </tr>\n",
       "    <tr>\n",
       "      <th>std</th>\n",
       "      <td>8.965932</td>\n",
       "      <td>5.119872</td>\n",
       "      <td>1.703572</td>\n",
       "      <td>45.944423</td>\n",
       "    </tr>\n",
       "    <tr>\n",
       "      <th>min</th>\n",
       "      <td>-31.609576</td>\n",
       "      <td>-26.358598</td>\n",
       "      <td>-0.018144</td>\n",
       "      <td>0.000000</td>\n",
       "    </tr>\n",
       "    <tr>\n",
       "      <th>25%</th>\n",
       "      <td>-6.298551</td>\n",
       "      <td>-8.267985</td>\n",
       "      <td>1.000021</td>\n",
       "      <td>26.953261</td>\n",
       "    </tr>\n",
       "    <tr>\n",
       "      <th>50%</th>\n",
       "      <td>1.153055</td>\n",
       "      <td>-4.813172</td>\n",
       "      <td>2.011479</td>\n",
       "      <td>57.085625</td>\n",
       "    </tr>\n",
       "    <tr>\n",
       "      <th>75%</th>\n",
       "      <td>8.621015</td>\n",
       "      <td>-1.332816</td>\n",
       "      <td>3.999904</td>\n",
       "      <td>107.813044</td>\n",
       "    </tr>\n",
       "    <tr>\n",
       "      <th>max</th>\n",
       "      <td>29.421755</td>\n",
       "      <td>18.734063</td>\n",
       "      <td>5.019721</td>\n",
       "      <td>137.945408</td>\n",
       "    </tr>\n",
       "  </tbody>\n",
       "</table>\n",
       "</div>"
      ],
      "text/plain": [
       "                  f0             f1             f2        product\n",
       "count  100000.000000  100000.000000  100000.000000  100000.000000\n",
       "mean        1.141296      -4.796579       2.494541      68.825000\n",
       "std         8.965932       5.119872       1.703572      45.944423\n",
       "min       -31.609576     -26.358598      -0.018144       0.000000\n",
       "25%        -6.298551      -8.267985       1.000021      26.953261\n",
       "50%         1.153055      -4.813172       2.011479      57.085625\n",
       "75%         8.621015      -1.332816       3.999904     107.813044\n",
       "max        29.421755      18.734063       5.019721     137.945408"
      ]
     },
     "metadata": {
      "tags": []
     },
     "output_type": "display_data"
    },
    {
     "name": "stdout",
     "output_type": "stream",
     "text": [
      "**************************************************************************************************** \n",
      "\n",
      "Columns with nulls: \n",
      "\n"
     ]
    },
    {
     "data": {
      "text/html": [
       "<div>\n",
       "<style scoped>\n",
       "    .dataframe tbody tr th:only-of-type {\n",
       "        vertical-align: middle;\n",
       "    }\n",
       "\n",
       "    .dataframe tbody tr th {\n",
       "        vertical-align: top;\n",
       "    }\n",
       "\n",
       "    .dataframe thead th {\n",
       "        text-align: right;\n",
       "    }\n",
       "</style>\n",
       "<table border=\"1\" class=\"dataframe\">\n",
       "  <thead>\n",
       "    <tr style=\"text-align: right;\">\n",
       "      <th></th>\n",
       "      <th>missing_values</th>\n",
       "      <th>percent_of_nulls</th>\n",
       "    </tr>\n",
       "  </thead>\n",
       "  <tbody>\n",
       "    <tr>\n",
       "      <th>id</th>\n",
       "      <td>0</td>\n",
       "      <td>0.0</td>\n",
       "    </tr>\n",
       "    <tr>\n",
       "      <th>f0</th>\n",
       "      <td>0</td>\n",
       "      <td>0.0</td>\n",
       "    </tr>\n",
       "    <tr>\n",
       "      <th>f1</th>\n",
       "      <td>0</td>\n",
       "      <td>0.0</td>\n",
       "    </tr>\n",
       "    <tr>\n",
       "      <th>f2</th>\n",
       "      <td>0</td>\n",
       "      <td>0.0</td>\n",
       "    </tr>\n",
       "    <tr>\n",
       "      <th>product</th>\n",
       "      <td>0</td>\n",
       "      <td>0.0</td>\n",
       "    </tr>\n",
       "  </tbody>\n",
       "</table>\n",
       "</div>"
      ],
      "text/plain": [
       "         missing_values  percent_of_nulls\n",
       "id                    0               0.0\n",
       "f0                    0               0.0\n",
       "f1                    0               0.0\n",
       "f2                    0               0.0\n",
       "product               0               0.0"
      ]
     },
     "metadata": {
      "tags": []
     },
     "output_type": "display_data"
    },
    {
     "name": "stdout",
     "output_type": "stream",
     "text": [
      "**************************************************************************************************** \n",
      "\n",
      "Shape: \n",
      "\n"
     ]
    },
    {
     "data": {
      "text/plain": [
       "(100000, 5)"
      ]
     },
     "metadata": {
      "tags": []
     },
     "output_type": "display_data"
    },
    {
     "name": "stdout",
     "output_type": "stream",
     "text": [
      "**************************************************************************************************** \n",
      "\n",
      "Duplicated: \n",
      "\n",
      "Number of duplicated rows: 0\n"
     ]
    }
   ],
   "source": [
    "#Opening dataset for geo_1\n",
    "get_information(geo_1)"
   ]
  },
  {
   "cell_type": "markdown",
   "metadata": {
    "id": "K_o801Cty8ys"
   },
   "source": [
    "Dataset for `geo_1` show to have 100000 entries with no null/missing values and datatypes seem to be correct."
   ]
  },
  {
   "cell_type": "code",
   "execution_count": null,
   "metadata": {
    "colab": {
     "base_uri": "https://localhost:8080/",
     "height": 1000
    },
    "id": "1esyrhdwxifN",
    "outputId": "f4478513-6f7c-45a5-c82c-04a36f04a31e"
   },
   "outputs": [
    {
     "name": "stdout",
     "output_type": "stream",
     "text": [
      "Head: \n",
      "\n"
     ]
    },
    {
     "data": {
      "text/html": [
       "<div>\n",
       "<style scoped>\n",
       "    .dataframe tbody tr th:only-of-type {\n",
       "        vertical-align: middle;\n",
       "    }\n",
       "\n",
       "    .dataframe tbody tr th {\n",
       "        vertical-align: top;\n",
       "    }\n",
       "\n",
       "    .dataframe thead th {\n",
       "        text-align: right;\n",
       "    }\n",
       "</style>\n",
       "<table border=\"1\" class=\"dataframe\">\n",
       "  <thead>\n",
       "    <tr style=\"text-align: right;\">\n",
       "      <th></th>\n",
       "      <th>id</th>\n",
       "      <th>f0</th>\n",
       "      <th>f1</th>\n",
       "      <th>f2</th>\n",
       "      <th>product</th>\n",
       "    </tr>\n",
       "  </thead>\n",
       "  <tbody>\n",
       "    <tr>\n",
       "      <th>0</th>\n",
       "      <td>fwXo0</td>\n",
       "      <td>-1.146987</td>\n",
       "      <td>0.963328</td>\n",
       "      <td>-0.828965</td>\n",
       "      <td>27.758673</td>\n",
       "    </tr>\n",
       "    <tr>\n",
       "      <th>1</th>\n",
       "      <td>WJtFt</td>\n",
       "      <td>0.262778</td>\n",
       "      <td>0.269839</td>\n",
       "      <td>-2.530187</td>\n",
       "      <td>56.069697</td>\n",
       "    </tr>\n",
       "    <tr>\n",
       "      <th>2</th>\n",
       "      <td>ovLUW</td>\n",
       "      <td>0.194587</td>\n",
       "      <td>0.289035</td>\n",
       "      <td>-5.586433</td>\n",
       "      <td>62.871910</td>\n",
       "    </tr>\n",
       "    <tr>\n",
       "      <th>3</th>\n",
       "      <td>q6cA6</td>\n",
       "      <td>2.236060</td>\n",
       "      <td>-0.553760</td>\n",
       "      <td>0.930038</td>\n",
       "      <td>114.572842</td>\n",
       "    </tr>\n",
       "    <tr>\n",
       "      <th>4</th>\n",
       "      <td>WPMUX</td>\n",
       "      <td>-0.515993</td>\n",
       "      <td>1.716266</td>\n",
       "      <td>5.899011</td>\n",
       "      <td>149.600746</td>\n",
       "    </tr>\n",
       "  </tbody>\n",
       "</table>\n",
       "</div>"
      ],
      "text/plain": [
       "      id        f0        f1        f2     product\n",
       "0  fwXo0 -1.146987  0.963328 -0.828965   27.758673\n",
       "1  WJtFt  0.262778  0.269839 -2.530187   56.069697\n",
       "2  ovLUW  0.194587  0.289035 -5.586433   62.871910\n",
       "3  q6cA6  2.236060 -0.553760  0.930038  114.572842\n",
       "4  WPMUX -0.515993  1.716266  5.899011  149.600746"
      ]
     },
     "metadata": {
      "tags": []
     },
     "output_type": "display_data"
    },
    {
     "name": "stdout",
     "output_type": "stream",
     "text": [
      "**************************************************************************************************** \n",
      "\n",
      "Info: \n",
      "\n",
      "<class 'pandas.core.frame.DataFrame'>\n",
      "RangeIndex: 100000 entries, 0 to 99999\n",
      "Data columns (total 5 columns):\n",
      " #   Column   Non-Null Count   Dtype  \n",
      "---  ------   --------------   -----  \n",
      " 0   id       100000 non-null  object \n",
      " 1   f0       100000 non-null  float64\n",
      " 2   f1       100000 non-null  float64\n",
      " 3   f2       100000 non-null  float64\n",
      " 4   product  100000 non-null  float64\n",
      "dtypes: float64(4), object(1)\n",
      "memory usage: 3.8+ MB\n"
     ]
    },
    {
     "data": {
      "text/plain": [
       "None"
      ]
     },
     "metadata": {
      "tags": []
     },
     "output_type": "display_data"
    },
    {
     "name": "stdout",
     "output_type": "stream",
     "text": [
      "**************************************************************************************************** \n",
      "\n",
      "Describe: \n",
      "\n"
     ]
    },
    {
     "data": {
      "text/html": [
       "<div>\n",
       "<style scoped>\n",
       "    .dataframe tbody tr th:only-of-type {\n",
       "        vertical-align: middle;\n",
       "    }\n",
       "\n",
       "    .dataframe tbody tr th {\n",
       "        vertical-align: top;\n",
       "    }\n",
       "\n",
       "    .dataframe thead th {\n",
       "        text-align: right;\n",
       "    }\n",
       "</style>\n",
       "<table border=\"1\" class=\"dataframe\">\n",
       "  <thead>\n",
       "    <tr style=\"text-align: right;\">\n",
       "      <th></th>\n",
       "      <th>f0</th>\n",
       "      <th>f1</th>\n",
       "      <th>f2</th>\n",
       "      <th>product</th>\n",
       "    </tr>\n",
       "  </thead>\n",
       "  <tbody>\n",
       "    <tr>\n",
       "      <th>count</th>\n",
       "      <td>100000.000000</td>\n",
       "      <td>100000.000000</td>\n",
       "      <td>100000.000000</td>\n",
       "      <td>100000.000000</td>\n",
       "    </tr>\n",
       "    <tr>\n",
       "      <th>mean</th>\n",
       "      <td>0.002023</td>\n",
       "      <td>-0.002081</td>\n",
       "      <td>2.495128</td>\n",
       "      <td>95.000000</td>\n",
       "    </tr>\n",
       "    <tr>\n",
       "      <th>std</th>\n",
       "      <td>1.732045</td>\n",
       "      <td>1.730417</td>\n",
       "      <td>3.473445</td>\n",
       "      <td>44.749921</td>\n",
       "    </tr>\n",
       "    <tr>\n",
       "      <th>min</th>\n",
       "      <td>-8.760004</td>\n",
       "      <td>-7.084020</td>\n",
       "      <td>-11.970335</td>\n",
       "      <td>0.000000</td>\n",
       "    </tr>\n",
       "    <tr>\n",
       "      <th>25%</th>\n",
       "      <td>-1.162288</td>\n",
       "      <td>-1.174820</td>\n",
       "      <td>0.130359</td>\n",
       "      <td>59.450441</td>\n",
       "    </tr>\n",
       "    <tr>\n",
       "      <th>50%</th>\n",
       "      <td>0.009424</td>\n",
       "      <td>-0.009482</td>\n",
       "      <td>2.484236</td>\n",
       "      <td>94.925613</td>\n",
       "    </tr>\n",
       "    <tr>\n",
       "      <th>75%</th>\n",
       "      <td>1.158535</td>\n",
       "      <td>1.163678</td>\n",
       "      <td>4.858794</td>\n",
       "      <td>130.595027</td>\n",
       "    </tr>\n",
       "    <tr>\n",
       "      <th>max</th>\n",
       "      <td>7.238262</td>\n",
       "      <td>7.844801</td>\n",
       "      <td>16.739402</td>\n",
       "      <td>190.029838</td>\n",
       "    </tr>\n",
       "  </tbody>\n",
       "</table>\n",
       "</div>"
      ],
      "text/plain": [
       "                  f0             f1             f2        product\n",
       "count  100000.000000  100000.000000  100000.000000  100000.000000\n",
       "mean        0.002023      -0.002081       2.495128      95.000000\n",
       "std         1.732045       1.730417       3.473445      44.749921\n",
       "min        -8.760004      -7.084020     -11.970335       0.000000\n",
       "25%        -1.162288      -1.174820       0.130359      59.450441\n",
       "50%         0.009424      -0.009482       2.484236      94.925613\n",
       "75%         1.158535       1.163678       4.858794     130.595027\n",
       "max         7.238262       7.844801      16.739402     190.029838"
      ]
     },
     "metadata": {
      "tags": []
     },
     "output_type": "display_data"
    },
    {
     "name": "stdout",
     "output_type": "stream",
     "text": [
      "**************************************************************************************************** \n",
      "\n",
      "Columns with nulls: \n",
      "\n"
     ]
    },
    {
     "data": {
      "text/html": [
       "<div>\n",
       "<style scoped>\n",
       "    .dataframe tbody tr th:only-of-type {\n",
       "        vertical-align: middle;\n",
       "    }\n",
       "\n",
       "    .dataframe tbody tr th {\n",
       "        vertical-align: top;\n",
       "    }\n",
       "\n",
       "    .dataframe thead th {\n",
       "        text-align: right;\n",
       "    }\n",
       "</style>\n",
       "<table border=\"1\" class=\"dataframe\">\n",
       "  <thead>\n",
       "    <tr style=\"text-align: right;\">\n",
       "      <th></th>\n",
       "      <th>missing_values</th>\n",
       "      <th>percent_of_nulls</th>\n",
       "    </tr>\n",
       "  </thead>\n",
       "  <tbody>\n",
       "    <tr>\n",
       "      <th>id</th>\n",
       "      <td>0</td>\n",
       "      <td>0.0</td>\n",
       "    </tr>\n",
       "    <tr>\n",
       "      <th>f0</th>\n",
       "      <td>0</td>\n",
       "      <td>0.0</td>\n",
       "    </tr>\n",
       "    <tr>\n",
       "      <th>f1</th>\n",
       "      <td>0</td>\n",
       "      <td>0.0</td>\n",
       "    </tr>\n",
       "    <tr>\n",
       "      <th>f2</th>\n",
       "      <td>0</td>\n",
       "      <td>0.0</td>\n",
       "    </tr>\n",
       "    <tr>\n",
       "      <th>product</th>\n",
       "      <td>0</td>\n",
       "      <td>0.0</td>\n",
       "    </tr>\n",
       "  </tbody>\n",
       "</table>\n",
       "</div>"
      ],
      "text/plain": [
       "         missing_values  percent_of_nulls\n",
       "id                    0               0.0\n",
       "f0                    0               0.0\n",
       "f1                    0               0.0\n",
       "f2                    0               0.0\n",
       "product               0               0.0"
      ]
     },
     "metadata": {
      "tags": []
     },
     "output_type": "display_data"
    },
    {
     "name": "stdout",
     "output_type": "stream",
     "text": [
      "**************************************************************************************************** \n",
      "\n",
      "Shape: \n",
      "\n"
     ]
    },
    {
     "data": {
      "text/plain": [
       "(100000, 5)"
      ]
     },
     "metadata": {
      "tags": []
     },
     "output_type": "display_data"
    },
    {
     "name": "stdout",
     "output_type": "stream",
     "text": [
      "**************************************************************************************************** \n",
      "\n",
      "Duplicated: \n",
      "\n",
      "Number of duplicated rows: 0\n"
     ]
    }
   ],
   "source": [
    "#Opening dataset for geo_2\n",
    "get_information(geo_2)"
   ]
  },
  {
   "cell_type": "markdown",
   "metadata": {
    "id": "AO9-We45BrXm"
   },
   "source": [
    "Dataset for `geo_2` show to have 100000 entries with no null/missing values and datatypes seem to be correct.\n",
    "\n",
    "From all the datasets, we might be able to drop the **id** column as it does not provide the models much information."
   ]
  },
  {
   "cell_type": "markdown",
   "metadata": {},
   "source": [
    "## Preprocessing data"
   ]
  },
  {
   "cell_type": "code",
   "execution_count": null,
   "metadata": {
    "colab": {
     "base_uri": "https://localhost:8080/",
     "height": 578
    },
    "id": "GeGNLL4uQee-",
    "outputId": "d53e979f-4b8d-48a9-f55b-7c95d77233ad"
   },
   "outputs": [
    {
     "data": {
      "text/html": [
       "<div>\n",
       "<style scoped>\n",
       "    .dataframe tbody tr th:only-of-type {\n",
       "        vertical-align: middle;\n",
       "    }\n",
       "\n",
       "    .dataframe tbody tr th {\n",
       "        vertical-align: top;\n",
       "    }\n",
       "\n",
       "    .dataframe thead th {\n",
       "        text-align: right;\n",
       "    }\n",
       "</style>\n",
       "<table border=\"1\" class=\"dataframe\">\n",
       "  <thead>\n",
       "    <tr style=\"text-align: right;\">\n",
       "      <th></th>\n",
       "      <th>f0</th>\n",
       "      <th>f1</th>\n",
       "      <th>f2</th>\n",
       "      <th>product</th>\n",
       "    </tr>\n",
       "  </thead>\n",
       "  <tbody>\n",
       "    <tr>\n",
       "      <th>0</th>\n",
       "      <td>0.705745</td>\n",
       "      <td>-0.497823</td>\n",
       "      <td>1.221170</td>\n",
       "      <td>105.280062</td>\n",
       "    </tr>\n",
       "    <tr>\n",
       "      <th>1</th>\n",
       "      <td>1.334711</td>\n",
       "      <td>-0.340164</td>\n",
       "      <td>4.365080</td>\n",
       "      <td>73.037750</td>\n",
       "    </tr>\n",
       "    <tr>\n",
       "      <th>2</th>\n",
       "      <td>1.022732</td>\n",
       "      <td>0.151990</td>\n",
       "      <td>1.419926</td>\n",
       "      <td>85.265647</td>\n",
       "    </tr>\n",
       "    <tr>\n",
       "      <th>3</th>\n",
       "      <td>-0.032172</td>\n",
       "      <td>0.139033</td>\n",
       "      <td>2.978566</td>\n",
       "      <td>168.620776</td>\n",
       "    </tr>\n",
       "    <tr>\n",
       "      <th>4</th>\n",
       "      <td>1.988431</td>\n",
       "      <td>0.155413</td>\n",
       "      <td>4.751769</td>\n",
       "      <td>154.036647</td>\n",
       "    </tr>\n",
       "  </tbody>\n",
       "</table>\n",
       "</div>"
      ],
      "text/plain": [
       "         f0        f1        f2     product\n",
       "0  0.705745 -0.497823  1.221170  105.280062\n",
       "1  1.334711 -0.340164  4.365080   73.037750\n",
       "2  1.022732  0.151990  1.419926   85.265647\n",
       "3 -0.032172  0.139033  2.978566  168.620776\n",
       "4  1.988431  0.155413  4.751769  154.036647"
      ]
     },
     "metadata": {
      "tags": []
     },
     "output_type": "display_data"
    },
    {
     "data": {
      "text/html": [
       "<div>\n",
       "<style scoped>\n",
       "    .dataframe tbody tr th:only-of-type {\n",
       "        vertical-align: middle;\n",
       "    }\n",
       "\n",
       "    .dataframe tbody tr th {\n",
       "        vertical-align: top;\n",
       "    }\n",
       "\n",
       "    .dataframe thead th {\n",
       "        text-align: right;\n",
       "    }\n",
       "</style>\n",
       "<table border=\"1\" class=\"dataframe\">\n",
       "  <thead>\n",
       "    <tr style=\"text-align: right;\">\n",
       "      <th></th>\n",
       "      <th>f0</th>\n",
       "      <th>f1</th>\n",
       "      <th>f2</th>\n",
       "      <th>product</th>\n",
       "    </tr>\n",
       "  </thead>\n",
       "  <tbody>\n",
       "    <tr>\n",
       "      <th>0</th>\n",
       "      <td>-15.001348</td>\n",
       "      <td>-8.276000</td>\n",
       "      <td>-0.005876</td>\n",
       "      <td>3.179103</td>\n",
       "    </tr>\n",
       "    <tr>\n",
       "      <th>1</th>\n",
       "      <td>14.272088</td>\n",
       "      <td>-3.475083</td>\n",
       "      <td>0.999183</td>\n",
       "      <td>26.953261</td>\n",
       "    </tr>\n",
       "    <tr>\n",
       "      <th>2</th>\n",
       "      <td>6.263187</td>\n",
       "      <td>-5.948386</td>\n",
       "      <td>5.001160</td>\n",
       "      <td>134.766305</td>\n",
       "    </tr>\n",
       "    <tr>\n",
       "      <th>3</th>\n",
       "      <td>-13.081196</td>\n",
       "      <td>-11.506057</td>\n",
       "      <td>4.999415</td>\n",
       "      <td>137.945408</td>\n",
       "    </tr>\n",
       "    <tr>\n",
       "      <th>4</th>\n",
       "      <td>12.702195</td>\n",
       "      <td>-8.147433</td>\n",
       "      <td>5.004363</td>\n",
       "      <td>134.766305</td>\n",
       "    </tr>\n",
       "  </tbody>\n",
       "</table>\n",
       "</div>"
      ],
      "text/plain": [
       "          f0         f1        f2     product\n",
       "0 -15.001348  -8.276000 -0.005876    3.179103\n",
       "1  14.272088  -3.475083  0.999183   26.953261\n",
       "2   6.263187  -5.948386  5.001160  134.766305\n",
       "3 -13.081196 -11.506057  4.999415  137.945408\n",
       "4  12.702195  -8.147433  5.004363  134.766305"
      ]
     },
     "metadata": {
      "tags": []
     },
     "output_type": "display_data"
    },
    {
     "data": {
      "text/html": [
       "<div>\n",
       "<style scoped>\n",
       "    .dataframe tbody tr th:only-of-type {\n",
       "        vertical-align: middle;\n",
       "    }\n",
       "\n",
       "    .dataframe tbody tr th {\n",
       "        vertical-align: top;\n",
       "    }\n",
       "\n",
       "    .dataframe thead th {\n",
       "        text-align: right;\n",
       "    }\n",
       "</style>\n",
       "<table border=\"1\" class=\"dataframe\">\n",
       "  <thead>\n",
       "    <tr style=\"text-align: right;\">\n",
       "      <th></th>\n",
       "      <th>f0</th>\n",
       "      <th>f1</th>\n",
       "      <th>f2</th>\n",
       "      <th>product</th>\n",
       "    </tr>\n",
       "  </thead>\n",
       "  <tbody>\n",
       "    <tr>\n",
       "      <th>0</th>\n",
       "      <td>-1.146987</td>\n",
       "      <td>0.963328</td>\n",
       "      <td>-0.828965</td>\n",
       "      <td>27.758673</td>\n",
       "    </tr>\n",
       "    <tr>\n",
       "      <th>1</th>\n",
       "      <td>0.262778</td>\n",
       "      <td>0.269839</td>\n",
       "      <td>-2.530187</td>\n",
       "      <td>56.069697</td>\n",
       "    </tr>\n",
       "    <tr>\n",
       "      <th>2</th>\n",
       "      <td>0.194587</td>\n",
       "      <td>0.289035</td>\n",
       "      <td>-5.586433</td>\n",
       "      <td>62.871910</td>\n",
       "    </tr>\n",
       "    <tr>\n",
       "      <th>3</th>\n",
       "      <td>2.236060</td>\n",
       "      <td>-0.553760</td>\n",
       "      <td>0.930038</td>\n",
       "      <td>114.572842</td>\n",
       "    </tr>\n",
       "    <tr>\n",
       "      <th>4</th>\n",
       "      <td>-0.515993</td>\n",
       "      <td>1.716266</td>\n",
       "      <td>5.899011</td>\n",
       "      <td>149.600746</td>\n",
       "    </tr>\n",
       "  </tbody>\n",
       "</table>\n",
       "</div>"
      ],
      "text/plain": [
       "         f0        f1        f2     product\n",
       "0 -1.146987  0.963328 -0.828965   27.758673\n",
       "1  0.262778  0.269839 -2.530187   56.069697\n",
       "2  0.194587  0.289035 -5.586433   62.871910\n",
       "3  2.236060 -0.553760  0.930038  114.572842\n",
       "4 -0.515993  1.716266  5.899011  149.600746"
      ]
     },
     "metadata": {
      "tags": []
     },
     "output_type": "display_data"
    }
   ],
   "source": [
    "#Remove columns that do not provide unique or relational information that our model could use\n",
    "geo_0_data = geo_0.drop(['id'], axis=1)\n",
    "display(geo_0_data.head())\n",
    "\n",
    "geo_1_data = geo_1.drop(['id'], axis=1)\n",
    "display(geo_1_data.head())\n",
    "\n",
    "geo_2_data = geo_2.drop(['id'], axis=1)\n",
    "display(geo_2_data.head())"
   ]
  },
  {
   "cell_type": "markdown",
   "metadata": {
    "id": "oezaGIFJM75t"
   },
   "source": [
    "The datasets `geo_0`, `geo_1`, `geo_2` all have 100,000 entries with no missing values and have datatypes that seem to be correct. We were able to drop the **id** column as this would not provide much information for our model."
   ]
  },
  {
   "cell_type": "markdown",
   "metadata": {},
   "source": [
    "# Split Data"
   ]
  },
  {
   "cell_type": "code",
   "execution_count": null,
   "metadata": {
    "id": "pa--7LNYsN-Z"
   },
   "outputs": [],
   "source": [
    "RANDOM_STATE = 12345 #Random_State\n",
    "\n",
    "def get_train_valid(df):\n",
    "    df_train, df_valid = train_test_split(df, test_size=0.25, random_state=RANDOM_STATE) # Splits data up to 75% train and 25% test\n",
    "    return df_train, df_valid"
   ]
  },
  {
   "cell_type": "code",
   "execution_count": null,
   "metadata": {
    "colab": {
     "base_uri": "https://localhost:8080/"
    },
    "id": "qNlLZj65s-d2",
    "outputId": "7815b037-14d0-479a-8c46-cd3bcf0f7821"
   },
   "outputs": [
    {
     "name": "stdout",
     "output_type": "stream",
     "text": [
      "geo_0 datasets: \n",
      "\n",
      "Train: (75000, 3)  Target Train: (75000,)\n",
      "Validation: (25000, 3)  Target Validation: (25000,)\n"
     ]
    }
   ],
   "source": [
    "geo0_target = geo_0_data['product']\n",
    "geo0_features = geo_0_data.drop(['product'], axis=1)\n",
    "\n",
    "geo0_x_train, geo0_x_valid = get_train_valid(geo0_features)\n",
    "geo0_y_train, geo0_y_valid = get_train_valid(geo0_target)\n",
    "\n",
    "assert geo0_x_train.shape[0] == geo0_y_train.shape[0]\n",
    "assert geo0_x_valid.shape[0] == geo0_y_valid.shape[0]\n",
    "\n",
    "print('geo_0 datasets: \\n')\n",
    "print('Train:', geo0_x_train.shape, ' Target Train:', geo0_y_train.shape)\n",
    "print('Validation:', geo0_x_valid.shape, ' Target Validation:', geo0_y_valid.shape)"
   ]
  },
  {
   "cell_type": "code",
   "execution_count": null,
   "metadata": {
    "colab": {
     "base_uri": "https://localhost:8080/"
    },
    "id": "sR_Z35Fnwb8j",
    "outputId": "82db350a-f206-40e1-8be4-aaa1dfddd900"
   },
   "outputs": [
    {
     "name": "stdout",
     "output_type": "stream",
     "text": [
      "geo_1 datasets: \n",
      "\n",
      "Train: (75000, 3)  Target Train: (75000,)\n",
      "Validation: (25000, 3)  Target Validation: (25000,)\n"
     ]
    }
   ],
   "source": [
    "geo1_target = geo_1_data['product']\n",
    "geo1_features = geo_1_data.drop(['product'], axis=1)\n",
    "\n",
    "geo1_x_train, geo1_x_valid = get_train_valid(geo1_features)\n",
    "geo1_y_train, geo1_y_valid = get_train_valid(geo1_target)\n",
    "\n",
    "assert geo1_x_train.shape[0] == geo1_y_train.shape[0]\n",
    "assert geo1_x_valid.shape[0] == geo1_y_valid.shape[0]\n",
    "\n",
    "print('geo_1 datasets: \\n')\n",
    "print('Train:', geo1_x_train.shape, ' Target Train:', geo1_y_train.shape)\n",
    "print('Validation:', geo1_x_valid.shape, ' Target Validation:', geo1_y_valid.shape)"
   ]
  },
  {
   "cell_type": "code",
   "execution_count": null,
   "metadata": {
    "colab": {
     "base_uri": "https://localhost:8080/"
    },
    "id": "fEd4CZxAw2b_",
    "outputId": "453da662-51ac-4dab-ac64-475d29ea4a1b"
   },
   "outputs": [
    {
     "name": "stdout",
     "output_type": "stream",
     "text": [
      "geo_2 datasets: \n",
      "\n",
      "Train: (75000, 3)  Target Train: (75000,)\n",
      "Validation: (25000, 3)  Target Validation: (25000,)\n"
     ]
    }
   ],
   "source": [
    "geo2_target = geo_2_data['product']\n",
    "geo2_features = geo_2_data.drop(['product'], axis=1)\n",
    "\n",
    "geo2_x_train, geo2_x_valid = get_train_valid(geo2_features)\n",
    "geo2_y_train, geo2_y_valid = get_train_valid(geo2_target)\n",
    "\n",
    "assert geo2_x_train.shape[0] == geo2_y_train.shape[0]\n",
    "assert geo2_x_valid.shape[0] == geo2_y_valid.shape[0]\n",
    "\n",
    "print('geo_2 datasets: \\n')\n",
    "print('Train:', geo2_x_train.shape, ' Target Train:', geo2_y_train.shape)\n",
    "print('Validation:', geo2_x_valid.shape, ' Target Validation:', geo2_y_valid.shape)"
   ]
  },
  {
   "cell_type": "markdown",
   "metadata": {
    "id": "RN9nyxoYxnW1"
   },
   "source": [
    "<div class=\"alert alert-block alert-danger\">\n",
    "<b>Needs fixing:</b> We don't need valid part in the task because we don't tune parameters. Create only train(75%) and test(25%).\n",
    "</div>"
   ]
  },
  {
   "cell_type": "markdown",
   "metadata": {
    "id": "o42Xejxnzyvc"
   },
   "source": [
    "***Updated to only have validation(25%) and train(75%) datasets, since we do not need the test dataset for tunning parameters on our models***"
   ]
  },
  {
   "cell_type": "markdown",
   "metadata": {
    "id": "s9ntCynlxOIb"
   },
   "source": [
    "The dataset for the three different regions were successfully split into train and validation datasets with a 75:25 ratio. There is no testing sub-dataset as the models will not be hyper-tuned."
   ]
  },
  {
   "cell_type": "markdown",
   "metadata": {},
   "source": [
    "# Model building"
   ]
  },
  {
   "cell_type": "code",
   "execution_count": null,
   "metadata": {
    "id": "Q1TVfCWI3jXR"
   },
   "outputs": [],
   "source": [
    "def LinReg_sanity_check(x_train, x_valid, y_train, y_valid):\n",
    "    model = LinearRegression()\n",
    "    model.fit(x_train, y_train)\n",
    "    \n",
    "    predictions = model.predict(x_valid)\n",
    "\n",
    "    print('---Model validation/prediction datasets scores---')\n",
    "    print('Accuracy:', model.score(x_valid, y_valid))\n",
    "    print('R2:', r2_score(y_valid, predictions))\n",
    "    print('RMSE:', mean_squared_error(y_valid, predictions, squared=False))\n"
   ]
  },
  {
   "cell_type": "markdown",
   "metadata": {},
   "source": [
    "## geo_0 region"
   ]
  },
  {
   "cell_type": "code",
   "execution_count": null,
   "metadata": {
    "colab": {
     "base_uri": "https://localhost:8080/"
    },
    "id": "YtB4CMEGaREP",
    "outputId": "eb1af470-1cbd-4121-e350-ceb6e6c2db99"
   },
   "outputs": [
    {
     "name": "stdout",
     "output_type": "stream",
     "text": [
      "Sanity check for geo_0 model:\n",
      "---Model validation/prediction datasets scores---\n",
      "Accuracy: 0.27994321524487786\n",
      "R2: 0.27994321524487786\n",
      "RMSE: 37.5794217150813\n",
      "\n",
      "Average volume of predicted reserves in geo_0 (thousand barrels): 92.59256778438038\n"
     ]
    }
   ],
   "source": [
    "geo0_model = LinearRegression()\n",
    "geo0_model.fit(geo0_x_train, geo0_y_train)\n",
    "geo0_predictions = geo0_model.predict(geo0_x_valid)\n",
    "\n",
    "print('Sanity check for geo_0 model:')\n",
    "LinReg_sanity_check(geo0_x_train, geo0_x_valid, geo0_y_train, geo0_y_valid)\n",
    "print('\\nAverage volume of predicted reserves in geo_0 (thousand barrels):', geo0_predictions.mean())"
   ]
  },
  {
   "cell_type": "markdown",
   "metadata": {
    "id": "WhaURllR68ye"
   },
   "source": [
    "For the data in geo_0, the accuracy, R2 and RMSE scores are pretty terrble. The accuracy and R2 score are very low and the RMSE score is very big. "
   ]
  },
  {
   "cell_type": "markdown",
   "metadata": {},
   "source": [
    "## geo_1 region"
   ]
  },
  {
   "cell_type": "code",
   "execution_count": null,
   "metadata": {
    "colab": {
     "base_uri": "https://localhost:8080/"
    },
    "id": "uk-1EJSfc1dO",
    "outputId": "19a96d21-dc64-4852-dc29-62661fc955e8"
   },
   "outputs": [
    {
     "name": "stdout",
     "output_type": "stream",
     "text": [
      "Sanity check for geo_1 model:\n",
      "\n",
      "---Model validation/prediction datasets scores---\n",
      "Accuracy: 0.9996233978805126\n",
      "R2: 0.9996233978805127\n",
      "RMSE: 0.893099286775616\n",
      "\n",
      "Average volume of predicted reserves in geo_1 (thousand barrels): 68.728546895446\n"
     ]
    }
   ],
   "source": [
    "geo1_model = LinearRegression()\n",
    "geo1_model.fit(geo1_x_train, geo1_y_train)\n",
    "geo1_predictions = geo1_model.predict(geo1_x_valid)\n",
    "\n",
    "print('Sanity check for geo_1 model:\\n')\n",
    "LinReg_sanity_check(geo1_x_train, geo1_x_valid, geo1_y_train, geo1_y_valid)\n",
    "print('\\nAverage volume of predicted reserves in geo_1 (thousand barrels):', geo1_predictions.mean())"
   ]
  },
  {
   "cell_type": "markdown",
   "metadata": {
    "id": "VggTCTGJ8mOf"
   },
   "source": [
    "The scores for data in geo_1 are actually pretty good with accuracy and R2 score pretty close to 1 and RMSE score being very low. "
   ]
  },
  {
   "cell_type": "markdown",
   "metadata": {},
   "source": [
    "## geo_2 region"
   ]
  },
  {
   "cell_type": "code",
   "execution_count": null,
   "metadata": {
    "colab": {
     "base_uri": "https://localhost:8080/"
    },
    "id": "H2qM2H548he-",
    "outputId": "0571563d-1137-4533-cdd6-a488a69a2199"
   },
   "outputs": [
    {
     "name": "stdout",
     "output_type": "stream",
     "text": [
      "Sanity check for geo_2 model:\n",
      "\n",
      "---Model validation/prediction datasets scores---\n",
      "Accuracy: 0.20524758386040443\n",
      "R2: 0.20524758386040443\n",
      "RMSE: 40.02970873393434\n",
      "\n",
      "Average volume of predicted reserves in geo_2 (thousand barrels): 94.96504596800489\n"
     ]
    }
   ],
   "source": [
    "geo2_model = LinearRegression()\n",
    "geo2_model.fit(geo2_x_train, geo2_y_train)\n",
    "geo2_predictions = geo2_model.predict(geo2_x_valid)\n",
    "\n",
    "print('Sanity check for geo_2 model:\\n')\n",
    "LinReg_sanity_check(geo2_x_train, geo2_x_valid, geo2_y_train, geo2_y_valid)\n",
    "print('\\nAverage volume of predicted reserves in geo_2 (thousand barrels):', geo2_predictions.mean())"
   ]
  },
  {
   "cell_type": "markdown",
   "metadata": {
    "id": "quj9T0bG9SPb"
   },
   "source": [
    "Similar to the model for geo_0, the scores here for geo_2 model are not that great with a very low accuracy and R2 score and high RMSE score. "
   ]
  },
  {
   "cell_type": "markdown",
   "metadata": {
    "id": "xssf2jmclezD"
   },
   "source": [
    "## Conclusion\n",
    "\n",
    "The table below shows each models' results using the valdiation datasets to make predictions:\n",
    "\n",
    "---\n",
    "\n",
    "|  | geo_0 | geo_1 | geo_2 |\n",
    "| :-----------|:-----------|:-----------|:-----------|\n",
    "| Accuracy Score | 0.2799 | 0.9996 | 0.2052 |\n",
    "| R2 Score | 0.2799 | 0.9996 | 0.2052 |\n",
    "| RMSE Score | 37.579 | 0.8903 | 40.030 |\n",
    "| Average **predicted** volume reserves (thousand barrels)| 92.592 | 68.728 | 94.965 |\n",
    "\n",
    "---\n",
    "\n",
    "R2 score shows the relative measure of fit, while RMSE is an absolute measure of fit. Lower values of RMSE indicate a better fit. \n",
    "\n",
    "The model for geo_1 has the best scores for accuracy, R2, and RMSE. With accuracy and R2 being close to 1 and with a very small RMSE it seems like the model can predict pretty well using the dataset provided for geo_1. However, predicted average volume of reserves in ge0_1 is the lowest of the 3 regions being at 68.968 thousands barrels.\n",
    "\n",
    "The models for geo_0 and geo_2 performed pretty similar for the datasets given for these two regions. The accuracy and R2 score are very small ranging around 0.20 - 0.30 and have RMSE score around 40. In comparison, though these two have similar scores in accuracy, R2 and RMSE, the model for geo_0 did slightly better with a slightly higher accuracy and R2 score and a bit lower RMSE score compared to the model for geo_2. \n",
    "\n",
    "The model for geo_2 predicted largest average volume of reserves with 94.955 thousands barrels. With geo_0 coming in second with the largest predicted average volume of reserves at 92.708 thousands barrels. geo_1 came in last with the smallest predicted average volume at 68.968 thousand barrels.\n",
    "\n",
    "Having such a large RMSE score for the models for geo_0 and geo_2 shows that perhaps a linear regression model might not be ideal for these two regions."
   ]
  },
  {
   "cell_type": "markdown",
   "metadata": {
    "id": "gNzpSr1nCTx3"
   },
   "source": [
    "# Profit calculation"
   ]
  },
  {
   "cell_type": "code",
   "execution_count": null,
   "metadata": {
    "colab": {
     "base_uri": "https://localhost:8080/"
    },
    "id": "6CeLYBwPMM9a",
    "outputId": "2002cd06-3a46-484d-cd23-399ea219b427"
   },
   "outputs": [
    {
     "name": "stdout",
     "output_type": "stream",
     "text": [
      "Volume of reserves sufficient for developing a new well without losses: 111.11111111111111 (thousand barrels)\n",
      "\n",
      "Average volume of reserves in each region:\n",
      "* geo_0:  92.49999999999976 (thousand barrels)\n",
      "* geo_1:  68.82500000002561 (thousand barrels)\n",
      "* geo_2:  95.00000000000041 (thousand barrels)\n"
     ]
    }
   ],
   "source": [
    "BUDGET = 100000000 # budget for development of 200 oil wells is 100 USD million\n",
    "POINT_PER_BUDGET = 200 # number of wells in the budget\n",
    "PRODUCT_PRICE = 4500 # revenue from one unit of product is 4,500 dollars (volume of reserves is in thousand barrels)\n",
    "\n",
    "#Calculation for the volume of reserves sufficient for developing a new well without losses\n",
    "volume_no_loss = (BUDGET/POINT_PER_BUDGET) / PRODUCT_PRICE\n",
    "\n",
    "print('Volume of reserves sufficient for developing a new well without losses:', volume_no_loss, '(thousand barrels)')\n",
    "\n",
    "def average_volume(df):\n",
    "  return df['product'].mean()\n",
    "\n",
    "print('\\nAverage volume of reserves in each region:')\n",
    "print('* geo_0: ', average_volume(geo_0), '(thousand barrels)')\n",
    "print('* geo_1: ', average_volume(geo_1), '(thousand barrels)')\n",
    "print('* geo_2: ', average_volume(geo_2), '(thousand barrels)')"
   ]
  },
  {
   "cell_type": "markdown",
   "metadata": {
    "id": "TPeFLAt6xWjk"
   },
   "source": [
    "## Conclusion\n",
    "\n",
    "The minimum volume of reserves need to develop a new well without losses is 111.11 (thousand barrels). \n",
    "\n",
    "Tables showing average volume in each region:\n",
    "\n",
    "|  | geo_0 | geo_1 | geo_2 |\n",
    "| :-----------|:-----------|:-----------|:-----------|\n",
    "| Average volume of reserves (thousand barrels)| 92.499 | 68.825 | 95.00 |\n",
    "| Average **predicted** volume reserves (thousand barrels)| 92.592 | 68.728 | 94.965 |\n",
    "\n",
    "Just by looking at the average volume of reserves in reach region (actual and predicted volumes), it doesn't seem that a developing a new well would be profitable. We would have to look at the top producing wells (actual and predicted) in each region to see if the calculation differs.\n"
   ]
  },
  {
   "cell_type": "markdown",
   "metadata": {
    "id": "yU8EnZAtMVEW"
   },
   "source": [
    "# Profit from a set of selected oil wells and model predictions"
   ]
  },
  {
   "cell_type": "code",
   "execution_count": null,
   "metadata": {
    "id": "7ALUwHHLLDk2"
   },
   "outputs": [],
   "source": [
    "def revenue(y_valid, predictions, count):\n",
    "\n",
    "    predictions = pd.Series(predictions)\n",
    "    y_valid = pd.Series(y_valid.values)\n",
    "\n",
    "    predict_sorted = predictions.sort_values(ascending=False)\n",
    "    selected_wells = y_valid[predict_sorted.index][:count]\n",
    "    return PRODUCT_PRICE * selected_wells.sum()\n",
    "\n",
    "def profit(revenue):\n",
    "  \n",
    "  profit = revenue - BUDGET\n",
    "  return profit"
   ]
  },
  {
   "cell_type": "code",
   "execution_count": null,
   "metadata": {
    "colab": {
     "base_uri": "https://localhost:8080/"
    },
    "id": "1XLqSF-f8c6i",
    "outputId": "dcabd882-5d5c-42e5-878f-65fa7907f4b0"
   },
   "outputs": [
    {
     "name": "stdout",
     "output_type": "stream",
     "text": [
      "Predicted profit for region geo_0 with top best 200 wells: 33208260.43\n"
     ]
    }
   ],
   "source": [
    "# Using top 200 wells from region geo_0 with predicted volumes/actual volumes to calculate profit\n",
    "rev_geo0 = revenue(geo0_y_valid, geo0_predictions, 200)\n",
    "print('Predicted profit for region geo_0 with top best 200 wells:', profit(rev_geo0).round(2))"
   ]
  },
  {
   "cell_type": "code",
   "execution_count": null,
   "metadata": {
    "colab": {
     "base_uri": "https://localhost:8080/"
    },
    "id": "0pT1Adr7IPUk",
    "outputId": "a4e7417f-0692-4096-cde4-2b2f23cab1cc"
   },
   "outputs": [
    {
     "name": "stdout",
     "output_type": "stream",
     "text": [
      "Predicted profit for region geo_1 with top best 200 wells: 24150866.97\n"
     ]
    }
   ],
   "source": [
    "# Using top 200 wells from region geo_1 with predicted volumes/actual volumes to calculate profit\n",
    "rev_geo1 = revenue(geo1_y_valid, geo1_predictions, 200)\n",
    "print('Predicted profit for region geo_1 with top best 200 wells:', profit(rev_geo1).round(2))"
   ]
  },
  {
   "cell_type": "code",
   "execution_count": null,
   "metadata": {
    "colab": {
     "base_uri": "https://localhost:8080/"
    },
    "id": "eLyfziPAIWSD",
    "outputId": "530168b5-e0e2-48d8-8ee0-ac13a0f3ae8f"
   },
   "outputs": [
    {
     "name": "stdout",
     "output_type": "stream",
     "text": [
      "Predicted profit for region geo_2 with top best 200 wells: 27103499.64\n"
     ]
    }
   ],
   "source": [
    "# Using top 200 wells from region geo_2 with predicted volumes/actual volumes to calculate profit\n",
    "rev_geo2 = revenue(geo2_y_valid, geo2_predictions, 200)\n",
    "print('Predicted profit for region geo_2 with top best 200 wells:', profit(rev_geo2).round(2))"
   ]
  },
  {
   "cell_type": "markdown",
   "metadata": {
    "id": "73w9vaeXK_zb"
   },
   "source": [
    "## Conclusion\n",
    "\n",
    "From the calculations in this section, it's best to develop new wells in region geo_0. The calculation for predicted profit is highest in this region at 33,208,260.43 USD. geo_1 had the lowest predicted profit at 24,150,866.97 USD and geo_2 came out in the middle at 27,103,499.64 USD."
   ]
  },
  {
   "cell_type": "markdown",
   "metadata": {
    "id": "Ey0iXJ-IMEGv"
   },
   "source": [
    "# Calculate risks and profit for each region"
   ]
  },
  {
   "cell_type": "code",
   "execution_count": null,
   "metadata": {
    "id": "XEmdf8rxUGgE"
   },
   "outputs": [],
   "source": [
    "#Function to get values for profit distribution using bootstrapping with 1000 samples\n",
    "def profit_distribution(y_valid, predictions):\n",
    "\n",
    "    y_valid = pd.Series(y_valid.values)\n",
    "\n",
    "    state = np.random.RandomState(12345)\n",
    "    \n",
    "    values = []\n",
    "    for i in range(1000):\n",
    "\n",
    "        target_subsample = y_valid.sample(n=500, replace=True, random_state=state)\n",
    "        predict_subsample = predictions[target_subsample.index] \n",
    "        rev = revenue(target_subsample, predict_subsample, 200)\n",
    "        values.append(rev)\n",
    "\n",
    "    values = pd.Series(values)\n",
    "    values = values.sort_values()\n",
    "\n",
    "    profit_values = profit(values)\n",
    "\n",
    "    return profit_values\n",
    "\n",
    "#Calculation for confidence interval at 95%\n",
    "def confidence_interval(profit_values):\n",
    "  confidence_interval = st.t.interval(\n",
    "      0.95, len(profit_values)-1, profit_values.mean(), profit_values.sem()) \n",
    "  \n",
    "  return print(\"95% confidence interval:\", confidence_interval)\n",
    "\n",
    "\n",
    "#Value at Risk (Risk of Losses) | Confidence Level calculation\n",
    "def risk_of_loss(profit_values):\n",
    "  \"\"\"\n",
    "  Value at risk (VaR) is a measure of the risk of loss for investments. \n",
    "  It estimates how much a set of investments might lose (with a given probability), \n",
    "  given normal market conditions, in a set time period such as a day\n",
    "  \"\"\"\n",
    "  upper = profit_values.quantile(0.975)\n",
    "  lower = profit_values.quantile(0.025)\n",
    "\n",
    "  return print('\\n', tabulate([['2.5%', lower], ['97.5%', upper]], floatfmt='.2f',\n",
    "                        headers=['Confidence Level', 'Value at Risk']))\n",
    "\n",
    "#Sum of loss (negative profit) within our 1000 sample\n",
    "def loss(profit_values):\n",
    "  loss = sum(i for i in profit_values if i < 0)\n",
    "  return loss\n",
    "\n",
    "#Get number of instances where profit sample is negative\n",
    "def count_loss(profit_values):\n",
    "  num_loss = profit_values.lt(0).sum().sum()\n",
    "  return num_loss\n",
    "\n",
    "#Sum of gain (positive profit) within our 1000 sample\n",
    "def gain(profit_values):\n",
    "  gain = sum(i for i in profit_values if i > 0)\n",
    "  return gain\n",
    "\n",
    "#Get number of instances where profit sample is positive\n",
    "def count_gain(profit_values):\n",
    "  num_gain = profit_values.gt(0).sum().sum()\n",
    "  return num_gain\n",
    "\n",
    "\n",
    "#Calculation for profit/loss ratio\n",
    "def proft_loss_ratio(profit_values):\n",
    "  total_gain = gain(profit_values)\n",
    "  total_loss = loss(profit_values)\n",
    "\n",
    "  total_num_gain = count_gain(profit_values)\n",
    "  total_num_loss = count_loss(profit_values)\n",
    "\n",
    "  ratio = ((total_gain/total_num_gain) / (total_loss/total_num_loss))\n",
    "\n",
    "  return ratio\n",
    "\n",
    "#Loss probability calculation\n",
    "def loss_prob(profit_values):\n",
    "  \"\"\"\n",
    "  Loss probability is percentage of negative values in profit array\n",
    "  \"\"\"\n",
    "  total_num_loss = count_loss(profit_values) #Count of negative values in profit array\n",
    "  prob = total_num_loss / 1000 #Sample size of 1000 for profit array\n",
    "\n",
    "  return prob"
   ]
  },
  {
   "cell_type": "code",
   "execution_count": null,
   "metadata": {
    "colab": {
     "base_uri": "https://localhost:8080/"
    },
    "id": "Qrg2-OpxYkYs",
    "outputId": "e7821b3a-6ede-48f5-dead-694248e0b047"
   },
   "outputs": [
    {
     "name": "stdout",
     "output_type": "stream",
     "text": [
      "Average profit for region geo_0: 3961649.85\n",
      "95% confidence interval: (3796203.151479729, 4127096.544567701)\n",
      "\n",
      " Confidence Level      Value at Risk\n",
      "------------------  ---------------\n",
      "2.5%                    -1112155.46\n",
      "97.5%                    9097669.42\n",
      "\n",
      "Loss probability for geo_0: 0.069 or 6.90%\n"
     ]
    }
   ],
   "source": [
    "#Calculations for geo_0 region:\n",
    "geo0_profit_values = profit_distribution(geo0_y_valid, geo0_predictions)\n",
    "\n",
    "print('Average profit for region geo_0:', round(geo0_profit_values.mean(), 2))\n",
    "\n",
    "confidence_interval(geo0_profit_values)\n",
    "\n",
    "risk_of_loss(geo0_profit_values)\n",
    "\n",
    "#Loss probability\n",
    "print('\\nLoss probability for geo_0:', loss_prob(geo0_profit_values), 'or', \n",
    "      '{:.2%}'.format(loss_prob(geo0_profit_values)))\n"
   ]
  },
  {
   "cell_type": "code",
   "execution_count": null,
   "metadata": {
    "colab": {
     "base_uri": "https://localhost:8080/"
    },
    "id": "ypM44NvVlNLc",
    "outputId": "70f5eee3-5af9-4b71-89a3-7fba9587b2ca"
   },
   "outputs": [
    {
     "name": "stdout",
     "output_type": "stream",
     "text": [
      "Average profit for region geo_1: 4560451.06\n",
      "95% confidence interval: (4431472.486639012, 4689429.629094217)\n",
      "\n",
      " Confidence Level      Value at Risk\n",
      "------------------  ---------------\n",
      "2.5%                      338205.09\n",
      "97.5%                    8522894.54\n",
      "\n",
      "Loss probability for geo_1: 0.015 or 1.50%\n"
     ]
    }
   ],
   "source": [
    "#Calculations for geo_1 region:\n",
    "geo1_profit_values = profit_distribution(geo1_y_valid, geo1_predictions)\n",
    "\n",
    "print('Average profit for region geo_1:', round(geo1_profit_values.mean(), 2))\n",
    "\n",
    "confidence_interval(geo1_profit_values)\n",
    "\n",
    "risk_of_loss(geo1_profit_values)\n",
    "\n",
    "#Loss probability\n",
    "print('\\nLoss probability for geo_1:', loss_prob(geo1_profit_values), 'or', \n",
    "      '{:.2%}'.format(loss_prob(geo1_profit_values)))\n"
   ]
  },
  {
   "cell_type": "code",
   "execution_count": null,
   "metadata": {
    "colab": {
     "base_uri": "https://localhost:8080/"
    },
    "id": "JOEOe8r_ldb0",
    "outputId": "1376455a-81a2-498e-ad5a-0b0df74afda9"
   },
   "outputs": [
    {
     "name": "stdout",
     "output_type": "stream",
     "text": [
      "Average profit for region geo_2: 4044038.67\n",
      "95% confidence interval: (3874457.974712804, 4213619.356654332)\n",
      "\n",
      " Confidence Level      Value at Risk\n",
      "------------------  ---------------\n",
      "2.5%                    -1633504.13\n",
      "97.5%                    9503595.75\n",
      "\n",
      "Loss probability for geo_2: 0.076 or 7.60%\n"
     ]
    }
   ],
   "source": [
    "#Calculations for geo_2 region:\n",
    "geo2_profit_values = profit_distribution(geo2_y_valid, geo2_predictions)\n",
    "\n",
    "print('Average profit for region geo_2:', round(geo2_profit_values.mean(), 2))\n",
    "\n",
    "confidence_interval(geo2_profit_values)\n",
    "\n",
    "risk_of_loss(geo2_profit_values)\n",
    "\n",
    "#Loss probability\n",
    "print('\\nLoss probability for geo_2:', loss_prob(geo2_profit_values), 'or', \n",
    "      '{:.2%}'.format(loss_prob(geo2_profit_values)))"
   ]
  },
  {
   "cell_type": "markdown",
   "metadata": {
    "id": "ia6GTYNgma_f"
   },
   "source": [
    "## Conclusion\n",
    "\n",
    "Based on the calculations in this section, the best region get develop new oil wells would be region geo_1. Out of the 1000 samples that was obtained in each region, geo_1 had the smallest probablity of loss at 1.50%. The calculated average profit for region geo_1 out of the 1000 sample slice came in at 4,560,451.06 USD which was the highest average profit out of the three regions. The table below summarizes the findings in this secion:\n",
    "\n",
    "|  | geo_0 | geo_1 | geo_2 |\n",
    "| :-----------|:-----------|:-----------|:-----------|\n",
    "| Average profit (USD) | 3,961,649.85 | 4,560,451.06 | 4,044,038.67 |\n",
    "| 95% confidence interval | (3796203.15, 4127096.54) | (4431472.49, 4689429.63) | (3874457.97, 4213619.36) |\n",
    "| Risk of loss at 2.5% confidence level | -1112155.46 | 338205.09 | -1633504.13 |\n",
    "| Risk of loss at 97.5% confidence level | 9097669.42 | 8522894.54 | 9503595.75 |\n",
    "| Loss probability (%) | 6.90% | 1.50% | 7.60% | "
   ]
  },
  {
   "cell_type": "markdown",
   "metadata": {
    "id": "50w1EYSTquvd"
   },
   "source": [
    "# Overall Conclusion\n",
    "\n",
    "In conlusion, with the calculations made for the provided datasets it seems as though region geo_1 is the best region develop new wells. The model for geo_1 had the best scores. The predicted profit for geo_1 came in second out of the three regions which isn't bad. And overall, geo_1 when sampled 1000 wells had the lowest loss probablity and had highest average profit. \n",
    "\n",
    "The table below summarize the sections we calculated:\n",
    "\n",
    "|  | geo_0 | geo_1 | geo_2 |\n",
    "| :-----------|:-----------|:-----------|:-----------|\n",
    "| Accuracy Score | 0.2799 | 0.9996 | 0.2052 |\n",
    "| R2 Score | 0.2799 | 0.9996 | 0.2052 |\n",
    "| RMSE Score | 37.579 | 0.8903 | 40.030 |\n",
    "| Average volume of reserves (thousand barrels)| 92.499 | 68.825 | 95.00 |\n",
    "| Average **predicted** volume reserves (thousand barrels)| 92.592 | 68.728 | 94.965 |\n",
    "| Predicted profit (USD) | 33,208,260.43 | 24,150,866.97 | 27,103,499.64 |\n",
    "| Average profit (USD) | 3,961,649.85 | 4,560,451.06 | 4,044,038.67 |\n",
    "| 95% confidence interval | (3796203.15, 4127096.54) | (4431472.49, 4689429.63) | (3874457.97, 4213619.36) |\n",
    "| Risk of loss at 2.5% confidence level | -1112155.46 | 338205.09 | -1633504.13 |\n",
    "| Risk of loss at 97.5% confidence level | 9097669.42 | 8522894.54 | 9503595.75 |\n",
    "| Loss probability (%) | 6.90% | 1.50% | 7.60% |"
   ]
  },
  {
   "cell_type": "code",
   "execution_count": null,
   "metadata": {},
   "outputs": [],
   "source": []
  }
 ],
 "metadata": {
  "ExecuteTimeLog": [
   {
    "duration": 146,
    "start_time": "2021-06-10T21:56:20.876Z"
   }
  ],
  "colab": {
   "collapsed_sections": [],
   "name": "CMD_ML_for_Business_Rev_1.ipynb",
   "provenance": []
  },
  "kernelspec": {
   "display_name": "Python 3",
   "language": "python",
   "name": "python3"
  },
  "language_info": {
   "codemirror_mode": {
    "name": "ipython",
    "version": 3
   },
   "file_extension": ".py",
   "mimetype": "text/x-python",
   "name": "python",
   "nbconvert_exporter": "python",
   "pygments_lexer": "ipython3",
   "version": "3.7.8"
  },
  "toc": {
   "base_numbering": 1,
   "nav_menu": {},
   "number_sections": false,
   "sideBar": true,
   "skip_h1_title": false,
   "title_cell": "Table of Contents",
   "title_sidebar": "Contents",
   "toc_cell": true,
   "toc_position": {
    "height": "calc(100% - 180px)",
    "left": "10px",
    "top": "150px",
    "width": "241px"
   },
   "toc_section_display": true,
   "toc_window_display": false
  }
 },
 "nbformat": 4,
 "nbformat_minor": 1
}
