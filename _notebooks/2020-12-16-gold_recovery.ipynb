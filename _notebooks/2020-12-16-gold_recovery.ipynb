{
  "nbformat": 4,
  "nbformat_minor": 0,
  "metadata": {
    "ExecuteTimeLog": [
      {
        "duration": 398,
        "start_time": "2021-06-11T00:07:36.904Z"
      },
      {
        "duration": 1500,
        "start_time": "2021-06-11T00:08:02.256Z"
      },
      {
        "duration": 1068,
        "start_time": "2021-06-11T00:08:03.758Z"
      },
      {
        "duration": 16,
        "start_time": "2021-06-11T00:08:04.829Z"
      },
      {
        "duration": 698,
        "start_time": "2021-06-11T00:08:05.347Z"
      },
      {
        "duration": 606,
        "start_time": "2021-06-11T00:08:06.760Z"
      },
      {
        "duration": 321,
        "start_time": "2021-06-11T00:08:07.749Z"
      },
      {
        "duration": 4,
        "start_time": "2021-06-11T00:08:10.877Z"
      },
      {
        "duration": 817,
        "start_time": "2021-06-11T00:08:11.040Z"
      },
      {
        "duration": 11,
        "start_time": "2021-06-11T00:08:11.860Z"
      },
      {
        "duration": 4,
        "start_time": "2021-06-11T00:08:12.654Z"
      },
      {
        "duration": 23,
        "start_time": "2021-06-11T00:08:13.595Z"
      },
      {
        "duration": 315,
        "start_time": "2021-06-11T00:08:15.699Z"
      },
      {
        "duration": 7,
        "start_time": "2021-06-11T00:08:18.961Z"
      },
      {
        "duration": 418,
        "start_time": "2021-06-11T00:08:25.240Z"
      },
      {
        "duration": 6,
        "start_time": "2021-06-11T00:08:41.604Z"
      },
      {
        "duration": 374,
        "start_time": "2021-06-11T00:09:07.405Z"
      },
      {
        "duration": 948,
        "start_time": "2021-06-11T00:09:41.072Z"
      },
      {
        "duration": 7,
        "start_time": "2021-06-11T00:12:41.061Z"
      },
      {
        "duration": 4,
        "start_time": "2021-06-11T00:15:09.569Z"
      },
      {
        "duration": 9,
        "start_time": "2021-06-11T00:16:03.902Z"
      },
      {
        "duration": 9,
        "start_time": "2021-06-11T00:19:51.550Z"
      },
      {
        "duration": 9,
        "start_time": "2021-06-11T00:19:59.687Z"
      },
      {
        "duration": 12,
        "start_time": "2021-06-11T00:20:23.236Z"
      },
      {
        "duration": 11,
        "start_time": "2021-06-11T00:20:59.082Z"
      },
      {
        "duration": 11,
        "start_time": "2021-06-11T04:44:11.218Z"
      },
      {
        "duration": 11,
        "start_time": "2021-06-11T04:44:22.495Z"
      },
      {
        "duration": 8,
        "start_time": "2021-06-11T04:44:29.315Z"
      },
      {
        "duration": 8,
        "start_time": "2021-06-11T04:44:50.827Z"
      },
      {
        "duration": 9,
        "start_time": "2021-06-11T04:44:57.923Z"
      },
      {
        "duration": 738,
        "start_time": "2021-06-11T07:11:25.328Z"
      },
      {
        "duration": 355,
        "start_time": "2021-06-11T07:11:58.428Z"
      },
      {
        "duration": 363,
        "start_time": "2021-06-11T07:22:05.210Z"
      },
      {
        "duration": 8,
        "start_time": "2021-06-11T07:23:41.520Z"
      },
      {
        "duration": 964,
        "start_time": "2021-06-11T07:24:05.775Z"
      },
      {
        "duration": 22,
        "start_time": "2021-06-11T07:24:39.752Z"
      },
      {
        "duration": 949,
        "start_time": "2021-06-11T07:43:27.872Z"
      },
      {
        "duration": 8652,
        "start_time": "2021-06-11T07:44:31.673Z"
      },
      {
        "duration": 1145,
        "start_time": "2021-06-11T07:45:06.653Z"
      },
      {
        "duration": 1151,
        "start_time": "2021-06-11T07:47:12.540Z"
      },
      {
        "duration": 1689,
        "start_time": "2021-06-11T07:47:41.753Z"
      },
      {
        "duration": 1203,
        "start_time": "2021-06-11T07:48:02.589Z"
      },
      {
        "duration": 356,
        "start_time": "2021-06-11T07:59:59.583Z"
      },
      {
        "duration": 377,
        "start_time": "2021-06-11T08:00:27.885Z"
      },
      {
        "duration": 1631,
        "start_time": "2021-06-11T08:10:00.066Z"
      },
      {
        "duration": 1074,
        "start_time": "2021-06-11T08:10:01.699Z"
      },
      {
        "duration": 10,
        "start_time": "2021-06-11T08:10:02.777Z"
      },
      {
        "duration": 772,
        "start_time": "2021-06-11T08:10:02.791Z"
      },
      {
        "duration": 642,
        "start_time": "2021-06-11T08:10:03.566Z"
      },
      {
        "duration": 462,
        "start_time": "2021-06-11T08:10:04.211Z"
      },
      {
        "duration": 6,
        "start_time": "2021-06-11T08:10:04.676Z"
      },
      {
        "duration": 1182,
        "start_time": "2021-06-11T08:10:04.687Z"
      },
      {
        "duration": 16,
        "start_time": "2021-06-11T08:10:05.872Z"
      },
      {
        "duration": 21,
        "start_time": "2021-06-11T08:10:05.890Z"
      },
      {
        "duration": 48,
        "start_time": "2021-06-11T08:10:05.913Z"
      },
      {
        "duration": 343,
        "start_time": "2021-06-11T08:10:05.964Z"
      },
      {
        "duration": 15,
        "start_time": "2021-06-11T08:10:06.310Z"
      },
      {
        "duration": 12,
        "start_time": "2021-06-11T08:10:06.327Z"
      },
      {
        "duration": 1922,
        "start_time": "2021-06-11T08:10:06.343Z"
      },
      {
        "duration": 103,
        "start_time": "2021-06-11T08:10:08.268Z"
      },
      {
        "duration": 1731,
        "start_time": "2021-06-11T08:10:08.374Z"
      },
      {
        "duration": 1644,
        "start_time": "2021-06-11T08:10:10.108Z"
      },
      {
        "duration": 1663,
        "start_time": "2021-06-11T08:10:11.755Z"
      },
      {
        "duration": 1236,
        "start_time": "2021-06-11T08:10:13.421Z"
      },
      {
        "duration": 1108,
        "start_time": "2021-06-11T08:10:14.660Z"
      },
      {
        "duration": 1070,
        "start_time": "2021-06-11T08:10:15.772Z"
      },
      {
        "duration": 1107,
        "start_time": "2021-06-11T08:10:16.848Z"
      },
      {
        "duration": 1185,
        "start_time": "2021-06-11T08:10:17.958Z"
      },
      {
        "duration": 7,
        "start_time": "2021-06-11T08:10:19.146Z"
      },
      {
        "duration": 45,
        "start_time": "2021-06-11T08:10:19.156Z"
      },
      {
        "duration": 1367,
        "start_time": "2021-06-11T08:10:19.204Z"
      },
      {
        "duration": 6663,
        "start_time": "2021-06-11T08:10:20.574Z"
      },
      {
        "duration": 777,
        "start_time": "2021-06-11T08:10:27.250Z"
      },
      {
        "duration": 9301,
        "start_time": "2021-06-11T08:10:28.030Z"
      },
      {
        "duration": 1409,
        "start_time": "2021-06-11T08:10:37.334Z"
      },
      {
        "duration": 703,
        "start_time": "2021-06-11T08:10:38.746Z"
      },
      {
        "duration": 6,
        "start_time": "2021-06-11T08:10:39.451Z"
      },
      {
        "duration": 9,
        "start_time": "2021-06-11T08:10:39.459Z"
      },
      {
        "duration": 22,
        "start_time": "2021-06-11T08:10:39.471Z"
      },
      {
        "duration": 69,
        "start_time": "2021-06-11T08:10:39.496Z"
      },
      {
        "duration": 16,
        "start_time": "2021-06-11T08:10:39.567Z"
      },
      {
        "duration": 8,
        "start_time": "2021-06-11T08:10:39.586Z"
      },
      {
        "duration": 5732,
        "start_time": "2021-06-11T08:10:39.597Z"
      },
      {
        "duration": 6594,
        "start_time": "2021-06-11T08:10:45.332Z"
      },
      {
        "duration": 9,
        "start_time": "2021-06-11T08:10:51.929Z"
      },
      {
        "duration": 9,
        "start_time": "2021-06-11T08:10:51.947Z"
      },
      {
        "duration": 7,
        "start_time": "2021-06-11T08:10:51.958Z"
      },
      {
        "duration": 7,
        "start_time": "2021-06-11T08:10:51.967Z"
      },
      {
        "duration": 5,
        "start_time": "2021-06-11T08:10:51.977Z"
      },
      {
        "duration": 9,
        "start_time": "2021-06-11T08:10:51.984Z"
      },
      {
        "duration": 29,
        "start_time": "2021-06-11T08:10:51.995Z"
      },
      {
        "duration": 15,
        "start_time": "2021-06-11T08:10:52.026Z"
      },
      {
        "duration": 78306,
        "start_time": "2021-06-11T08:10:52.044Z"
      },
      {
        "duration": 1154,
        "start_time": "2021-06-11T08:12:09.200Z"
      },
      {
        "duration": 977,
        "start_time": "2021-06-11T08:12:09.379Z"
      },
      {
        "duration": 973,
        "start_time": "2021-06-11T08:12:09.385Z"
      },
      {
        "duration": 971,
        "start_time": "2021-06-11T08:12:09.389Z"
      },
      {
        "duration": 969,
        "start_time": "2021-06-11T08:12:09.393Z"
      },
      {
        "duration": 967,
        "start_time": "2021-06-11T08:12:09.396Z"
      },
      {
        "duration": 966,
        "start_time": "2021-06-11T08:12:09.399Z"
      },
      {
        "duration": 965,
        "start_time": "2021-06-11T08:12:09.403Z"
      },
      {
        "duration": 964,
        "start_time": "2021-06-11T08:12:09.406Z"
      },
      {
        "duration": 963,
        "start_time": "2021-06-11T08:12:09.409Z"
      },
      {
        "duration": 961,
        "start_time": "2021-06-11T08:12:09.413Z"
      },
      {
        "duration": 960,
        "start_time": "2021-06-11T08:12:09.416Z"
      },
      {
        "duration": 957,
        "start_time": "2021-06-11T08:12:09.420Z"
      },
      {
        "duration": 485,
        "start_time": "2021-06-11T08:14:03.164Z"
      },
      {
        "duration": 700,
        "start_time": "2021-06-11T08:14:26.979Z"
      },
      {
        "duration": 9938,
        "start_time": "2021-06-11T08:14:33.715Z"
      },
      {
        "duration": 1444,
        "start_time": "2021-06-11T08:14:43.656Z"
      },
      {
        "duration": 18,
        "start_time": "2021-06-11T08:15:26.150Z"
      },
      {
        "duration": 367,
        "start_time": "2021-06-11T08:15:37.619Z"
      },
      {
        "duration": 13,
        "start_time": "2021-06-11T08:15:48.648Z"
      },
      {
        "duration": 378,
        "start_time": "2021-06-11T08:15:57.773Z"
      },
      {
        "duration": 374,
        "start_time": "2021-06-11T08:16:04.231Z"
      },
      {
        "duration": 29,
        "start_time": "2021-06-11T08:16:37.285Z"
      },
      {
        "duration": 9615,
        "start_time": "2021-06-11T08:17:11.990Z"
      },
      {
        "duration": 9699,
        "start_time": "2021-06-11T08:18:22.302Z"
      },
      {
        "duration": 9724,
        "start_time": "2021-06-11T08:19:18.178Z"
      },
      {
        "duration": 9471,
        "start_time": "2021-06-11T08:20:03.636Z"
      },
      {
        "duration": 6965,
        "start_time": "2021-06-11T08:21:50.691Z"
      },
      {
        "duration": 6951,
        "start_time": "2021-06-11T08:22:28.093Z"
      },
      {
        "duration": 6819,
        "start_time": "2021-06-11T08:23:00.775Z"
      },
      {
        "duration": 6769,
        "start_time": "2021-06-11T08:24:00.772Z"
      },
      {
        "duration": 621,
        "start_time": "2021-06-11T08:24:07.544Z"
      },
      {
        "duration": 9520,
        "start_time": "2021-06-11T08:24:08.168Z"
      },
      {
        "duration": 1455,
        "start_time": "2021-06-11T08:24:17.691Z"
      },
      {
        "duration": 6841,
        "start_time": "2021-06-11T08:24:43.829Z"
      },
      {
        "duration": 649,
        "start_time": "2021-06-11T08:24:50.672Z"
      },
      {
        "duration": 9740,
        "start_time": "2021-06-11T08:24:51.326Z"
      },
      {
        "duration": 1351,
        "start_time": "2021-06-11T08:25:01.069Z"
      },
      {
        "duration": 1590,
        "start_time": "2021-06-11T08:37:17.551Z"
      },
      {
        "duration": 1167,
        "start_time": "2021-06-11T08:37:19.144Z"
      },
      {
        "duration": 19,
        "start_time": "2021-06-11T08:37:20.313Z"
      },
      {
        "duration": 765,
        "start_time": "2021-06-11T08:37:20.336Z"
      },
      {
        "duration": 667,
        "start_time": "2021-06-11T08:37:21.104Z"
      },
      {
        "duration": 393,
        "start_time": "2021-06-11T08:37:21.773Z"
      },
      {
        "duration": 5,
        "start_time": "2021-06-11T08:37:22.169Z"
      },
      {
        "duration": 910,
        "start_time": "2021-06-11T08:37:22.178Z"
      },
      {
        "duration": 12,
        "start_time": "2021-06-11T08:37:23.091Z"
      },
      {
        "duration": 24,
        "start_time": "2021-06-11T08:37:23.106Z"
      },
      {
        "duration": 40,
        "start_time": "2021-06-11T08:37:23.133Z"
      },
      {
        "duration": 376,
        "start_time": "2021-06-11T08:37:23.175Z"
      },
      {
        "duration": 6,
        "start_time": "2021-06-11T08:37:23.554Z"
      },
      {
        "duration": 19,
        "start_time": "2021-06-11T08:37:23.563Z"
      },
      {
        "duration": 2223,
        "start_time": "2021-06-11T08:37:23.585Z"
      },
      {
        "duration": 97,
        "start_time": "2021-06-11T08:37:25.811Z"
      },
      {
        "duration": 2101,
        "start_time": "2021-06-11T08:37:25.933Z"
      },
      {
        "duration": 2451,
        "start_time": "2021-06-11T08:37:28.041Z"
      },
      {
        "duration": 2014,
        "start_time": "2021-06-11T08:37:30.495Z"
      },
      {
        "duration": 1283,
        "start_time": "2021-06-11T08:37:32.512Z"
      },
      {
        "duration": 1150,
        "start_time": "2021-06-11T08:37:33.797Z"
      },
      {
        "duration": 1089,
        "start_time": "2021-06-11T08:37:34.954Z"
      },
      {
        "duration": 1045,
        "start_time": "2021-06-11T08:37:36.050Z"
      },
      {
        "duration": 1243,
        "start_time": "2021-06-11T08:37:37.098Z"
      },
      {
        "duration": 9,
        "start_time": "2021-06-11T08:37:38.344Z"
      },
      {
        "duration": 36,
        "start_time": "2021-06-11T08:37:38.356Z"
      },
      {
        "duration": 1434,
        "start_time": "2021-06-11T08:37:38.395Z"
      },
      {
        "duration": 7446,
        "start_time": "2021-06-11T08:37:39.833Z"
      },
      {
        "duration": 654,
        "start_time": "2021-06-11T08:37:47.281Z"
      },
      {
        "duration": 9790,
        "start_time": "2021-06-11T08:37:47.940Z"
      },
      {
        "duration": 1646,
        "start_time": "2021-06-11T08:37:57.733Z"
      },
      {
        "duration": 6,
        "start_time": "2021-06-11T08:37:59.382Z"
      },
      {
        "duration": 10,
        "start_time": "2021-06-11T08:37:59.391Z"
      },
      {
        "duration": 38,
        "start_time": "2021-06-11T08:37:59.425Z"
      },
      {
        "duration": 73,
        "start_time": "2021-06-11T08:37:59.465Z"
      },
      {
        "duration": 23,
        "start_time": "2021-06-11T08:37:59.550Z"
      },
      {
        "duration": 8,
        "start_time": "2021-06-11T08:37:59.576Z"
      },
      {
        "duration": 1329,
        "start_time": "2021-06-11T08:37:59.586Z"
      },
      {
        "duration": 1017,
        "start_time": "2021-06-11T08:37:59.901Z"
      },
      {
        "duration": 1015,
        "start_time": "2021-06-11T08:37:59.904Z"
      },
      {
        "duration": 1008,
        "start_time": "2021-06-11T08:37:59.912Z"
      },
      {
        "duration": 1008,
        "start_time": "2021-06-11T08:37:59.914Z"
      },
      {
        "duration": 1005,
        "start_time": "2021-06-11T08:37:59.918Z"
      },
      {
        "duration": 1008,
        "start_time": "2021-06-11T08:37:59.921Z"
      },
      {
        "duration": 1011,
        "start_time": "2021-06-11T08:37:59.924Z"
      },
      {
        "duration": 1010,
        "start_time": "2021-06-11T08:37:59.927Z"
      },
      {
        "duration": 1008,
        "start_time": "2021-06-11T08:37:59.930Z"
      },
      {
        "duration": 1011,
        "start_time": "2021-06-11T08:37:59.933Z"
      },
      {
        "duration": 1007,
        "start_time": "2021-06-11T08:37:59.938Z"
      },
      {
        "duration": 1013,
        "start_time": "2021-06-11T08:37:59.940Z"
      },
      {
        "duration": 1011,
        "start_time": "2021-06-11T08:37:59.944Z"
      },
      {
        "duration": 1010,
        "start_time": "2021-06-11T08:37:59.947Z"
      },
      {
        "duration": 1008,
        "start_time": "2021-06-11T08:37:59.951Z"
      },
      {
        "duration": 1009,
        "start_time": "2021-06-11T08:37:59.953Z"
      },
      {
        "duration": 1006,
        "start_time": "2021-06-11T08:37:59.957Z"
      },
      {
        "duration": 1004,
        "start_time": "2021-06-11T08:37:59.960Z"
      },
      {
        "duration": 1002,
        "start_time": "2021-06-11T08:37:59.963Z"
      },
      {
        "duration": 890,
        "start_time": "2021-06-11T08:38:00.076Z"
      },
      {
        "duration": 888,
        "start_time": "2021-06-11T08:38:00.079Z"
      },
      {
        "duration": 886,
        "start_time": "2021-06-11T08:38:00.082Z"
      },
      {
        "duration": 884,
        "start_time": "2021-06-11T08:38:00.085Z"
      },
      {
        "duration": 6,
        "start_time": "2021-06-11T08:42:25.769Z"
      },
      {
        "duration": 6,
        "start_time": "2021-06-11T08:43:33.941Z"
      },
      {
        "duration": 6,
        "start_time": "2021-06-11T08:50:12.210Z"
      },
      {
        "duration": 820,
        "start_time": "2021-06-11T08:51:54.273Z"
      },
      {
        "duration": 1547,
        "start_time": "2021-06-11T08:56:20.934Z"
      },
      {
        "duration": 1043,
        "start_time": "2021-06-11T08:56:22.483Z"
      },
      {
        "duration": 11,
        "start_time": "2021-06-11T08:56:23.529Z"
      },
      {
        "duration": 728,
        "start_time": "2021-06-11T08:56:23.543Z"
      },
      {
        "duration": 622,
        "start_time": "2021-06-11T08:56:24.274Z"
      },
      {
        "duration": 365,
        "start_time": "2021-06-11T08:56:24.898Z"
      },
      {
        "duration": 5,
        "start_time": "2021-06-11T08:56:25.265Z"
      },
      {
        "duration": 830,
        "start_time": "2021-06-11T08:56:25.274Z"
      },
      {
        "duration": 25,
        "start_time": "2021-06-11T08:56:26.107Z"
      },
      {
        "duration": 7,
        "start_time": "2021-06-11T08:56:26.135Z"
      },
      {
        "duration": 32,
        "start_time": "2021-06-11T08:56:26.145Z"
      },
      {
        "duration": 503,
        "start_time": "2021-06-11T08:56:26.180Z"
      },
      {
        "duration": 7,
        "start_time": "2021-06-11T08:56:26.686Z"
      },
      {
        "duration": 33,
        "start_time": "2021-06-11T08:56:26.695Z"
      },
      {
        "duration": 1977,
        "start_time": "2021-06-11T08:56:26.731Z"
      },
      {
        "duration": 83,
        "start_time": "2021-06-11T08:56:28.711Z"
      },
      {
        "duration": 1622,
        "start_time": "2021-06-11T08:56:28.797Z"
      },
      {
        "duration": 1520,
        "start_time": "2021-06-11T08:56:30.426Z"
      },
      {
        "duration": 1505,
        "start_time": "2021-06-11T08:56:31.948Z"
      },
      {
        "duration": 1160,
        "start_time": "2021-06-11T08:56:33.455Z"
      },
      {
        "duration": 1015,
        "start_time": "2021-06-11T08:56:34.625Z"
      },
      {
        "duration": 982,
        "start_time": "2021-06-11T08:56:35.643Z"
      },
      {
        "duration": 1001,
        "start_time": "2021-06-11T08:56:36.631Z"
      },
      {
        "duration": 1276,
        "start_time": "2021-06-11T08:56:37.636Z"
      },
      {
        "duration": 12,
        "start_time": "2021-06-11T08:56:38.914Z"
      },
      {
        "duration": 48,
        "start_time": "2021-06-11T08:56:38.928Z"
      },
      {
        "duration": 1328,
        "start_time": "2021-06-11T08:56:38.978Z"
      },
      {
        "duration": 6313,
        "start_time": "2021-06-11T08:56:40.308Z"
      },
      {
        "duration": 544,
        "start_time": "2021-06-11T08:56:46.625Z"
      },
      {
        "duration": 9078,
        "start_time": "2021-06-11T08:56:47.172Z"
      },
      {
        "duration": 1395,
        "start_time": "2021-06-11T08:56:56.252Z"
      },
      {
        "duration": 7,
        "start_time": "2021-06-11T08:56:57.650Z"
      },
      {
        "duration": 9,
        "start_time": "2021-06-11T08:56:57.660Z"
      },
      {
        "duration": 62,
        "start_time": "2021-06-11T08:56:57.672Z"
      },
      {
        "duration": 40,
        "start_time": "2021-06-11T08:56:57.736Z"
      },
      {
        "duration": 18,
        "start_time": "2021-06-11T08:56:57.779Z"
      },
      {
        "duration": 8,
        "start_time": "2021-06-11T08:56:57.827Z"
      },
      {
        "duration": 930,
        "start_time": "2021-06-11T08:56:57.838Z"
      },
      {
        "duration": 1171,
        "start_time": "2021-06-11T08:56:57.599Z"
      },
      {
        "duration": 1166,
        "start_time": "2021-06-11T08:56:57.606Z"
      },
      {
        "duration": 1160,
        "start_time": "2021-06-11T08:56:57.613Z"
      },
      {
        "duration": 1156,
        "start_time": "2021-06-11T08:56:57.619Z"
      },
      {
        "duration": 1153,
        "start_time": "2021-06-11T08:56:57.623Z"
      },
      {
        "duration": 990,
        "start_time": "2021-06-11T08:56:57.787Z"
      },
      {
        "duration": 986,
        "start_time": "2021-06-11T08:56:57.793Z"
      },
      {
        "duration": 981,
        "start_time": "2021-06-11T08:56:57.799Z"
      },
      {
        "duration": 979,
        "start_time": "2021-06-11T08:56:57.803Z"
      },
      {
        "duration": 975,
        "start_time": "2021-06-11T08:56:57.809Z"
      },
      {
        "duration": 969,
        "start_time": "2021-06-11T08:56:57.816Z"
      },
      {
        "duration": 963,
        "start_time": "2021-06-11T08:56:57.824Z"
      },
      {
        "duration": 958,
        "start_time": "2021-06-11T08:56:57.830Z"
      },
      {
        "duration": 952,
        "start_time": "2021-06-11T08:56:57.837Z"
      },
      {
        "duration": 948,
        "start_time": "2021-06-11T08:56:57.843Z"
      },
      {
        "duration": 943,
        "start_time": "2021-06-11T08:56:57.849Z"
      },
      {
        "duration": 938,
        "start_time": "2021-06-11T08:56:57.856Z"
      },
      {
        "duration": 933,
        "start_time": "2021-06-11T08:56:57.862Z"
      },
      {
        "duration": 930,
        "start_time": "2021-06-11T08:56:57.866Z"
      },
      {
        "duration": 926,
        "start_time": "2021-06-11T08:56:57.872Z"
      },
      {
        "duration": 921,
        "start_time": "2021-06-11T08:56:57.878Z"
      },
      {
        "duration": 916,
        "start_time": "2021-06-11T08:56:57.885Z"
      },
      {
        "duration": 911,
        "start_time": "2021-06-11T08:56:57.891Z"
      },
      {
        "duration": 906,
        "start_time": "2021-06-11T08:56:57.897Z"
      },
      {
        "duration": 902,
        "start_time": "2021-06-11T08:56:57.903Z"
      },
      {
        "duration": 9011,
        "start_time": "2021-06-11T08:58:47.244Z"
      },
      {
        "duration": 6817,
        "start_time": "2021-06-11T09:04:32.928Z"
      },
      {
        "duration": 1576,
        "start_time": "2021-06-11T09:09:06.226Z"
      },
      {
        "duration": 1064,
        "start_time": "2021-06-11T09:09:07.805Z"
      },
      {
        "duration": 12,
        "start_time": "2021-06-11T09:09:08.873Z"
      },
      {
        "duration": 761,
        "start_time": "2021-06-11T09:09:08.888Z"
      },
      {
        "duration": 648,
        "start_time": "2021-06-11T09:09:09.653Z"
      },
      {
        "duration": 359,
        "start_time": "2021-06-11T09:09:10.305Z"
      },
      {
        "duration": 5,
        "start_time": "2021-06-11T09:09:10.666Z"
      },
      {
        "duration": 816,
        "start_time": "2021-06-11T09:09:10.675Z"
      },
      {
        "duration": 12,
        "start_time": "2021-06-11T09:09:11.494Z"
      },
      {
        "duration": 4,
        "start_time": "2021-06-11T09:09:11.524Z"
      },
      {
        "duration": 27,
        "start_time": "2021-06-11T09:09:11.531Z"
      },
      {
        "duration": 368,
        "start_time": "2021-06-11T09:09:11.561Z"
      },
      {
        "duration": 6,
        "start_time": "2021-06-11T09:09:11.932Z"
      },
      {
        "duration": 12,
        "start_time": "2021-06-11T09:09:11.941Z"
      },
      {
        "duration": 1908,
        "start_time": "2021-06-11T09:09:11.955Z"
      },
      {
        "duration": 98,
        "start_time": "2021-06-11T09:09:13.866Z"
      },
      {
        "duration": 1713,
        "start_time": "2021-06-11T09:09:13.966Z"
      },
      {
        "duration": 1662,
        "start_time": "2021-06-11T09:09:15.681Z"
      },
      {
        "duration": 1658,
        "start_time": "2021-06-11T09:09:17.346Z"
      },
      {
        "duration": 1163,
        "start_time": "2021-06-11T09:09:19.007Z"
      },
      {
        "duration": 1106,
        "start_time": "2021-06-11T09:09:20.173Z"
      },
      {
        "duration": 1101,
        "start_time": "2021-06-11T09:09:21.281Z"
      },
      {
        "duration": 1090,
        "start_time": "2021-06-11T09:09:22.390Z"
      },
      {
        "duration": 1240,
        "start_time": "2021-06-11T09:09:23.484Z"
      },
      {
        "duration": 8,
        "start_time": "2021-06-11T09:09:24.728Z"
      },
      {
        "duration": 38,
        "start_time": "2021-06-11T09:09:24.738Z"
      },
      {
        "duration": 1302,
        "start_time": "2021-06-11T09:09:24.778Z"
      },
      {
        "duration": 8696,
        "start_time": "2021-06-11T09:09:26.082Z"
      },
      {
        "duration": 997,
        "start_time": "2021-06-11T09:09:33.783Z"
      },
      {
        "duration": 995,
        "start_time": "2021-06-11T09:09:33.787Z"
      },
      {
        "duration": 994,
        "start_time": "2021-06-11T09:09:33.790Z"
      },
      {
        "duration": 993,
        "start_time": "2021-06-11T09:09:33.793Z"
      },
      {
        "duration": 990,
        "start_time": "2021-06-11T09:09:33.797Z"
      },
      {
        "duration": 989,
        "start_time": "2021-06-11T09:09:33.800Z"
      },
      {
        "duration": 986,
        "start_time": "2021-06-11T09:09:33.804Z"
      },
      {
        "duration": 984,
        "start_time": "2021-06-11T09:09:33.807Z"
      },
      {
        "duration": 982,
        "start_time": "2021-06-11T09:09:33.810Z"
      },
      {
        "duration": 981,
        "start_time": "2021-06-11T09:09:33.813Z"
      },
      {
        "duration": 979,
        "start_time": "2021-06-11T09:09:33.816Z"
      },
      {
        "duration": 976,
        "start_time": "2021-06-11T09:09:33.820Z"
      },
      {
        "duration": 974,
        "start_time": "2021-06-11T09:09:33.823Z"
      },
      {
        "duration": 973,
        "start_time": "2021-06-11T09:09:33.826Z"
      },
      {
        "duration": 970,
        "start_time": "2021-06-11T09:09:33.830Z"
      },
      {
        "duration": 968,
        "start_time": "2021-06-11T09:09:33.833Z"
      },
      {
        "duration": 967,
        "start_time": "2021-06-11T09:09:33.836Z"
      },
      {
        "duration": 965,
        "start_time": "2021-06-11T09:09:33.839Z"
      },
      {
        "duration": 962,
        "start_time": "2021-06-11T09:09:33.843Z"
      },
      {
        "duration": 680,
        "start_time": "2021-06-11T09:09:34.127Z"
      },
      {
        "duration": 677,
        "start_time": "2021-06-11T09:09:34.131Z"
      },
      {
        "duration": 675,
        "start_time": "2021-06-11T09:09:34.134Z"
      },
      {
        "duration": 672,
        "start_time": "2021-06-11T09:09:34.138Z"
      },
      {
        "duration": 670,
        "start_time": "2021-06-11T09:09:34.141Z"
      },
      {
        "duration": 668,
        "start_time": "2021-06-11T09:09:34.144Z"
      },
      {
        "duration": 667,
        "start_time": "2021-06-11T09:09:34.147Z"
      },
      {
        "duration": 664,
        "start_time": "2021-06-11T09:09:34.151Z"
      },
      {
        "duration": 663,
        "start_time": "2021-06-11T09:09:34.153Z"
      },
      {
        "duration": 660,
        "start_time": "2021-06-11T09:09:34.157Z"
      },
      {
        "duration": 658,
        "start_time": "2021-06-11T09:09:34.160Z"
      },
      {
        "duration": 655,
        "start_time": "2021-06-11T09:09:34.164Z"
      },
      {
        "duration": 658,
        "start_time": "2021-06-11T09:09:34.166Z"
      },
      {
        "duration": 655,
        "start_time": "2021-06-11T09:09:34.170Z"
      },
      {
        "duration": 654,
        "start_time": "2021-06-11T09:09:34.173Z"
      },
      {
        "duration": 652,
        "start_time": "2021-06-11T09:09:34.176Z"
      },
      {
        "duration": 650,
        "start_time": "2021-06-11T09:09:34.179Z"
      },
      {
        "duration": 25,
        "start_time": "2021-06-11T09:10:36.346Z"
      },
      {
        "duration": 99,
        "start_time": "2021-06-11T09:10:37.545Z"
      },
      {
        "duration": 41,
        "start_time": "2021-06-11T09:10:44.838Z"
      },
      {
        "duration": 77,
        "start_time": "2021-06-11T09:10:53.882Z"
      },
      {
        "duration": 1364,
        "start_time": "2021-06-11T09:11:07.069Z"
      },
      {
        "duration": 6,
        "start_time": "2021-06-11T09:11:32.112Z"
      },
      {
        "duration": 5,
        "start_time": "2021-06-11T09:11:32.921Z"
      },
      {
        "duration": 26,
        "start_time": "2021-06-11T09:11:40.375Z"
      },
      {
        "duration": 35,
        "start_time": "2021-06-11T09:11:42.244Z"
      },
      {
        "duration": 17,
        "start_time": "2021-06-11T09:11:43.951Z"
      },
      {
        "duration": 7,
        "start_time": "2021-06-11T09:11:47.182Z"
      },
      {
        "duration": 3194,
        "start_time": "2021-06-11T09:11:49.191Z"
      },
      {
        "duration": 9,
        "start_time": "2021-06-11T09:12:17.790Z"
      },
      {
        "duration": 2391,
        "start_time": "2021-06-11T09:12:19.636Z"
      },
      {
        "duration": 6,
        "start_time": "2021-06-11T09:12:27.255Z"
      },
      {
        "duration": 4606,
        "start_time": "2021-06-11T09:12:39.422Z"
      },
      {
        "duration": 8,
        "start_time": "2021-06-12T06:21:10.047Z"
      },
      {
        "duration": 3720,
        "start_time": "2021-06-12T06:21:13.412Z"
      },
      {
        "duration": 3703,
        "start_time": "2021-06-12T06:23:28.134Z"
      },
      {
        "duration": 6,
        "start_time": "2021-06-12T06:37:04.836Z"
      },
      {
        "duration": 5290,
        "start_time": "2021-06-12T06:38:26.540Z"
      },
      {
        "duration": 7997,
        "start_time": "2021-06-12T06:38:31.844Z"
      },
      {
        "duration": 801,
        "start_time": "2021-06-12T06:39:03.367Z"
      },
      {
        "duration": 845,
        "start_time": "2021-06-12T06:39:04.235Z"
      },
      {
        "duration": 5,
        "start_time": "2021-06-12T06:41:08.979Z"
      },
      {
        "duration": 917,
        "start_time": "2021-06-12T06:42:06.830Z"
      },
      {
        "duration": 1472,
        "start_time": "2021-06-12T06:42:07.841Z"
      },
      {
        "duration": 13423,
        "start_time": "2021-06-12T06:58:37.453Z"
      },
      {
        "duration": 13087,
        "start_time": "2021-06-12T06:59:23.373Z"
      },
      {
        "duration": 16476,
        "start_time": "2021-06-12T06:59:54.582Z"
      },
      {
        "duration": 13,
        "start_time": "2021-06-12T07:11:42.637Z"
      },
      {
        "duration": 6,
        "start_time": "2021-06-12T07:11:44.786Z"
      },
      {
        "duration": 7,
        "start_time": "2021-06-12T07:13:18.902Z"
      },
      {
        "duration": 4423,
        "start_time": "2021-06-12T07:13:21.760Z"
      },
      {
        "duration": 5,
        "start_time": "2021-06-12T07:29:20.908Z"
      },
      {
        "duration": 6,
        "start_time": "2021-06-12T07:29:50.492Z"
      },
      {
        "duration": 9,
        "start_time": "2021-06-12T07:30:13.825Z"
      },
      {
        "duration": 6,
        "start_time": "2021-06-12T07:30:14.408Z"
      },
      {
        "duration": 6,
        "start_time": "2021-06-12T07:30:45.868Z"
      },
      {
        "duration": 14,
        "start_time": "2021-06-12T07:30:49.937Z"
      },
      {
        "duration": 6,
        "start_time": "2021-06-12T07:30:52.553Z"
      },
      {
        "duration": 4271,
        "start_time": "2021-06-12T07:30:56.098Z"
      },
      {
        "duration": 6,
        "start_time": "2021-06-12T07:31:35.182Z"
      },
      {
        "duration": 6,
        "start_time": "2021-06-12T07:32:34.349Z"
      },
      {
        "duration": 4008,
        "start_time": "2021-06-12T07:32:35.859Z"
      },
      {
        "duration": 6,
        "start_time": "2021-06-12T07:33:56.788Z"
      },
      {
        "duration": 6,
        "start_time": "2021-06-12T07:34:00.912Z"
      },
      {
        "duration": 6,
        "start_time": "2021-06-12T07:34:01.425Z"
      },
      {
        "duration": 25,
        "start_time": "2021-06-12T07:34:02.737Z"
      },
      {
        "duration": 45,
        "start_time": "2021-06-12T07:34:03.208Z"
      },
      {
        "duration": 14,
        "start_time": "2021-06-12T07:34:03.691Z"
      },
      {
        "duration": 6,
        "start_time": "2021-06-12T07:34:04.807Z"
      },
      {
        "duration": 6302,
        "start_time": "2021-06-12T07:34:07.316Z"
      },
      {
        "duration": 6,
        "start_time": "2021-06-12T07:35:10.071Z"
      },
      {
        "duration": 6,
        "start_time": "2021-06-12T07:35:12.405Z"
      },
      {
        "duration": -522,
        "start_time": "2021-06-12T07:35:34.039Z"
      },
      {
        "duration": -529,
        "start_time": "2021-06-12T07:35:34.047Z"
      },
      {
        "duration": 13197,
        "start_time": "2021-06-12T07:35:47.669Z"
      },
      {
        "duration": 7,
        "start_time": "2021-06-12T07:40:51.642Z"
      },
      {
        "duration": 6,
        "start_time": "2021-06-12T07:40:52.956Z"
      },
      {
        "duration": 8,
        "start_time": "2021-06-12T07:41:04.924Z"
      },
      {
        "duration": 13740,
        "start_time": "2021-06-12T07:41:06.854Z"
      },
      {
        "duration": 7,
        "start_time": "2021-06-12T07:47:47.605Z"
      },
      {
        "duration": 16089,
        "start_time": "2021-06-12T07:49:42.961Z"
      },
      {
        "duration": 5,
        "start_time": "2021-06-12T07:52:27.602Z"
      },
      {
        "duration": 14279,
        "start_time": "2021-06-12T07:52:31.038Z"
      },
      {
        "duration": 7,
        "start_time": "2021-06-12T07:57:34.123Z"
      },
      {
        "duration": 6426,
        "start_time": "2021-06-12T07:57:36.729Z"
      },
      {
        "duration": 836,
        "start_time": "2021-06-12T07:57:43.345Z"
      },
      {
        "duration": 6,
        "start_time": "2021-06-12T07:58:34.784Z"
      },
      {
        "duration": 6,
        "start_time": "2021-06-12T07:58:36.976Z"
      },
      {
        "duration": 6,
        "start_time": "2021-06-12T07:58:37.460Z"
      },
      {
        "duration": 5,
        "start_time": "2021-06-12T07:58:58.073Z"
      },
      {
        "duration": 9798,
        "start_time": "2021-06-12T07:59:01.036Z"
      },
      {
        "duration": 5007,
        "start_time": "2021-06-12T07:59:23.219Z"
      },
      {
        "duration": 324,
        "start_time": "2021-06-12T08:01:08.489Z"
      },
      {
        "duration": 4905,
        "start_time": "2021-06-12T08:02:02.136Z"
      },
      {
        "duration": 6095,
        "start_time": "2021-06-12T08:02:44.635Z"
      },
      {
        "duration": 377,
        "start_time": "2021-06-12T08:03:26.198Z"
      },
      {
        "duration": 13392,
        "start_time": "2021-06-12T08:03:38.493Z"
      },
      {
        "duration": 24003,
        "start_time": "2021-06-12T08:04:15.350Z"
      },
      {
        "duration": 11626,
        "start_time": "2021-06-12T08:08:49.920Z"
      },
      {
        "duration": 604849,
        "start_time": "2021-06-12T08:09:24.051Z"
      },
      {
        "duration": 368,
        "start_time": "2021-06-12T08:19:40.128Z"
      },
      {
        "duration": 5,
        "start_time": "2021-06-12T08:19:50.721Z"
      },
      {
        "duration": 5375,
        "start_time": "2021-06-12T08:19:52.753Z"
      },
      {
        "duration": 24146,
        "start_time": "2021-06-12T08:19:58.132Z"
      },
      {
        "duration": 480156,
        "start_time": "2021-06-12T08:20:22.281Z"
      },
      {
        "duration": 1763378,
        "start_time": "2021-06-12T08:28:38.223Z"
      },
      {
        "duration": 6,
        "start_time": "2021-06-14T00:36:12.076Z"
      },
      {
        "duration": 5,
        "start_time": "2021-06-14T00:36:15.386Z"
      },
      {
        "duration": 6,
        "start_time": "2021-06-14T00:36:31.601Z"
      },
      {
        "duration": 5436,
        "start_time": "2021-06-14T00:36:32.596Z"
      },
      {
        "duration": 24906,
        "start_time": "2021-06-14T00:37:03.049Z"
      },
      {
        "duration": 176090,
        "start_time": "2021-06-14T00:37:27.957Z"
      },
      {
        "duration": 30777,
        "start_time": "2021-06-14T00:44:34.221Z"
      },
      {
        "duration": 1002772,
        "start_time": "2021-06-14T00:45:05.001Z"
      },
      {
        "duration": -18512,
        "start_time": "2021-06-14T01:02:06.288Z"
      },
      {
        "duration": -18523,
        "start_time": "2021-06-14T01:02:06.301Z"
      },
      {
        "duration": 6,
        "start_time": "2021-06-14T01:02:20.180Z"
      },
      {
        "duration": 5464,
        "start_time": "2021-06-14T01:02:24.069Z"
      },
      {
        "duration": 30281,
        "start_time": "2021-06-14T01:02:32.228Z"
      },
      {
        "duration": 6,
        "start_time": "2021-06-14T01:03:35.873Z"
      },
      {
        "duration": 6,
        "start_time": "2021-06-14T01:03:52.212Z"
      },
      {
        "duration": 6213,
        "start_time": "2021-06-14T01:03:55.910Z"
      },
      {
        "duration": 31211,
        "start_time": "2021-06-14T01:04:04.196Z"
      },
      {
        "duration": 8,
        "start_time": "2021-06-14T01:04:49.519Z"
      },
      {
        "duration": 5687,
        "start_time": "2021-06-14T01:04:54.947Z"
      },
      {
        "duration": 5,
        "start_time": "2021-06-14T01:06:46.660Z"
      },
      {
        "duration": 5959,
        "start_time": "2021-06-14T01:06:48.608Z"
      },
      {
        "duration": 6,
        "start_time": "2021-06-14T01:08:45.985Z"
      },
      {
        "duration": 5379,
        "start_time": "2021-06-14T01:08:48.146Z"
      },
      {
        "duration": 30017,
        "start_time": "2021-06-14T01:09:20.970Z"
      },
      {
        "duration": 1694738,
        "start_time": "2021-06-14T01:10:03.058Z"
      },
      {
        "duration": 6,
        "start_time": "2021-06-14T03:18:05.528Z"
      },
      {
        "duration": 14946,
        "start_time": "2021-06-14T03:18:31.740Z"
      },
      {
        "duration": 850828,
        "start_time": "2021-06-14T03:18:46.689Z"
      },
      {
        "duration": 335,
        "start_time": "2021-06-14T03:32:57.524Z"
      },
      {
        "duration": 2818,
        "start_time": "2021-06-14T03:35:28.014Z"
      },
      {
        "duration": 5,
        "start_time": "2021-06-14T07:18:04.315Z"
      },
      {
        "duration": 609,
        "start_time": "2021-06-14T07:18:05.786Z"
      },
      {
        "duration": 5,
        "start_time": "2021-06-14T07:20:19.021Z"
      },
      {
        "duration": 396,
        "start_time": "2021-06-14T07:20:19.679Z"
      },
      {
        "duration": 6,
        "start_time": "2021-06-14T07:20:46.880Z"
      },
      {
        "duration": 392,
        "start_time": "2021-06-14T07:20:48.185Z"
      },
      {
        "duration": 7,
        "start_time": "2021-06-14T07:24:10.173Z"
      },
      {
        "duration": 11809,
        "start_time": "2021-06-14T07:24:11.585Z"
      },
      {
        "duration": 5,
        "start_time": "2021-06-14T07:27:03.152Z"
      },
      {
        "duration": 397,
        "start_time": "2021-06-14T07:27:04.546Z"
      },
      {
        "duration": 5,
        "start_time": "2021-06-14T07:29:06.950Z"
      },
      {
        "duration": 9061,
        "start_time": "2021-06-14T07:29:07.599Z"
      },
      {
        "duration": 6,
        "start_time": "2021-06-14T07:34:20.903Z"
      },
      {
        "duration": 6,
        "start_time": "2021-06-14T07:34:44.364Z"
      },
      {
        "duration": 2740,
        "start_time": "2021-06-14T07:34:52.192Z"
      },
      {
        "duration": 15052,
        "start_time": "2021-06-14T07:35:07.985Z"
      },
      {
        "duration": 6,
        "start_time": "2021-06-14T07:36:27.503Z"
      },
      {
        "duration": 5,
        "start_time": "2021-06-14T07:36:28.371Z"
      },
      {
        "duration": 2703,
        "start_time": "2021-06-14T07:36:34.627Z"
      },
      {
        "duration": 14981,
        "start_time": "2021-06-14T07:36:39.369Z"
      },
      {
        "duration": 5,
        "start_time": "2021-06-14T07:39:10.112Z"
      },
      {
        "duration": 2625,
        "start_time": "2021-06-14T07:39:11.902Z"
      },
      {
        "duration": 15044,
        "start_time": "2021-06-14T07:39:17.055Z"
      },
      {
        "duration": 6,
        "start_time": "2021-06-14T07:39:55.866Z"
      },
      {
        "duration": 5,
        "start_time": "2021-06-14T07:39:57.816Z"
      },
      {
        "duration": 2916,
        "start_time": "2021-06-14T07:40:03.017Z"
      },
      {
        "duration": 14971,
        "start_time": "2021-06-14T07:40:08.875Z"
      },
      {
        "duration": 5,
        "start_time": "2021-06-14T07:40:58.674Z"
      },
      {
        "duration": 9128,
        "start_time": "2021-06-14T07:40:59.327Z"
      },
      {
        "duration": 8882,
        "start_time": "2021-06-14T07:47:27.166Z"
      },
      {
        "duration": 4,
        "start_time": "2021-06-14T07:49:49.795Z"
      },
      {
        "duration": 159267,
        "start_time": "2021-06-14T07:49:50.462Z"
      },
      {
        "duration": 6,
        "start_time": "2021-06-14T07:52:33.992Z"
      },
      {
        "duration": 6,
        "start_time": "2021-06-14T07:52:35.134Z"
      },
      {
        "duration": 2742,
        "start_time": "2021-06-14T07:52:39.790Z"
      },
      {
        "duration": 15045,
        "start_time": "2021-06-14T07:52:44.985Z"
      },
      {
        "duration": 6,
        "start_time": "2021-06-14T07:53:21.979Z"
      },
      {
        "duration": 15104,
        "start_time": "2021-06-14T07:53:32.517Z"
      },
      {
        "duration": 6,
        "start_time": "2021-06-14T07:54:15.829Z"
      },
      {
        "duration": 6,
        "start_time": "2021-06-14T07:54:16.820Z"
      },
      {
        "duration": 3166,
        "start_time": "2021-06-14T07:54:25.067Z"
      },
      {
        "duration": 14944,
        "start_time": "2021-06-14T07:54:30.186Z"
      },
      {
        "duration": 5,
        "start_time": "2021-06-14T07:55:43.297Z"
      },
      {
        "duration": 449610,
        "start_time": "2021-06-14T07:55:47.006Z"
      },
      {
        "duration": 6,
        "start_time": "2021-06-14T08:03:23.619Z"
      },
      {
        "duration": 7,
        "start_time": "2021-06-14T08:03:25.606Z"
      },
      {
        "duration": 2547,
        "start_time": "2021-06-14T08:03:31.384Z"
      },
      {
        "duration": 15137,
        "start_time": "2021-06-14T08:03:46.919Z"
      },
      {
        "duration": 5,
        "start_time": "2021-06-14T08:05:01.980Z"
      },
      {
        "duration": 9262,
        "start_time": "2021-06-14T08:05:02.966Z"
      },
      {
        "duration": 8,
        "start_time": "2021-06-14T08:10:26.743Z"
      },
      {
        "duration": 6,
        "start_time": "2021-06-14T08:10:27.693Z"
      },
      {
        "duration": 2671,
        "start_time": "2021-06-14T08:10:35.556Z"
      },
      {
        "duration": 15087,
        "start_time": "2021-06-14T08:10:42.674Z"
      },
      {
        "duration": 5,
        "start_time": "2021-06-14T08:11:33.140Z"
      },
      {
        "duration": 2704,
        "start_time": "2021-06-14T08:11:36.224Z"
      },
      {
        "duration": 10,
        "start_time": "2021-06-14T08:11:50.542Z"
      },
      {
        "duration": 7,
        "start_time": "2021-06-14T08:13:00.623Z"
      },
      {
        "duration": 5,
        "start_time": "2021-06-14T08:13:02.470Z"
      },
      {
        "duration": 6,
        "start_time": "2021-06-14T08:13:22.002Z"
      },
      {
        "duration": 2733,
        "start_time": "2021-06-14T08:13:28.299Z"
      },
      {
        "duration": 5,
        "start_time": "2021-06-14T08:14:08.352Z"
      },
      {
        "duration": 10080,
        "start_time": "2021-06-14T08:14:09.684Z"
      },
      {
        "duration": 9947,
        "start_time": "2021-06-14T08:16:07.921Z"
      },
      {
        "duration": 5,
        "start_time": "2021-06-14T08:17:34.440Z"
      },
      {
        "duration": 2670,
        "start_time": "2021-06-14T08:17:37.562Z"
      },
      {
        "duration": 6,
        "start_time": "2021-06-14T08:19:20.922Z"
      },
      {
        "duration": 9515,
        "start_time": "2021-06-14T08:19:21.503Z"
      },
      {
        "duration": 7,
        "start_time": "2021-06-14T08:22:15.323Z"
      },
      {
        "duration": 6,
        "start_time": "2021-06-14T08:22:26.284Z"
      },
      {
        "duration": 6,
        "start_time": "2021-06-14T08:22:26.890Z"
      },
      {
        "duration": 6,
        "start_time": "2021-06-14T08:22:32.657Z"
      },
      {
        "duration": 2428,
        "start_time": "2021-06-14T08:22:34.402Z"
      },
      {
        "duration": 7,
        "start_time": "2021-06-14T08:22:55.602Z"
      },
      {
        "duration": 11597,
        "start_time": "2021-06-14T08:22:56.268Z"
      },
      {
        "duration": 6,
        "start_time": "2021-06-14T08:24:28.511Z"
      },
      {
        "duration": 15315,
        "start_time": "2021-06-14T08:24:41.496Z"
      },
      {
        "duration": 7,
        "start_time": "2021-06-14T08:26:16.358Z"
      },
      {
        "duration": 5,
        "start_time": "2021-06-14T08:26:17.316Z"
      },
      {
        "duration": 5,
        "start_time": "2021-06-14T08:26:33.366Z"
      },
      {
        "duration": 3140,
        "start_time": "2021-06-14T08:26:34.799Z"
      },
      {
        "duration": 5,
        "start_time": "2021-06-14T08:26:50.378Z"
      },
      {
        "duration": 3497,
        "start_time": "2021-06-14T08:26:54.433Z"
      },
      {
        "duration": 6,
        "start_time": "2021-06-14T08:27:05.636Z"
      },
      {
        "duration": 10222,
        "start_time": "2021-06-14T08:27:06.629Z"
      },
      {
        "duration": 7,
        "start_time": "2021-06-14T08:35:18.138Z"
      },
      {
        "duration": 7,
        "start_time": "2021-06-14T08:35:19.630Z"
      },
      {
        "duration": 6,
        "start_time": "2021-06-14T08:35:34.492Z"
      },
      {
        "duration": 2648,
        "start_time": "2021-06-14T08:35:36.186Z"
      },
      {
        "duration": 15227,
        "start_time": "2021-06-14T08:35:42.379Z"
      },
      {
        "duration": 5,
        "start_time": "2021-06-14T08:36:09.282Z"
      },
      {
        "duration": 2852,
        "start_time": "2021-06-14T08:36:09.984Z"
      },
      {
        "duration": 6,
        "start_time": "2021-06-14T08:36:38.203Z"
      },
      {
        "duration": 5,
        "start_time": "2021-06-14T08:36:38.905Z"
      },
      {
        "duration": 2710,
        "start_time": "2021-06-14T08:36:54.019Z"
      },
      {
        "duration": 15306,
        "start_time": "2021-06-14T08:36:56.973Z"
      },
      {
        "duration": 5,
        "start_time": "2021-06-14T08:41:22.596Z"
      },
      {
        "duration": 6071620,
        "start_time": "2021-06-14T08:41:23.506Z"
      },
      {
        "duration": 109720,
        "start_time": "2021-06-14T20:31:22.879Z"
      },
      {
        "duration": 72256,
        "start_time": "2021-06-14T20:34:24.228Z"
      },
      {
        "duration": 117,
        "start_time": "2021-06-14T20:35:44.486Z"
      },
      {
        "duration": 5,
        "start_time": "2021-06-14T20:35:55.359Z"
      },
      {
        "duration": 822,
        "start_time": "2021-06-14T20:35:59.557Z"
      },
      {
        "duration": 72792,
        "start_time": "2021-06-14T20:36:23.846Z"
      },
      {
        "duration": 6,
        "start_time": "2021-06-14T20:37:56.120Z"
      },
      {
        "duration": 5,
        "start_time": "2021-06-14T20:37:57.291Z"
      },
      {
        "duration": 5,
        "start_time": "2021-06-14T20:38:04.755Z"
      },
      {
        "duration": 6169282,
        "start_time": "2021-06-14T20:38:13.943Z"
      },
      {
        "duration": 580,
        "start_time": "2021-06-14T22:25:30.819Z"
      },
      {
        "duration": 118,
        "start_time": "2021-06-14T22:26:00.608Z"
      },
      {
        "duration": 116,
        "start_time": "2021-06-14T22:26:10.613Z"
      },
      {
        "duration": 182307,
        "start_time": "2021-06-14T22:29:05.065Z"
      },
      {
        "duration": 183809,
        "start_time": "2021-06-14T22:33:45.937Z"
      },
      {
        "duration": 182625,
        "start_time": "2021-06-14T22:41:14.746Z"
      },
      {
        "duration": 181486,
        "start_time": "2021-06-14T22:44:55.220Z"
      },
      {
        "duration": 180183,
        "start_time": "2021-06-15T00:46:40.144Z"
      },
      {
        "duration": 713,
        "start_time": "2021-06-15T00:49:40.329Z"
      },
      {
        "duration": 691,
        "start_time": "2021-06-15T00:50:05.043Z"
      },
      {
        "duration": 711,
        "start_time": "2021-06-15T00:50:23.351Z"
      },
      {
        "duration": 180814,
        "start_time": "2021-06-15T00:50:55.848Z"
      },
      {
        "duration": 745,
        "start_time": "2021-06-15T00:53:56.664Z"
      },
      {
        "duration": 181557,
        "start_time": "2021-06-15T00:56:49.497Z"
      },
      {
        "duration": 774,
        "start_time": "2021-06-15T00:59:51.057Z"
      },
      {
        "duration": 6,
        "start_time": "2021-06-15T01:01:51.033Z"
      },
      {
        "duration": 4,
        "start_time": "2021-06-15T01:01:51.789Z"
      },
      {
        "duration": 5,
        "start_time": "2021-06-15T01:01:53.340Z"
      },
      {
        "duration": 9054,
        "start_time": "2021-06-15T01:02:06.063Z"
      },
      {
        "duration": 5,
        "start_time": "2021-06-15T01:02:45.164Z"
      },
      {
        "duration": 2017,
        "start_time": "2021-06-15T01:03:45.225Z"
      },
      {
        "duration": 780,
        "start_time": "2021-06-15T01:03:49.577Z"
      },
      {
        "duration": 695,
        "start_time": "2021-06-15T01:04:03.778Z"
      },
      {
        "duration": 8783,
        "start_time": "2021-06-15T01:04:14.331Z"
      },
      {
        "duration": 732,
        "start_time": "2021-06-15T01:04:54.144Z"
      },
      {
        "duration": 1961,
        "start_time": "2021-06-15T01:05:14.109Z"
      },
      {
        "duration": 773,
        "start_time": "2021-06-15T01:05:16.073Z"
      },
      {
        "duration": 6,
        "start_time": "2021-06-15T01:06:20.712Z"
      },
      {
        "duration": 5,
        "start_time": "2021-06-15T01:06:21.406Z"
      },
      {
        "duration": 1944,
        "start_time": "2021-06-15T01:06:31.703Z"
      },
      {
        "duration": 737,
        "start_time": "2021-06-15T01:06:37.307Z"
      },
      {
        "duration": 1973,
        "start_time": "2021-06-15T01:06:51.310Z"
      },
      {
        "duration": 714,
        "start_time": "2021-06-15T01:06:53.285Z"
      },
      {
        "duration": 14,
        "start_time": "2021-06-15T01:07:06.775Z"
      },
      {
        "duration": 8511,
        "start_time": "2021-06-15T01:07:18.829Z"
      },
      {
        "duration": 14,
        "start_time": "2021-06-15T01:07:45.560Z"
      },
      {
        "duration": 7,
        "start_time": "2021-06-15T01:08:19.825Z"
      },
      {
        "duration": 1971,
        "start_time": "2021-06-15T01:08:48.850Z"
      },
      {
        "duration": 726,
        "start_time": "2021-06-15T01:08:51.004Z"
      },
      {
        "duration": 1953,
        "start_time": "2021-06-15T01:09:18.474Z"
      },
      {
        "duration": 6,
        "start_time": "2021-06-15T01:09:20.430Z"
      },
      {
        "duration": 5,
        "start_time": "2021-06-15T01:10:09.332Z"
      },
      {
        "duration": 851,
        "start_time": "2021-06-15T01:10:11.215Z"
      },
      {
        "duration": 898,
        "start_time": "2021-06-15T01:10:47.656Z"
      },
      {
        "duration": 841,
        "start_time": "2021-06-15T01:11:01.425Z"
      },
      {
        "duration": 6,
        "start_time": "2021-06-15T01:11:09.078Z"
      },
      {
        "duration": 883,
        "start_time": "2021-06-15T01:11:09.826Z"
      },
      {
        "duration": 6,
        "start_time": "2021-06-15T01:12:55.155Z"
      },
      {
        "duration": 6,
        "start_time": "2021-06-15T01:13:03.017Z"
      },
      {
        "duration": 5,
        "start_time": "2021-06-15T01:13:04.466Z"
      },
      {
        "duration": 5,
        "start_time": "2021-06-15T01:13:12.206Z"
      },
      {
        "duration": 95743,
        "start_time": "2021-06-15T01:13:14.470Z"
      },
      {
        "duration": 413,
        "start_time": "2021-06-15T01:15:06.634Z"
      },
      {
        "duration": 5,
        "start_time": "2021-06-15T01:15:08.371Z"
      },
      {
        "duration": 3882,
        "start_time": "2021-06-15T01:15:26.887Z"
      },
      {
        "duration": 752,
        "start_time": "2021-06-15T01:15:30.771Z"
      },
      {
        "duration": 3876,
        "start_time": "2021-06-15T01:15:34.774Z"
      },
      {
        "duration": 686,
        "start_time": "2021-06-15T01:15:38.652Z"
      },
      {
        "duration": 1985,
        "start_time": "2021-06-15T01:16:01.993Z"
      },
      {
        "duration": 666,
        "start_time": "2021-06-15T01:16:03.981Z"
      },
      {
        "duration": 415,
        "start_time": "2021-06-15T01:16:17.938Z"
      },
      {
        "duration": 689,
        "start_time": "2021-06-15T01:16:18.439Z"
      },
      {
        "duration": 416,
        "start_time": "2021-06-15T01:16:52.580Z"
      },
      {
        "duration": 675,
        "start_time": "2021-06-15T01:16:53.621Z"
      },
      {
        "duration": 417,
        "start_time": "2021-06-15T01:16:58.390Z"
      },
      {
        "duration": 707,
        "start_time": "2021-06-15T01:16:58.895Z"
      },
      {
        "duration": 8,
        "start_time": "2021-06-15T01:17:58.970Z"
      },
      {
        "duration": 5,
        "start_time": "2021-06-15T01:18:00.047Z"
      },
      {
        "duration": 5,
        "start_time": "2021-06-15T01:18:10.393Z"
      },
      {
        "duration": 867,
        "start_time": "2021-06-15T01:18:12.460Z"
      },
      {
        "duration": 5,
        "start_time": "2021-06-15T01:18:17.725Z"
      },
      {
        "duration": 898,
        "start_time": "2021-06-15T01:18:18.388Z"
      },
      {
        "duration": 875,
        "start_time": "2021-06-15T01:18:44.004Z"
      },
      {
        "duration": 5,
        "start_time": "2021-06-15T01:19:20.598Z"
      },
      {
        "duration": 882,
        "start_time": "2021-06-15T01:19:21.260Z"
      },
      {
        "duration": 5,
        "start_time": "2021-06-15T01:19:37.883Z"
      },
      {
        "duration": 886,
        "start_time": "2021-06-15T01:19:38.433Z"
      },
      {
        "duration": 1516,
        "start_time": "2021-06-15T01:20:15.082Z"
      },
      {
        "duration": 6,
        "start_time": "2021-06-15T01:20:50.293Z"
      },
      {
        "duration": 5,
        "start_time": "2021-06-15T01:20:51.122Z"
      },
      {
        "duration": 725,
        "start_time": "2021-06-15T01:21:24.567Z"
      },
      {
        "duration": 1495,
        "start_time": "2021-06-15T01:21:42.301Z"
      },
      {
        "duration": 1567,
        "start_time": "2021-06-15T01:22:41.176Z"
      },
      {
        "duration": 1034,
        "start_time": "2021-06-15T01:22:42.746Z"
      },
      {
        "duration": 10,
        "start_time": "2021-06-15T01:22:43.783Z"
      },
      {
        "duration": 708,
        "start_time": "2021-06-15T01:22:43.796Z"
      },
      {
        "duration": 625,
        "start_time": "2021-06-15T01:22:44.506Z"
      },
      {
        "duration": 339,
        "start_time": "2021-06-15T01:22:45.134Z"
      },
      {
        "duration": 5,
        "start_time": "2021-06-15T01:22:45.475Z"
      },
      {
        "duration": 826,
        "start_time": "2021-06-15T01:22:45.484Z"
      },
      {
        "duration": 21,
        "start_time": "2021-06-15T01:22:46.313Z"
      },
      {
        "duration": 14,
        "start_time": "2021-06-15T01:22:46.337Z"
      },
      {
        "duration": 38,
        "start_time": "2021-06-15T01:22:46.354Z"
      },
      {
        "duration": 333,
        "start_time": "2021-06-15T01:22:46.395Z"
      },
      {
        "duration": 6,
        "start_time": "2021-06-15T01:22:46.730Z"
      },
      {
        "duration": 16,
        "start_time": "2021-06-15T01:22:46.738Z"
      },
      {
        "duration": 1909,
        "start_time": "2021-06-15T01:22:46.756Z"
      },
      {
        "duration": 91,
        "start_time": "2021-06-15T01:22:48.667Z"
      },
      {
        "duration": 1797,
        "start_time": "2021-06-15T01:22:48.761Z"
      },
      {
        "duration": 1550,
        "start_time": "2021-06-15T01:22:50.561Z"
      },
      {
        "duration": 1516,
        "start_time": "2021-06-15T01:22:52.113Z"
      },
      {
        "duration": 1131,
        "start_time": "2021-06-15T01:22:53.632Z"
      },
      {
        "duration": 1043,
        "start_time": "2021-06-15T01:22:54.765Z"
      },
      {
        "duration": 1005,
        "start_time": "2021-06-15T01:22:55.811Z"
      },
      {
        "duration": 1026,
        "start_time": "2021-06-15T01:22:56.825Z"
      },
      {
        "duration": 1078,
        "start_time": "2021-06-15T01:22:57.855Z"
      },
      {
        "duration": 8,
        "start_time": "2021-06-15T01:22:58.936Z"
      },
      {
        "duration": 48,
        "start_time": "2021-06-15T01:22:58.946Z"
      },
      {
        "duration": 1372,
        "start_time": "2021-06-15T01:22:58.997Z"
      },
      {
        "duration": 26,
        "start_time": "2021-06-15T01:23:00.371Z"
      },
      {
        "duration": 108,
        "start_time": "2021-06-15T01:23:00.400Z"
      },
      {
        "duration": 53,
        "start_time": "2021-06-15T01:23:00.511Z"
      },
      {
        "duration": 92,
        "start_time": "2021-06-15T01:23:00.567Z"
      },
      {
        "duration": 1317,
        "start_time": "2021-06-15T01:23:00.662Z"
      },
      {
        "duration": 6,
        "start_time": "2021-06-15T01:23:01.982Z"
      },
      {
        "duration": 9,
        "start_time": "2021-06-15T01:23:01.991Z"
      },
      {
        "duration": 44,
        "start_time": "2021-06-15T01:23:02.003Z"
      },
      {
        "duration": 36,
        "start_time": "2021-06-15T01:23:02.050Z"
      },
      {
        "duration": 37,
        "start_time": "2021-06-15T01:23:02.088Z"
      },
      {
        "duration": 11,
        "start_time": "2021-06-15T01:23:02.128Z"
      },
      {
        "duration": 1772,
        "start_time": "2021-06-15T01:23:02.142Z"
      },
      {
        "duration": -3903,
        "start_time": "2021-06-15T01:23:07.819Z"
      },
      {
        "duration": -3908,
        "start_time": "2021-06-15T01:23:07.826Z"
      },
      {
        "duration": -3914,
        "start_time": "2021-06-15T01:23:07.833Z"
      },
      {
        "duration": -3917,
        "start_time": "2021-06-15T01:23:07.837Z"
      },
      {
        "duration": -3921,
        "start_time": "2021-06-15T01:23:07.843Z"
      },
      {
        "duration": -3924,
        "start_time": "2021-06-15T01:23:07.847Z"
      },
      {
        "duration": 7,
        "start_time": "2021-06-15T01:24:03.588Z"
      },
      {
        "duration": 5,
        "start_time": "2021-06-15T01:24:04.828Z"
      },
      {
        "duration": 1473,
        "start_time": "2021-06-15T01:24:14.866Z"
      },
      {
        "duration": 1357,
        "start_time": "2021-06-15T01:24:16.341Z"
      },
      {
        "duration": 11,
        "start_time": "2021-06-15T01:24:17.701Z"
      },
      {
        "duration": 710,
        "start_time": "2021-06-15T01:24:17.715Z"
      },
      {
        "duration": 606,
        "start_time": "2021-06-15T01:24:18.427Z"
      },
      {
        "duration": 334,
        "start_time": "2021-06-15T01:24:19.035Z"
      },
      {
        "duration": 5,
        "start_time": "2021-06-15T01:24:19.371Z"
      },
      {
        "duration": 903,
        "start_time": "2021-06-15T01:24:19.380Z"
      },
      {
        "duration": 12,
        "start_time": "2021-06-15T01:24:20.286Z"
      },
      {
        "duration": 25,
        "start_time": "2021-06-15T01:24:20.300Z"
      },
      {
        "duration": 22,
        "start_time": "2021-06-15T01:24:20.327Z"
      },
      {
        "duration": 351,
        "start_time": "2021-06-15T01:24:20.351Z"
      },
      {
        "duration": 5,
        "start_time": "2021-06-15T01:24:20.705Z"
      },
      {
        "duration": 18,
        "start_time": "2021-06-15T01:24:20.712Z"
      },
      {
        "duration": 1833,
        "start_time": "2021-06-15T01:24:20.732Z"
      },
      {
        "duration": 91,
        "start_time": "2021-06-15T01:24:22.567Z"
      },
      {
        "duration": 1625,
        "start_time": "2021-06-15T01:24:22.661Z"
      },
      {
        "duration": 1537,
        "start_time": "2021-06-15T01:24:24.288Z"
      },
      {
        "duration": 1549,
        "start_time": "2021-06-15T01:24:25.827Z"
      },
      {
        "duration": 1230,
        "start_time": "2021-06-15T01:24:27.379Z"
      },
      {
        "duration": 1114,
        "start_time": "2021-06-15T01:24:28.611Z"
      },
      {
        "duration": 999,
        "start_time": "2021-06-15T01:24:29.728Z"
      },
      {
        "duration": 987,
        "start_time": "2021-06-15T01:24:30.733Z"
      },
      {
        "duration": 1300,
        "start_time": "2021-06-15T01:24:31.725Z"
      },
      {
        "duration": 7,
        "start_time": "2021-06-15T01:24:33.027Z"
      },
      {
        "duration": 41,
        "start_time": "2021-06-15T01:24:33.036Z"
      },
      {
        "duration": 1322,
        "start_time": "2021-06-15T01:24:33.080Z"
      },
      {
        "duration": 34,
        "start_time": "2021-06-15T01:24:34.404Z"
      },
      {
        "duration": 100,
        "start_time": "2021-06-15T01:24:34.441Z"
      },
      {
        "duration": 40,
        "start_time": "2021-06-15T01:24:34.544Z"
      },
      {
        "duration": 98,
        "start_time": "2021-06-15T01:24:34.586Z"
      },
      {
        "duration": 1320,
        "start_time": "2021-06-15T01:24:34.687Z"
      },
      {
        "duration": 16,
        "start_time": "2021-06-15T01:24:36.009Z"
      },
      {
        "duration": 5,
        "start_time": "2021-06-15T01:24:36.027Z"
      },
      {
        "duration": 23,
        "start_time": "2021-06-15T01:24:36.034Z"
      },
      {
        "duration": 66,
        "start_time": "2021-06-15T01:24:36.060Z"
      },
      {
        "duration": 12,
        "start_time": "2021-06-15T01:24:36.129Z"
      },
      {
        "duration": 7,
        "start_time": "2021-06-15T01:24:36.143Z"
      },
      {
        "duration": 2877,
        "start_time": "2021-06-15T01:24:36.153Z"
      },
      {
        "duration": 16021,
        "start_time": "2021-06-15T01:24:39.033Z"
      },
      {
        "duration": 1517,
        "start_time": "2021-06-15T01:27:48.185Z"
      },
      {
        "duration": 1033,
        "start_time": "2021-06-15T01:27:49.705Z"
      },
      {
        "duration": 11,
        "start_time": "2021-06-15T01:27:50.741Z"
      },
      {
        "duration": 710,
        "start_time": "2021-06-15T01:27:50.755Z"
      },
      {
        "duration": 613,
        "start_time": "2021-06-15T01:27:51.467Z"
      },
      {
        "duration": 368,
        "start_time": "2021-06-15T01:27:52.083Z"
      },
      {
        "duration": 5,
        "start_time": "2021-06-15T01:27:52.454Z"
      },
      {
        "duration": 888,
        "start_time": "2021-06-15T01:27:52.465Z"
      },
      {
        "duration": 12,
        "start_time": "2021-06-15T01:27:53.358Z"
      },
      {
        "duration": 9,
        "start_time": "2021-06-15T01:27:53.372Z"
      },
      {
        "duration": 49,
        "start_time": "2021-06-15T01:27:53.383Z"
      },
      {
        "duration": 344,
        "start_time": "2021-06-15T01:27:53.434Z"
      },
      {
        "duration": 7,
        "start_time": "2021-06-15T01:27:53.780Z"
      },
      {
        "duration": 35,
        "start_time": "2021-06-15T01:27:53.790Z"
      },
      {
        "duration": 1809,
        "start_time": "2021-06-15T01:27:53.828Z"
      },
      {
        "duration": 100,
        "start_time": "2021-06-15T01:27:55.639Z"
      },
      {
        "duration": 1610,
        "start_time": "2021-06-15T01:27:55.742Z"
      },
      {
        "duration": 1744,
        "start_time": "2021-06-15T01:27:57.354Z"
      },
      {
        "duration": 1799,
        "start_time": "2021-06-15T01:27:59.100Z"
      },
      {
        "duration": 1212,
        "start_time": "2021-06-15T01:28:00.902Z"
      },
      {
        "duration": 1133,
        "start_time": "2021-06-15T01:28:02.116Z"
      },
      {
        "duration": 1048,
        "start_time": "2021-06-15T01:28:03.251Z"
      },
      {
        "duration": 1125,
        "start_time": "2021-06-15T01:28:04.304Z"
      },
      {
        "duration": 1122,
        "start_time": "2021-06-15T01:28:05.432Z"
      },
      {
        "duration": 6,
        "start_time": "2021-06-15T01:28:06.557Z"
      },
      {
        "duration": 38,
        "start_time": "2021-06-15T01:28:06.565Z"
      },
      {
        "duration": 1229,
        "start_time": "2021-06-15T01:28:06.605Z"
      },
      {
        "duration": 28,
        "start_time": "2021-06-15T01:28:07.837Z"
      },
      {
        "duration": 115,
        "start_time": "2021-06-15T01:28:07.868Z"
      },
      {
        "duration": 61,
        "start_time": "2021-06-15T01:28:07.986Z"
      },
      {
        "duration": 101,
        "start_time": "2021-06-15T01:28:08.050Z"
      },
      {
        "duration": 1337,
        "start_time": "2021-06-15T01:28:08.154Z"
      },
      {
        "duration": 6,
        "start_time": "2021-06-15T01:28:09.494Z"
      },
      {
        "duration": 24,
        "start_time": "2021-06-15T01:28:09.502Z"
      },
      {
        "duration": 32,
        "start_time": "2021-06-15T01:28:09.529Z"
      },
      {
        "duration": 36,
        "start_time": "2021-06-15T01:28:09.564Z"
      },
      {
        "duration": 28,
        "start_time": "2021-06-15T01:28:09.603Z"
      },
      {
        "duration": 17,
        "start_time": "2021-06-15T01:28:09.634Z"
      },
      {
        "duration": 2477,
        "start_time": "2021-06-15T01:28:09.654Z"
      },
      {
        "duration": 15185,
        "start_time": "2021-06-15T01:28:12.134Z"
      },
      {
        "duration": 848021,
        "start_time": "2021-06-15T01:28:27.326Z"
      },
      {
        "duration": 4,
        "start_time": "2021-06-15T01:42:35.350Z"
      },
      {
        "duration": 98295,
        "start_time": "2021-06-15T01:42:35.356Z"
      },
      {
        "duration": 435,
        "start_time": "2021-06-15T01:44:13.653Z"
      },
      {
        "duration": 7,
        "start_time": "2021-06-15T01:44:14.090Z"
      },
      {
        "duration": 3858,
        "start_time": "2021-06-15T03:19:37.517Z"
      },
      {
        "duration": 5,
        "start_time": "2021-06-15T03:19:41.378Z"
      },
      {
        "duration": 2039,
        "start_time": "2021-06-15T03:20:04.824Z"
      },
      {
        "duration": 5,
        "start_time": "2021-06-15T03:20:06.865Z"
      },
      {
        "duration": 420,
        "start_time": "2021-06-15T03:20:18.391Z"
      },
      {
        "duration": 6,
        "start_time": "2021-06-15T03:20:23.682Z"
      },
      {
        "duration": 5,
        "start_time": "2021-06-15T03:20:50.208Z"
      },
      {
        "duration": 269533,
        "start_time": "2021-06-15T03:20:51.840Z"
      },
      {
        "duration": 179135,
        "start_time": "2021-06-15T03:30:46.771Z"
      },
      {
        "duration": 5,
        "start_time": "2021-06-15T03:33:45.909Z"
      },
      {
        "duration": 106160,
        "start_time": "2021-06-15T03:34:01.410Z"
      },
      {
        "duration": 6,
        "start_time": "2021-06-15T03:35:47.573Z"
      },
      {
        "duration": 4,
        "start_time": "2021-06-15T03:36:10.935Z"
      },
      {
        "duration": 520,
        "start_time": "2021-06-15T03:36:12.719Z"
      },
      {
        "duration": 5,
        "start_time": "2021-06-15T03:36:53.735Z"
      },
      {
        "duration": 37714,
        "start_time": "2021-06-15T03:36:54.705Z"
      },
      {
        "duration": 410,
        "start_time": "2021-06-15T03:38:03.667Z"
      },
      {
        "duration": 5,
        "start_time": "2021-06-15T03:38:05.156Z"
      },
      {
        "duration": 5,
        "start_time": "2021-06-15T03:41:34.855Z"
      },
      {
        "duration": 442,
        "start_time": "2021-06-15T03:41:35.805Z"
      },
      {
        "duration": 5,
        "start_time": "2021-06-15T03:42:00.009Z"
      },
      {
        "duration": 510556,
        "start_time": "2021-06-15T03:42:00.816Z"
      },
      {
        "duration": 410,
        "start_time": "2021-06-15T04:15:13.545Z"
      },
      {
        "duration": 5,
        "start_time": "2021-06-15T04:15:14.497Z"
      },
      {
        "duration": 407,
        "start_time": "2021-06-15T04:15:25.994Z"
      },
      {
        "duration": 5,
        "start_time": "2021-06-15T04:15:28.166Z"
      },
      {
        "duration": 409,
        "start_time": "2021-06-15T05:18:11.599Z"
      },
      {
        "duration": 5,
        "start_time": "2021-06-15T05:18:12.884Z"
      },
      {
        "duration": 414,
        "start_time": "2021-06-15T05:18:23.758Z"
      },
      {
        "duration": 5,
        "start_time": "2021-06-15T05:18:24.273Z"
      },
      {
        "duration": 418,
        "start_time": "2021-06-15T05:18:37.087Z"
      },
      {
        "duration": 5,
        "start_time": "2021-06-15T05:18:37.728Z"
      },
      {
        "duration": 413,
        "start_time": "2021-06-15T05:18:55.254Z"
      },
      {
        "duration": 6,
        "start_time": "2021-06-15T05:18:55.790Z"
      },
      {
        "duration": 2727,
        "start_time": "2021-06-15T05:19:06.956Z"
      },
      {
        "duration": 6,
        "start_time": "2021-06-15T05:19:09.685Z"
      },
      {
        "duration": 2739,
        "start_time": "2021-06-15T05:19:19.710Z"
      },
      {
        "duration": 6,
        "start_time": "2021-06-15T05:19:22.452Z"
      },
      {
        "duration": 411,
        "start_time": "2021-06-15T05:19:30.514Z"
      },
      {
        "duration": 6,
        "start_time": "2021-06-15T05:19:31.008Z"
      },
      {
        "duration": 372,
        "start_time": "2021-06-15T23:28:28.272Z"
      },
      {
        "duration": 6,
        "start_time": "2021-06-15T23:28:37.779Z"
      },
      {
        "duration": 5,
        "start_time": "2021-06-15T23:28:44.881Z"
      },
      {
        "duration": 346,
        "start_time": "2021-06-15T23:29:01.477Z"
      },
      {
        "duration": 6,
        "start_time": "2021-06-15T23:29:02.649Z"
      },
      {
        "duration": 43,
        "start_time": "2021-06-15T23:29:58.299Z"
      },
      {
        "duration": 7,
        "start_time": "2021-06-15T23:30:02.018Z"
      },
      {
        "duration": 3176,
        "start_time": "2021-06-15T23:30:03.554Z"
      },
      {
        "duration": 15197,
        "start_time": "2021-06-15T23:30:14.381Z"
      },
      {
        "duration": 876323,
        "start_time": "2021-06-15T23:30:29.581Z"
      },
      {
        "duration": 5,
        "start_time": "2021-06-15T23:45:05.907Z"
      },
      {
        "duration": 534251,
        "start_time": "2021-06-15T23:45:05.926Z"
      },
      {
        "duration": 211,
        "start_time": "2021-06-16T22:24:39.013Z"
      },
      {
        "duration": 188,
        "start_time": "2021-06-16T22:24:40.856Z"
      },
      {
        "duration": 1072,
        "start_time": "2021-06-16T22:24:54.500Z"
      },
      {
        "duration": 818,
        "start_time": "2021-06-16T22:24:55.574Z"
      },
      {
        "duration": 7,
        "start_time": "2021-06-16T22:24:56.394Z"
      },
      {
        "duration": 414,
        "start_time": "2021-06-16T22:24:56.402Z"
      },
      {
        "duration": 342,
        "start_time": "2021-06-16T22:24:56.817Z"
      },
      {
        "duration": 200,
        "start_time": "2021-06-16T22:24:57.160Z"
      },
      {
        "duration": 2,
        "start_time": "2021-06-16T22:24:57.362Z"
      },
      {
        "duration": 457,
        "start_time": "2021-06-16T22:24:57.385Z"
      },
      {
        "duration": 8,
        "start_time": "2021-06-16T22:24:57.844Z"
      },
      {
        "duration": 7,
        "start_time": "2021-06-16T22:24:57.853Z"
      },
      {
        "duration": 28,
        "start_time": "2021-06-16T22:24:57.862Z"
      },
      {
        "duration": 200,
        "start_time": "2021-06-16T22:24:57.891Z"
      },
      {
        "duration": 4,
        "start_time": "2021-06-16T22:24:58.093Z"
      },
      {
        "duration": 7,
        "start_time": "2021-06-16T22:24:58.099Z"
      },
      {
        "duration": 1081,
        "start_time": "2021-06-16T22:24:58.108Z"
      },
      {
        "duration": 48,
        "start_time": "2021-06-16T22:24:59.191Z"
      },
      {
        "duration": 999,
        "start_time": "2021-06-16T22:24:59.240Z"
      },
      {
        "duration": 945,
        "start_time": "2021-06-16T22:25:00.240Z"
      },
      {
        "duration": 952,
        "start_time": "2021-06-16T22:25:01.186Z"
      },
      {
        "duration": 719,
        "start_time": "2021-06-16T22:25:02.139Z"
      },
      {
        "duration": 611,
        "start_time": "2021-06-16T22:25:02.860Z"
      },
      {
        "duration": 596,
        "start_time": "2021-06-16T22:25:03.473Z"
      },
      {
        "duration": 603,
        "start_time": "2021-06-16T22:25:04.073Z"
      },
      {
        "duration": 618,
        "start_time": "2021-06-16T22:25:04.680Z"
      },
      {
        "duration": 4,
        "start_time": "2021-06-16T22:25:05.300Z"
      },
      {
        "duration": 31,
        "start_time": "2021-06-16T22:25:05.306Z"
      },
      {
        "duration": 728,
        "start_time": "2021-06-16T22:25:05.338Z"
      },
      {
        "duration": 27,
        "start_time": "2021-06-16T22:25:06.067Z"
      },
      {
        "duration": 63,
        "start_time": "2021-06-16T22:25:06.096Z"
      },
      {
        "duration": 43,
        "start_time": "2021-06-16T22:25:06.161Z"
      },
      {
        "duration": 53,
        "start_time": "2021-06-16T22:25:06.206Z"
      },
      {
        "duration": 824,
        "start_time": "2021-06-16T22:25:06.261Z"
      },
      {
        "duration": 4,
        "start_time": "2021-06-16T22:25:07.086Z"
      },
      {
        "duration": 7,
        "start_time": "2021-06-16T22:25:07.092Z"
      },
      {
        "duration": 16,
        "start_time": "2021-06-16T22:25:07.101Z"
      },
      {
        "duration": 26,
        "start_time": "2021-06-16T22:25:07.119Z"
      },
      {
        "duration": 9,
        "start_time": "2021-06-16T22:25:07.146Z"
      },
      {
        "duration": 61,
        "start_time": "2021-06-16T22:25:07.157Z"
      },
      {
        "duration": 4,
        "start_time": "2021-06-16T22:25:07.219Z"
      },
      {
        "duration": 2563,
        "start_time": "2021-06-16T22:25:07.225Z"
      },
      {
        "duration": 11244,
        "start_time": "2021-06-16T22:25:09.790Z"
      },
      {
        "duration": 624032,
        "start_time": "2021-06-16T22:25:21.036Z"
      },
      {
        "duration": 4,
        "start_time": "2021-06-16T22:35:45.070Z"
      },
      {
        "duration": 377983,
        "start_time": "2021-06-16T22:35:45.084Z"
      },
      {
        "duration": 322,
        "start_time": "2021-06-16T22:42:03.068Z"
      },
      {
        "duration": 3,
        "start_time": "2021-06-16T22:42:03.392Z"
      },
      {
        "duration": 1039,
        "start_time": "2021-06-16T23:21:36.892Z"
      },
      {
        "duration": 803,
        "start_time": "2021-06-16T23:21:37.933Z"
      },
      {
        "duration": 7,
        "start_time": "2021-06-16T23:21:38.738Z"
      },
      {
        "duration": 417,
        "start_time": "2021-06-16T23:21:38.747Z"
      },
      {
        "duration": 356,
        "start_time": "2021-06-16T23:21:39.165Z"
      },
      {
        "duration": 186,
        "start_time": "2021-06-16T23:21:39.523Z"
      },
      {
        "duration": 3,
        "start_time": "2021-06-16T23:21:39.710Z"
      },
      {
        "duration": 476,
        "start_time": "2021-06-16T23:21:39.715Z"
      },
      {
        "duration": 8,
        "start_time": "2021-06-16T23:21:40.193Z"
      },
      {
        "duration": 6,
        "start_time": "2021-06-16T23:21:40.202Z"
      },
      {
        "duration": 17,
        "start_time": "2021-06-16T23:21:40.209Z"
      },
      {
        "duration": 211,
        "start_time": "2021-06-16T23:21:40.227Z"
      },
      {
        "duration": 4,
        "start_time": "2021-06-16T23:21:40.440Z"
      },
      {
        "duration": 6,
        "start_time": "2021-06-16T23:21:40.446Z"
      },
      {
        "duration": 1072,
        "start_time": "2021-06-16T23:21:40.454Z"
      },
      {
        "duration": 59,
        "start_time": "2021-06-16T23:21:41.528Z"
      },
      {
        "duration": 967,
        "start_time": "2021-06-16T23:21:41.589Z"
      },
      {
        "duration": 918,
        "start_time": "2021-06-16T23:21:42.558Z"
      },
      {
        "duration": 918,
        "start_time": "2021-06-16T23:21:43.484Z"
      },
      {
        "duration": 662,
        "start_time": "2021-06-16T23:21:44.403Z"
      },
      {
        "duration": 576,
        "start_time": "2021-06-16T23:21:45.066Z"
      },
      {
        "duration": 541,
        "start_time": "2021-06-16T23:21:45.644Z"
      },
      {
        "duration": 552,
        "start_time": "2021-06-16T23:21:46.189Z"
      },
      {
        "duration": 579,
        "start_time": "2021-06-16T23:21:46.743Z"
      },
      {
        "duration": 4,
        "start_time": "2021-06-16T23:21:47.324Z"
      },
      {
        "duration": 33,
        "start_time": "2021-06-16T23:21:47.330Z"
      },
      {
        "duration": 713,
        "start_time": "2021-06-16T23:21:47.365Z"
      },
      {
        "duration": 21,
        "start_time": "2021-06-16T23:21:48.080Z"
      },
      {
        "duration": 65,
        "start_time": "2021-06-16T23:21:48.102Z"
      },
      {
        "duration": 27,
        "start_time": "2021-06-16T23:21:48.184Z"
      },
      {
        "duration": 72,
        "start_time": "2021-06-16T23:21:48.213Z"
      },
      {
        "duration": 784,
        "start_time": "2021-06-16T23:21:48.286Z"
      },
      {
        "duration": 4,
        "start_time": "2021-06-16T23:21:49.071Z"
      },
      {
        "duration": 3,
        "start_time": "2021-06-16T23:21:49.084Z"
      },
      {
        "duration": 15,
        "start_time": "2021-06-16T23:21:49.089Z"
      },
      {
        "duration": 22,
        "start_time": "2021-06-16T23:21:49.106Z"
      },
      {
        "duration": 8,
        "start_time": "2021-06-16T23:21:49.129Z"
      },
      {
        "duration": 10,
        "start_time": "2021-06-16T23:21:49.139Z"
      },
      {
        "duration": 2538,
        "start_time": "2021-06-16T23:21:49.150Z"
      },
      {
        "duration": 11082,
        "start_time": "2021-06-16T23:21:51.692Z"
      },
      {
        "duration": 613356,
        "start_time": "2021-06-16T23:22:02.775Z"
      },
      {
        "duration": 3,
        "start_time": "2021-06-16T23:32:16.133Z"
      },
      {
        "duration": 374857,
        "start_time": "2021-06-16T23:32:16.138Z"
      },
      {
        "duration": 320,
        "start_time": "2021-06-16T23:38:30.997Z"
      },
      {
        "duration": 4,
        "start_time": "2021-06-16T23:38:31.318Z"
      },
      {
        "duration": 4,
        "start_time": "2021-06-17T19:28:22.401Z"
      },
      {
        "duration": 784369,
        "start_time": "2021-06-17T19:28:24.131Z"
      },
      {
        "duration": 1221,
        "start_time": "2021-06-17T19:44:43.205Z"
      },
      {
        "duration": 4,
        "start_time": "2021-06-17T19:44:44.756Z"
      },
      {
        "duration": 1230,
        "start_time": "2021-06-17T19:44:53.847Z"
      },
      {
        "duration": 4,
        "start_time": "2021-06-17T19:44:55.822Z"
      },
      {
        "duration": 3,
        "start_time": "2021-06-17T19:45:09.557Z"
      },
      {
        "duration": 1774219,
        "start_time": "2021-06-17T19:45:10.371Z"
      },
      {
        "duration": 1525,
        "start_time": "2021-06-17T20:17:02.258Z"
      },
      {
        "duration": 4,
        "start_time": "2021-06-17T20:17:03.785Z"
      },
      {
        "duration": 4,
        "start_time": "2021-06-17T20:17:21.234Z"
      },
      {
        "duration": 381836,
        "start_time": "2021-06-17T20:17:21.770Z"
      },
      {
        "duration": 304,
        "start_time": "2021-06-18T01:48:27.484Z"
      },
      {
        "duration": 5,
        "start_time": "2021-06-18T01:48:28.261Z"
      },
      {
        "duration": 995,
        "start_time": "2021-06-18T02:08:17.239Z"
      },
      {
        "duration": 813,
        "start_time": "2021-06-18T02:08:18.236Z"
      },
      {
        "duration": 7,
        "start_time": "2021-06-18T02:08:19.051Z"
      },
      {
        "duration": 411,
        "start_time": "2021-06-18T02:08:19.059Z"
      },
      {
        "duration": 352,
        "start_time": "2021-06-18T02:08:19.471Z"
      },
      {
        "duration": 194,
        "start_time": "2021-06-18T02:08:19.824Z"
      },
      {
        "duration": 3,
        "start_time": "2021-06-18T02:08:20.020Z"
      },
      {
        "duration": 466,
        "start_time": "2021-06-18T02:08:20.025Z"
      },
      {
        "duration": 7,
        "start_time": "2021-06-18T02:08:20.493Z"
      },
      {
        "duration": 7,
        "start_time": "2021-06-18T02:08:20.502Z"
      },
      {
        "duration": 14,
        "start_time": "2021-06-18T02:08:20.510Z"
      },
      {
        "duration": 205,
        "start_time": "2021-06-18T02:08:20.526Z"
      },
      {
        "duration": 3,
        "start_time": "2021-06-18T02:08:20.733Z"
      },
      {
        "duration": 7,
        "start_time": "2021-06-18T02:08:20.738Z"
      },
      {
        "duration": 1068,
        "start_time": "2021-06-18T02:08:20.746Z"
      },
      {
        "duration": 47,
        "start_time": "2021-06-18T02:08:21.816Z"
      },
      {
        "duration": 945,
        "start_time": "2021-06-18T02:08:21.864Z"
      },
      {
        "duration": 874,
        "start_time": "2021-06-18T02:08:22.811Z"
      },
      {
        "duration": 889,
        "start_time": "2021-06-18T02:08:23.686Z"
      },
      {
        "duration": 645,
        "start_time": "2021-06-18T02:08:24.576Z"
      },
      {
        "duration": 518,
        "start_time": "2021-06-18T02:08:25.223Z"
      },
      {
        "duration": 514,
        "start_time": "2021-06-18T02:08:25.743Z"
      },
      {
        "duration": 558,
        "start_time": "2021-06-18T02:08:26.260Z"
      },
      {
        "duration": 543,
        "start_time": "2021-06-18T02:08:26.820Z"
      },
      {
        "duration": 4,
        "start_time": "2021-06-18T02:08:27.364Z"
      },
      {
        "duration": 36,
        "start_time": "2021-06-18T02:08:27.370Z"
      },
      {
        "duration": 692,
        "start_time": "2021-06-18T02:08:27.407Z"
      },
      {
        "duration": 19,
        "start_time": "2021-06-18T02:08:28.100Z"
      },
      {
        "duration": 71,
        "start_time": "2021-06-18T02:08:28.121Z"
      },
      {
        "duration": 26,
        "start_time": "2021-06-18T02:08:28.193Z"
      },
      {
        "duration": 67,
        "start_time": "2021-06-18T02:08:28.221Z"
      },
      {
        "duration": 766,
        "start_time": "2021-06-18T02:08:28.290Z"
      },
      {
        "duration": 4,
        "start_time": "2021-06-18T02:08:29.058Z"
      },
      {
        "duration": 7,
        "start_time": "2021-06-18T02:08:29.063Z"
      },
      {
        "duration": 26,
        "start_time": "2021-06-18T02:08:29.071Z"
      },
      {
        "duration": 20,
        "start_time": "2021-06-18T02:08:29.099Z"
      },
      {
        "duration": 7,
        "start_time": "2021-06-18T02:08:29.120Z"
      },
      {
        "duration": 6,
        "start_time": "2021-06-18T02:08:29.128Z"
      },
      {
        "duration": 2158,
        "start_time": "2021-06-18T02:08:29.136Z"
      },
      {
        "duration": 10942,
        "start_time": "2021-06-18T02:08:31.386Z"
      },
      {
        "duration": 612583,
        "start_time": "2021-06-18T02:08:42.330Z"
      },
      {
        "duration": 4,
        "start_time": "2021-06-18T02:18:54.914Z"
      },
      {
        "duration": 375187,
        "start_time": "2021-06-18T02:18:54.919Z"
      },
      {
        "duration": 331,
        "start_time": "2021-06-18T02:25:10.108Z"
      },
      {
        "duration": 3,
        "start_time": "2021-06-18T02:25:10.441Z"
      }
    ],
    "colab": {
      "name": "CMD_Integrated_Project_2",
      "provenance": [],
      "collapsed_sections": [],
      "toc_visible": true
    },
    "kernelspec": {
      "display_name": "Python 3",
      "language": "python",
      "name": "python3"
    },
    "language_info": {
      "codemirror_mode": {
        "name": "ipython",
        "version": 3
      },
      "file_extension": ".py",
      "mimetype": "text/x-python",
      "name": "python",
      "nbconvert_exporter": "python",
      "pygments_lexer": "ipython3",
      "version": "3.7.8"
    },
    "toc": {
      "base_numbering": 1,
      "nav_menu": {},
      "number_sections": false,
      "sideBar": true,
      "skip_h1_title": false,
      "title_cell": "Table of Contents",
      "title_sidebar": "Contents",
      "toc_cell": true,
      "toc_position": {
        "height": "calc(100% - 180px)",
        "left": "10px",
        "top": "150px",
        "width": "241px"
      },
      "toc_section_display": true,
      "toc_window_display": true
    }
  },
  "cells": [
    {
      "cell_type": "markdown",
      "metadata": {
        "id": "nkcKvUIr8sMV"
      },
      "source": [
        "# Gold Recovery Project\n",
        "\n",
        "> The company *Zyfra* develops solutions for the efficient operation of industrial plants. The company needs a machine-learning model to help optimize production to avoid launching enterprises with unprofitable characteristics. The company needs a machine learning model to predict the recovery rate of gold from gold ore.\n",
        "\n",
        "- toc: true\n",
        "- badges: true\n",
        "- comments: true\n",
        "- categories: [jupyter, pandas, numpy, mathplotlib, scikit-learn]\n",
        "- image: images/gold_recovery.jpg"
      ]
    },
    {
      "cell_type": "markdown",
      "metadata": {
        "id": "ga2HogTn05u4"
      },
      "source": [
        "# Project Description\n",
        "\n",
        "---\n",
        "\n",
        "Optimize the work of a gold-mining company by predicting amount of gold extracted.\n",
        "\n",
        "Train a model which can predict the amount of gold extracted from gold ore based on extraction and purification data.\n",
        "\n",
        "The data is stored in three files:\n",
        "* `gold_recovery_train.csv` — training dataset \n",
        "* `gold_recovery_test.csv` — test dataset\n",
        "* `gold_recovery_full.csv` — source dataset\n",
        "\n",
        "Data is indexed with the date and time of acquisition (`date` feature). Parameters that are next to each other in terms of time are often similar.\n",
        "Some parameters are not available because they were measured and/or calculated much later. That's why, some of the features that are present in the training set may be absent from the test set. The test set also doesn't contain targets.\n",
        "\n",
        "The source dataset contains the training and test sets with all the features."
      ]
    },
    {
      "cell_type": "markdown",
      "metadata": {
        "id": "NAnnj2OD-C8y"
      },
      "source": [
        "## Technological process\n",
        "\n",
        "---\n",
        "\n",
        "When the mined ore undergoes primary processing, a crushed mixture is obtained. It is sent for flotation (enrichment) and two-stage purification:\n",
        "\n",
        "1. Flotation - A mixture of gold-bearing ore is fed into the flotation plant. After beneficiation, a rough concentrate and \"tailings\", i.e. product leftovers with a low concentration of valuable metals, are obtained. The stability of this process is affected by the inconsistent and non-optimal physical and chemical state of the flotation slurry (mixture of solid particles and liquid).\n",
        "\n",
        "2. Purification - The crude concentrate undergoes two purifications. The output is the final concentrate and new tailings."
      ]
    },
    {
      "cell_type": "markdown",
      "metadata": {
        "id": "GF0eGWdb8hHO"
      },
      "source": [
        "# Import Libraries"
      ]
    },
    {
      "cell_type": "code",
      "metadata": {
        "id": "iByZO0LT4dVX"
      },
      "source": [
        "# Import in libraries to use in project\n",
        "\n",
        "import pandas as pd\n",
        "import numpy as np\n",
        "import matplotlib.pyplot as plt\n",
        "from scipy import stats as st\n",
        "\n",
        "from sklearn.metrics import mean_absolute_error, make_scorer\n",
        "from sklearn.model_selection import cross_val_score, GridSearchCV, KFold\n",
        "from sklearn.multioutput import MultiOutputRegressor\n",
        "from sklearn.linear_model import LinearRegression\n",
        "from sklearn.tree import DecisionTreeRegressor\n",
        "from sklearn.ensemble import RandomForestRegressor\n",
        "\n",
        "RANDOM_STATE = 42"
      ],
      "execution_count": null,
      "outputs": []
    },
    {
      "cell_type": "markdown",
      "metadata": {
        "id": "TesqiVQr8hHP"
      },
      "source": [
        "# Exploratory data analysis"
      ]
    },
    {
      "cell_type": "markdown",
      "metadata": {
        "id": "TWKpZ6l78hHP"
      },
      "source": [
        "## Load Data"
      ]
    },
    {
      "cell_type": "code",
      "metadata": {
        "id": "ar7n6jE84wW_"
      },
      "source": [
        "df_train = pd.read_csv('/datasets/gold_recovery_train.csv')\n",
        "df_test = pd.read_csv('/datasets/gold_recovery_test.csv')\n",
        "df = pd.read_csv('/datasets/gold_recovery_full.csv')"
      ],
      "execution_count": null,
      "outputs": []
    },
    {
      "cell_type": "code",
      "metadata": {
        "id": "anAjABIa5PNB"
      },
      "source": [
        "# Functions to get descriptions and info from dataframe\n",
        "\n",
        "def get_information(df):\n",
        "  \"\"\" Prints general info about the dataframe to get an idea of what it looks like\"\"\"\n",
        "  print('Head: \\n')\n",
        "  display(df.head())\n",
        "  print('*'*100, '\\n') # Prints a break to seperate print data\n",
        "  \n",
        "  print('Info: \\n')\n",
        "  display(df.info())\n",
        "  print('*'*100, '\\n')\n",
        "\n",
        "  print('Describe: \\n')\n",
        "  display(df.describe())\n",
        "  print('*'*100, '\\n')\n",
        "\n",
        "  print('Columns with nulls: \\n')\n",
        "  display(get_null_df(df,4))\n",
        "  print('*'*100, '\\n')\n",
        "\n",
        "  print('Shape: \\n')\n",
        "  display(df.shape)\n",
        "  print('*'*100, '\\n')\n",
        "\n",
        "  print('Duplicated: \\n')\n",
        "  print('Number of duplicated rows: {}'.format(df.duplicated().sum()))\n",
        "\n",
        "def get_null_df(df, num):\n",
        "  \"\"\"Gets percentage of null values per column per dataframe\"\"\"\n",
        "  df_nulls = pd.DataFrame(df.isna().sum(), columns=['missing_values'])\n",
        "  df_nulls['percent_of_nulls'] = round(df_nulls['missing_values'] / df.shape[0], num) *100\n",
        "  return df_nulls\n",
        "\n",
        "def get_null(df):\n",
        "  \"\"\"Gets percentage of null values in dataframe\"\"\"\n",
        "  count = 0\n",
        "  df = df.copy()\n",
        "  s = (df.isna().sum() / df.shape[0])\n",
        "  for column, percent in zip(s.index, s.values):\n",
        "\n",
        "    num_of_nulls = df[column].isna().sum()\n",
        "    if num_of_nulls == 0:\n",
        "      continue\n",
        "    else:\n",
        "      count += 1\n",
        "    print('Columns {} has {:.{}%} percent of Nulls, and {} number of nulls'.format(column, percent, num, num_of_nulls))\n",
        "\n",
        "    if count !=0:\n",
        "      print('Number of columns with NA: {}'.format(count))\n",
        "    else:\n",
        "      print('\\nNo NA columns found')"
      ],
      "execution_count": null,
      "outputs": []
    },
    {
      "cell_type": "code",
      "metadata": {
        "colab": {
          "base_uri": "https://localhost:8080/",
          "height": 1000
        },
        "id": "woKSZzvj5Tlg",
        "outputId": "28ba9ea4-4ce1-44de-ea3e-25d2def81d04"
      },
      "source": [
        "get_information(df)"
      ],
      "execution_count": null,
      "outputs": [
        {
          "output_type": "stream",
          "text": [
            "Head: \n",
            "\n"
          ],
          "name": "stdout"
        },
        {
          "output_type": "display_data",
          "data": {
            "text/html": [
              "<div>\n",
              "<style scoped>\n",
              "    .dataframe tbody tr th:only-of-type {\n",
              "        vertical-align: middle;\n",
              "    }\n",
              "\n",
              "    .dataframe tbody tr th {\n",
              "        vertical-align: top;\n",
              "    }\n",
              "\n",
              "    .dataframe thead th {\n",
              "        text-align: right;\n",
              "    }\n",
              "</style>\n",
              "<table border=\"1\" class=\"dataframe\">\n",
              "  <thead>\n",
              "    <tr style=\"text-align: right;\">\n",
              "      <th></th>\n",
              "      <th>date</th>\n",
              "      <th>final.output.concentrate_ag</th>\n",
              "      <th>final.output.concentrate_pb</th>\n",
              "      <th>final.output.concentrate_sol</th>\n",
              "      <th>final.output.concentrate_au</th>\n",
              "      <th>final.output.recovery</th>\n",
              "      <th>final.output.tail_ag</th>\n",
              "      <th>final.output.tail_pb</th>\n",
              "      <th>final.output.tail_sol</th>\n",
              "      <th>final.output.tail_au</th>\n",
              "      <th>...</th>\n",
              "      <th>secondary_cleaner.state.floatbank4_a_air</th>\n",
              "      <th>secondary_cleaner.state.floatbank4_a_level</th>\n",
              "      <th>secondary_cleaner.state.floatbank4_b_air</th>\n",
              "      <th>secondary_cleaner.state.floatbank4_b_level</th>\n",
              "      <th>secondary_cleaner.state.floatbank5_a_air</th>\n",
              "      <th>secondary_cleaner.state.floatbank5_a_level</th>\n",
              "      <th>secondary_cleaner.state.floatbank5_b_air</th>\n",
              "      <th>secondary_cleaner.state.floatbank5_b_level</th>\n",
              "      <th>secondary_cleaner.state.floatbank6_a_air</th>\n",
              "      <th>secondary_cleaner.state.floatbank6_a_level</th>\n",
              "    </tr>\n",
              "  </thead>\n",
              "  <tbody>\n",
              "    <tr>\n",
              "      <td>0</td>\n",
              "      <td>2016-01-15 00:00:00</td>\n",
              "      <td>6.055403</td>\n",
              "      <td>9.889648</td>\n",
              "      <td>5.507324</td>\n",
              "      <td>42.192020</td>\n",
              "      <td>70.541216</td>\n",
              "      <td>10.411962</td>\n",
              "      <td>0.895447</td>\n",
              "      <td>16.904297</td>\n",
              "      <td>2.143149</td>\n",
              "      <td>...</td>\n",
              "      <td>14.016835</td>\n",
              "      <td>-502.488007</td>\n",
              "      <td>12.099931</td>\n",
              "      <td>-504.715942</td>\n",
              "      <td>9.925633</td>\n",
              "      <td>-498.310211</td>\n",
              "      <td>8.079666</td>\n",
              "      <td>-500.470978</td>\n",
              "      <td>14.151341</td>\n",
              "      <td>-605.841980</td>\n",
              "    </tr>\n",
              "    <tr>\n",
              "      <td>1</td>\n",
              "      <td>2016-01-15 01:00:00</td>\n",
              "      <td>6.029369</td>\n",
              "      <td>9.968944</td>\n",
              "      <td>5.257781</td>\n",
              "      <td>42.701629</td>\n",
              "      <td>69.266198</td>\n",
              "      <td>10.462676</td>\n",
              "      <td>0.927452</td>\n",
              "      <td>16.634514</td>\n",
              "      <td>2.224930</td>\n",
              "      <td>...</td>\n",
              "      <td>13.992281</td>\n",
              "      <td>-505.503262</td>\n",
              "      <td>11.950531</td>\n",
              "      <td>-501.331529</td>\n",
              "      <td>10.039245</td>\n",
              "      <td>-500.169983</td>\n",
              "      <td>7.984757</td>\n",
              "      <td>-500.582168</td>\n",
              "      <td>13.998353</td>\n",
              "      <td>-599.787184</td>\n",
              "    </tr>\n",
              "    <tr>\n",
              "      <td>2</td>\n",
              "      <td>2016-01-15 02:00:00</td>\n",
              "      <td>6.055926</td>\n",
              "      <td>10.213995</td>\n",
              "      <td>5.383759</td>\n",
              "      <td>42.657501</td>\n",
              "      <td>68.116445</td>\n",
              "      <td>10.507046</td>\n",
              "      <td>0.953716</td>\n",
              "      <td>16.208849</td>\n",
              "      <td>2.257889</td>\n",
              "      <td>...</td>\n",
              "      <td>14.015015</td>\n",
              "      <td>-502.520901</td>\n",
              "      <td>11.912783</td>\n",
              "      <td>-501.133383</td>\n",
              "      <td>10.070913</td>\n",
              "      <td>-500.129135</td>\n",
              "      <td>8.013877</td>\n",
              "      <td>-500.517572</td>\n",
              "      <td>14.028663</td>\n",
              "      <td>-601.427363</td>\n",
              "    </tr>\n",
              "    <tr>\n",
              "      <td>3</td>\n",
              "      <td>2016-01-15 03:00:00</td>\n",
              "      <td>6.047977</td>\n",
              "      <td>9.977019</td>\n",
              "      <td>4.858634</td>\n",
              "      <td>42.689819</td>\n",
              "      <td>68.347543</td>\n",
              "      <td>10.422762</td>\n",
              "      <td>0.883763</td>\n",
              "      <td>16.532835</td>\n",
              "      <td>2.146849</td>\n",
              "      <td>...</td>\n",
              "      <td>14.036510</td>\n",
              "      <td>-500.857308</td>\n",
              "      <td>11.999550</td>\n",
              "      <td>-501.193686</td>\n",
              "      <td>9.970366</td>\n",
              "      <td>-499.201640</td>\n",
              "      <td>7.977324</td>\n",
              "      <td>-500.255908</td>\n",
              "      <td>14.005551</td>\n",
              "      <td>-599.996129</td>\n",
              "    </tr>\n",
              "    <tr>\n",
              "      <td>4</td>\n",
              "      <td>2016-01-15 04:00:00</td>\n",
              "      <td>6.148599</td>\n",
              "      <td>10.142511</td>\n",
              "      <td>4.939416</td>\n",
              "      <td>42.774141</td>\n",
              "      <td>66.927016</td>\n",
              "      <td>10.360302</td>\n",
              "      <td>0.792826</td>\n",
              "      <td>16.525686</td>\n",
              "      <td>2.055292</td>\n",
              "      <td>...</td>\n",
              "      <td>14.027298</td>\n",
              "      <td>-499.838632</td>\n",
              "      <td>11.953070</td>\n",
              "      <td>-501.053894</td>\n",
              "      <td>9.925709</td>\n",
              "      <td>-501.686727</td>\n",
              "      <td>7.894242</td>\n",
              "      <td>-500.356035</td>\n",
              "      <td>13.996647</td>\n",
              "      <td>-601.496691</td>\n",
              "    </tr>\n",
              "  </tbody>\n",
              "</table>\n",
              "<p>5 rows × 87 columns</p>\n",
              "</div>"
            ],
            "text/plain": [
              "                  date  final.output.concentrate_ag  \\\n",
              "0  2016-01-15 00:00:00                     6.055403   \n",
              "1  2016-01-15 01:00:00                     6.029369   \n",
              "2  2016-01-15 02:00:00                     6.055926   \n",
              "3  2016-01-15 03:00:00                     6.047977   \n",
              "4  2016-01-15 04:00:00                     6.148599   \n",
              "\n",
              "   final.output.concentrate_pb  final.output.concentrate_sol  \\\n",
              "0                     9.889648                      5.507324   \n",
              "1                     9.968944                      5.257781   \n",
              "2                    10.213995                      5.383759   \n",
              "3                     9.977019                      4.858634   \n",
              "4                    10.142511                      4.939416   \n",
              "\n",
              "   final.output.concentrate_au  final.output.recovery  final.output.tail_ag  \\\n",
              "0                    42.192020              70.541216             10.411962   \n",
              "1                    42.701629              69.266198             10.462676   \n",
              "2                    42.657501              68.116445             10.507046   \n",
              "3                    42.689819              68.347543             10.422762   \n",
              "4                    42.774141              66.927016             10.360302   \n",
              "\n",
              "   final.output.tail_pb  final.output.tail_sol  final.output.tail_au  ...  \\\n",
              "0              0.895447              16.904297              2.143149  ...   \n",
              "1              0.927452              16.634514              2.224930  ...   \n",
              "2              0.953716              16.208849              2.257889  ...   \n",
              "3              0.883763              16.532835              2.146849  ...   \n",
              "4              0.792826              16.525686              2.055292  ...   \n",
              "\n",
              "   secondary_cleaner.state.floatbank4_a_air  \\\n",
              "0                                 14.016835   \n",
              "1                                 13.992281   \n",
              "2                                 14.015015   \n",
              "3                                 14.036510   \n",
              "4                                 14.027298   \n",
              "\n",
              "   secondary_cleaner.state.floatbank4_a_level  \\\n",
              "0                                 -502.488007   \n",
              "1                                 -505.503262   \n",
              "2                                 -502.520901   \n",
              "3                                 -500.857308   \n",
              "4                                 -499.838632   \n",
              "\n",
              "   secondary_cleaner.state.floatbank4_b_air  \\\n",
              "0                                 12.099931   \n",
              "1                                 11.950531   \n",
              "2                                 11.912783   \n",
              "3                                 11.999550   \n",
              "4                                 11.953070   \n",
              "\n",
              "   secondary_cleaner.state.floatbank4_b_level  \\\n",
              "0                                 -504.715942   \n",
              "1                                 -501.331529   \n",
              "2                                 -501.133383   \n",
              "3                                 -501.193686   \n",
              "4                                 -501.053894   \n",
              "\n",
              "   secondary_cleaner.state.floatbank5_a_air  \\\n",
              "0                                  9.925633   \n",
              "1                                 10.039245   \n",
              "2                                 10.070913   \n",
              "3                                  9.970366   \n",
              "4                                  9.925709   \n",
              "\n",
              "   secondary_cleaner.state.floatbank5_a_level  \\\n",
              "0                                 -498.310211   \n",
              "1                                 -500.169983   \n",
              "2                                 -500.129135   \n",
              "3                                 -499.201640   \n",
              "4                                 -501.686727   \n",
              "\n",
              "   secondary_cleaner.state.floatbank5_b_air  \\\n",
              "0                                  8.079666   \n",
              "1                                  7.984757   \n",
              "2                                  8.013877   \n",
              "3                                  7.977324   \n",
              "4                                  7.894242   \n",
              "\n",
              "   secondary_cleaner.state.floatbank5_b_level  \\\n",
              "0                                 -500.470978   \n",
              "1                                 -500.582168   \n",
              "2                                 -500.517572   \n",
              "3                                 -500.255908   \n",
              "4                                 -500.356035   \n",
              "\n",
              "   secondary_cleaner.state.floatbank6_a_air  \\\n",
              "0                                 14.151341   \n",
              "1                                 13.998353   \n",
              "2                                 14.028663   \n",
              "3                                 14.005551   \n",
              "4                                 13.996647   \n",
              "\n",
              "   secondary_cleaner.state.floatbank6_a_level  \n",
              "0                                 -605.841980  \n",
              "1                                 -599.787184  \n",
              "2                                 -601.427363  \n",
              "3                                 -599.996129  \n",
              "4                                 -601.496691  \n",
              "\n",
              "[5 rows x 87 columns]"
            ]
          },
          "metadata": {
            "tags": []
          }
        },
        {
          "output_type": "stream",
          "text": [
            "**************************************************************************************************** \n",
            "\n",
            "Info: \n",
            "\n",
            "<class 'pandas.core.frame.DataFrame'>\n",
            "RangeIndex: 22716 entries, 0 to 22715\n",
            "Data columns (total 87 columns):\n",
            "date                                                  22716 non-null object\n",
            "final.output.concentrate_ag                           22627 non-null float64\n",
            "final.output.concentrate_pb                           22629 non-null float64\n",
            "final.output.concentrate_sol                          22331 non-null float64\n",
            "final.output.concentrate_au                           22630 non-null float64\n",
            "final.output.recovery                                 20753 non-null float64\n",
            "final.output.tail_ag                                  22633 non-null float64\n",
            "final.output.tail_pb                                  22516 non-null float64\n",
            "final.output.tail_sol                                 22445 non-null float64\n",
            "final.output.tail_au                                  22635 non-null float64\n",
            "primary_cleaner.input.sulfate                         21107 non-null float64\n",
            "primary_cleaner.input.depressant                      21170 non-null float64\n",
            "primary_cleaner.input.feed_size                       22716 non-null float64\n",
            "primary_cleaner.input.xanthate                        21565 non-null float64\n",
            "primary_cleaner.output.concentrate_ag                 22618 non-null float64\n",
            "primary_cleaner.output.concentrate_pb                 22268 non-null float64\n",
            "primary_cleaner.output.concentrate_sol                21918 non-null float64\n",
            "primary_cleaner.output.concentrate_au                 22618 non-null float64\n",
            "primary_cleaner.output.tail_ag                        22614 non-null float64\n",
            "primary_cleaner.output.tail_pb                        22594 non-null float64\n",
            "primary_cleaner.output.tail_sol                       22365 non-null float64\n",
            "primary_cleaner.output.tail_au                        22617 non-null float64\n",
            "primary_cleaner.state.floatbank8_a_air                22660 non-null float64\n",
            "primary_cleaner.state.floatbank8_a_level              22667 non-null float64\n",
            "primary_cleaner.state.floatbank8_b_air                22660 non-null float64\n",
            "primary_cleaner.state.floatbank8_b_level              22673 non-null float64\n",
            "primary_cleaner.state.floatbank8_c_air                22662 non-null float64\n",
            "primary_cleaner.state.floatbank8_c_level              22673 non-null float64\n",
            "primary_cleaner.state.floatbank8_d_air                22661 non-null float64\n",
            "primary_cleaner.state.floatbank8_d_level              22673 non-null float64\n",
            "rougher.calculation.sulfate_to_au_concentrate         22672 non-null float64\n",
            "rougher.calculation.floatbank10_sulfate_to_au_feed    22672 non-null float64\n",
            "rougher.calculation.floatbank11_sulfate_to_au_feed    22672 non-null float64\n",
            "rougher.calculation.au_pb_ratio                       21089 non-null float64\n",
            "rougher.input.feed_ag                                 22618 non-null float64\n",
            "rougher.input.feed_pb                                 22472 non-null float64\n",
            "rougher.input.feed_rate                               22163 non-null float64\n",
            "rougher.input.feed_size                               22277 non-null float64\n",
            "rougher.input.feed_sol                                22357 non-null float64\n",
            "rougher.input.feed_au                                 22617 non-null float64\n",
            "rougher.input.floatbank10_sulfate                     21415 non-null float64\n",
            "rougher.input.floatbank10_xanthate                    22247 non-null float64\n",
            "rougher.input.floatbank11_sulfate                     22038 non-null float64\n",
            "rougher.input.floatbank11_xanthate                    20459 non-null float64\n",
            "rougher.output.concentrate_ag                         22618 non-null float64\n",
            "rougher.output.concentrate_pb                         22618 non-null float64\n",
            "rougher.output.concentrate_sol                        22526 non-null float64\n",
            "rougher.output.concentrate_au                         22618 non-null float64\n",
            "rougher.output.recovery                               19597 non-null float64\n",
            "rougher.output.tail_ag                                19979 non-null float64\n",
            "rougher.output.tail_pb                                22618 non-null float64\n",
            "rougher.output.tail_sol                               19980 non-null float64\n",
            "rougher.output.tail_au                                19980 non-null float64\n",
            "rougher.state.floatbank10_a_air                       22646 non-null float64\n",
            "rougher.state.floatbank10_a_level                     22647 non-null float64\n",
            "rougher.state.floatbank10_b_air                       22646 non-null float64\n",
            "rougher.state.floatbank10_b_level                     22647 non-null float64\n",
            "rougher.state.floatbank10_c_air                       22646 non-null float64\n",
            "rougher.state.floatbank10_c_level                     22654 non-null float64\n",
            "rougher.state.floatbank10_d_air                       22641 non-null float64\n",
            "rougher.state.floatbank10_d_level                     22649 non-null float64\n",
            "rougher.state.floatbank10_e_air                       22096 non-null float64\n",
            "rougher.state.floatbank10_e_level                     22649 non-null float64\n",
            "rougher.state.floatbank10_f_air                       22641 non-null float64\n",
            "rougher.state.floatbank10_f_level                     22642 non-null float64\n",
            "secondary_cleaner.output.tail_ag                      22616 non-null float64\n",
            "secondary_cleaner.output.tail_pb                      22600 non-null float64\n",
            "secondary_cleaner.output.tail_sol                     20501 non-null float64\n",
            "secondary_cleaner.output.tail_au                      22618 non-null float64\n",
            "secondary_cleaner.state.floatbank2_a_air              22333 non-null float64\n",
            "secondary_cleaner.state.floatbank2_a_level            22591 non-null float64\n",
            "secondary_cleaner.state.floatbank2_b_air              22538 non-null float64\n",
            "secondary_cleaner.state.floatbank2_b_level            22588 non-null float64\n",
            "secondary_cleaner.state.floatbank3_a_air              22585 non-null float64\n",
            "secondary_cleaner.state.floatbank3_a_level            22587 non-null float64\n",
            "secondary_cleaner.state.floatbank3_b_air              22592 non-null float64\n",
            "secondary_cleaner.state.floatbank3_b_level            22590 non-null float64\n",
            "secondary_cleaner.state.floatbank4_a_air              22571 non-null float64\n",
            "secondary_cleaner.state.floatbank4_a_level            22587 non-null float64\n",
            "secondary_cleaner.state.floatbank4_b_air              22608 non-null float64\n",
            "secondary_cleaner.state.floatbank4_b_level            22607 non-null float64\n",
            "secondary_cleaner.state.floatbank5_a_air              22615 non-null float64\n",
            "secondary_cleaner.state.floatbank5_a_level            22615 non-null float64\n",
            "secondary_cleaner.state.floatbank5_b_air              22615 non-null float64\n",
            "secondary_cleaner.state.floatbank5_b_level            22616 non-null float64\n",
            "secondary_cleaner.state.floatbank6_a_air              22597 non-null float64\n",
            "secondary_cleaner.state.floatbank6_a_level            22615 non-null float64\n",
            "dtypes: float64(86), object(1)\n",
            "memory usage: 15.1+ MB\n"
          ],
          "name": "stdout"
        },
        {
          "output_type": "display_data",
          "data": {
            "text/plain": [
              "None"
            ]
          },
          "metadata": {
            "tags": []
          }
        },
        {
          "output_type": "stream",
          "text": [
            "**************************************************************************************************** \n",
            "\n",
            "Describe: \n",
            "\n"
          ],
          "name": "stdout"
        },
        {
          "output_type": "display_data",
          "data": {
            "text/html": [
              "<div>\n",
              "<style scoped>\n",
              "    .dataframe tbody tr th:only-of-type {\n",
              "        vertical-align: middle;\n",
              "    }\n",
              "\n",
              "    .dataframe tbody tr th {\n",
              "        vertical-align: top;\n",
              "    }\n",
              "\n",
              "    .dataframe thead th {\n",
              "        text-align: right;\n",
              "    }\n",
              "</style>\n",
              "<table border=\"1\" class=\"dataframe\">\n",
              "  <thead>\n",
              "    <tr style=\"text-align: right;\">\n",
              "      <th></th>\n",
              "      <th>final.output.concentrate_ag</th>\n",
              "      <th>final.output.concentrate_pb</th>\n",
              "      <th>final.output.concentrate_sol</th>\n",
              "      <th>final.output.concentrate_au</th>\n",
              "      <th>final.output.recovery</th>\n",
              "      <th>final.output.tail_ag</th>\n",
              "      <th>final.output.tail_pb</th>\n",
              "      <th>final.output.tail_sol</th>\n",
              "      <th>final.output.tail_au</th>\n",
              "      <th>primary_cleaner.input.sulfate</th>\n",
              "      <th>...</th>\n",
              "      <th>secondary_cleaner.state.floatbank4_a_air</th>\n",
              "      <th>secondary_cleaner.state.floatbank4_a_level</th>\n",
              "      <th>secondary_cleaner.state.floatbank4_b_air</th>\n",
              "      <th>secondary_cleaner.state.floatbank4_b_level</th>\n",
              "      <th>secondary_cleaner.state.floatbank5_a_air</th>\n",
              "      <th>secondary_cleaner.state.floatbank5_a_level</th>\n",
              "      <th>secondary_cleaner.state.floatbank5_b_air</th>\n",
              "      <th>secondary_cleaner.state.floatbank5_b_level</th>\n",
              "      <th>secondary_cleaner.state.floatbank6_a_air</th>\n",
              "      <th>secondary_cleaner.state.floatbank6_a_level</th>\n",
              "    </tr>\n",
              "  </thead>\n",
              "  <tbody>\n",
              "    <tr>\n",
              "      <td>count</td>\n",
              "      <td>22627.000000</td>\n",
              "      <td>22629.000000</td>\n",
              "      <td>22331.000000</td>\n",
              "      <td>22630.000000</td>\n",
              "      <td>20753.000000</td>\n",
              "      <td>22633.000000</td>\n",
              "      <td>22516.000000</td>\n",
              "      <td>22445.000000</td>\n",
              "      <td>22635.000000</td>\n",
              "      <td>21107.000000</td>\n",
              "      <td>...</td>\n",
              "      <td>22571.000000</td>\n",
              "      <td>22587.000000</td>\n",
              "      <td>22608.000000</td>\n",
              "      <td>22607.000000</td>\n",
              "      <td>22615.000000</td>\n",
              "      <td>22615.000000</td>\n",
              "      <td>22615.000000</td>\n",
              "      <td>22616.000000</td>\n",
              "      <td>22597.000000</td>\n",
              "      <td>22615.000000</td>\n",
              "    </tr>\n",
              "    <tr>\n",
              "      <td>mean</td>\n",
              "      <td>4.781559</td>\n",
              "      <td>9.095308</td>\n",
              "      <td>8.640317</td>\n",
              "      <td>40.001172</td>\n",
              "      <td>67.447488</td>\n",
              "      <td>8.923690</td>\n",
              "      <td>2.488252</td>\n",
              "      <td>9.523632</td>\n",
              "      <td>2.827459</td>\n",
              "      <td>140.277672</td>\n",
              "      <td>...</td>\n",
              "      <td>18.205125</td>\n",
              "      <td>-499.878977</td>\n",
              "      <td>14.356474</td>\n",
              "      <td>-476.532613</td>\n",
              "      <td>14.883276</td>\n",
              "      <td>-503.323288</td>\n",
              "      <td>11.626743</td>\n",
              "      <td>-500.521502</td>\n",
              "      <td>17.976810</td>\n",
              "      <td>-519.361465</td>\n",
              "    </tr>\n",
              "    <tr>\n",
              "      <td>std</td>\n",
              "      <td>2.030128</td>\n",
              "      <td>3.230797</td>\n",
              "      <td>3.785035</td>\n",
              "      <td>13.398062</td>\n",
              "      <td>11.616034</td>\n",
              "      <td>3.517917</td>\n",
              "      <td>1.189407</td>\n",
              "      <td>4.079739</td>\n",
              "      <td>1.262834</td>\n",
              "      <td>49.919004</td>\n",
              "      <td>...</td>\n",
              "      <td>6.560700</td>\n",
              "      <td>80.273964</td>\n",
              "      <td>5.655791</td>\n",
              "      <td>93.822791</td>\n",
              "      <td>6.372811</td>\n",
              "      <td>72.925589</td>\n",
              "      <td>5.757449</td>\n",
              "      <td>78.956292</td>\n",
              "      <td>6.636203</td>\n",
              "      <td>75.477151</td>\n",
              "    </tr>\n",
              "    <tr>\n",
              "      <td>min</td>\n",
              "      <td>0.000000</td>\n",
              "      <td>0.000000</td>\n",
              "      <td>0.000000</td>\n",
              "      <td>0.000000</td>\n",
              "      <td>0.000000</td>\n",
              "      <td>0.000000</td>\n",
              "      <td>0.000000</td>\n",
              "      <td>0.000000</td>\n",
              "      <td>0.000000</td>\n",
              "      <td>0.000003</td>\n",
              "      <td>...</td>\n",
              "      <td>0.000000</td>\n",
              "      <td>-799.920713</td>\n",
              "      <td>0.000000</td>\n",
              "      <td>-800.836914</td>\n",
              "      <td>-0.423260</td>\n",
              "      <td>-799.741097</td>\n",
              "      <td>0.427084</td>\n",
              "      <td>-800.258209</td>\n",
              "      <td>-0.079426</td>\n",
              "      <td>-810.473526</td>\n",
              "    </tr>\n",
              "    <tr>\n",
              "      <td>25%</td>\n",
              "      <td>4.018525</td>\n",
              "      <td>8.750171</td>\n",
              "      <td>7.116799</td>\n",
              "      <td>42.383721</td>\n",
              "      <td>63.282393</td>\n",
              "      <td>7.684016</td>\n",
              "      <td>1.805376</td>\n",
              "      <td>8.143576</td>\n",
              "      <td>2.303108</td>\n",
              "      <td>110.177081</td>\n",
              "      <td>...</td>\n",
              "      <td>14.095940</td>\n",
              "      <td>-500.896232</td>\n",
              "      <td>10.882675</td>\n",
              "      <td>-500.309169</td>\n",
              "      <td>10.941299</td>\n",
              "      <td>-500.628697</td>\n",
              "      <td>8.037533</td>\n",
              "      <td>-500.167897</td>\n",
              "      <td>13.968418</td>\n",
              "      <td>-500.981671</td>\n",
              "    </tr>\n",
              "    <tr>\n",
              "      <td>50%</td>\n",
              "      <td>4.953729</td>\n",
              "      <td>9.914519</td>\n",
              "      <td>8.908792</td>\n",
              "      <td>44.653436</td>\n",
              "      <td>68.322258</td>\n",
              "      <td>9.484369</td>\n",
              "      <td>2.653001</td>\n",
              "      <td>10.212998</td>\n",
              "      <td>2.913794</td>\n",
              "      <td>141.330501</td>\n",
              "      <td>...</td>\n",
              "      <td>18.007326</td>\n",
              "      <td>-499.917108</td>\n",
              "      <td>14.947646</td>\n",
              "      <td>-499.612292</td>\n",
              "      <td>14.859117</td>\n",
              "      <td>-499.865158</td>\n",
              "      <td>10.989756</td>\n",
              "      <td>-499.951980</td>\n",
              "      <td>18.004215</td>\n",
              "      <td>-500.095463</td>\n",
              "    </tr>\n",
              "    <tr>\n",
              "      <td>75%</td>\n",
              "      <td>5.862593</td>\n",
              "      <td>10.929839</td>\n",
              "      <td>10.705824</td>\n",
              "      <td>46.111999</td>\n",
              "      <td>72.950836</td>\n",
              "      <td>11.084557</td>\n",
              "      <td>3.287790</td>\n",
              "      <td>11.860824</td>\n",
              "      <td>3.555077</td>\n",
              "      <td>174.049914</td>\n",
              "      <td>...</td>\n",
              "      <td>22.998194</td>\n",
              "      <td>-498.361545</td>\n",
              "      <td>17.977502</td>\n",
              "      <td>-400.224147</td>\n",
              "      <td>18.014914</td>\n",
              "      <td>-498.489381</td>\n",
              "      <td>14.001193</td>\n",
              "      <td>-499.492354</td>\n",
              "      <td>23.009704</td>\n",
              "      <td>-499.526388</td>\n",
              "    </tr>\n",
              "    <tr>\n",
              "      <td>max</td>\n",
              "      <td>16.001945</td>\n",
              "      <td>17.031899</td>\n",
              "      <td>19.615720</td>\n",
              "      <td>53.611374</td>\n",
              "      <td>100.000000</td>\n",
              "      <td>19.552149</td>\n",
              "      <td>6.086532</td>\n",
              "      <td>22.861749</td>\n",
              "      <td>9.789625</td>\n",
              "      <td>274.409626</td>\n",
              "      <td>...</td>\n",
              "      <td>60.000000</td>\n",
              "      <td>-127.692333</td>\n",
              "      <td>31.269706</td>\n",
              "      <td>-6.506986</td>\n",
              "      <td>63.116298</td>\n",
              "      <td>-244.483566</td>\n",
              "      <td>39.846228</td>\n",
              "      <td>-120.190931</td>\n",
              "      <td>54.876806</td>\n",
              "      <td>-29.093593</td>\n",
              "    </tr>\n",
              "  </tbody>\n",
              "</table>\n",
              "<p>8 rows × 86 columns</p>\n",
              "</div>"
            ],
            "text/plain": [
              "       final.output.concentrate_ag  final.output.concentrate_pb  \\\n",
              "count                 22627.000000                 22629.000000   \n",
              "mean                      4.781559                     9.095308   \n",
              "std                       2.030128                     3.230797   \n",
              "min                       0.000000                     0.000000   \n",
              "25%                       4.018525                     8.750171   \n",
              "50%                       4.953729                     9.914519   \n",
              "75%                       5.862593                    10.929839   \n",
              "max                      16.001945                    17.031899   \n",
              "\n",
              "       final.output.concentrate_sol  final.output.concentrate_au  \\\n",
              "count                  22331.000000                 22630.000000   \n",
              "mean                       8.640317                    40.001172   \n",
              "std                        3.785035                    13.398062   \n",
              "min                        0.000000                     0.000000   \n",
              "25%                        7.116799                    42.383721   \n",
              "50%                        8.908792                    44.653436   \n",
              "75%                       10.705824                    46.111999   \n",
              "max                       19.615720                    53.611374   \n",
              "\n",
              "       final.output.recovery  final.output.tail_ag  final.output.tail_pb  \\\n",
              "count           20753.000000          22633.000000          22516.000000   \n",
              "mean               67.447488              8.923690              2.488252   \n",
              "std                11.616034              3.517917              1.189407   \n",
              "min                 0.000000              0.000000              0.000000   \n",
              "25%                63.282393              7.684016              1.805376   \n",
              "50%                68.322258              9.484369              2.653001   \n",
              "75%                72.950836             11.084557              3.287790   \n",
              "max               100.000000             19.552149              6.086532   \n",
              "\n",
              "       final.output.tail_sol  final.output.tail_au  \\\n",
              "count           22445.000000          22635.000000   \n",
              "mean                9.523632              2.827459   \n",
              "std                 4.079739              1.262834   \n",
              "min                 0.000000              0.000000   \n",
              "25%                 8.143576              2.303108   \n",
              "50%                10.212998              2.913794   \n",
              "75%                11.860824              3.555077   \n",
              "max                22.861749              9.789625   \n",
              "\n",
              "       primary_cleaner.input.sulfate  ...  \\\n",
              "count                   21107.000000  ...   \n",
              "mean                      140.277672  ...   \n",
              "std                        49.919004  ...   \n",
              "min                         0.000003  ...   \n",
              "25%                       110.177081  ...   \n",
              "50%                       141.330501  ...   \n",
              "75%                       174.049914  ...   \n",
              "max                       274.409626  ...   \n",
              "\n",
              "       secondary_cleaner.state.floatbank4_a_air  \\\n",
              "count                              22571.000000   \n",
              "mean                                  18.205125   \n",
              "std                                    6.560700   \n",
              "min                                    0.000000   \n",
              "25%                                   14.095940   \n",
              "50%                                   18.007326   \n",
              "75%                                   22.998194   \n",
              "max                                   60.000000   \n",
              "\n",
              "       secondary_cleaner.state.floatbank4_a_level  \\\n",
              "count                                22587.000000   \n",
              "mean                                  -499.878977   \n",
              "std                                     80.273964   \n",
              "min                                   -799.920713   \n",
              "25%                                   -500.896232   \n",
              "50%                                   -499.917108   \n",
              "75%                                   -498.361545   \n",
              "max                                   -127.692333   \n",
              "\n",
              "       secondary_cleaner.state.floatbank4_b_air  \\\n",
              "count                              22608.000000   \n",
              "mean                                  14.356474   \n",
              "std                                    5.655791   \n",
              "min                                    0.000000   \n",
              "25%                                   10.882675   \n",
              "50%                                   14.947646   \n",
              "75%                                   17.977502   \n",
              "max                                   31.269706   \n",
              "\n",
              "       secondary_cleaner.state.floatbank4_b_level  \\\n",
              "count                                22607.000000   \n",
              "mean                                  -476.532613   \n",
              "std                                     93.822791   \n",
              "min                                   -800.836914   \n",
              "25%                                   -500.309169   \n",
              "50%                                   -499.612292   \n",
              "75%                                   -400.224147   \n",
              "max                                     -6.506986   \n",
              "\n",
              "       secondary_cleaner.state.floatbank5_a_air  \\\n",
              "count                              22615.000000   \n",
              "mean                                  14.883276   \n",
              "std                                    6.372811   \n",
              "min                                   -0.423260   \n",
              "25%                                   10.941299   \n",
              "50%                                   14.859117   \n",
              "75%                                   18.014914   \n",
              "max                                   63.116298   \n",
              "\n",
              "       secondary_cleaner.state.floatbank5_a_level  \\\n",
              "count                                22615.000000   \n",
              "mean                                  -503.323288   \n",
              "std                                     72.925589   \n",
              "min                                   -799.741097   \n",
              "25%                                   -500.628697   \n",
              "50%                                   -499.865158   \n",
              "75%                                   -498.489381   \n",
              "max                                   -244.483566   \n",
              "\n",
              "       secondary_cleaner.state.floatbank5_b_air  \\\n",
              "count                              22615.000000   \n",
              "mean                                  11.626743   \n",
              "std                                    5.757449   \n",
              "min                                    0.427084   \n",
              "25%                                    8.037533   \n",
              "50%                                   10.989756   \n",
              "75%                                   14.001193   \n",
              "max                                   39.846228   \n",
              "\n",
              "       secondary_cleaner.state.floatbank5_b_level  \\\n",
              "count                                22616.000000   \n",
              "mean                                  -500.521502   \n",
              "std                                     78.956292   \n",
              "min                                   -800.258209   \n",
              "25%                                   -500.167897   \n",
              "50%                                   -499.951980   \n",
              "75%                                   -499.492354   \n",
              "max                                   -120.190931   \n",
              "\n",
              "       secondary_cleaner.state.floatbank6_a_air  \\\n",
              "count                              22597.000000   \n",
              "mean                                  17.976810   \n",
              "std                                    6.636203   \n",
              "min                                   -0.079426   \n",
              "25%                                   13.968418   \n",
              "50%                                   18.004215   \n",
              "75%                                   23.009704   \n",
              "max                                   54.876806   \n",
              "\n",
              "       secondary_cleaner.state.floatbank6_a_level  \n",
              "count                                22615.000000  \n",
              "mean                                  -519.361465  \n",
              "std                                     75.477151  \n",
              "min                                   -810.473526  \n",
              "25%                                   -500.981671  \n",
              "50%                                   -500.095463  \n",
              "75%                                   -499.526388  \n",
              "max                                    -29.093593  \n",
              "\n",
              "[8 rows x 86 columns]"
            ]
          },
          "metadata": {
            "tags": []
          }
        },
        {
          "output_type": "stream",
          "text": [
            "**************************************************************************************************** \n",
            "\n",
            "Columns with nulls: \n",
            "\n"
          ],
          "name": "stdout"
        },
        {
          "output_type": "display_data",
          "data": {
            "text/html": [
              "<div>\n",
              "<style scoped>\n",
              "    .dataframe tbody tr th:only-of-type {\n",
              "        vertical-align: middle;\n",
              "    }\n",
              "\n",
              "    .dataframe tbody tr th {\n",
              "        vertical-align: top;\n",
              "    }\n",
              "\n",
              "    .dataframe thead th {\n",
              "        text-align: right;\n",
              "    }\n",
              "</style>\n",
              "<table border=\"1\" class=\"dataframe\">\n",
              "  <thead>\n",
              "    <tr style=\"text-align: right;\">\n",
              "      <th></th>\n",
              "      <th>missing_values</th>\n",
              "      <th>percent_of_nulls</th>\n",
              "    </tr>\n",
              "  </thead>\n",
              "  <tbody>\n",
              "    <tr>\n",
              "      <td>date</td>\n",
              "      <td>0</td>\n",
              "      <td>0.00</td>\n",
              "    </tr>\n",
              "    <tr>\n",
              "      <td>final.output.concentrate_ag</td>\n",
              "      <td>89</td>\n",
              "      <td>0.39</td>\n",
              "    </tr>\n",
              "    <tr>\n",
              "      <td>final.output.concentrate_pb</td>\n",
              "      <td>87</td>\n",
              "      <td>0.38</td>\n",
              "    </tr>\n",
              "    <tr>\n",
              "      <td>final.output.concentrate_sol</td>\n",
              "      <td>385</td>\n",
              "      <td>1.69</td>\n",
              "    </tr>\n",
              "    <tr>\n",
              "      <td>final.output.concentrate_au</td>\n",
              "      <td>86</td>\n",
              "      <td>0.38</td>\n",
              "    </tr>\n",
              "    <tr>\n",
              "      <td>...</td>\n",
              "      <td>...</td>\n",
              "      <td>...</td>\n",
              "    </tr>\n",
              "    <tr>\n",
              "      <td>secondary_cleaner.state.floatbank5_a_level</td>\n",
              "      <td>101</td>\n",
              "      <td>0.44</td>\n",
              "    </tr>\n",
              "    <tr>\n",
              "      <td>secondary_cleaner.state.floatbank5_b_air</td>\n",
              "      <td>101</td>\n",
              "      <td>0.44</td>\n",
              "    </tr>\n",
              "    <tr>\n",
              "      <td>secondary_cleaner.state.floatbank5_b_level</td>\n",
              "      <td>100</td>\n",
              "      <td>0.44</td>\n",
              "    </tr>\n",
              "    <tr>\n",
              "      <td>secondary_cleaner.state.floatbank6_a_air</td>\n",
              "      <td>119</td>\n",
              "      <td>0.52</td>\n",
              "    </tr>\n",
              "    <tr>\n",
              "      <td>secondary_cleaner.state.floatbank6_a_level</td>\n",
              "      <td>101</td>\n",
              "      <td>0.44</td>\n",
              "    </tr>\n",
              "  </tbody>\n",
              "</table>\n",
              "<p>87 rows × 2 columns</p>\n",
              "</div>"
            ],
            "text/plain": [
              "                                            missing_values  percent_of_nulls\n",
              "date                                                     0              0.00\n",
              "final.output.concentrate_ag                             89              0.39\n",
              "final.output.concentrate_pb                             87              0.38\n",
              "final.output.concentrate_sol                           385              1.69\n",
              "final.output.concentrate_au                             86              0.38\n",
              "...                                                    ...               ...\n",
              "secondary_cleaner.state.floatbank5_a_level             101              0.44\n",
              "secondary_cleaner.state.floatbank5_b_air               101              0.44\n",
              "secondary_cleaner.state.floatbank5_b_level             100              0.44\n",
              "secondary_cleaner.state.floatbank6_a_air               119              0.52\n",
              "secondary_cleaner.state.floatbank6_a_level             101              0.44\n",
              "\n",
              "[87 rows x 2 columns]"
            ]
          },
          "metadata": {
            "tags": []
          }
        },
        {
          "output_type": "stream",
          "text": [
            "**************************************************************************************************** \n",
            "\n",
            "Shape: \n",
            "\n"
          ],
          "name": "stdout"
        },
        {
          "output_type": "display_data",
          "data": {
            "text/plain": [
              "(22716, 87)"
            ]
          },
          "metadata": {
            "tags": []
          }
        },
        {
          "output_type": "stream",
          "text": [
            "**************************************************************************************************** \n",
            "\n",
            "Duplicated: \n",
            "\n",
            "Number of duplicated rows: 0\n"
          ],
          "name": "stdout"
        }
      ]
    },
    {
      "cell_type": "code",
      "metadata": {
        "colab": {
          "base_uri": "https://localhost:8080/",
          "height": 1000
        },
        "id": "4QVSqYql5ZNO",
        "outputId": "e35ae6bb-4116-4bfc-9d36-8fce391f47bb"
      },
      "source": [
        "get_information(df_train)"
      ],
      "execution_count": null,
      "outputs": [
        {
          "output_type": "stream",
          "text": [
            "Head: \n",
            "\n"
          ],
          "name": "stdout"
        },
        {
          "output_type": "display_data",
          "data": {
            "text/html": [
              "<div>\n",
              "<style scoped>\n",
              "    .dataframe tbody tr th:only-of-type {\n",
              "        vertical-align: middle;\n",
              "    }\n",
              "\n",
              "    .dataframe tbody tr th {\n",
              "        vertical-align: top;\n",
              "    }\n",
              "\n",
              "    .dataframe thead th {\n",
              "        text-align: right;\n",
              "    }\n",
              "</style>\n",
              "<table border=\"1\" class=\"dataframe\">\n",
              "  <thead>\n",
              "    <tr style=\"text-align: right;\">\n",
              "      <th></th>\n",
              "      <th>date</th>\n",
              "      <th>final.output.concentrate_ag</th>\n",
              "      <th>final.output.concentrate_pb</th>\n",
              "      <th>final.output.concentrate_sol</th>\n",
              "      <th>final.output.concentrate_au</th>\n",
              "      <th>final.output.recovery</th>\n",
              "      <th>final.output.tail_ag</th>\n",
              "      <th>final.output.tail_pb</th>\n",
              "      <th>final.output.tail_sol</th>\n",
              "      <th>final.output.tail_au</th>\n",
              "      <th>...</th>\n",
              "      <th>secondary_cleaner.state.floatbank4_a_air</th>\n",
              "      <th>secondary_cleaner.state.floatbank4_a_level</th>\n",
              "      <th>secondary_cleaner.state.floatbank4_b_air</th>\n",
              "      <th>secondary_cleaner.state.floatbank4_b_level</th>\n",
              "      <th>secondary_cleaner.state.floatbank5_a_air</th>\n",
              "      <th>secondary_cleaner.state.floatbank5_a_level</th>\n",
              "      <th>secondary_cleaner.state.floatbank5_b_air</th>\n",
              "      <th>secondary_cleaner.state.floatbank5_b_level</th>\n",
              "      <th>secondary_cleaner.state.floatbank6_a_air</th>\n",
              "      <th>secondary_cleaner.state.floatbank6_a_level</th>\n",
              "    </tr>\n",
              "  </thead>\n",
              "  <tbody>\n",
              "    <tr>\n",
              "      <td>0</td>\n",
              "      <td>2016-01-15 00:00:00</td>\n",
              "      <td>6.055403</td>\n",
              "      <td>9.889648</td>\n",
              "      <td>5.507324</td>\n",
              "      <td>42.192020</td>\n",
              "      <td>70.541216</td>\n",
              "      <td>10.411962</td>\n",
              "      <td>0.895447</td>\n",
              "      <td>16.904297</td>\n",
              "      <td>2.143149</td>\n",
              "      <td>...</td>\n",
              "      <td>14.016835</td>\n",
              "      <td>-502.488007</td>\n",
              "      <td>12.099931</td>\n",
              "      <td>-504.715942</td>\n",
              "      <td>9.925633</td>\n",
              "      <td>-498.310211</td>\n",
              "      <td>8.079666</td>\n",
              "      <td>-500.470978</td>\n",
              "      <td>14.151341</td>\n",
              "      <td>-605.841980</td>\n",
              "    </tr>\n",
              "    <tr>\n",
              "      <td>1</td>\n",
              "      <td>2016-01-15 01:00:00</td>\n",
              "      <td>6.029369</td>\n",
              "      <td>9.968944</td>\n",
              "      <td>5.257781</td>\n",
              "      <td>42.701629</td>\n",
              "      <td>69.266198</td>\n",
              "      <td>10.462676</td>\n",
              "      <td>0.927452</td>\n",
              "      <td>16.634514</td>\n",
              "      <td>2.224930</td>\n",
              "      <td>...</td>\n",
              "      <td>13.992281</td>\n",
              "      <td>-505.503262</td>\n",
              "      <td>11.950531</td>\n",
              "      <td>-501.331529</td>\n",
              "      <td>10.039245</td>\n",
              "      <td>-500.169983</td>\n",
              "      <td>7.984757</td>\n",
              "      <td>-500.582168</td>\n",
              "      <td>13.998353</td>\n",
              "      <td>-599.787184</td>\n",
              "    </tr>\n",
              "    <tr>\n",
              "      <td>2</td>\n",
              "      <td>2016-01-15 02:00:00</td>\n",
              "      <td>6.055926</td>\n",
              "      <td>10.213995</td>\n",
              "      <td>5.383759</td>\n",
              "      <td>42.657501</td>\n",
              "      <td>68.116445</td>\n",
              "      <td>10.507046</td>\n",
              "      <td>0.953716</td>\n",
              "      <td>16.208849</td>\n",
              "      <td>2.257889</td>\n",
              "      <td>...</td>\n",
              "      <td>14.015015</td>\n",
              "      <td>-502.520901</td>\n",
              "      <td>11.912783</td>\n",
              "      <td>-501.133383</td>\n",
              "      <td>10.070913</td>\n",
              "      <td>-500.129135</td>\n",
              "      <td>8.013877</td>\n",
              "      <td>-500.517572</td>\n",
              "      <td>14.028663</td>\n",
              "      <td>-601.427363</td>\n",
              "    </tr>\n",
              "    <tr>\n",
              "      <td>3</td>\n",
              "      <td>2016-01-15 03:00:00</td>\n",
              "      <td>6.047977</td>\n",
              "      <td>9.977019</td>\n",
              "      <td>4.858634</td>\n",
              "      <td>42.689819</td>\n",
              "      <td>68.347543</td>\n",
              "      <td>10.422762</td>\n",
              "      <td>0.883763</td>\n",
              "      <td>16.532835</td>\n",
              "      <td>2.146849</td>\n",
              "      <td>...</td>\n",
              "      <td>14.036510</td>\n",
              "      <td>-500.857308</td>\n",
              "      <td>11.999550</td>\n",
              "      <td>-501.193686</td>\n",
              "      <td>9.970366</td>\n",
              "      <td>-499.201640</td>\n",
              "      <td>7.977324</td>\n",
              "      <td>-500.255908</td>\n",
              "      <td>14.005551</td>\n",
              "      <td>-599.996129</td>\n",
              "    </tr>\n",
              "    <tr>\n",
              "      <td>4</td>\n",
              "      <td>2016-01-15 04:00:00</td>\n",
              "      <td>6.148599</td>\n",
              "      <td>10.142511</td>\n",
              "      <td>4.939416</td>\n",
              "      <td>42.774141</td>\n",
              "      <td>66.927016</td>\n",
              "      <td>10.360302</td>\n",
              "      <td>0.792826</td>\n",
              "      <td>16.525686</td>\n",
              "      <td>2.055292</td>\n",
              "      <td>...</td>\n",
              "      <td>14.027298</td>\n",
              "      <td>-499.838632</td>\n",
              "      <td>11.953070</td>\n",
              "      <td>-501.053894</td>\n",
              "      <td>9.925709</td>\n",
              "      <td>-501.686727</td>\n",
              "      <td>7.894242</td>\n",
              "      <td>-500.356035</td>\n",
              "      <td>13.996647</td>\n",
              "      <td>-601.496691</td>\n",
              "    </tr>\n",
              "  </tbody>\n",
              "</table>\n",
              "<p>5 rows × 87 columns</p>\n",
              "</div>"
            ],
            "text/plain": [
              "                  date  final.output.concentrate_ag  \\\n",
              "0  2016-01-15 00:00:00                     6.055403   \n",
              "1  2016-01-15 01:00:00                     6.029369   \n",
              "2  2016-01-15 02:00:00                     6.055926   \n",
              "3  2016-01-15 03:00:00                     6.047977   \n",
              "4  2016-01-15 04:00:00                     6.148599   \n",
              "\n",
              "   final.output.concentrate_pb  final.output.concentrate_sol  \\\n",
              "0                     9.889648                      5.507324   \n",
              "1                     9.968944                      5.257781   \n",
              "2                    10.213995                      5.383759   \n",
              "3                     9.977019                      4.858634   \n",
              "4                    10.142511                      4.939416   \n",
              "\n",
              "   final.output.concentrate_au  final.output.recovery  final.output.tail_ag  \\\n",
              "0                    42.192020              70.541216             10.411962   \n",
              "1                    42.701629              69.266198             10.462676   \n",
              "2                    42.657501              68.116445             10.507046   \n",
              "3                    42.689819              68.347543             10.422762   \n",
              "4                    42.774141              66.927016             10.360302   \n",
              "\n",
              "   final.output.tail_pb  final.output.tail_sol  final.output.tail_au  ...  \\\n",
              "0              0.895447              16.904297              2.143149  ...   \n",
              "1              0.927452              16.634514              2.224930  ...   \n",
              "2              0.953716              16.208849              2.257889  ...   \n",
              "3              0.883763              16.532835              2.146849  ...   \n",
              "4              0.792826              16.525686              2.055292  ...   \n",
              "\n",
              "   secondary_cleaner.state.floatbank4_a_air  \\\n",
              "0                                 14.016835   \n",
              "1                                 13.992281   \n",
              "2                                 14.015015   \n",
              "3                                 14.036510   \n",
              "4                                 14.027298   \n",
              "\n",
              "   secondary_cleaner.state.floatbank4_a_level  \\\n",
              "0                                 -502.488007   \n",
              "1                                 -505.503262   \n",
              "2                                 -502.520901   \n",
              "3                                 -500.857308   \n",
              "4                                 -499.838632   \n",
              "\n",
              "   secondary_cleaner.state.floatbank4_b_air  \\\n",
              "0                                 12.099931   \n",
              "1                                 11.950531   \n",
              "2                                 11.912783   \n",
              "3                                 11.999550   \n",
              "4                                 11.953070   \n",
              "\n",
              "   secondary_cleaner.state.floatbank4_b_level  \\\n",
              "0                                 -504.715942   \n",
              "1                                 -501.331529   \n",
              "2                                 -501.133383   \n",
              "3                                 -501.193686   \n",
              "4                                 -501.053894   \n",
              "\n",
              "   secondary_cleaner.state.floatbank5_a_air  \\\n",
              "0                                  9.925633   \n",
              "1                                 10.039245   \n",
              "2                                 10.070913   \n",
              "3                                  9.970366   \n",
              "4                                  9.925709   \n",
              "\n",
              "   secondary_cleaner.state.floatbank5_a_level  \\\n",
              "0                                 -498.310211   \n",
              "1                                 -500.169983   \n",
              "2                                 -500.129135   \n",
              "3                                 -499.201640   \n",
              "4                                 -501.686727   \n",
              "\n",
              "   secondary_cleaner.state.floatbank5_b_air  \\\n",
              "0                                  8.079666   \n",
              "1                                  7.984757   \n",
              "2                                  8.013877   \n",
              "3                                  7.977324   \n",
              "4                                  7.894242   \n",
              "\n",
              "   secondary_cleaner.state.floatbank5_b_level  \\\n",
              "0                                 -500.470978   \n",
              "1                                 -500.582168   \n",
              "2                                 -500.517572   \n",
              "3                                 -500.255908   \n",
              "4                                 -500.356035   \n",
              "\n",
              "   secondary_cleaner.state.floatbank6_a_air  \\\n",
              "0                                 14.151341   \n",
              "1                                 13.998353   \n",
              "2                                 14.028663   \n",
              "3                                 14.005551   \n",
              "4                                 13.996647   \n",
              "\n",
              "   secondary_cleaner.state.floatbank6_a_level  \n",
              "0                                 -605.841980  \n",
              "1                                 -599.787184  \n",
              "2                                 -601.427363  \n",
              "3                                 -599.996129  \n",
              "4                                 -601.496691  \n",
              "\n",
              "[5 rows x 87 columns]"
            ]
          },
          "metadata": {
            "tags": []
          }
        },
        {
          "output_type": "stream",
          "text": [
            "**************************************************************************************************** \n",
            "\n",
            "Info: \n",
            "\n",
            "<class 'pandas.core.frame.DataFrame'>\n",
            "RangeIndex: 16860 entries, 0 to 16859\n",
            "Data columns (total 87 columns):\n",
            "date                                                  16860 non-null object\n",
            "final.output.concentrate_ag                           16788 non-null float64\n",
            "final.output.concentrate_pb                           16788 non-null float64\n",
            "final.output.concentrate_sol                          16490 non-null float64\n",
            "final.output.concentrate_au                           16789 non-null float64\n",
            "final.output.recovery                                 15339 non-null float64\n",
            "final.output.tail_ag                                  16794 non-null float64\n",
            "final.output.tail_pb                                  16677 non-null float64\n",
            "final.output.tail_sol                                 16715 non-null float64\n",
            "final.output.tail_au                                  16794 non-null float64\n",
            "primary_cleaner.input.sulfate                         15553 non-null float64\n",
            "primary_cleaner.input.depressant                      15598 non-null float64\n",
            "primary_cleaner.input.feed_size                       16860 non-null float64\n",
            "primary_cleaner.input.xanthate                        15875 non-null float64\n",
            "primary_cleaner.output.concentrate_ag                 16778 non-null float64\n",
            "primary_cleaner.output.concentrate_pb                 16502 non-null float64\n",
            "primary_cleaner.output.concentrate_sol                16224 non-null float64\n",
            "primary_cleaner.output.concentrate_au                 16778 non-null float64\n",
            "primary_cleaner.output.tail_ag                        16777 non-null float64\n",
            "primary_cleaner.output.tail_pb                        16761 non-null float64\n",
            "primary_cleaner.output.tail_sol                       16579 non-null float64\n",
            "primary_cleaner.output.tail_au                        16777 non-null float64\n",
            "primary_cleaner.state.floatbank8_a_air                16820 non-null float64\n",
            "primary_cleaner.state.floatbank8_a_level              16827 non-null float64\n",
            "primary_cleaner.state.floatbank8_b_air                16820 non-null float64\n",
            "primary_cleaner.state.floatbank8_b_level              16833 non-null float64\n",
            "primary_cleaner.state.floatbank8_c_air                16822 non-null float64\n",
            "primary_cleaner.state.floatbank8_c_level              16833 non-null float64\n",
            "primary_cleaner.state.floatbank8_d_air                16821 non-null float64\n",
            "primary_cleaner.state.floatbank8_d_level              16833 non-null float64\n",
            "rougher.calculation.sulfate_to_au_concentrate         16833 non-null float64\n",
            "rougher.calculation.floatbank10_sulfate_to_au_feed    16833 non-null float64\n",
            "rougher.calculation.floatbank11_sulfate_to_au_feed    16833 non-null float64\n",
            "rougher.calculation.au_pb_ratio                       15618 non-null float64\n",
            "rougher.input.feed_ag                                 16778 non-null float64\n",
            "rougher.input.feed_pb                                 16632 non-null float64\n",
            "rougher.input.feed_rate                               16347 non-null float64\n",
            "rougher.input.feed_size                               16443 non-null float64\n",
            "rougher.input.feed_sol                                16568 non-null float64\n",
            "rougher.input.feed_au                                 16777 non-null float64\n",
            "rougher.input.floatbank10_sulfate                     15816 non-null float64\n",
            "rougher.input.floatbank10_xanthate                    16514 non-null float64\n",
            "rougher.input.floatbank11_sulfate                     16237 non-null float64\n",
            "rougher.input.floatbank11_xanthate                    14956 non-null float64\n",
            "rougher.output.concentrate_ag                         16778 non-null float64\n",
            "rougher.output.concentrate_pb                         16778 non-null float64\n",
            "rougher.output.concentrate_sol                        16698 non-null float64\n",
            "rougher.output.concentrate_au                         16778 non-null float64\n",
            "rougher.output.recovery                               14287 non-null float64\n",
            "rougher.output.tail_ag                                14610 non-null float64\n",
            "rougher.output.tail_pb                                16778 non-null float64\n",
            "rougher.output.tail_sol                               14611 non-null float64\n",
            "rougher.output.tail_au                                14611 non-null float64\n",
            "rougher.state.floatbank10_a_air                       16807 non-null float64\n",
            "rougher.state.floatbank10_a_level                     16807 non-null float64\n",
            "rougher.state.floatbank10_b_air                       16807 non-null float64\n",
            "rougher.state.floatbank10_b_level                     16807 non-null float64\n",
            "rougher.state.floatbank10_c_air                       16807 non-null float64\n",
            "rougher.state.floatbank10_c_level                     16814 non-null float64\n",
            "rougher.state.floatbank10_d_air                       16802 non-null float64\n",
            "rougher.state.floatbank10_d_level                     16809 non-null float64\n",
            "rougher.state.floatbank10_e_air                       16257 non-null float64\n",
            "rougher.state.floatbank10_e_level                     16809 non-null float64\n",
            "rougher.state.floatbank10_f_air                       16802 non-null float64\n",
            "rougher.state.floatbank10_f_level                     16802 non-null float64\n",
            "secondary_cleaner.output.tail_ag                      16776 non-null float64\n",
            "secondary_cleaner.output.tail_pb                      16764 non-null float64\n",
            "secondary_cleaner.output.tail_sol                     14874 non-null float64\n",
            "secondary_cleaner.output.tail_au                      16778 non-null float64\n",
            "secondary_cleaner.state.floatbank2_a_air              16497 non-null float64\n",
            "secondary_cleaner.state.floatbank2_a_level            16751 non-null float64\n",
            "secondary_cleaner.state.floatbank2_b_air              16705 non-null float64\n",
            "secondary_cleaner.state.floatbank2_b_level            16748 non-null float64\n",
            "secondary_cleaner.state.floatbank3_a_air              16763 non-null float64\n",
            "secondary_cleaner.state.floatbank3_a_level            16747 non-null float64\n",
            "secondary_cleaner.state.floatbank3_b_air              16752 non-null float64\n",
            "secondary_cleaner.state.floatbank3_b_level            16750 non-null float64\n",
            "secondary_cleaner.state.floatbank4_a_air              16731 non-null float64\n",
            "secondary_cleaner.state.floatbank4_a_level            16747 non-null float64\n",
            "secondary_cleaner.state.floatbank4_b_air              16768 non-null float64\n",
            "secondary_cleaner.state.floatbank4_b_level            16767 non-null float64\n",
            "secondary_cleaner.state.floatbank5_a_air              16775 non-null float64\n",
            "secondary_cleaner.state.floatbank5_a_level            16775 non-null float64\n",
            "secondary_cleaner.state.floatbank5_b_air              16775 non-null float64\n",
            "secondary_cleaner.state.floatbank5_b_level            16776 non-null float64\n",
            "secondary_cleaner.state.floatbank6_a_air              16757 non-null float64\n",
            "secondary_cleaner.state.floatbank6_a_level            16775 non-null float64\n",
            "dtypes: float64(86), object(1)\n",
            "memory usage: 11.2+ MB\n"
          ],
          "name": "stdout"
        },
        {
          "output_type": "display_data",
          "data": {
            "text/plain": [
              "None"
            ]
          },
          "metadata": {
            "tags": []
          }
        },
        {
          "output_type": "stream",
          "text": [
            "**************************************************************************************************** \n",
            "\n",
            "Describe: \n",
            "\n"
          ],
          "name": "stdout"
        },
        {
          "output_type": "display_data",
          "data": {
            "text/html": [
              "<div>\n",
              "<style scoped>\n",
              "    .dataframe tbody tr th:only-of-type {\n",
              "        vertical-align: middle;\n",
              "    }\n",
              "\n",
              "    .dataframe tbody tr th {\n",
              "        vertical-align: top;\n",
              "    }\n",
              "\n",
              "    .dataframe thead th {\n",
              "        text-align: right;\n",
              "    }\n",
              "</style>\n",
              "<table border=\"1\" class=\"dataframe\">\n",
              "  <thead>\n",
              "    <tr style=\"text-align: right;\">\n",
              "      <th></th>\n",
              "      <th>final.output.concentrate_ag</th>\n",
              "      <th>final.output.concentrate_pb</th>\n",
              "      <th>final.output.concentrate_sol</th>\n",
              "      <th>final.output.concentrate_au</th>\n",
              "      <th>final.output.recovery</th>\n",
              "      <th>final.output.tail_ag</th>\n",
              "      <th>final.output.tail_pb</th>\n",
              "      <th>final.output.tail_sol</th>\n",
              "      <th>final.output.tail_au</th>\n",
              "      <th>primary_cleaner.input.sulfate</th>\n",
              "      <th>...</th>\n",
              "      <th>secondary_cleaner.state.floatbank4_a_air</th>\n",
              "      <th>secondary_cleaner.state.floatbank4_a_level</th>\n",
              "      <th>secondary_cleaner.state.floatbank4_b_air</th>\n",
              "      <th>secondary_cleaner.state.floatbank4_b_level</th>\n",
              "      <th>secondary_cleaner.state.floatbank5_a_air</th>\n",
              "      <th>secondary_cleaner.state.floatbank5_a_level</th>\n",
              "      <th>secondary_cleaner.state.floatbank5_b_air</th>\n",
              "      <th>secondary_cleaner.state.floatbank5_b_level</th>\n",
              "      <th>secondary_cleaner.state.floatbank6_a_air</th>\n",
              "      <th>secondary_cleaner.state.floatbank6_a_level</th>\n",
              "    </tr>\n",
              "  </thead>\n",
              "  <tbody>\n",
              "    <tr>\n",
              "      <td>count</td>\n",
              "      <td>16788.000000</td>\n",
              "      <td>16788.000000</td>\n",
              "      <td>16490.000000</td>\n",
              "      <td>16789.000000</td>\n",
              "      <td>15339.000000</td>\n",
              "      <td>16794.000000</td>\n",
              "      <td>16677.000000</td>\n",
              "      <td>16715.000000</td>\n",
              "      <td>16794.000000</td>\n",
              "      <td>15553.000000</td>\n",
              "      <td>...</td>\n",
              "      <td>16731.000000</td>\n",
              "      <td>16747.000000</td>\n",
              "      <td>16768.000000</td>\n",
              "      <td>16767.000000</td>\n",
              "      <td>16775.000000</td>\n",
              "      <td>16775.000000</td>\n",
              "      <td>16775.000000</td>\n",
              "      <td>16776.000000</td>\n",
              "      <td>16757.000000</td>\n",
              "      <td>16775.000000</td>\n",
              "    </tr>\n",
              "    <tr>\n",
              "      <td>mean</td>\n",
              "      <td>4.716907</td>\n",
              "      <td>9.113559</td>\n",
              "      <td>8.301123</td>\n",
              "      <td>39.467217</td>\n",
              "      <td>67.213166</td>\n",
              "      <td>8.757048</td>\n",
              "      <td>2.360327</td>\n",
              "      <td>9.303932</td>\n",
              "      <td>2.687512</td>\n",
              "      <td>129.479789</td>\n",
              "      <td>...</td>\n",
              "      <td>19.101874</td>\n",
              "      <td>-494.164481</td>\n",
              "      <td>14.778164</td>\n",
              "      <td>-476.600082</td>\n",
              "      <td>15.779488</td>\n",
              "      <td>-500.230146</td>\n",
              "      <td>12.377241</td>\n",
              "      <td>-498.956257</td>\n",
              "      <td>18.429208</td>\n",
              "      <td>-521.801826</td>\n",
              "    </tr>\n",
              "    <tr>\n",
              "      <td>std</td>\n",
              "      <td>2.096718</td>\n",
              "      <td>3.389495</td>\n",
              "      <td>3.825760</td>\n",
              "      <td>13.917227</td>\n",
              "      <td>11.960446</td>\n",
              "      <td>3.634103</td>\n",
              "      <td>1.215576</td>\n",
              "      <td>4.263208</td>\n",
              "      <td>1.272757</td>\n",
              "      <td>45.386931</td>\n",
              "      <td>...</td>\n",
              "      <td>6.883163</td>\n",
              "      <td>84.803334</td>\n",
              "      <td>5.999149</td>\n",
              "      <td>89.381172</td>\n",
              "      <td>6.834703</td>\n",
              "      <td>76.983542</td>\n",
              "      <td>6.219989</td>\n",
              "      <td>82.146207</td>\n",
              "      <td>6.958294</td>\n",
              "      <td>77.170888</td>\n",
              "    </tr>\n",
              "    <tr>\n",
              "      <td>min</td>\n",
              "      <td>0.000000</td>\n",
              "      <td>0.000000</td>\n",
              "      <td>0.000000</td>\n",
              "      <td>0.000000</td>\n",
              "      <td>0.000000</td>\n",
              "      <td>0.000000</td>\n",
              "      <td>0.000000</td>\n",
              "      <td>0.000000</td>\n",
              "      <td>0.000000</td>\n",
              "      <td>0.000003</td>\n",
              "      <td>...</td>\n",
              "      <td>0.000000</td>\n",
              "      <td>-799.920713</td>\n",
              "      <td>0.000000</td>\n",
              "      <td>-800.021781</td>\n",
              "      <td>-0.423260</td>\n",
              "      <td>-799.741097</td>\n",
              "      <td>0.427084</td>\n",
              "      <td>-800.258209</td>\n",
              "      <td>0.024270</td>\n",
              "      <td>-810.473526</td>\n",
              "    </tr>\n",
              "    <tr>\n",
              "      <td>25%</td>\n",
              "      <td>3.971262</td>\n",
              "      <td>8.825748</td>\n",
              "      <td>6.939185</td>\n",
              "      <td>42.055722</td>\n",
              "      <td>62.625685</td>\n",
              "      <td>7.610544</td>\n",
              "      <td>1.641604</td>\n",
              "      <td>7.870275</td>\n",
              "      <td>2.172953</td>\n",
              "      <td>103.064021</td>\n",
              "      <td>...</td>\n",
              "      <td>14.508299</td>\n",
              "      <td>-500.837689</td>\n",
              "      <td>10.741388</td>\n",
              "      <td>-500.269182</td>\n",
              "      <td>10.977713</td>\n",
              "      <td>-500.530594</td>\n",
              "      <td>8.925586</td>\n",
              "      <td>-500.147603</td>\n",
              "      <td>13.977626</td>\n",
              "      <td>-501.080595</td>\n",
              "    </tr>\n",
              "    <tr>\n",
              "      <td>50%</td>\n",
              "      <td>4.869346</td>\n",
              "      <td>10.065316</td>\n",
              "      <td>8.557228</td>\n",
              "      <td>44.498874</td>\n",
              "      <td>67.644601</td>\n",
              "      <td>9.220393</td>\n",
              "      <td>2.453690</td>\n",
              "      <td>10.021968</td>\n",
              "      <td>2.781132</td>\n",
              "      <td>131.783108</td>\n",
              "      <td>...</td>\n",
              "      <td>19.986958</td>\n",
              "      <td>-499.778379</td>\n",
              "      <td>14.943933</td>\n",
              "      <td>-499.593286</td>\n",
              "      <td>15.998340</td>\n",
              "      <td>-499.784231</td>\n",
              "      <td>11.092839</td>\n",
              "      <td>-499.933330</td>\n",
              "      <td>18.034960</td>\n",
              "      <td>-500.109898</td>\n",
              "    </tr>\n",
              "    <tr>\n",
              "      <td>75%</td>\n",
              "      <td>5.821176</td>\n",
              "      <td>11.054809</td>\n",
              "      <td>10.289741</td>\n",
              "      <td>45.976222</td>\n",
              "      <td>72.824595</td>\n",
              "      <td>10.971110</td>\n",
              "      <td>3.192404</td>\n",
              "      <td>11.648573</td>\n",
              "      <td>3.416936</td>\n",
              "      <td>159.539839</td>\n",
              "      <td>...</td>\n",
              "      <td>24.983961</td>\n",
              "      <td>-494.648754</td>\n",
              "      <td>20.023751</td>\n",
              "      <td>-400.137948</td>\n",
              "      <td>20.000701</td>\n",
              "      <td>-496.531781</td>\n",
              "      <td>15.979467</td>\n",
              "      <td>-498.418000</td>\n",
              "      <td>24.984992</td>\n",
              "      <td>-499.565540</td>\n",
              "    </tr>\n",
              "    <tr>\n",
              "      <td>max</td>\n",
              "      <td>16.001945</td>\n",
              "      <td>17.031899</td>\n",
              "      <td>18.124851</td>\n",
              "      <td>53.611374</td>\n",
              "      <td>100.000000</td>\n",
              "      <td>19.552149</td>\n",
              "      <td>6.086532</td>\n",
              "      <td>22.317730</td>\n",
              "      <td>9.789625</td>\n",
              "      <td>251.999948</td>\n",
              "      <td>...</td>\n",
              "      <td>60.000000</td>\n",
              "      <td>-127.692333</td>\n",
              "      <td>28.003828</td>\n",
              "      <td>-71.472472</td>\n",
              "      <td>63.116298</td>\n",
              "      <td>-275.073125</td>\n",
              "      <td>39.846228</td>\n",
              "      <td>-120.190931</td>\n",
              "      <td>54.876806</td>\n",
              "      <td>-39.784927</td>\n",
              "    </tr>\n",
              "  </tbody>\n",
              "</table>\n",
              "<p>8 rows × 86 columns</p>\n",
              "</div>"
            ],
            "text/plain": [
              "       final.output.concentrate_ag  final.output.concentrate_pb  \\\n",
              "count                 16788.000000                 16788.000000   \n",
              "mean                      4.716907                     9.113559   \n",
              "std                       2.096718                     3.389495   \n",
              "min                       0.000000                     0.000000   \n",
              "25%                       3.971262                     8.825748   \n",
              "50%                       4.869346                    10.065316   \n",
              "75%                       5.821176                    11.054809   \n",
              "max                      16.001945                    17.031899   \n",
              "\n",
              "       final.output.concentrate_sol  final.output.concentrate_au  \\\n",
              "count                  16490.000000                 16789.000000   \n",
              "mean                       8.301123                    39.467217   \n",
              "std                        3.825760                    13.917227   \n",
              "min                        0.000000                     0.000000   \n",
              "25%                        6.939185                    42.055722   \n",
              "50%                        8.557228                    44.498874   \n",
              "75%                       10.289741                    45.976222   \n",
              "max                       18.124851                    53.611374   \n",
              "\n",
              "       final.output.recovery  final.output.tail_ag  final.output.tail_pb  \\\n",
              "count           15339.000000          16794.000000          16677.000000   \n",
              "mean               67.213166              8.757048              2.360327   \n",
              "std                11.960446              3.634103              1.215576   \n",
              "min                 0.000000              0.000000              0.000000   \n",
              "25%                62.625685              7.610544              1.641604   \n",
              "50%                67.644601              9.220393              2.453690   \n",
              "75%                72.824595             10.971110              3.192404   \n",
              "max               100.000000             19.552149              6.086532   \n",
              "\n",
              "       final.output.tail_sol  final.output.tail_au  \\\n",
              "count           16715.000000          16794.000000   \n",
              "mean                9.303932              2.687512   \n",
              "std                 4.263208              1.272757   \n",
              "min                 0.000000              0.000000   \n",
              "25%                 7.870275              2.172953   \n",
              "50%                10.021968              2.781132   \n",
              "75%                11.648573              3.416936   \n",
              "max                22.317730              9.789625   \n",
              "\n",
              "       primary_cleaner.input.sulfate  ...  \\\n",
              "count                   15553.000000  ...   \n",
              "mean                      129.479789  ...   \n",
              "std                        45.386931  ...   \n",
              "min                         0.000003  ...   \n",
              "25%                       103.064021  ...   \n",
              "50%                       131.783108  ...   \n",
              "75%                       159.539839  ...   \n",
              "max                       251.999948  ...   \n",
              "\n",
              "       secondary_cleaner.state.floatbank4_a_air  \\\n",
              "count                              16731.000000   \n",
              "mean                                  19.101874   \n",
              "std                                    6.883163   \n",
              "min                                    0.000000   \n",
              "25%                                   14.508299   \n",
              "50%                                   19.986958   \n",
              "75%                                   24.983961   \n",
              "max                                   60.000000   \n",
              "\n",
              "       secondary_cleaner.state.floatbank4_a_level  \\\n",
              "count                                16747.000000   \n",
              "mean                                  -494.164481   \n",
              "std                                     84.803334   \n",
              "min                                   -799.920713   \n",
              "25%                                   -500.837689   \n",
              "50%                                   -499.778379   \n",
              "75%                                   -494.648754   \n",
              "max                                   -127.692333   \n",
              "\n",
              "       secondary_cleaner.state.floatbank4_b_air  \\\n",
              "count                              16768.000000   \n",
              "mean                                  14.778164   \n",
              "std                                    5.999149   \n",
              "min                                    0.000000   \n",
              "25%                                   10.741388   \n",
              "50%                                   14.943933   \n",
              "75%                                   20.023751   \n",
              "max                                   28.003828   \n",
              "\n",
              "       secondary_cleaner.state.floatbank4_b_level  \\\n",
              "count                                16767.000000   \n",
              "mean                                  -476.600082   \n",
              "std                                     89.381172   \n",
              "min                                   -800.021781   \n",
              "25%                                   -500.269182   \n",
              "50%                                   -499.593286   \n",
              "75%                                   -400.137948   \n",
              "max                                    -71.472472   \n",
              "\n",
              "       secondary_cleaner.state.floatbank5_a_air  \\\n",
              "count                              16775.000000   \n",
              "mean                                  15.779488   \n",
              "std                                    6.834703   \n",
              "min                                   -0.423260   \n",
              "25%                                   10.977713   \n",
              "50%                                   15.998340   \n",
              "75%                                   20.000701   \n",
              "max                                   63.116298   \n",
              "\n",
              "       secondary_cleaner.state.floatbank5_a_level  \\\n",
              "count                                16775.000000   \n",
              "mean                                  -500.230146   \n",
              "std                                     76.983542   \n",
              "min                                   -799.741097   \n",
              "25%                                   -500.530594   \n",
              "50%                                   -499.784231   \n",
              "75%                                   -496.531781   \n",
              "max                                   -275.073125   \n",
              "\n",
              "       secondary_cleaner.state.floatbank5_b_air  \\\n",
              "count                              16775.000000   \n",
              "mean                                  12.377241   \n",
              "std                                    6.219989   \n",
              "min                                    0.427084   \n",
              "25%                                    8.925586   \n",
              "50%                                   11.092839   \n",
              "75%                                   15.979467   \n",
              "max                                   39.846228   \n",
              "\n",
              "       secondary_cleaner.state.floatbank5_b_level  \\\n",
              "count                                16776.000000   \n",
              "mean                                  -498.956257   \n",
              "std                                     82.146207   \n",
              "min                                   -800.258209   \n",
              "25%                                   -500.147603   \n",
              "50%                                   -499.933330   \n",
              "75%                                   -498.418000   \n",
              "max                                   -120.190931   \n",
              "\n",
              "       secondary_cleaner.state.floatbank6_a_air  \\\n",
              "count                              16757.000000   \n",
              "mean                                  18.429208   \n",
              "std                                    6.958294   \n",
              "min                                    0.024270   \n",
              "25%                                   13.977626   \n",
              "50%                                   18.034960   \n",
              "75%                                   24.984992   \n",
              "max                                   54.876806   \n",
              "\n",
              "       secondary_cleaner.state.floatbank6_a_level  \n",
              "count                                16775.000000  \n",
              "mean                                  -521.801826  \n",
              "std                                     77.170888  \n",
              "min                                   -810.473526  \n",
              "25%                                   -501.080595  \n",
              "50%                                   -500.109898  \n",
              "75%                                   -499.565540  \n",
              "max                                    -39.784927  \n",
              "\n",
              "[8 rows x 86 columns]"
            ]
          },
          "metadata": {
            "tags": []
          }
        },
        {
          "output_type": "stream",
          "text": [
            "**************************************************************************************************** \n",
            "\n",
            "Columns with nulls: \n",
            "\n"
          ],
          "name": "stdout"
        },
        {
          "output_type": "display_data",
          "data": {
            "text/html": [
              "<div>\n",
              "<style scoped>\n",
              "    .dataframe tbody tr th:only-of-type {\n",
              "        vertical-align: middle;\n",
              "    }\n",
              "\n",
              "    .dataframe tbody tr th {\n",
              "        vertical-align: top;\n",
              "    }\n",
              "\n",
              "    .dataframe thead th {\n",
              "        text-align: right;\n",
              "    }\n",
              "</style>\n",
              "<table border=\"1\" class=\"dataframe\">\n",
              "  <thead>\n",
              "    <tr style=\"text-align: right;\">\n",
              "      <th></th>\n",
              "      <th>missing_values</th>\n",
              "      <th>percent_of_nulls</th>\n",
              "    </tr>\n",
              "  </thead>\n",
              "  <tbody>\n",
              "    <tr>\n",
              "      <td>date</td>\n",
              "      <td>0</td>\n",
              "      <td>0.00</td>\n",
              "    </tr>\n",
              "    <tr>\n",
              "      <td>final.output.concentrate_ag</td>\n",
              "      <td>72</td>\n",
              "      <td>0.43</td>\n",
              "    </tr>\n",
              "    <tr>\n",
              "      <td>final.output.concentrate_pb</td>\n",
              "      <td>72</td>\n",
              "      <td>0.43</td>\n",
              "    </tr>\n",
              "    <tr>\n",
              "      <td>final.output.concentrate_sol</td>\n",
              "      <td>370</td>\n",
              "      <td>2.19</td>\n",
              "    </tr>\n",
              "    <tr>\n",
              "      <td>final.output.concentrate_au</td>\n",
              "      <td>71</td>\n",
              "      <td>0.42</td>\n",
              "    </tr>\n",
              "    <tr>\n",
              "      <td>...</td>\n",
              "      <td>...</td>\n",
              "      <td>...</td>\n",
              "    </tr>\n",
              "    <tr>\n",
              "      <td>secondary_cleaner.state.floatbank5_a_level</td>\n",
              "      <td>85</td>\n",
              "      <td>0.50</td>\n",
              "    </tr>\n",
              "    <tr>\n",
              "      <td>secondary_cleaner.state.floatbank5_b_air</td>\n",
              "      <td>85</td>\n",
              "      <td>0.50</td>\n",
              "    </tr>\n",
              "    <tr>\n",
              "      <td>secondary_cleaner.state.floatbank5_b_level</td>\n",
              "      <td>84</td>\n",
              "      <td>0.50</td>\n",
              "    </tr>\n",
              "    <tr>\n",
              "      <td>secondary_cleaner.state.floatbank6_a_air</td>\n",
              "      <td>103</td>\n",
              "      <td>0.61</td>\n",
              "    </tr>\n",
              "    <tr>\n",
              "      <td>secondary_cleaner.state.floatbank6_a_level</td>\n",
              "      <td>85</td>\n",
              "      <td>0.50</td>\n",
              "    </tr>\n",
              "  </tbody>\n",
              "</table>\n",
              "<p>87 rows × 2 columns</p>\n",
              "</div>"
            ],
            "text/plain": [
              "                                            missing_values  percent_of_nulls\n",
              "date                                                     0              0.00\n",
              "final.output.concentrate_ag                             72              0.43\n",
              "final.output.concentrate_pb                             72              0.43\n",
              "final.output.concentrate_sol                           370              2.19\n",
              "final.output.concentrate_au                             71              0.42\n",
              "...                                                    ...               ...\n",
              "secondary_cleaner.state.floatbank5_a_level              85              0.50\n",
              "secondary_cleaner.state.floatbank5_b_air                85              0.50\n",
              "secondary_cleaner.state.floatbank5_b_level              84              0.50\n",
              "secondary_cleaner.state.floatbank6_a_air               103              0.61\n",
              "secondary_cleaner.state.floatbank6_a_level              85              0.50\n",
              "\n",
              "[87 rows x 2 columns]"
            ]
          },
          "metadata": {
            "tags": []
          }
        },
        {
          "output_type": "stream",
          "text": [
            "**************************************************************************************************** \n",
            "\n",
            "Shape: \n",
            "\n"
          ],
          "name": "stdout"
        },
        {
          "output_type": "display_data",
          "data": {
            "text/plain": [
              "(16860, 87)"
            ]
          },
          "metadata": {
            "tags": []
          }
        },
        {
          "output_type": "stream",
          "text": [
            "**************************************************************************************************** \n",
            "\n",
            "Duplicated: \n",
            "\n",
            "Number of duplicated rows: 0\n"
          ],
          "name": "stdout"
        }
      ]
    },
    {
      "cell_type": "code",
      "metadata": {
        "colab": {
          "base_uri": "https://localhost:8080/",
          "height": 1000
        },
        "id": "6RA3zYTi5b-i",
        "outputId": "61f37d06-6f8d-444a-ed70-b661a2854502"
      },
      "source": [
        "get_information(df_test)"
      ],
      "execution_count": null,
      "outputs": [
        {
          "output_type": "stream",
          "text": [
            "Head: \n",
            "\n"
          ],
          "name": "stdout"
        },
        {
          "output_type": "display_data",
          "data": {
            "text/html": [
              "<div>\n",
              "<style scoped>\n",
              "    .dataframe tbody tr th:only-of-type {\n",
              "        vertical-align: middle;\n",
              "    }\n",
              "\n",
              "    .dataframe tbody tr th {\n",
              "        vertical-align: top;\n",
              "    }\n",
              "\n",
              "    .dataframe thead th {\n",
              "        text-align: right;\n",
              "    }\n",
              "</style>\n",
              "<table border=\"1\" class=\"dataframe\">\n",
              "  <thead>\n",
              "    <tr style=\"text-align: right;\">\n",
              "      <th></th>\n",
              "      <th>date</th>\n",
              "      <th>primary_cleaner.input.sulfate</th>\n",
              "      <th>primary_cleaner.input.depressant</th>\n",
              "      <th>primary_cleaner.input.feed_size</th>\n",
              "      <th>primary_cleaner.input.xanthate</th>\n",
              "      <th>primary_cleaner.state.floatbank8_a_air</th>\n",
              "      <th>primary_cleaner.state.floatbank8_a_level</th>\n",
              "      <th>primary_cleaner.state.floatbank8_b_air</th>\n",
              "      <th>primary_cleaner.state.floatbank8_b_level</th>\n",
              "      <th>primary_cleaner.state.floatbank8_c_air</th>\n",
              "      <th>...</th>\n",
              "      <th>secondary_cleaner.state.floatbank4_a_air</th>\n",
              "      <th>secondary_cleaner.state.floatbank4_a_level</th>\n",
              "      <th>secondary_cleaner.state.floatbank4_b_air</th>\n",
              "      <th>secondary_cleaner.state.floatbank4_b_level</th>\n",
              "      <th>secondary_cleaner.state.floatbank5_a_air</th>\n",
              "      <th>secondary_cleaner.state.floatbank5_a_level</th>\n",
              "      <th>secondary_cleaner.state.floatbank5_b_air</th>\n",
              "      <th>secondary_cleaner.state.floatbank5_b_level</th>\n",
              "      <th>secondary_cleaner.state.floatbank6_a_air</th>\n",
              "      <th>secondary_cleaner.state.floatbank6_a_level</th>\n",
              "    </tr>\n",
              "  </thead>\n",
              "  <tbody>\n",
              "    <tr>\n",
              "      <td>0</td>\n",
              "      <td>2016-09-01 00:59:59</td>\n",
              "      <td>210.800909</td>\n",
              "      <td>14.993118</td>\n",
              "      <td>8.080000</td>\n",
              "      <td>1.005021</td>\n",
              "      <td>1398.981301</td>\n",
              "      <td>-500.225577</td>\n",
              "      <td>1399.144926</td>\n",
              "      <td>-499.919735</td>\n",
              "      <td>1400.102998</td>\n",
              "      <td>...</td>\n",
              "      <td>12.023554</td>\n",
              "      <td>-497.795834</td>\n",
              "      <td>8.016656</td>\n",
              "      <td>-501.289139</td>\n",
              "      <td>7.946562</td>\n",
              "      <td>-432.317850</td>\n",
              "      <td>4.872511</td>\n",
              "      <td>-500.037437</td>\n",
              "      <td>26.705889</td>\n",
              "      <td>-499.709414</td>\n",
              "    </tr>\n",
              "    <tr>\n",
              "      <td>1</td>\n",
              "      <td>2016-09-01 01:59:59</td>\n",
              "      <td>215.392455</td>\n",
              "      <td>14.987471</td>\n",
              "      <td>8.080000</td>\n",
              "      <td>0.990469</td>\n",
              "      <td>1398.777912</td>\n",
              "      <td>-500.057435</td>\n",
              "      <td>1398.055362</td>\n",
              "      <td>-499.778182</td>\n",
              "      <td>1396.151033</td>\n",
              "      <td>...</td>\n",
              "      <td>12.058140</td>\n",
              "      <td>-498.695773</td>\n",
              "      <td>8.130979</td>\n",
              "      <td>-499.634209</td>\n",
              "      <td>7.958270</td>\n",
              "      <td>-525.839648</td>\n",
              "      <td>4.878850</td>\n",
              "      <td>-500.162375</td>\n",
              "      <td>25.019940</td>\n",
              "      <td>-499.819438</td>\n",
              "    </tr>\n",
              "    <tr>\n",
              "      <td>2</td>\n",
              "      <td>2016-09-01 02:59:59</td>\n",
              "      <td>215.259946</td>\n",
              "      <td>12.884934</td>\n",
              "      <td>7.786667</td>\n",
              "      <td>0.996043</td>\n",
              "      <td>1398.493666</td>\n",
              "      <td>-500.868360</td>\n",
              "      <td>1398.860436</td>\n",
              "      <td>-499.764529</td>\n",
              "      <td>1398.075709</td>\n",
              "      <td>...</td>\n",
              "      <td>11.962366</td>\n",
              "      <td>-498.767484</td>\n",
              "      <td>8.096893</td>\n",
              "      <td>-500.827423</td>\n",
              "      <td>8.071056</td>\n",
              "      <td>-500.801673</td>\n",
              "      <td>4.905125</td>\n",
              "      <td>-499.828510</td>\n",
              "      <td>24.994862</td>\n",
              "      <td>-500.622559</td>\n",
              "    </tr>\n",
              "    <tr>\n",
              "      <td>3</td>\n",
              "      <td>2016-09-01 03:59:59</td>\n",
              "      <td>215.336236</td>\n",
              "      <td>12.006805</td>\n",
              "      <td>7.640000</td>\n",
              "      <td>0.863514</td>\n",
              "      <td>1399.618111</td>\n",
              "      <td>-498.863574</td>\n",
              "      <td>1397.440120</td>\n",
              "      <td>-499.211024</td>\n",
              "      <td>1400.129303</td>\n",
              "      <td>...</td>\n",
              "      <td>12.033091</td>\n",
              "      <td>-498.350935</td>\n",
              "      <td>8.074946</td>\n",
              "      <td>-499.474407</td>\n",
              "      <td>7.897085</td>\n",
              "      <td>-500.868509</td>\n",
              "      <td>4.931400</td>\n",
              "      <td>-499.963623</td>\n",
              "      <td>24.948919</td>\n",
              "      <td>-498.709987</td>\n",
              "    </tr>\n",
              "    <tr>\n",
              "      <td>4</td>\n",
              "      <td>2016-09-01 04:59:59</td>\n",
              "      <td>199.099327</td>\n",
              "      <td>10.682530</td>\n",
              "      <td>7.530000</td>\n",
              "      <td>0.805575</td>\n",
              "      <td>1401.268123</td>\n",
              "      <td>-500.808305</td>\n",
              "      <td>1398.128818</td>\n",
              "      <td>-499.504543</td>\n",
              "      <td>1402.172226</td>\n",
              "      <td>...</td>\n",
              "      <td>12.025367</td>\n",
              "      <td>-500.786497</td>\n",
              "      <td>8.054678</td>\n",
              "      <td>-500.397500</td>\n",
              "      <td>8.107890</td>\n",
              "      <td>-509.526725</td>\n",
              "      <td>4.957674</td>\n",
              "      <td>-500.360026</td>\n",
              "      <td>25.003331</td>\n",
              "      <td>-500.856333</td>\n",
              "    </tr>\n",
              "  </tbody>\n",
              "</table>\n",
              "<p>5 rows × 53 columns</p>\n",
              "</div>"
            ],
            "text/plain": [
              "                  date  primary_cleaner.input.sulfate  \\\n",
              "0  2016-09-01 00:59:59                     210.800909   \n",
              "1  2016-09-01 01:59:59                     215.392455   \n",
              "2  2016-09-01 02:59:59                     215.259946   \n",
              "3  2016-09-01 03:59:59                     215.336236   \n",
              "4  2016-09-01 04:59:59                     199.099327   \n",
              "\n",
              "   primary_cleaner.input.depressant  primary_cleaner.input.feed_size  \\\n",
              "0                         14.993118                         8.080000   \n",
              "1                         14.987471                         8.080000   \n",
              "2                         12.884934                         7.786667   \n",
              "3                         12.006805                         7.640000   \n",
              "4                         10.682530                         7.530000   \n",
              "\n",
              "   primary_cleaner.input.xanthate  primary_cleaner.state.floatbank8_a_air  \\\n",
              "0                        1.005021                             1398.981301   \n",
              "1                        0.990469                             1398.777912   \n",
              "2                        0.996043                             1398.493666   \n",
              "3                        0.863514                             1399.618111   \n",
              "4                        0.805575                             1401.268123   \n",
              "\n",
              "   primary_cleaner.state.floatbank8_a_level  \\\n",
              "0                               -500.225577   \n",
              "1                               -500.057435   \n",
              "2                               -500.868360   \n",
              "3                               -498.863574   \n",
              "4                               -500.808305   \n",
              "\n",
              "   primary_cleaner.state.floatbank8_b_air  \\\n",
              "0                             1399.144926   \n",
              "1                             1398.055362   \n",
              "2                             1398.860436   \n",
              "3                             1397.440120   \n",
              "4                             1398.128818   \n",
              "\n",
              "   primary_cleaner.state.floatbank8_b_level  \\\n",
              "0                               -499.919735   \n",
              "1                               -499.778182   \n",
              "2                               -499.764529   \n",
              "3                               -499.211024   \n",
              "4                               -499.504543   \n",
              "\n",
              "   primary_cleaner.state.floatbank8_c_air  ...  \\\n",
              "0                             1400.102998  ...   \n",
              "1                             1396.151033  ...   \n",
              "2                             1398.075709  ...   \n",
              "3                             1400.129303  ...   \n",
              "4                             1402.172226  ...   \n",
              "\n",
              "   secondary_cleaner.state.floatbank4_a_air  \\\n",
              "0                                 12.023554   \n",
              "1                                 12.058140   \n",
              "2                                 11.962366   \n",
              "3                                 12.033091   \n",
              "4                                 12.025367   \n",
              "\n",
              "   secondary_cleaner.state.floatbank4_a_level  \\\n",
              "0                                 -497.795834   \n",
              "1                                 -498.695773   \n",
              "2                                 -498.767484   \n",
              "3                                 -498.350935   \n",
              "4                                 -500.786497   \n",
              "\n",
              "   secondary_cleaner.state.floatbank4_b_air  \\\n",
              "0                                  8.016656   \n",
              "1                                  8.130979   \n",
              "2                                  8.096893   \n",
              "3                                  8.074946   \n",
              "4                                  8.054678   \n",
              "\n",
              "   secondary_cleaner.state.floatbank4_b_level  \\\n",
              "0                                 -501.289139   \n",
              "1                                 -499.634209   \n",
              "2                                 -500.827423   \n",
              "3                                 -499.474407   \n",
              "4                                 -500.397500   \n",
              "\n",
              "   secondary_cleaner.state.floatbank5_a_air  \\\n",
              "0                                  7.946562   \n",
              "1                                  7.958270   \n",
              "2                                  8.071056   \n",
              "3                                  7.897085   \n",
              "4                                  8.107890   \n",
              "\n",
              "   secondary_cleaner.state.floatbank5_a_level  \\\n",
              "0                                 -432.317850   \n",
              "1                                 -525.839648   \n",
              "2                                 -500.801673   \n",
              "3                                 -500.868509   \n",
              "4                                 -509.526725   \n",
              "\n",
              "   secondary_cleaner.state.floatbank5_b_air  \\\n",
              "0                                  4.872511   \n",
              "1                                  4.878850   \n",
              "2                                  4.905125   \n",
              "3                                  4.931400   \n",
              "4                                  4.957674   \n",
              "\n",
              "   secondary_cleaner.state.floatbank5_b_level  \\\n",
              "0                                 -500.037437   \n",
              "1                                 -500.162375   \n",
              "2                                 -499.828510   \n",
              "3                                 -499.963623   \n",
              "4                                 -500.360026   \n",
              "\n",
              "   secondary_cleaner.state.floatbank6_a_air  \\\n",
              "0                                 26.705889   \n",
              "1                                 25.019940   \n",
              "2                                 24.994862   \n",
              "3                                 24.948919   \n",
              "4                                 25.003331   \n",
              "\n",
              "   secondary_cleaner.state.floatbank6_a_level  \n",
              "0                                 -499.709414  \n",
              "1                                 -499.819438  \n",
              "2                                 -500.622559  \n",
              "3                                 -498.709987  \n",
              "4                                 -500.856333  \n",
              "\n",
              "[5 rows x 53 columns]"
            ]
          },
          "metadata": {
            "tags": []
          }
        },
        {
          "output_type": "stream",
          "text": [
            "**************************************************************************************************** \n",
            "\n",
            "Info: \n",
            "\n",
            "<class 'pandas.core.frame.DataFrame'>\n",
            "RangeIndex: 5856 entries, 0 to 5855\n",
            "Data columns (total 53 columns):\n",
            "date                                          5856 non-null object\n",
            "primary_cleaner.input.sulfate                 5554 non-null float64\n",
            "primary_cleaner.input.depressant              5572 non-null float64\n",
            "primary_cleaner.input.feed_size               5856 non-null float64\n",
            "primary_cleaner.input.xanthate                5690 non-null float64\n",
            "primary_cleaner.state.floatbank8_a_air        5840 non-null float64\n",
            "primary_cleaner.state.floatbank8_a_level      5840 non-null float64\n",
            "primary_cleaner.state.floatbank8_b_air        5840 non-null float64\n",
            "primary_cleaner.state.floatbank8_b_level      5840 non-null float64\n",
            "primary_cleaner.state.floatbank8_c_air        5840 non-null float64\n",
            "primary_cleaner.state.floatbank8_c_level      5840 non-null float64\n",
            "primary_cleaner.state.floatbank8_d_air        5840 non-null float64\n",
            "primary_cleaner.state.floatbank8_d_level      5840 non-null float64\n",
            "rougher.input.feed_ag                         5840 non-null float64\n",
            "rougher.input.feed_pb                         5840 non-null float64\n",
            "rougher.input.feed_rate                       5816 non-null float64\n",
            "rougher.input.feed_size                       5834 non-null float64\n",
            "rougher.input.feed_sol                        5789 non-null float64\n",
            "rougher.input.feed_au                         5840 non-null float64\n",
            "rougher.input.floatbank10_sulfate             5599 non-null float64\n",
            "rougher.input.floatbank10_xanthate            5733 non-null float64\n",
            "rougher.input.floatbank11_sulfate             5801 non-null float64\n",
            "rougher.input.floatbank11_xanthate            5503 non-null float64\n",
            "rougher.state.floatbank10_a_air               5839 non-null float64\n",
            "rougher.state.floatbank10_a_level             5840 non-null float64\n",
            "rougher.state.floatbank10_b_air               5839 non-null float64\n",
            "rougher.state.floatbank10_b_level             5840 non-null float64\n",
            "rougher.state.floatbank10_c_air               5839 non-null float64\n",
            "rougher.state.floatbank10_c_level             5840 non-null float64\n",
            "rougher.state.floatbank10_d_air               5839 non-null float64\n",
            "rougher.state.floatbank10_d_level             5840 non-null float64\n",
            "rougher.state.floatbank10_e_air               5839 non-null float64\n",
            "rougher.state.floatbank10_e_level             5840 non-null float64\n",
            "rougher.state.floatbank10_f_air               5839 non-null float64\n",
            "rougher.state.floatbank10_f_level             5840 non-null float64\n",
            "secondary_cleaner.state.floatbank2_a_air      5836 non-null float64\n",
            "secondary_cleaner.state.floatbank2_a_level    5840 non-null float64\n",
            "secondary_cleaner.state.floatbank2_b_air      5833 non-null float64\n",
            "secondary_cleaner.state.floatbank2_b_level    5840 non-null float64\n",
            "secondary_cleaner.state.floatbank3_a_air      5822 non-null float64\n",
            "secondary_cleaner.state.floatbank3_a_level    5840 non-null float64\n",
            "secondary_cleaner.state.floatbank3_b_air      5840 non-null float64\n",
            "secondary_cleaner.state.floatbank3_b_level    5840 non-null float64\n",
            "secondary_cleaner.state.floatbank4_a_air      5840 non-null float64\n",
            "secondary_cleaner.state.floatbank4_a_level    5840 non-null float64\n",
            "secondary_cleaner.state.floatbank4_b_air      5840 non-null float64\n",
            "secondary_cleaner.state.floatbank4_b_level    5840 non-null float64\n",
            "secondary_cleaner.state.floatbank5_a_air      5840 non-null float64\n",
            "secondary_cleaner.state.floatbank5_a_level    5840 non-null float64\n",
            "secondary_cleaner.state.floatbank5_b_air      5840 non-null float64\n",
            "secondary_cleaner.state.floatbank5_b_level    5840 non-null float64\n",
            "secondary_cleaner.state.floatbank6_a_air      5840 non-null float64\n",
            "secondary_cleaner.state.floatbank6_a_level    5840 non-null float64\n",
            "dtypes: float64(52), object(1)\n",
            "memory usage: 2.4+ MB\n"
          ],
          "name": "stdout"
        },
        {
          "output_type": "display_data",
          "data": {
            "text/plain": [
              "None"
            ]
          },
          "metadata": {
            "tags": []
          }
        },
        {
          "output_type": "stream",
          "text": [
            "**************************************************************************************************** \n",
            "\n",
            "Describe: \n",
            "\n"
          ],
          "name": "stdout"
        },
        {
          "output_type": "display_data",
          "data": {
            "text/html": [
              "<div>\n",
              "<style scoped>\n",
              "    .dataframe tbody tr th:only-of-type {\n",
              "        vertical-align: middle;\n",
              "    }\n",
              "\n",
              "    .dataframe tbody tr th {\n",
              "        vertical-align: top;\n",
              "    }\n",
              "\n",
              "    .dataframe thead th {\n",
              "        text-align: right;\n",
              "    }\n",
              "</style>\n",
              "<table border=\"1\" class=\"dataframe\">\n",
              "  <thead>\n",
              "    <tr style=\"text-align: right;\">\n",
              "      <th></th>\n",
              "      <th>primary_cleaner.input.sulfate</th>\n",
              "      <th>primary_cleaner.input.depressant</th>\n",
              "      <th>primary_cleaner.input.feed_size</th>\n",
              "      <th>primary_cleaner.input.xanthate</th>\n",
              "      <th>primary_cleaner.state.floatbank8_a_air</th>\n",
              "      <th>primary_cleaner.state.floatbank8_a_level</th>\n",
              "      <th>primary_cleaner.state.floatbank8_b_air</th>\n",
              "      <th>primary_cleaner.state.floatbank8_b_level</th>\n",
              "      <th>primary_cleaner.state.floatbank8_c_air</th>\n",
              "      <th>primary_cleaner.state.floatbank8_c_level</th>\n",
              "      <th>...</th>\n",
              "      <th>secondary_cleaner.state.floatbank4_a_air</th>\n",
              "      <th>secondary_cleaner.state.floatbank4_a_level</th>\n",
              "      <th>secondary_cleaner.state.floatbank4_b_air</th>\n",
              "      <th>secondary_cleaner.state.floatbank4_b_level</th>\n",
              "      <th>secondary_cleaner.state.floatbank5_a_air</th>\n",
              "      <th>secondary_cleaner.state.floatbank5_a_level</th>\n",
              "      <th>secondary_cleaner.state.floatbank5_b_air</th>\n",
              "      <th>secondary_cleaner.state.floatbank5_b_level</th>\n",
              "      <th>secondary_cleaner.state.floatbank6_a_air</th>\n",
              "      <th>secondary_cleaner.state.floatbank6_a_level</th>\n",
              "    </tr>\n",
              "  </thead>\n",
              "  <tbody>\n",
              "    <tr>\n",
              "      <td>count</td>\n",
              "      <td>5554.000000</td>\n",
              "      <td>5572.000000</td>\n",
              "      <td>5856.000000</td>\n",
              "      <td>5690.000000</td>\n",
              "      <td>5840.000000</td>\n",
              "      <td>5840.000000</td>\n",
              "      <td>5840.000000</td>\n",
              "      <td>5840.000000</td>\n",
              "      <td>5840.000000</td>\n",
              "      <td>5840.000000</td>\n",
              "      <td>...</td>\n",
              "      <td>5840.000000</td>\n",
              "      <td>5840.000000</td>\n",
              "      <td>5840.000000</td>\n",
              "      <td>5840.000000</td>\n",
              "      <td>5840.000000</td>\n",
              "      <td>5840.000000</td>\n",
              "      <td>5840.000000</td>\n",
              "      <td>5840.000000</td>\n",
              "      <td>5840.000000</td>\n",
              "      <td>5840.000000</td>\n",
              "    </tr>\n",
              "    <tr>\n",
              "      <td>mean</td>\n",
              "      <td>170.515243</td>\n",
              "      <td>8.482873</td>\n",
              "      <td>7.264651</td>\n",
              "      <td>1.321420</td>\n",
              "      <td>1481.990241</td>\n",
              "      <td>-509.057796</td>\n",
              "      <td>1486.908670</td>\n",
              "      <td>-511.743956</td>\n",
              "      <td>1468.495216</td>\n",
              "      <td>-509.741212</td>\n",
              "      <td>...</td>\n",
              "      <td>15.636031</td>\n",
              "      <td>-516.266074</td>\n",
              "      <td>13.145702</td>\n",
              "      <td>-476.338907</td>\n",
              "      <td>12.308967</td>\n",
              "      <td>-512.208126</td>\n",
              "      <td>9.470986</td>\n",
              "      <td>-505.017827</td>\n",
              "      <td>16.678722</td>\n",
              "      <td>-512.351694</td>\n",
              "    </tr>\n",
              "    <tr>\n",
              "      <td>std</td>\n",
              "      <td>49.608602</td>\n",
              "      <td>3.353105</td>\n",
              "      <td>0.611526</td>\n",
              "      <td>0.693246</td>\n",
              "      <td>310.453166</td>\n",
              "      <td>61.339256</td>\n",
              "      <td>313.224286</td>\n",
              "      <td>67.139074</td>\n",
              "      <td>309.980748</td>\n",
              "      <td>62.671873</td>\n",
              "      <td>...</td>\n",
              "      <td>4.660835</td>\n",
              "      <td>62.756748</td>\n",
              "      <td>4.304086</td>\n",
              "      <td>105.549424</td>\n",
              "      <td>3.762827</td>\n",
              "      <td>58.864651</td>\n",
              "      <td>3.312471</td>\n",
              "      <td>68.785898</td>\n",
              "      <td>5.404514</td>\n",
              "      <td>69.919839</td>\n",
              "    </tr>\n",
              "    <tr>\n",
              "      <td>min</td>\n",
              "      <td>0.000103</td>\n",
              "      <td>0.000031</td>\n",
              "      <td>5.650000</td>\n",
              "      <td>0.000003</td>\n",
              "      <td>0.000000</td>\n",
              "      <td>-799.773788</td>\n",
              "      <td>0.000000</td>\n",
              "      <td>-800.029078</td>\n",
              "      <td>0.000000</td>\n",
              "      <td>-799.995127</td>\n",
              "      <td>...</td>\n",
              "      <td>0.000000</td>\n",
              "      <td>-799.798523</td>\n",
              "      <td>0.000000</td>\n",
              "      <td>-800.836914</td>\n",
              "      <td>-0.223393</td>\n",
              "      <td>-799.661076</td>\n",
              "      <td>0.528083</td>\n",
              "      <td>-800.220337</td>\n",
              "      <td>-0.079426</td>\n",
              "      <td>-809.859706</td>\n",
              "    </tr>\n",
              "    <tr>\n",
              "      <td>25%</td>\n",
              "      <td>143.340022</td>\n",
              "      <td>6.411500</td>\n",
              "      <td>6.885625</td>\n",
              "      <td>0.888769</td>\n",
              "      <td>1497.190681</td>\n",
              "      <td>-500.455211</td>\n",
              "      <td>1497.150234</td>\n",
              "      <td>-500.936639</td>\n",
              "      <td>1437.050321</td>\n",
              "      <td>-501.300441</td>\n",
              "      <td>...</td>\n",
              "      <td>12.057838</td>\n",
              "      <td>-501.054741</td>\n",
              "      <td>11.880119</td>\n",
              "      <td>-500.419113</td>\n",
              "      <td>10.123459</td>\n",
              "      <td>-500.879383</td>\n",
              "      <td>7.991208</td>\n",
              "      <td>-500.223089</td>\n",
              "      <td>13.012422</td>\n",
              "      <td>-500.833821</td>\n",
              "    </tr>\n",
              "    <tr>\n",
              "      <td>50%</td>\n",
              "      <td>176.103893</td>\n",
              "      <td>8.023252</td>\n",
              "      <td>7.259333</td>\n",
              "      <td>1.183362</td>\n",
              "      <td>1554.659783</td>\n",
              "      <td>-499.997402</td>\n",
              "      <td>1553.268084</td>\n",
              "      <td>-500.066588</td>\n",
              "      <td>1546.160672</td>\n",
              "      <td>-500.079537</td>\n",
              "      <td>...</td>\n",
              "      <td>17.001867</td>\n",
              "      <td>-500.160145</td>\n",
              "      <td>14.952102</td>\n",
              "      <td>-499.644328</td>\n",
              "      <td>12.062877</td>\n",
              "      <td>-500.047621</td>\n",
              "      <td>9.980774</td>\n",
              "      <td>-500.001338</td>\n",
              "      <td>16.007242</td>\n",
              "      <td>-500.041085</td>\n",
              "    </tr>\n",
              "    <tr>\n",
              "      <td>75%</td>\n",
              "      <td>207.240761</td>\n",
              "      <td>10.017725</td>\n",
              "      <td>7.650000</td>\n",
              "      <td>1.763797</td>\n",
              "      <td>1601.681656</td>\n",
              "      <td>-499.575313</td>\n",
              "      <td>1601.784707</td>\n",
              "      <td>-499.323361</td>\n",
              "      <td>1600.785573</td>\n",
              "      <td>-499.009545</td>\n",
              "      <td>...</td>\n",
              "      <td>18.030985</td>\n",
              "      <td>-499.441529</td>\n",
              "      <td>15.940011</td>\n",
              "      <td>-401.523664</td>\n",
              "      <td>15.017881</td>\n",
              "      <td>-499.297033</td>\n",
              "      <td>11.992176</td>\n",
              "      <td>-499.722835</td>\n",
              "      <td>21.009076</td>\n",
              "      <td>-499.395621</td>\n",
              "    </tr>\n",
              "    <tr>\n",
              "      <td>max</td>\n",
              "      <td>274.409626</td>\n",
              "      <td>40.024582</td>\n",
              "      <td>15.500000</td>\n",
              "      <td>5.433169</td>\n",
              "      <td>2212.432090</td>\n",
              "      <td>-57.195404</td>\n",
              "      <td>1975.147923</td>\n",
              "      <td>-142.527229</td>\n",
              "      <td>1715.053773</td>\n",
              "      <td>-150.937035</td>\n",
              "      <td>...</td>\n",
              "      <td>30.051797</td>\n",
              "      <td>-401.565212</td>\n",
              "      <td>31.269706</td>\n",
              "      <td>-6.506986</td>\n",
              "      <td>25.258848</td>\n",
              "      <td>-244.483566</td>\n",
              "      <td>14.090194</td>\n",
              "      <td>-126.463446</td>\n",
              "      <td>26.705889</td>\n",
              "      <td>-29.093593</td>\n",
              "    </tr>\n",
              "  </tbody>\n",
              "</table>\n",
              "<p>8 rows × 52 columns</p>\n",
              "</div>"
            ],
            "text/plain": [
              "       primary_cleaner.input.sulfate  primary_cleaner.input.depressant  \\\n",
              "count                    5554.000000                       5572.000000   \n",
              "mean                      170.515243                          8.482873   \n",
              "std                        49.608602                          3.353105   \n",
              "min                         0.000103                          0.000031   \n",
              "25%                       143.340022                          6.411500   \n",
              "50%                       176.103893                          8.023252   \n",
              "75%                       207.240761                         10.017725   \n",
              "max                       274.409626                         40.024582   \n",
              "\n",
              "       primary_cleaner.input.feed_size  primary_cleaner.input.xanthate  \\\n",
              "count                      5856.000000                     5690.000000   \n",
              "mean                          7.264651                        1.321420   \n",
              "std                           0.611526                        0.693246   \n",
              "min                           5.650000                        0.000003   \n",
              "25%                           6.885625                        0.888769   \n",
              "50%                           7.259333                        1.183362   \n",
              "75%                           7.650000                        1.763797   \n",
              "max                          15.500000                        5.433169   \n",
              "\n",
              "       primary_cleaner.state.floatbank8_a_air  \\\n",
              "count                             5840.000000   \n",
              "mean                              1481.990241   \n",
              "std                                310.453166   \n",
              "min                                  0.000000   \n",
              "25%                               1497.190681   \n",
              "50%                               1554.659783   \n",
              "75%                               1601.681656   \n",
              "max                               2212.432090   \n",
              "\n",
              "       primary_cleaner.state.floatbank8_a_level  \\\n",
              "count                               5840.000000   \n",
              "mean                                -509.057796   \n",
              "std                                   61.339256   \n",
              "min                                 -799.773788   \n",
              "25%                                 -500.455211   \n",
              "50%                                 -499.997402   \n",
              "75%                                 -499.575313   \n",
              "max                                  -57.195404   \n",
              "\n",
              "       primary_cleaner.state.floatbank8_b_air  \\\n",
              "count                             5840.000000   \n",
              "mean                              1486.908670   \n",
              "std                                313.224286   \n",
              "min                                  0.000000   \n",
              "25%                               1497.150234   \n",
              "50%                               1553.268084   \n",
              "75%                               1601.784707   \n",
              "max                               1975.147923   \n",
              "\n",
              "       primary_cleaner.state.floatbank8_b_level  \\\n",
              "count                               5840.000000   \n",
              "mean                                -511.743956   \n",
              "std                                   67.139074   \n",
              "min                                 -800.029078   \n",
              "25%                                 -500.936639   \n",
              "50%                                 -500.066588   \n",
              "75%                                 -499.323361   \n",
              "max                                 -142.527229   \n",
              "\n",
              "       primary_cleaner.state.floatbank8_c_air  \\\n",
              "count                             5840.000000   \n",
              "mean                              1468.495216   \n",
              "std                                309.980748   \n",
              "min                                  0.000000   \n",
              "25%                               1437.050321   \n",
              "50%                               1546.160672   \n",
              "75%                               1600.785573   \n",
              "max                               1715.053773   \n",
              "\n",
              "       primary_cleaner.state.floatbank8_c_level  ...  \\\n",
              "count                               5840.000000  ...   \n",
              "mean                                -509.741212  ...   \n",
              "std                                   62.671873  ...   \n",
              "min                                 -799.995127  ...   \n",
              "25%                                 -501.300441  ...   \n",
              "50%                                 -500.079537  ...   \n",
              "75%                                 -499.009545  ...   \n",
              "max                                 -150.937035  ...   \n",
              "\n",
              "       secondary_cleaner.state.floatbank4_a_air  \\\n",
              "count                               5840.000000   \n",
              "mean                                  15.636031   \n",
              "std                                    4.660835   \n",
              "min                                    0.000000   \n",
              "25%                                   12.057838   \n",
              "50%                                   17.001867   \n",
              "75%                                   18.030985   \n",
              "max                                   30.051797   \n",
              "\n",
              "       secondary_cleaner.state.floatbank4_a_level  \\\n",
              "count                                 5840.000000   \n",
              "mean                                  -516.266074   \n",
              "std                                     62.756748   \n",
              "min                                   -799.798523   \n",
              "25%                                   -501.054741   \n",
              "50%                                   -500.160145   \n",
              "75%                                   -499.441529   \n",
              "max                                   -401.565212   \n",
              "\n",
              "       secondary_cleaner.state.floatbank4_b_air  \\\n",
              "count                               5840.000000   \n",
              "mean                                  13.145702   \n",
              "std                                    4.304086   \n",
              "min                                    0.000000   \n",
              "25%                                   11.880119   \n",
              "50%                                   14.952102   \n",
              "75%                                   15.940011   \n",
              "max                                   31.269706   \n",
              "\n",
              "       secondary_cleaner.state.floatbank4_b_level  \\\n",
              "count                                 5840.000000   \n",
              "mean                                  -476.338907   \n",
              "std                                    105.549424   \n",
              "min                                   -800.836914   \n",
              "25%                                   -500.419113   \n",
              "50%                                   -499.644328   \n",
              "75%                                   -401.523664   \n",
              "max                                     -6.506986   \n",
              "\n",
              "       secondary_cleaner.state.floatbank5_a_air  \\\n",
              "count                               5840.000000   \n",
              "mean                                  12.308967   \n",
              "std                                    3.762827   \n",
              "min                                   -0.223393   \n",
              "25%                                   10.123459   \n",
              "50%                                   12.062877   \n",
              "75%                                   15.017881   \n",
              "max                                   25.258848   \n",
              "\n",
              "       secondary_cleaner.state.floatbank5_a_level  \\\n",
              "count                                 5840.000000   \n",
              "mean                                  -512.208126   \n",
              "std                                     58.864651   \n",
              "min                                   -799.661076   \n",
              "25%                                   -500.879383   \n",
              "50%                                   -500.047621   \n",
              "75%                                   -499.297033   \n",
              "max                                   -244.483566   \n",
              "\n",
              "       secondary_cleaner.state.floatbank5_b_air  \\\n",
              "count                               5840.000000   \n",
              "mean                                   9.470986   \n",
              "std                                    3.312471   \n",
              "min                                    0.528083   \n",
              "25%                                    7.991208   \n",
              "50%                                    9.980774   \n",
              "75%                                   11.992176   \n",
              "max                                   14.090194   \n",
              "\n",
              "       secondary_cleaner.state.floatbank5_b_level  \\\n",
              "count                                 5840.000000   \n",
              "mean                                  -505.017827   \n",
              "std                                     68.785898   \n",
              "min                                   -800.220337   \n",
              "25%                                   -500.223089   \n",
              "50%                                   -500.001338   \n",
              "75%                                   -499.722835   \n",
              "max                                   -126.463446   \n",
              "\n",
              "       secondary_cleaner.state.floatbank6_a_air  \\\n",
              "count                               5840.000000   \n",
              "mean                                  16.678722   \n",
              "std                                    5.404514   \n",
              "min                                   -0.079426   \n",
              "25%                                   13.012422   \n",
              "50%                                   16.007242   \n",
              "75%                                   21.009076   \n",
              "max                                   26.705889   \n",
              "\n",
              "       secondary_cleaner.state.floatbank6_a_level  \n",
              "count                                 5840.000000  \n",
              "mean                                  -512.351694  \n",
              "std                                     69.919839  \n",
              "min                                   -809.859706  \n",
              "25%                                   -500.833821  \n",
              "50%                                   -500.041085  \n",
              "75%                                   -499.395621  \n",
              "max                                    -29.093593  \n",
              "\n",
              "[8 rows x 52 columns]"
            ]
          },
          "metadata": {
            "tags": []
          }
        },
        {
          "output_type": "stream",
          "text": [
            "**************************************************************************************************** \n",
            "\n",
            "Columns with nulls: \n",
            "\n"
          ],
          "name": "stdout"
        },
        {
          "output_type": "display_data",
          "data": {
            "text/html": [
              "<div>\n",
              "<style scoped>\n",
              "    .dataframe tbody tr th:only-of-type {\n",
              "        vertical-align: middle;\n",
              "    }\n",
              "\n",
              "    .dataframe tbody tr th {\n",
              "        vertical-align: top;\n",
              "    }\n",
              "\n",
              "    .dataframe thead th {\n",
              "        text-align: right;\n",
              "    }\n",
              "</style>\n",
              "<table border=\"1\" class=\"dataframe\">\n",
              "  <thead>\n",
              "    <tr style=\"text-align: right;\">\n",
              "      <th></th>\n",
              "      <th>missing_values</th>\n",
              "      <th>percent_of_nulls</th>\n",
              "    </tr>\n",
              "  </thead>\n",
              "  <tbody>\n",
              "    <tr>\n",
              "      <td>date</td>\n",
              "      <td>0</td>\n",
              "      <td>0.00</td>\n",
              "    </tr>\n",
              "    <tr>\n",
              "      <td>primary_cleaner.input.sulfate</td>\n",
              "      <td>302</td>\n",
              "      <td>5.16</td>\n",
              "    </tr>\n",
              "    <tr>\n",
              "      <td>primary_cleaner.input.depressant</td>\n",
              "      <td>284</td>\n",
              "      <td>4.85</td>\n",
              "    </tr>\n",
              "    <tr>\n",
              "      <td>primary_cleaner.input.feed_size</td>\n",
              "      <td>0</td>\n",
              "      <td>0.00</td>\n",
              "    </tr>\n",
              "    <tr>\n",
              "      <td>primary_cleaner.input.xanthate</td>\n",
              "      <td>166</td>\n",
              "      <td>2.83</td>\n",
              "    </tr>\n",
              "    <tr>\n",
              "      <td>primary_cleaner.state.floatbank8_a_air</td>\n",
              "      <td>16</td>\n",
              "      <td>0.27</td>\n",
              "    </tr>\n",
              "    <tr>\n",
              "      <td>primary_cleaner.state.floatbank8_a_level</td>\n",
              "      <td>16</td>\n",
              "      <td>0.27</td>\n",
              "    </tr>\n",
              "    <tr>\n",
              "      <td>primary_cleaner.state.floatbank8_b_air</td>\n",
              "      <td>16</td>\n",
              "      <td>0.27</td>\n",
              "    </tr>\n",
              "    <tr>\n",
              "      <td>primary_cleaner.state.floatbank8_b_level</td>\n",
              "      <td>16</td>\n",
              "      <td>0.27</td>\n",
              "    </tr>\n",
              "    <tr>\n",
              "      <td>primary_cleaner.state.floatbank8_c_air</td>\n",
              "      <td>16</td>\n",
              "      <td>0.27</td>\n",
              "    </tr>\n",
              "    <tr>\n",
              "      <td>primary_cleaner.state.floatbank8_c_level</td>\n",
              "      <td>16</td>\n",
              "      <td>0.27</td>\n",
              "    </tr>\n",
              "    <tr>\n",
              "      <td>primary_cleaner.state.floatbank8_d_air</td>\n",
              "      <td>16</td>\n",
              "      <td>0.27</td>\n",
              "    </tr>\n",
              "    <tr>\n",
              "      <td>primary_cleaner.state.floatbank8_d_level</td>\n",
              "      <td>16</td>\n",
              "      <td>0.27</td>\n",
              "    </tr>\n",
              "    <tr>\n",
              "      <td>rougher.input.feed_ag</td>\n",
              "      <td>16</td>\n",
              "      <td>0.27</td>\n",
              "    </tr>\n",
              "    <tr>\n",
              "      <td>rougher.input.feed_pb</td>\n",
              "      <td>16</td>\n",
              "      <td>0.27</td>\n",
              "    </tr>\n",
              "    <tr>\n",
              "      <td>rougher.input.feed_rate</td>\n",
              "      <td>40</td>\n",
              "      <td>0.68</td>\n",
              "    </tr>\n",
              "    <tr>\n",
              "      <td>rougher.input.feed_size</td>\n",
              "      <td>22</td>\n",
              "      <td>0.38</td>\n",
              "    </tr>\n",
              "    <tr>\n",
              "      <td>rougher.input.feed_sol</td>\n",
              "      <td>67</td>\n",
              "      <td>1.14</td>\n",
              "    </tr>\n",
              "    <tr>\n",
              "      <td>rougher.input.feed_au</td>\n",
              "      <td>16</td>\n",
              "      <td>0.27</td>\n",
              "    </tr>\n",
              "    <tr>\n",
              "      <td>rougher.input.floatbank10_sulfate</td>\n",
              "      <td>257</td>\n",
              "      <td>4.39</td>\n",
              "    </tr>\n",
              "    <tr>\n",
              "      <td>rougher.input.floatbank10_xanthate</td>\n",
              "      <td>123</td>\n",
              "      <td>2.10</td>\n",
              "    </tr>\n",
              "    <tr>\n",
              "      <td>rougher.input.floatbank11_sulfate</td>\n",
              "      <td>55</td>\n",
              "      <td>0.94</td>\n",
              "    </tr>\n",
              "    <tr>\n",
              "      <td>rougher.input.floatbank11_xanthate</td>\n",
              "      <td>353</td>\n",
              "      <td>6.03</td>\n",
              "    </tr>\n",
              "    <tr>\n",
              "      <td>rougher.state.floatbank10_a_air</td>\n",
              "      <td>17</td>\n",
              "      <td>0.29</td>\n",
              "    </tr>\n",
              "    <tr>\n",
              "      <td>rougher.state.floatbank10_a_level</td>\n",
              "      <td>16</td>\n",
              "      <td>0.27</td>\n",
              "    </tr>\n",
              "    <tr>\n",
              "      <td>rougher.state.floatbank10_b_air</td>\n",
              "      <td>17</td>\n",
              "      <td>0.29</td>\n",
              "    </tr>\n",
              "    <tr>\n",
              "      <td>rougher.state.floatbank10_b_level</td>\n",
              "      <td>16</td>\n",
              "      <td>0.27</td>\n",
              "    </tr>\n",
              "    <tr>\n",
              "      <td>rougher.state.floatbank10_c_air</td>\n",
              "      <td>17</td>\n",
              "      <td>0.29</td>\n",
              "    </tr>\n",
              "    <tr>\n",
              "      <td>rougher.state.floatbank10_c_level</td>\n",
              "      <td>16</td>\n",
              "      <td>0.27</td>\n",
              "    </tr>\n",
              "    <tr>\n",
              "      <td>rougher.state.floatbank10_d_air</td>\n",
              "      <td>17</td>\n",
              "      <td>0.29</td>\n",
              "    </tr>\n",
              "    <tr>\n",
              "      <td>rougher.state.floatbank10_d_level</td>\n",
              "      <td>16</td>\n",
              "      <td>0.27</td>\n",
              "    </tr>\n",
              "    <tr>\n",
              "      <td>rougher.state.floatbank10_e_air</td>\n",
              "      <td>17</td>\n",
              "      <td>0.29</td>\n",
              "    </tr>\n",
              "    <tr>\n",
              "      <td>rougher.state.floatbank10_e_level</td>\n",
              "      <td>16</td>\n",
              "      <td>0.27</td>\n",
              "    </tr>\n",
              "    <tr>\n",
              "      <td>rougher.state.floatbank10_f_air</td>\n",
              "      <td>17</td>\n",
              "      <td>0.29</td>\n",
              "    </tr>\n",
              "    <tr>\n",
              "      <td>rougher.state.floatbank10_f_level</td>\n",
              "      <td>16</td>\n",
              "      <td>0.27</td>\n",
              "    </tr>\n",
              "    <tr>\n",
              "      <td>secondary_cleaner.state.floatbank2_a_air</td>\n",
              "      <td>20</td>\n",
              "      <td>0.34</td>\n",
              "    </tr>\n",
              "    <tr>\n",
              "      <td>secondary_cleaner.state.floatbank2_a_level</td>\n",
              "      <td>16</td>\n",
              "      <td>0.27</td>\n",
              "    </tr>\n",
              "    <tr>\n",
              "      <td>secondary_cleaner.state.floatbank2_b_air</td>\n",
              "      <td>23</td>\n",
              "      <td>0.39</td>\n",
              "    </tr>\n",
              "    <tr>\n",
              "      <td>secondary_cleaner.state.floatbank2_b_level</td>\n",
              "      <td>16</td>\n",
              "      <td>0.27</td>\n",
              "    </tr>\n",
              "    <tr>\n",
              "      <td>secondary_cleaner.state.floatbank3_a_air</td>\n",
              "      <td>34</td>\n",
              "      <td>0.58</td>\n",
              "    </tr>\n",
              "    <tr>\n",
              "      <td>secondary_cleaner.state.floatbank3_a_level</td>\n",
              "      <td>16</td>\n",
              "      <td>0.27</td>\n",
              "    </tr>\n",
              "    <tr>\n",
              "      <td>secondary_cleaner.state.floatbank3_b_air</td>\n",
              "      <td>16</td>\n",
              "      <td>0.27</td>\n",
              "    </tr>\n",
              "    <tr>\n",
              "      <td>secondary_cleaner.state.floatbank3_b_level</td>\n",
              "      <td>16</td>\n",
              "      <td>0.27</td>\n",
              "    </tr>\n",
              "    <tr>\n",
              "      <td>secondary_cleaner.state.floatbank4_a_air</td>\n",
              "      <td>16</td>\n",
              "      <td>0.27</td>\n",
              "    </tr>\n",
              "    <tr>\n",
              "      <td>secondary_cleaner.state.floatbank4_a_level</td>\n",
              "      <td>16</td>\n",
              "      <td>0.27</td>\n",
              "    </tr>\n",
              "    <tr>\n",
              "      <td>secondary_cleaner.state.floatbank4_b_air</td>\n",
              "      <td>16</td>\n",
              "      <td>0.27</td>\n",
              "    </tr>\n",
              "    <tr>\n",
              "      <td>secondary_cleaner.state.floatbank4_b_level</td>\n",
              "      <td>16</td>\n",
              "      <td>0.27</td>\n",
              "    </tr>\n",
              "    <tr>\n",
              "      <td>secondary_cleaner.state.floatbank5_a_air</td>\n",
              "      <td>16</td>\n",
              "      <td>0.27</td>\n",
              "    </tr>\n",
              "    <tr>\n",
              "      <td>secondary_cleaner.state.floatbank5_a_level</td>\n",
              "      <td>16</td>\n",
              "      <td>0.27</td>\n",
              "    </tr>\n",
              "    <tr>\n",
              "      <td>secondary_cleaner.state.floatbank5_b_air</td>\n",
              "      <td>16</td>\n",
              "      <td>0.27</td>\n",
              "    </tr>\n",
              "    <tr>\n",
              "      <td>secondary_cleaner.state.floatbank5_b_level</td>\n",
              "      <td>16</td>\n",
              "      <td>0.27</td>\n",
              "    </tr>\n",
              "    <tr>\n",
              "      <td>secondary_cleaner.state.floatbank6_a_air</td>\n",
              "      <td>16</td>\n",
              "      <td>0.27</td>\n",
              "    </tr>\n",
              "    <tr>\n",
              "      <td>secondary_cleaner.state.floatbank6_a_level</td>\n",
              "      <td>16</td>\n",
              "      <td>0.27</td>\n",
              "    </tr>\n",
              "  </tbody>\n",
              "</table>\n",
              "</div>"
            ],
            "text/plain": [
              "                                            missing_values  percent_of_nulls\n",
              "date                                                     0              0.00\n",
              "primary_cleaner.input.sulfate                          302              5.16\n",
              "primary_cleaner.input.depressant                       284              4.85\n",
              "primary_cleaner.input.feed_size                          0              0.00\n",
              "primary_cleaner.input.xanthate                         166              2.83\n",
              "primary_cleaner.state.floatbank8_a_air                  16              0.27\n",
              "primary_cleaner.state.floatbank8_a_level                16              0.27\n",
              "primary_cleaner.state.floatbank8_b_air                  16              0.27\n",
              "primary_cleaner.state.floatbank8_b_level                16              0.27\n",
              "primary_cleaner.state.floatbank8_c_air                  16              0.27\n",
              "primary_cleaner.state.floatbank8_c_level                16              0.27\n",
              "primary_cleaner.state.floatbank8_d_air                  16              0.27\n",
              "primary_cleaner.state.floatbank8_d_level                16              0.27\n",
              "rougher.input.feed_ag                                   16              0.27\n",
              "rougher.input.feed_pb                                   16              0.27\n",
              "rougher.input.feed_rate                                 40              0.68\n",
              "rougher.input.feed_size                                 22              0.38\n",
              "rougher.input.feed_sol                                  67              1.14\n",
              "rougher.input.feed_au                                   16              0.27\n",
              "rougher.input.floatbank10_sulfate                      257              4.39\n",
              "rougher.input.floatbank10_xanthate                     123              2.10\n",
              "rougher.input.floatbank11_sulfate                       55              0.94\n",
              "rougher.input.floatbank11_xanthate                     353              6.03\n",
              "rougher.state.floatbank10_a_air                         17              0.29\n",
              "rougher.state.floatbank10_a_level                       16              0.27\n",
              "rougher.state.floatbank10_b_air                         17              0.29\n",
              "rougher.state.floatbank10_b_level                       16              0.27\n",
              "rougher.state.floatbank10_c_air                         17              0.29\n",
              "rougher.state.floatbank10_c_level                       16              0.27\n",
              "rougher.state.floatbank10_d_air                         17              0.29\n",
              "rougher.state.floatbank10_d_level                       16              0.27\n",
              "rougher.state.floatbank10_e_air                         17              0.29\n",
              "rougher.state.floatbank10_e_level                       16              0.27\n",
              "rougher.state.floatbank10_f_air                         17              0.29\n",
              "rougher.state.floatbank10_f_level                       16              0.27\n",
              "secondary_cleaner.state.floatbank2_a_air                20              0.34\n",
              "secondary_cleaner.state.floatbank2_a_level              16              0.27\n",
              "secondary_cleaner.state.floatbank2_b_air                23              0.39\n",
              "secondary_cleaner.state.floatbank2_b_level              16              0.27\n",
              "secondary_cleaner.state.floatbank3_a_air                34              0.58\n",
              "secondary_cleaner.state.floatbank3_a_level              16              0.27\n",
              "secondary_cleaner.state.floatbank3_b_air                16              0.27\n",
              "secondary_cleaner.state.floatbank3_b_level              16              0.27\n",
              "secondary_cleaner.state.floatbank4_a_air                16              0.27\n",
              "secondary_cleaner.state.floatbank4_a_level              16              0.27\n",
              "secondary_cleaner.state.floatbank4_b_air                16              0.27\n",
              "secondary_cleaner.state.floatbank4_b_level              16              0.27\n",
              "secondary_cleaner.state.floatbank5_a_air                16              0.27\n",
              "secondary_cleaner.state.floatbank5_a_level              16              0.27\n",
              "secondary_cleaner.state.floatbank5_b_air                16              0.27\n",
              "secondary_cleaner.state.floatbank5_b_level              16              0.27\n",
              "secondary_cleaner.state.floatbank6_a_air                16              0.27\n",
              "secondary_cleaner.state.floatbank6_a_level              16              0.27"
            ]
          },
          "metadata": {
            "tags": []
          }
        },
        {
          "output_type": "stream",
          "text": [
            "**************************************************************************************************** \n",
            "\n",
            "Shape: \n",
            "\n"
          ],
          "name": "stdout"
        },
        {
          "output_type": "display_data",
          "data": {
            "text/plain": [
              "(5856, 53)"
            ]
          },
          "metadata": {
            "tags": []
          }
        },
        {
          "output_type": "stream",
          "text": [
            "**************************************************************************************************** \n",
            "\n",
            "Duplicated: \n",
            "\n",
            "Number of duplicated rows: 0\n"
          ],
          "name": "stdout"
        }
      ]
    },
    {
      "cell_type": "markdown",
      "metadata": {
        "id": "2x6-e6wqBnWd"
      },
      "source": [
        "df (soruce data) has 86 columns in total which is the same with the training dataset. Though df has 22716 entries while the training dataset has 16860 entries. The test dataset has 52 columns total and 5856 total entries. There are many missing values and null values that will not be easily replaced or can be filled in."
      ]
    },
    {
      "cell_type": "markdown",
      "metadata": {
        "id": "ZZjjxAt36ZRU"
      },
      "source": [
        "## Check that recovery is calculated correctly\n",
        "\n",
        "Using the training set, calculate recovery for the `rougher.output.recovery` feature. Find the *MAE* between the calculated values and the feature values"
      ]
    },
    {
      "cell_type": "code",
      "metadata": {
        "id": "bQHBszhQ6ukB"
      },
      "source": [
        "def rough_recovery(row):\n",
        "  concentrate = row['rougher.output.concentrate_au']\n",
        "  feed = row['rougher.input.feed_au']\n",
        "  tail = row['rougher.output.tail_au']\n",
        "  try:\n",
        "    recovery = ((concentrate * (feed - tail)) / (feed * (concentrate - tail)))\n",
        "    return recovery * 100\n",
        "  except ZeroDivisionError:\n",
        "    return 0"
      ],
      "execution_count": null,
      "outputs": []
    },
    {
      "cell_type": "code",
      "metadata": {
        "colab": {
          "base_uri": "https://localhost:8080/"
        },
        "id": "epLeshynJ0Oq",
        "outputId": "537ef944-70e2-4c2b-8645-5f3dd24cef4c"
      },
      "source": [
        "au_calc_recovery = df_train.apply(rough_recovery, axis=1)\n",
        "display(au_calc_recovery)"
      ],
      "execution_count": null,
      "outputs": [
        {
          "output_type": "display_data",
          "data": {
            "text/plain": [
              "0        87.107763\n",
              "1        86.843261\n",
              "2        86.842308\n",
              "3        87.226430\n",
              "4        86.688794\n",
              "           ...    \n",
              "16855    89.574376\n",
              "16856    87.724007\n",
              "16857    88.890579\n",
              "16858    89.858126\n",
              "16859    89.514960\n",
              "Length: 16860, dtype: float64"
            ]
          },
          "metadata": {
            "tags": []
          }
        }
      ]
    },
    {
      "cell_type": "code",
      "metadata": {
        "colab": {
          "base_uri": "https://localhost:8080/",
          "height": 204
        },
        "id": "7EUOzzTlOYJg",
        "outputId": "485bfabc-0e9f-436a-a249-934ec6c107e4"
      },
      "source": [
        "y_true, y_pred = df_train['rougher.output.recovery'], au_calc_recovery\n",
        "au_recovery = pd.concat([y_true, y_pred], axis=1, sort=False)\n",
        "au_recovery.columns = ['rougher.output.recovery', 'au_calc_recovery']\n",
        "au_recovery.head(5)"
      ],
      "execution_count": null,
      "outputs": [
        {
          "output_type": "execute_result",
          "data": {
            "text/html": [
              "<div>\n",
              "<style scoped>\n",
              "    .dataframe tbody tr th:only-of-type {\n",
              "        vertical-align: middle;\n",
              "    }\n",
              "\n",
              "    .dataframe tbody tr th {\n",
              "        vertical-align: top;\n",
              "    }\n",
              "\n",
              "    .dataframe thead th {\n",
              "        text-align: right;\n",
              "    }\n",
              "</style>\n",
              "<table border=\"1\" class=\"dataframe\">\n",
              "  <thead>\n",
              "    <tr style=\"text-align: right;\">\n",
              "      <th></th>\n",
              "      <th>rougher.output.recovery</th>\n",
              "      <th>au_calc_recovery</th>\n",
              "    </tr>\n",
              "  </thead>\n",
              "  <tbody>\n",
              "    <tr>\n",
              "      <td>0</td>\n",
              "      <td>87.107763</td>\n",
              "      <td>87.107763</td>\n",
              "    </tr>\n",
              "    <tr>\n",
              "      <td>1</td>\n",
              "      <td>86.843261</td>\n",
              "      <td>86.843261</td>\n",
              "    </tr>\n",
              "    <tr>\n",
              "      <td>2</td>\n",
              "      <td>86.842308</td>\n",
              "      <td>86.842308</td>\n",
              "    </tr>\n",
              "    <tr>\n",
              "      <td>3</td>\n",
              "      <td>87.226430</td>\n",
              "      <td>87.226430</td>\n",
              "    </tr>\n",
              "    <tr>\n",
              "      <td>4</td>\n",
              "      <td>86.688794</td>\n",
              "      <td>86.688794</td>\n",
              "    </tr>\n",
              "  </tbody>\n",
              "</table>\n",
              "</div>"
            ],
            "text/plain": [
              "   rougher.output.recovery  au_calc_recovery\n",
              "0                87.107763         87.107763\n",
              "1                86.843261         86.843261\n",
              "2                86.842308         86.842308\n",
              "3                87.226430         87.226430\n",
              "4                86.688794         86.688794"
            ]
          },
          "metadata": {
            "tags": []
          },
          "execution_count": 9
        }
      ]
    },
    {
      "cell_type": "code",
      "metadata": {
        "id": "NX_5_Fp_pQLU"
      },
      "source": [
        "def calc_MAE(y_true, y_pred):\n",
        "  try:\n",
        "    return mean_absolute_error(y_true , y_pred)\n",
        "  except ValueError:\n",
        "    return 0"
      ],
      "execution_count": null,
      "outputs": []
    },
    {
      "cell_type": "code",
      "metadata": {
        "colab": {
          "base_uri": "https://localhost:8080/",
          "height": 606
        },
        "id": "Pqu2466VpiGt",
        "scrolled": true,
        "outputId": "5fc9502c-3873-493d-b653-02bef2973f23"
      },
      "source": [
        "au_recovery['MAE'] = calc_MAE(au_recovery['rougher.output.recovery'], au_recovery['au_calc_recovery'])\n",
        "display(au_recovery.info())\n",
        "\n",
        "display(au_recovery)"
      ],
      "execution_count": null,
      "outputs": [
        {
          "output_type": "stream",
          "text": [
            "<class 'pandas.core.frame.DataFrame'>\n",
            "RangeIndex: 16860 entries, 0 to 16859\n",
            "Data columns (total 3 columns):\n",
            "rougher.output.recovery    14287 non-null float64\n",
            "au_calc_recovery           14610 non-null float64\n",
            "MAE                        16860 non-null int64\n",
            "dtypes: float64(2), int64(1)\n",
            "memory usage: 395.3 KB\n"
          ],
          "name": "stdout"
        },
        {
          "output_type": "display_data",
          "data": {
            "text/plain": [
              "None"
            ]
          },
          "metadata": {
            "tags": []
          }
        },
        {
          "output_type": "display_data",
          "data": {
            "text/html": [
              "<div>\n",
              "<style scoped>\n",
              "    .dataframe tbody tr th:only-of-type {\n",
              "        vertical-align: middle;\n",
              "    }\n",
              "\n",
              "    .dataframe tbody tr th {\n",
              "        vertical-align: top;\n",
              "    }\n",
              "\n",
              "    .dataframe thead th {\n",
              "        text-align: right;\n",
              "    }\n",
              "</style>\n",
              "<table border=\"1\" class=\"dataframe\">\n",
              "  <thead>\n",
              "    <tr style=\"text-align: right;\">\n",
              "      <th></th>\n",
              "      <th>rougher.output.recovery</th>\n",
              "      <th>au_calc_recovery</th>\n",
              "      <th>MAE</th>\n",
              "    </tr>\n",
              "  </thead>\n",
              "  <tbody>\n",
              "    <tr>\n",
              "      <td>0</td>\n",
              "      <td>87.107763</td>\n",
              "      <td>87.107763</td>\n",
              "      <td>0</td>\n",
              "    </tr>\n",
              "    <tr>\n",
              "      <td>1</td>\n",
              "      <td>86.843261</td>\n",
              "      <td>86.843261</td>\n",
              "      <td>0</td>\n",
              "    </tr>\n",
              "    <tr>\n",
              "      <td>2</td>\n",
              "      <td>86.842308</td>\n",
              "      <td>86.842308</td>\n",
              "      <td>0</td>\n",
              "    </tr>\n",
              "    <tr>\n",
              "      <td>3</td>\n",
              "      <td>87.226430</td>\n",
              "      <td>87.226430</td>\n",
              "      <td>0</td>\n",
              "    </tr>\n",
              "    <tr>\n",
              "      <td>4</td>\n",
              "      <td>86.688794</td>\n",
              "      <td>86.688794</td>\n",
              "      <td>0</td>\n",
              "    </tr>\n",
              "    <tr>\n",
              "      <td>...</td>\n",
              "      <td>...</td>\n",
              "      <td>...</td>\n",
              "      <td>...</td>\n",
              "    </tr>\n",
              "    <tr>\n",
              "      <td>16855</td>\n",
              "      <td>89.574376</td>\n",
              "      <td>89.574376</td>\n",
              "      <td>0</td>\n",
              "    </tr>\n",
              "    <tr>\n",
              "      <td>16856</td>\n",
              "      <td>87.724007</td>\n",
              "      <td>87.724007</td>\n",
              "      <td>0</td>\n",
              "    </tr>\n",
              "    <tr>\n",
              "      <td>16857</td>\n",
              "      <td>88.890579</td>\n",
              "      <td>88.890579</td>\n",
              "      <td>0</td>\n",
              "    </tr>\n",
              "    <tr>\n",
              "      <td>16858</td>\n",
              "      <td>89.858126</td>\n",
              "      <td>89.858126</td>\n",
              "      <td>0</td>\n",
              "    </tr>\n",
              "    <tr>\n",
              "      <td>16859</td>\n",
              "      <td>89.514960</td>\n",
              "      <td>89.514960</td>\n",
              "      <td>0</td>\n",
              "    </tr>\n",
              "  </tbody>\n",
              "</table>\n",
              "<p>16860 rows × 3 columns</p>\n",
              "</div>"
            ],
            "text/plain": [
              "       rougher.output.recovery  au_calc_recovery  MAE\n",
              "0                    87.107763         87.107763    0\n",
              "1                    86.843261         86.843261    0\n",
              "2                    86.842308         86.842308    0\n",
              "3                    87.226430         87.226430    0\n",
              "4                    86.688794         86.688794    0\n",
              "...                        ...               ...  ...\n",
              "16855                89.574376         89.574376    0\n",
              "16856                87.724007         87.724007    0\n",
              "16857                88.890579         88.890579    0\n",
              "16858                89.858126         89.858126    0\n",
              "16859                89.514960         89.514960    0\n",
              "\n",
              "[16860 rows x 3 columns]"
            ]
          },
          "metadata": {
            "tags": []
          }
        }
      ]
    },
    {
      "cell_type": "code",
      "metadata": {
        "colab": {
          "base_uri": "https://localhost:8080/",
          "height": 282
        },
        "id": "lNOQaOngSwo7",
        "outputId": "67ffc271-7ee5-4775-89d1-7a72e1b4e248"
      },
      "source": [
        "au_recovery['MAE'].plot.hist(grid=True)\n",
        "plt.title(\"Histogram for Variance of MAE calculation\")"
      ],
      "execution_count": null,
      "outputs": [
        {
          "output_type": "execute_result",
          "data": {
            "text/plain": [
              "Text(0.5, 1.0, 'Histogram for Variance of MAE calculation')"
            ]
          },
          "metadata": {
            "tags": []
          },
          "execution_count": 12
        },
        {
          "output_type": "display_data",
          "data": {
            "image/png": "[encoded data removed]",
            "text/plain": [
              "<Figure size 432x288 with 1 Axes>"
            ]
          },
          "metadata": {
            "tags": [],
            "needs_background": "light"
          }
        }
      ]
    },
    {
      "cell_type": "code",
      "metadata": {
        "colab": {
          "base_uri": "https://localhost:8080/"
        },
        "id": "1I5KBxsDVKv2",
        "outputId": "d1dfc517-9b0f-458a-8f49-a527f8c4165f"
      },
      "source": [
        "print('Maximum value on au_recovery MAE calculation:', au_recovery['MAE'].max())\n",
        "print('Minimum value on au_recovery MAE calculation:', au_recovery['MAE'].min())"
      ],
      "execution_count": null,
      "outputs": [
        {
          "output_type": "stream",
          "text": [
            "Maximum value on au_recovery MAE calculation: 0\n",
            "Minimum value on au_recovery MAE calculation: 0\n"
          ],
          "name": "stdout"
        }
      ]
    },
    {
      "cell_type": "markdown",
      "metadata": {
        "id": "aOI5Koc8WBCE"
      },
      "source": [
        "There were missing values for both the calculated recovery and also for the `rougher.output.recovery` feature. 0 was replaced for those rows where a MAE calculation could not be made. It was discovered that 0 was the only outcome for MAE calculation between the two which indicates that there is no error between the calculated values and the actual values."
      ]
    },
    {
      "cell_type": "markdown",
      "metadata": {
        "id": "1PzuPyDqngVQ"
      },
      "source": [
        "## Analyze the features not available in the test set"
      ]
    },
    {
      "cell_type": "code",
      "metadata": {
        "colab": {
          "base_uri": "https://localhost:8080/"
        },
        "id": "0sXGM19yrGP7",
        "scrolled": false,
        "outputId": "42e20d1a-1821-4769-f80c-bee42b7f8807"
      },
      "source": [
        "# Finding the columns/parameters that are not in df_test\n",
        "cols_not_test = set(df).difference(set(df_test))\n",
        "\n",
        "print('Number of columns missing from test dataset:', len(cols_not_test))\n",
        "display(cols_not_test)"
      ],
      "execution_count": null,
      "outputs": [
        {
          "output_type": "stream",
          "text": [
            "Number of columns missing from test dataset: 34\n"
          ],
          "name": "stdout"
        },
        {
          "output_type": "display_data",
          "data": {
            "text/plain": [
              "{'final.output.concentrate_ag',\n",
              " 'final.output.concentrate_au',\n",
              " 'final.output.concentrate_pb',\n",
              " 'final.output.concentrate_sol',\n",
              " 'final.output.recovery',\n",
              " 'final.output.tail_ag',\n",
              " 'final.output.tail_au',\n",
              " 'final.output.tail_pb',\n",
              " 'final.output.tail_sol',\n",
              " 'primary_cleaner.output.concentrate_ag',\n",
              " 'primary_cleaner.output.concentrate_au',\n",
              " 'primary_cleaner.output.concentrate_pb',\n",
              " 'primary_cleaner.output.concentrate_sol',\n",
              " 'primary_cleaner.output.tail_ag',\n",
              " 'primary_cleaner.output.tail_au',\n",
              " 'primary_cleaner.output.tail_pb',\n",
              " 'primary_cleaner.output.tail_sol',\n",
              " 'rougher.calculation.au_pb_ratio',\n",
              " 'rougher.calculation.floatbank10_sulfate_to_au_feed',\n",
              " 'rougher.calculation.floatbank11_sulfate_to_au_feed',\n",
              " 'rougher.calculation.sulfate_to_au_concentrate',\n",
              " 'rougher.output.concentrate_ag',\n",
              " 'rougher.output.concentrate_au',\n",
              " 'rougher.output.concentrate_pb',\n",
              " 'rougher.output.concentrate_sol',\n",
              " 'rougher.output.recovery',\n",
              " 'rougher.output.tail_ag',\n",
              " 'rougher.output.tail_au',\n",
              " 'rougher.output.tail_pb',\n",
              " 'rougher.output.tail_sol',\n",
              " 'secondary_cleaner.output.tail_ag',\n",
              " 'secondary_cleaner.output.tail_au',\n",
              " 'secondary_cleaner.output.tail_pb',\n",
              " 'secondary_cleaner.output.tail_sol'}"
            ]
          },
          "metadata": {
            "tags": []
          }
        }
      ]
    },
    {
      "cell_type": "markdown",
      "metadata": {
        "id": "dtT3O1zRyY6t"
      },
      "source": [
        "There are 34 columns missing from the test dataset and all the dtype for these columns is float which are output values or calculations. It's good to note that the test dataset is missing the two target columns (`final.output.recovery` and `rougher.output.recovery`)."
      ]
    },
    {
      "cell_type": "markdown",
      "metadata": {
        "id": "p9lC2aHEnqHp"
      },
      "source": [
        "## Preprocessing Data"
      ]
    },
    {
      "cell_type": "markdown",
      "metadata": {
        "id": "WQr5bOILAnVA"
      },
      "source": [
        "We can use our formula to calculate the `rougher.output.recovery` since earlier we've determined that the MAE shows 0 bewteen the calculation values and the actual values. This will help fill in the missing gaps in `rougher.output.recovery` column."
      ]
    },
    {
      "cell_type": "code",
      "metadata": {
        "id": "-olYej9KO5VE"
      },
      "source": [
        "df['rougher.output.recovery'] = df.apply(rough_recovery, axis=1)\n",
        "df_train['rougher.output.recovery'] = df_train.apply(rough_recovery, axis=1)"
      ],
      "execution_count": null,
      "outputs": []
    },
    {
      "cell_type": "markdown",
      "metadata": {
        "id": "pcBw200Dy3gX"
      },
      "source": [
        "It might be a good idea to fill missing values and null values in the datasets with fillna(method=‘ffill’) since the data ordered by time."
      ]
    },
    {
      "cell_type": "code",
      "metadata": {
        "colab": {
          "base_uri": "https://localhost:8080/",
          "height": 1000
        },
        "id": "IqIHmeV60Yj3",
        "outputId": "a88c5808-2be8-42a8-95f2-785ace38ffc7"
      },
      "source": [
        "df.fillna(method='ffill', inplace=True)\n",
        "display(df.info())\n",
        "\n",
        "df_test.fillna(method='ffill', inplace=True)\n",
        "display(df_test.info())\n",
        "\n",
        "df_train.fillna(method='ffill', inplace=True)\n",
        "df_train.info()"
      ],
      "execution_count": null,
      "outputs": [
        {
          "output_type": "stream",
          "text": [
            "<class 'pandas.core.frame.DataFrame'>\n",
            "RangeIndex: 22716 entries, 0 to 22715\n",
            "Data columns (total 87 columns):\n",
            "date                                                  22716 non-null object\n",
            "final.output.concentrate_ag                           22716 non-null float64\n",
            "final.output.concentrate_pb                           22716 non-null float64\n",
            "final.output.concentrate_sol                          22716 non-null float64\n",
            "final.output.concentrate_au                           22716 non-null float64\n",
            "final.output.recovery                                 22716 non-null float64\n",
            "final.output.tail_ag                                  22716 non-null float64\n",
            "final.output.tail_pb                                  22716 non-null float64\n",
            "final.output.tail_sol                                 22716 non-null float64\n",
            "final.output.tail_au                                  22716 non-null float64\n",
            "primary_cleaner.input.sulfate                         22716 non-null float64\n",
            "primary_cleaner.input.depressant                      22716 non-null float64\n",
            "primary_cleaner.input.feed_size                       22716 non-null float64\n",
            "primary_cleaner.input.xanthate                        22716 non-null float64\n",
            "primary_cleaner.output.concentrate_ag                 22716 non-null float64\n",
            "primary_cleaner.output.concentrate_pb                 22716 non-null float64\n",
            "primary_cleaner.output.concentrate_sol                22716 non-null float64\n",
            "primary_cleaner.output.concentrate_au                 22716 non-null float64\n",
            "primary_cleaner.output.tail_ag                        22716 non-null float64\n",
            "primary_cleaner.output.tail_pb                        22716 non-null float64\n",
            "primary_cleaner.output.tail_sol                       22716 non-null float64\n",
            "primary_cleaner.output.tail_au                        22716 non-null float64\n",
            "primary_cleaner.state.floatbank8_a_air                22716 non-null float64\n",
            "primary_cleaner.state.floatbank8_a_level              22716 non-null float64\n",
            "primary_cleaner.state.floatbank8_b_air                22716 non-null float64\n",
            "primary_cleaner.state.floatbank8_b_level              22716 non-null float64\n",
            "primary_cleaner.state.floatbank8_c_air                22716 non-null float64\n",
            "primary_cleaner.state.floatbank8_c_level              22716 non-null float64\n",
            "primary_cleaner.state.floatbank8_d_air                22716 non-null float64\n",
            "primary_cleaner.state.floatbank8_d_level              22716 non-null float64\n",
            "rougher.calculation.sulfate_to_au_concentrate         22716 non-null float64\n",
            "rougher.calculation.floatbank10_sulfate_to_au_feed    22716 non-null float64\n",
            "rougher.calculation.floatbank11_sulfate_to_au_feed    22716 non-null float64\n",
            "rougher.calculation.au_pb_ratio                       22716 non-null float64\n",
            "rougher.input.feed_ag                                 22716 non-null float64\n",
            "rougher.input.feed_pb                                 22716 non-null float64\n",
            "rougher.input.feed_rate                               22716 non-null float64\n",
            "rougher.input.feed_size                               22716 non-null float64\n",
            "rougher.input.feed_sol                                22716 non-null float64\n",
            "rougher.input.feed_au                                 22716 non-null float64\n",
            "rougher.input.floatbank10_sulfate                     22716 non-null float64\n",
            "rougher.input.floatbank10_xanthate                    22716 non-null float64\n",
            "rougher.input.floatbank11_sulfate                     22716 non-null float64\n",
            "rougher.input.floatbank11_xanthate                    22716 non-null float64\n",
            "rougher.output.concentrate_ag                         22716 non-null float64\n",
            "rougher.output.concentrate_pb                         22716 non-null float64\n",
            "rougher.output.concentrate_sol                        22716 non-null float64\n",
            "rougher.output.concentrate_au                         22716 non-null float64\n",
            "rougher.output.recovery                               22716 non-null float64\n",
            "rougher.output.tail_ag                                22716 non-null float64\n",
            "rougher.output.tail_pb                                22716 non-null float64\n",
            "rougher.output.tail_sol                               22716 non-null float64\n",
            "rougher.output.tail_au                                22716 non-null float64\n",
            "rougher.state.floatbank10_a_air                       22716 non-null float64\n",
            "rougher.state.floatbank10_a_level                     22716 non-null float64\n",
            "rougher.state.floatbank10_b_air                       22716 non-null float64\n",
            "rougher.state.floatbank10_b_level                     22716 non-null float64\n",
            "rougher.state.floatbank10_c_air                       22716 non-null float64\n",
            "rougher.state.floatbank10_c_level                     22716 non-null float64\n",
            "rougher.state.floatbank10_d_air                       22716 non-null float64\n",
            "rougher.state.floatbank10_d_level                     22716 non-null float64\n",
            "rougher.state.floatbank10_e_air                       22716 non-null float64\n",
            "rougher.state.floatbank10_e_level                     22716 non-null float64\n",
            "rougher.state.floatbank10_f_air                       22716 non-null float64\n",
            "rougher.state.floatbank10_f_level                     22716 non-null float64\n",
            "secondary_cleaner.output.tail_ag                      22716 non-null float64\n",
            "secondary_cleaner.output.tail_pb                      22716 non-null float64\n",
            "secondary_cleaner.output.tail_sol                     22716 non-null float64\n",
            "secondary_cleaner.output.tail_au                      22716 non-null float64\n",
            "secondary_cleaner.state.floatbank2_a_air              22716 non-null float64\n",
            "secondary_cleaner.state.floatbank2_a_level            22716 non-null float64\n",
            "secondary_cleaner.state.floatbank2_b_air              22716 non-null float64\n",
            "secondary_cleaner.state.floatbank2_b_level            22716 non-null float64\n",
            "secondary_cleaner.state.floatbank3_a_air              22716 non-null float64\n",
            "secondary_cleaner.state.floatbank3_a_level            22716 non-null float64\n",
            "secondary_cleaner.state.floatbank3_b_air              22716 non-null float64\n",
            "secondary_cleaner.state.floatbank3_b_level            22716 non-null float64\n",
            "secondary_cleaner.state.floatbank4_a_air              22716 non-null float64\n",
            "secondary_cleaner.state.floatbank4_a_level            22716 non-null float64\n",
            "secondary_cleaner.state.floatbank4_b_air              22716 non-null float64\n",
            "secondary_cleaner.state.floatbank4_b_level            22716 non-null float64\n",
            "secondary_cleaner.state.floatbank5_a_air              22716 non-null float64\n",
            "secondary_cleaner.state.floatbank5_a_level            22716 non-null float64\n",
            "secondary_cleaner.state.floatbank5_b_air              22716 non-null float64\n",
            "secondary_cleaner.state.floatbank5_b_level            22716 non-null float64\n",
            "secondary_cleaner.state.floatbank6_a_air              22716 non-null float64\n",
            "secondary_cleaner.state.floatbank6_a_level            22716 non-null float64\n",
            "dtypes: float64(86), object(1)\n",
            "memory usage: 15.1+ MB\n"
          ],
          "name": "stdout"
        },
        {
          "output_type": "display_data",
          "data": {
            "text/plain": [
              "None"
            ]
          },
          "metadata": {
            "tags": []
          }
        },
        {
          "output_type": "stream",
          "text": [
            "<class 'pandas.core.frame.DataFrame'>\n",
            "RangeIndex: 5856 entries, 0 to 5855\n",
            "Data columns (total 53 columns):\n",
            "date                                          5856 non-null object\n",
            "primary_cleaner.input.sulfate                 5856 non-null float64\n",
            "primary_cleaner.input.depressant              5856 non-null float64\n",
            "primary_cleaner.input.feed_size               5856 non-null float64\n",
            "primary_cleaner.input.xanthate                5856 non-null float64\n",
            "primary_cleaner.state.floatbank8_a_air        5856 non-null float64\n",
            "primary_cleaner.state.floatbank8_a_level      5856 non-null float64\n",
            "primary_cleaner.state.floatbank8_b_air        5856 non-null float64\n",
            "primary_cleaner.state.floatbank8_b_level      5856 non-null float64\n",
            "primary_cleaner.state.floatbank8_c_air        5856 non-null float64\n",
            "primary_cleaner.state.floatbank8_c_level      5856 non-null float64\n",
            "primary_cleaner.state.floatbank8_d_air        5856 non-null float64\n",
            "primary_cleaner.state.floatbank8_d_level      5856 non-null float64\n",
            "rougher.input.feed_ag                         5856 non-null float64\n",
            "rougher.input.feed_pb                         5856 non-null float64\n",
            "rougher.input.feed_rate                       5856 non-null float64\n",
            "rougher.input.feed_size                       5856 non-null float64\n",
            "rougher.input.feed_sol                        5856 non-null float64\n",
            "rougher.input.feed_au                         5856 non-null float64\n",
            "rougher.input.floatbank10_sulfate             5856 non-null float64\n",
            "rougher.input.floatbank10_xanthate            5856 non-null float64\n",
            "rougher.input.floatbank11_sulfate             5856 non-null float64\n",
            "rougher.input.floatbank11_xanthate            5856 non-null float64\n",
            "rougher.state.floatbank10_a_air               5856 non-null float64\n",
            "rougher.state.floatbank10_a_level             5856 non-null float64\n",
            "rougher.state.floatbank10_b_air               5856 non-null float64\n",
            "rougher.state.floatbank10_b_level             5856 non-null float64\n",
            "rougher.state.floatbank10_c_air               5856 non-null float64\n",
            "rougher.state.floatbank10_c_level             5856 non-null float64\n",
            "rougher.state.floatbank10_d_air               5856 non-null float64\n",
            "rougher.state.floatbank10_d_level             5856 non-null float64\n",
            "rougher.state.floatbank10_e_air               5856 non-null float64\n",
            "rougher.state.floatbank10_e_level             5856 non-null float64\n",
            "rougher.state.floatbank10_f_air               5856 non-null float64\n",
            "rougher.state.floatbank10_f_level             5856 non-null float64\n",
            "secondary_cleaner.state.floatbank2_a_air      5856 non-null float64\n",
            "secondary_cleaner.state.floatbank2_a_level    5856 non-null float64\n",
            "secondary_cleaner.state.floatbank2_b_air      5856 non-null float64\n",
            "secondary_cleaner.state.floatbank2_b_level    5856 non-null float64\n",
            "secondary_cleaner.state.floatbank3_a_air      5856 non-null float64\n",
            "secondary_cleaner.state.floatbank3_a_level    5856 non-null float64\n",
            "secondary_cleaner.state.floatbank3_b_air      5856 non-null float64\n",
            "secondary_cleaner.state.floatbank3_b_level    5856 non-null float64\n",
            "secondary_cleaner.state.floatbank4_a_air      5856 non-null float64\n",
            "secondary_cleaner.state.floatbank4_a_level    5856 non-null float64\n",
            "secondary_cleaner.state.floatbank4_b_air      5856 non-null float64\n",
            "secondary_cleaner.state.floatbank4_b_level    5856 non-null float64\n",
            "secondary_cleaner.state.floatbank5_a_air      5856 non-null float64\n",
            "secondary_cleaner.state.floatbank5_a_level    5856 non-null float64\n",
            "secondary_cleaner.state.floatbank5_b_air      5856 non-null float64\n",
            "secondary_cleaner.state.floatbank5_b_level    5856 non-null float64\n",
            "secondary_cleaner.state.floatbank6_a_air      5856 non-null float64\n",
            "secondary_cleaner.state.floatbank6_a_level    5856 non-null float64\n",
            "dtypes: float64(52), object(1)\n",
            "memory usage: 2.4+ MB\n"
          ],
          "name": "stdout"
        },
        {
          "output_type": "display_data",
          "data": {
            "text/plain": [
              "None"
            ]
          },
          "metadata": {
            "tags": []
          }
        },
        {
          "output_type": "stream",
          "text": [
            "<class 'pandas.core.frame.DataFrame'>\n",
            "RangeIndex: 16860 entries, 0 to 16859\n",
            "Data columns (total 87 columns):\n",
            "date                                                  16860 non-null object\n",
            "final.output.concentrate_ag                           16860 non-null float64\n",
            "final.output.concentrate_pb                           16860 non-null float64\n",
            "final.output.concentrate_sol                          16860 non-null float64\n",
            "final.output.concentrate_au                           16860 non-null float64\n",
            "final.output.recovery                                 16860 non-null float64\n",
            "final.output.tail_ag                                  16860 non-null float64\n",
            "final.output.tail_pb                                  16860 non-null float64\n",
            "final.output.tail_sol                                 16860 non-null float64\n",
            "final.output.tail_au                                  16860 non-null float64\n",
            "primary_cleaner.input.sulfate                         16860 non-null float64\n",
            "primary_cleaner.input.depressant                      16860 non-null float64\n",
            "primary_cleaner.input.feed_size                       16860 non-null float64\n",
            "primary_cleaner.input.xanthate                        16860 non-null float64\n",
            "primary_cleaner.output.concentrate_ag                 16860 non-null float64\n",
            "primary_cleaner.output.concentrate_pb                 16860 non-null float64\n",
            "primary_cleaner.output.concentrate_sol                16860 non-null float64\n",
            "primary_cleaner.output.concentrate_au                 16860 non-null float64\n",
            "primary_cleaner.output.tail_ag                        16860 non-null float64\n",
            "primary_cleaner.output.tail_pb                        16860 non-null float64\n",
            "primary_cleaner.output.tail_sol                       16860 non-null float64\n",
            "primary_cleaner.output.tail_au                        16860 non-null float64\n",
            "primary_cleaner.state.floatbank8_a_air                16860 non-null float64\n",
            "primary_cleaner.state.floatbank8_a_level              16860 non-null float64\n",
            "primary_cleaner.state.floatbank8_b_air                16860 non-null float64\n",
            "primary_cleaner.state.floatbank8_b_level              16860 non-null float64\n",
            "primary_cleaner.state.floatbank8_c_air                16860 non-null float64\n",
            "primary_cleaner.state.floatbank8_c_level              16860 non-null float64\n",
            "primary_cleaner.state.floatbank8_d_air                16860 non-null float64\n",
            "primary_cleaner.state.floatbank8_d_level              16860 non-null float64\n",
            "rougher.calculation.sulfate_to_au_concentrate         16860 non-null float64\n",
            "rougher.calculation.floatbank10_sulfate_to_au_feed    16860 non-null float64\n",
            "rougher.calculation.floatbank11_sulfate_to_au_feed    16860 non-null float64\n",
            "rougher.calculation.au_pb_ratio                       16860 non-null float64\n",
            "rougher.input.feed_ag                                 16860 non-null float64\n",
            "rougher.input.feed_pb                                 16860 non-null float64\n",
            "rougher.input.feed_rate                               16860 non-null float64\n",
            "rougher.input.feed_size                               16860 non-null float64\n",
            "rougher.input.feed_sol                                16860 non-null float64\n",
            "rougher.input.feed_au                                 16860 non-null float64\n",
            "rougher.input.floatbank10_sulfate                     16860 non-null float64\n",
            "rougher.input.floatbank10_xanthate                    16860 non-null float64\n",
            "rougher.input.floatbank11_sulfate                     16860 non-null float64\n",
            "rougher.input.floatbank11_xanthate                    16860 non-null float64\n",
            "rougher.output.concentrate_ag                         16860 non-null float64\n",
            "rougher.output.concentrate_pb                         16860 non-null float64\n",
            "rougher.output.concentrate_sol                        16860 non-null float64\n",
            "rougher.output.concentrate_au                         16860 non-null float64\n",
            "rougher.output.recovery                               16860 non-null float64\n",
            "rougher.output.tail_ag                                16860 non-null float64\n",
            "rougher.output.tail_pb                                16860 non-null float64\n",
            "rougher.output.tail_sol                               16860 non-null float64\n",
            "rougher.output.tail_au                                16860 non-null float64\n",
            "rougher.state.floatbank10_a_air                       16860 non-null float64\n",
            "rougher.state.floatbank10_a_level                     16860 non-null float64\n",
            "rougher.state.floatbank10_b_air                       16860 non-null float64\n",
            "rougher.state.floatbank10_b_level                     16860 non-null float64\n",
            "rougher.state.floatbank10_c_air                       16860 non-null float64\n",
            "rougher.state.floatbank10_c_level                     16860 non-null float64\n",
            "rougher.state.floatbank10_d_air                       16860 non-null float64\n",
            "rougher.state.floatbank10_d_level                     16860 non-null float64\n",
            "rougher.state.floatbank10_e_air                       16860 non-null float64\n",
            "rougher.state.floatbank10_e_level                     16860 non-null float64\n",
            "rougher.state.floatbank10_f_air                       16860 non-null float64\n",
            "rougher.state.floatbank10_f_level                     16860 non-null float64\n",
            "secondary_cleaner.output.tail_ag                      16860 non-null float64\n",
            "secondary_cleaner.output.tail_pb                      16860 non-null float64\n",
            "secondary_cleaner.output.tail_sol                     16860 non-null float64\n",
            "secondary_cleaner.output.tail_au                      16860 non-null float64\n",
            "secondary_cleaner.state.floatbank2_a_air              16860 non-null float64\n",
            "secondary_cleaner.state.floatbank2_a_level            16860 non-null float64\n",
            "secondary_cleaner.state.floatbank2_b_air              16860 non-null float64\n",
            "secondary_cleaner.state.floatbank2_b_level            16860 non-null float64\n",
            "secondary_cleaner.state.floatbank3_a_air              16860 non-null float64\n",
            "secondary_cleaner.state.floatbank3_a_level            16860 non-null float64\n",
            "secondary_cleaner.state.floatbank3_b_air              16860 non-null float64\n",
            "secondary_cleaner.state.floatbank3_b_level            16860 non-null float64\n",
            "secondary_cleaner.state.floatbank4_a_air              16860 non-null float64\n",
            "secondary_cleaner.state.floatbank4_a_level            16860 non-null float64\n",
            "secondary_cleaner.state.floatbank4_b_air              16860 non-null float64\n",
            "secondary_cleaner.state.floatbank4_b_level            16860 non-null float64\n",
            "secondary_cleaner.state.floatbank5_a_air              16860 non-null float64\n",
            "secondary_cleaner.state.floatbank5_a_level            16860 non-null float64\n",
            "secondary_cleaner.state.floatbank5_b_air              16860 non-null float64\n",
            "secondary_cleaner.state.floatbank5_b_level            16860 non-null float64\n",
            "secondary_cleaner.state.floatbank6_a_air              16860 non-null float64\n",
            "secondary_cleaner.state.floatbank6_a_level            16860 non-null float64\n",
            "dtypes: float64(86), object(1)\n",
            "memory usage: 11.2+ MB\n"
          ],
          "name": "stdout"
        }
      ]
    },
    {
      "cell_type": "markdown",
      "metadata": {
        "id": "_IWXvg_RQ7iw"
      },
      "source": [
        "We were able to fill in some missing values with our calculation of the `rougher.output.recover` for both training and test datasets as well as fill in the rest of the missing and null values using the fillna(method=‘ffill’) since the data ordered by time (it fills in null values with the previous data from the instance)."
      ]
    },
    {
      "cell_type": "markdown",
      "metadata": {
        "id": "p0UqUJtKSsdR"
      },
      "source": [
        "## Visualize\n"
      ]
    },
    {
      "cell_type": "markdown",
      "metadata": {
        "id": "BB_I6EvdTBw7"
      },
      "source": [
        "### Concentrations of metals (Au, Ag, Pb) at each different  purification stage"
      ]
    },
    {
      "cell_type": "code",
      "metadata": {
        "colab": {
          "base_uri": "https://localhost:8080/",
          "height": 367
        },
        "id": "INmttJRMnTmc",
        "outputId": "4321a206-d3fe-487c-98bd-666223417d18"
      },
      "source": [
        "plt.figure(figsize=(10,5))\n",
        "plt.hist(df['final.output.concentrate_au'], bins=100, alpha=0.5, label='final [Au]')\n",
        "plt.hist(df['primary_cleaner.output.concentrate_au'], bins=100, alpha=0.5, label='primary_cleaner [Au]')\n",
        "plt.hist(df['rougher.output.concentrate_au'], bins=100, alpha=0.5, label='rougher [Au]')\n",
        "plt.hist(df['rougher.input.feed_au'], bins=100, alpha=0.5, label='rougher input feed [Au]')\n",
        "plt.xlabel('Concentrations of Au at various stages of purification')\n",
        "plt.ylabel('Frequency')\n",
        "plt.title(\"Histogram for Concentrations of Au\")\n",
        "plt.legend(loc='upper right')\n",
        "plt.grid(True)\n",
        "plt.xlim(0, 55)"
      ],
      "execution_count": null,
      "outputs": [
        {
          "output_type": "execute_result",
          "data": {
            "text/plain": [
              "(0, 55)"
            ]
          },
          "metadata": {
            "tags": []
          },
          "execution_count": 17
        },
        {
          "output_type": "display_data",
          "data": {
            "image/png": "[encoded data removed]",
            "text/plain": [
              "<Figure size 720x360 with 1 Axes>"
            ]
          },
          "metadata": {
            "tags": [],
            "needs_background": "light"
          }
        }
      ]
    },
    {
      "cell_type": "markdown",
      "metadata": {
        "id": "jk44Rlu76DwM"
      },
      "source": [
        "Au (gold) concentrations get more concentrated with each stage of purification which is to be expected as the impurities are removed with each stage and the target being gold recovery that concentrations of Au would be greatest at the final stage."
      ]
    },
    {
      "cell_type": "code",
      "metadata": {
        "colab": {
          "base_uri": "https://localhost:8080/",
          "height": 367
        },
        "id": "14m8Trc3l9cV",
        "outputId": "031e354f-7edb-40ef-fe5b-9c9089ab7979"
      },
      "source": [
        "plt.figure(figsize=(10,5))\n",
        "plt.hist(df['final.output.concentrate_ag'], bins=100, alpha=0.5, label='final [Ag]')\n",
        "plt.hist(df['primary_cleaner.output.concentrate_ag'], bins=100, alpha=0.5, label='primary_cleaner [Ag]')\n",
        "plt.hist(df['rougher.output.concentrate_ag'], bins=100, alpha=0.5, label='rougher [Ag]')\n",
        "plt.hist(df['rougher.input.feed_ag'], bins=100, alpha=0.5, label='rougher input feed [Ag]')\n",
        "\n",
        "plt.xlabel('Concentrations of Ag at various stages of purification')\n",
        "plt.ylabel('Frequency')\n",
        "plt.title(\"Histogram for Concentrations of Ag\")\n",
        "plt.legend(loc='upper right')\n",
        "plt.grid(True)\n",
        "plt.xlim(0, 22)"
      ],
      "execution_count": null,
      "outputs": [
        {
          "output_type": "execute_result",
          "data": {
            "text/plain": [
              "(0, 22)"
            ]
          },
          "metadata": {
            "tags": []
          },
          "execution_count": 18
        },
        {
          "output_type": "display_data",
          "data": {
            "image/png": "[encoded data removed]",
            "text/plain": [
              "<Figure size 720x360 with 1 Axes>"
            ]
          },
          "metadata": {
            "tags": [],
            "needs_background": "light"
          }
        }
      ]
    },
    {
      "cell_type": "markdown",
      "metadata": {
        "id": "Z-C5jT0z62hO"
      },
      "source": [
        "Concentrations for Ag (silver) decrease with each stage of purification which is to be expected as Ag is considered a impurity in the target gold recovery."
      ]
    },
    {
      "cell_type": "code",
      "metadata": {
        "colab": {
          "base_uri": "https://localhost:8080/",
          "height": 367
        },
        "id": "MzWTkY_CmwAq",
        "outputId": "479175d5-de05-4e67-fcb0-8998b5b560cb"
      },
      "source": [
        "plt.figure(figsize=(10,5))\n",
        "plt.hist(df['final.output.concentrate_pb'], bins=100, alpha=0.5, label='final [Pb]')\n",
        "plt.hist(df['primary_cleaner.output.concentrate_pb'], bins=100, alpha=0.5, label='primary_cleaner [Pb]')\n",
        "plt.hist(df['rougher.output.concentrate_pb'], bins=100, alpha=0.5, label='rougher [Pb]')\n",
        "plt.hist(df['rougher.input.feed_pb'], bins=100, alpha=0.5, label='rougher input feed [Pb]')\n",
        "\n",
        "plt.xlabel('Concentrations of Pb at various stages of purification')\n",
        "plt.ylabel('Frequency')\n",
        "plt.title(\"Histogram for Concentrations of Pb\")\n",
        "plt.legend(loc='upper right')\n",
        "plt.grid(True)\n",
        "plt.xlim(0, 17)"
      ],
      "execution_count": null,
      "outputs": [
        {
          "output_type": "execute_result",
          "data": {
            "text/plain": [
              "(0, 17)"
            ]
          },
          "metadata": {
            "tags": []
          },
          "execution_count": 19
        },
        {
          "output_type": "display_data",
          "data": {
            "image/png": "[encoded data removed]",
            "text/plain": [
              "<Figure size 720x360 with 1 Axes>"
            ]
          },
          "metadata": {
            "tags": [],
            "needs_background": "light"
          }
        }
      ]
    },
    {
      "cell_type": "markdown",
      "metadata": {
        "id": "mBFlroIi7LYc"
      },
      "source": [
        "Interesting with Pb concentrations (lead) seems to have slightly increase with each stage of purification. This might be due to how the process of gold recovery is done where the solute might be not be able to filter out lead as easily as other impurities. Though the concentration really is not nearly as concentrated in comparison to gold."
      ]
    },
    {
      "cell_type": "markdown",
      "metadata": {
        "id": "bcUeAOSX8hHc"
      },
      "source": [
        "There appears to be outliers where concentraions of metals are 0. "
      ]
    },
    {
      "cell_type": "markdown",
      "metadata": {
        "id": "3Ft6P75_8QKC"
      },
      "source": [
        "### Compare the feed particle size distributions in the training set and in the test set\n",
        "\n",
        "If the distributions vary significantly, the model evaluation will be incorrect."
      ]
    },
    {
      "cell_type": "code",
      "metadata": {
        "colab": {
          "base_uri": "https://localhost:8080/",
          "height": 350
        },
        "id": "dl9yez-FRuSk",
        "scrolled": true,
        "outputId": "bd5f1ea4-521c-45b7-c425-4125ee1c3ce4"
      },
      "source": [
        "plt.figure(figsize=(10,5))\n",
        "df_train['rougher.input.feed_au'].plot.kde(bw_method=0.3)\n",
        "df_test['rougher.input.feed_au'].plot.kde(bw_method=0.3)\n",
        "\n",
        "\n",
        "plt.xlabel('Rougher input feed of Au')\n",
        "plt.ylabel('Density')\n",
        "plt.title(\"Density plot for rougher input feed of Au from both train and test datasets\")\n",
        "plt.legend(['train rougher.input.feed_au', 'test rougher.input.feed_au'],loc='upper right')\n",
        "plt.grid(True)"
      ],
      "execution_count": null,
      "outputs": [
        {
          "output_type": "display_data",
          "data": {
            "image/png": "[encoded data removed]",
            "text/plain": [
              "<Figure size 720x360 with 1 Axes>"
            ]
          },
          "metadata": {
            "tags": [],
            "needs_background": "light"
          }
        }
      ]
    },
    {
      "cell_type": "code",
      "metadata": {
        "colab": {
          "base_uri": "https://localhost:8080/",
          "height": 350
        },
        "id": "PF-ioMK4PPo1",
        "outputId": "515c532d-fec5-487a-a1ef-21d413a767e9"
      },
      "source": [
        "plt.figure(figsize=(10,5))\n",
        "df_train['rougher.input.feed_ag'].plot.kde(bw_method=0.3)\n",
        "df_test['rougher.input.feed_ag'].plot.kde(bw_method=0.3)\n",
        "\n",
        "\n",
        "plt.xlabel('Rougher input feed of Ag')\n",
        "plt.ylabel('Density')\n",
        "plt.title(\"Density plot for rougher input feed of Ag from both train and test datasets\")\n",
        "plt.legend(['train rougher.input.feed_ag', 'test rougher.input.feed_ag'],loc='upper right')\n",
        "plt.grid(True)"
      ],
      "execution_count": null,
      "outputs": [
        {
          "output_type": "display_data",
          "data": {
            "image/png": "[encoded data removed]",
            "text/plain": [
              "<Figure size 720x360 with 1 Axes>"
            ]
          },
          "metadata": {
            "tags": [],
            "needs_background": "light"
          }
        }
      ]
    },
    {
      "cell_type": "code",
      "metadata": {
        "colab": {
          "base_uri": "https://localhost:8080/",
          "height": 350
        },
        "id": "w1pKT4gLR_Jz",
        "outputId": "dfe7f1d0-28b2-408c-cd01-05d379d565d2"
      },
      "source": [
        "plt.figure(figsize=(10,5))\n",
        "df_train['rougher.input.feed_pb'].plot.kde(bw_method=0.3)\n",
        "df_test['rougher.input.feed_pb'].plot.kde(bw_method=0.3)\n",
        "\n",
        "\n",
        "plt.xlabel('Rougher input feed of Pb')\n",
        "plt.ylabel('Density')\n",
        "plt.title(\"Density plot for rougher input feed of Pb from both train and test datasets\")\n",
        "plt.legend(['train rougher.input.feed_pb', 'test rougher.input.feed_pb'],loc='upper right')\n",
        "plt.grid(True)"
      ],
      "execution_count": null,
      "outputs": [
        {
          "output_type": "display_data",
          "data": {
            "image/png": "[encoded data removed]",
            "text/plain": [
              "<Figure size 720x360 with 1 Axes>"
            ]
          },
          "metadata": {
            "tags": [],
            "needs_background": "light"
          }
        }
      ]
    },
    {
      "cell_type": "code",
      "metadata": {
        "colab": {
          "base_uri": "https://localhost:8080/",
          "height": 350
        },
        "id": "_xzdCb6PUFZi",
        "outputId": "50b7a1df-452c-4cb8-d5e1-6d60b5402abe"
      },
      "source": [
        "plt.figure(figsize=(10,5))\n",
        "df_train['rougher.input.feed_sol'].plot.kde(bw_method=0.3)\n",
        "df_test['rougher.input.feed_sol'].plot.kde(bw_method=0.3)\n",
        "\n",
        "\n",
        "plt.xlabel('Rougher input feed of sol')\n",
        "plt.ylabel('Density')\n",
        "plt.title(\"Density plot for rougher input feed of sol from both train and test datasets\")\n",
        "plt.legend(['train rougher.input.feed_sol', 'test rougher.input.feed_sol'],loc='upper right')\n",
        "plt.grid(True)"
      ],
      "execution_count": null,
      "outputs": [
        {
          "output_type": "display_data",
          "data": {
            "image/png": "[encoded data removed]",
            "text/plain": [
              "<Figure size 720x360 with 1 Axes>"
            ]
          },
          "metadata": {
            "tags": [],
            "needs_background": "light"
          }
        }
      ]
    },
    {
      "cell_type": "code",
      "metadata": {
        "id": "aFEFfEkL8hHd",
        "outputId": "380918b6-2478-4c42-ec81-cf0592ce998e"
      },
      "source": [
        "plt.figure(figsize=(10,5))\n",
        "df_train['rougher.input.feed_size'].plot.kde(bw_method=0.3)\n",
        "df_test['rougher.input.feed_size'].plot.kde(bw_method=0.3)\n",
        "\n",
        "\n",
        "plt.xlabel('Rougher input feed size')\n",
        "plt.ylabel('Density')\n",
        "plt.title(\"Density plot for rougher input feed size from both train and test datasets\")\n",
        "plt.legend(['train rougher.input.feed_size', 'test rougher.input.feed_size'],loc='upper right')\n",
        "plt.grid(True)\n",
        "plt.xlim(-10, 175)"
      ],
      "execution_count": null,
      "outputs": [
        {
          "output_type": "execute_result",
          "data": {
            "text/plain": [
              "(-10, 175)"
            ]
          },
          "metadata": {
            "tags": []
          },
          "execution_count": 24
        },
        {
          "output_type": "display_data",
          "data": {
            "image/png": "[encoded data removed]",
            "text/plain": [
              "<Figure size 720x360 with 1 Axes>"
            ]
          },
          "metadata": {
            "tags": [],
            "needs_background": "light"
          }
        }
      ]
    },
    {
      "cell_type": "markdown",
      "metadata": {
        "id": "eNXuApsISSr0"
      },
      "source": [
        "From the plots we can see that the particle size feed for each Au, Ag, Pb, sol, and feed size from train and test datasets are fairly similar. "
      ]
    },
    {
      "cell_type": "markdown",
      "metadata": {
        "id": "6KyxmcDJS0d1"
      },
      "source": [
        "### Total concentrations of all substances at different stages: raw feed, rougher concentrate, and final concentrate"
      ]
    },
    {
      "cell_type": "code",
      "metadata": {
        "id": "CyZvrrEanQJu"
      },
      "source": [
        "# Functions to calculate totals\n",
        "\n",
        "def total_rough_feed(df):\n",
        "  au = df['rougher.input.feed_au']\n",
        "  ag = df['rougher.input.feed_ag']\n",
        "  pb = df['rougher.input.feed_pb']\n",
        "  sol = df['rougher.input.feed_sol']\n",
        "\n",
        "  total = au + ag + pb + sol\n",
        "\n",
        "  return total\n",
        "\n",
        "def total_rough_conc(df):\n",
        "  au = df['rougher.output.concentrate_au']\n",
        "  ag = df['rougher.output.concentrate_ag']\n",
        "  pb = df['rougher.output.concentrate_pb']\n",
        "  sol = df['rougher.output.concentrate_sol']\n",
        "\n",
        "  total = au + ag + pb + sol\n",
        "\n",
        "  return total\n",
        "\n",
        "def total_final_conc(df):\n",
        "  au = df['final.output.concentrate_au']\n",
        "  ag = df['final.output.concentrate_ag']\n",
        "  pb = df['final.output.concentrate_pb']\n",
        "  sol = df['final.output.concentrate_sol']\n",
        "\n",
        "  total = au + ag + pb + sol\n",
        "\n",
        "  return total"
      ],
      "execution_count": null,
      "outputs": []
    },
    {
      "cell_type": "code",
      "metadata": {
        "colab": {
          "base_uri": "https://localhost:8080/",
          "height": 419
        },
        "id": "-cD2Flz5n0Gu",
        "scrolled": true,
        "outputId": "faedfd97-1308-434f-a74f-4e2d6f8a5168"
      },
      "source": [
        "df['total_rough_feed'] = total_rough_feed(df)\n",
        "df['total_rough_conc'] = total_rough_conc(df)\n",
        "df['total_final_conc'] = total_final_conc(df)\n",
        "\n",
        "df[['date','total_rough_feed','total_rough_conc', 'total_final_conc']]"
      ],
      "execution_count": null,
      "outputs": [
        {
          "output_type": "execute_result",
          "data": {
            "text/html": [
              "<div>\n",
              "<style scoped>\n",
              "    .dataframe tbody tr th:only-of-type {\n",
              "        vertical-align: middle;\n",
              "    }\n",
              "\n",
              "    .dataframe tbody tr th {\n",
              "        vertical-align: top;\n",
              "    }\n",
              "\n",
              "    .dataframe thead th {\n",
              "        text-align: right;\n",
              "    }\n",
              "</style>\n",
              "<table border=\"1\" class=\"dataframe\">\n",
              "  <thead>\n",
              "    <tr style=\"text-align: right;\">\n",
              "      <th></th>\n",
              "      <th>date</th>\n",
              "      <th>total_rough_feed</th>\n",
              "      <th>total_rough_conc</th>\n",
              "      <th>total_final_conc</th>\n",
              "    </tr>\n",
              "  </thead>\n",
              "  <tbody>\n",
              "    <tr>\n",
              "      <td>0</td>\n",
              "      <td>2016-01-15 00:00:00</td>\n",
              "      <td>51.680034</td>\n",
              "      <td>66.424950</td>\n",
              "      <td>63.644396</td>\n",
              "    </tr>\n",
              "    <tr>\n",
              "      <td>1</td>\n",
              "      <td>2016-01-15 01:00:00</td>\n",
              "      <td>50.659114</td>\n",
              "      <td>67.012710</td>\n",
              "      <td>63.957723</td>\n",
              "    </tr>\n",
              "    <tr>\n",
              "      <td>2</td>\n",
              "      <td>2016-01-15 02:00:00</td>\n",
              "      <td>50.609929</td>\n",
              "      <td>66.103793</td>\n",
              "      <td>64.311180</td>\n",
              "    </tr>\n",
              "    <tr>\n",
              "      <td>3</td>\n",
              "      <td>2016-01-15 03:00:00</td>\n",
              "      <td>51.061546</td>\n",
              "      <td>65.752751</td>\n",
              "      <td>63.573449</td>\n",
              "    </tr>\n",
              "    <tr>\n",
              "      <td>4</td>\n",
              "      <td>2016-01-15 04:00:00</td>\n",
              "      <td>47.859163</td>\n",
              "      <td>65.908382</td>\n",
              "      <td>64.004667</td>\n",
              "    </tr>\n",
              "    <tr>\n",
              "      <td>...</td>\n",
              "      <td>...</td>\n",
              "      <td>...</td>\n",
              "      <td>...</td>\n",
              "      <td>...</td>\n",
              "    </tr>\n",
              "    <tr>\n",
              "      <td>22711</td>\n",
              "      <td>2018-08-18 06:59:59</td>\n",
              "      <td>53.415050</td>\n",
              "      <td>70.781325</td>\n",
              "      <td>68.098589</td>\n",
              "    </tr>\n",
              "    <tr>\n",
              "      <td>22712</td>\n",
              "      <td>2018-08-18 07:59:59</td>\n",
              "      <td>53.696482</td>\n",
              "      <td>70.539603</td>\n",
              "      <td>68.274362</td>\n",
              "    </tr>\n",
              "    <tr>\n",
              "      <td>22713</td>\n",
              "      <td>2018-08-18 08:59:59</td>\n",
              "      <td>54.589604</td>\n",
              "      <td>55.376330</td>\n",
              "      <td>68.226068</td>\n",
              "    </tr>\n",
              "    <tr>\n",
              "      <td>22714</td>\n",
              "      <td>2018-08-18 09:59:59</td>\n",
              "      <td>54.027355</td>\n",
              "      <td>69.201689</td>\n",
              "      <td>68.200449</td>\n",
              "    </tr>\n",
              "    <tr>\n",
              "      <td>22715</td>\n",
              "      <td>2018-08-18 10:59:59</td>\n",
              "      <td>53.535054</td>\n",
              "      <td>69.544003</td>\n",
              "      <td>68.353154</td>\n",
              "    </tr>\n",
              "  </tbody>\n",
              "</table>\n",
              "<p>22716 rows × 4 columns</p>\n",
              "</div>"
            ],
            "text/plain": [
              "                      date  total_rough_feed  total_rough_conc  \\\n",
              "0      2016-01-15 00:00:00         51.680034         66.424950   \n",
              "1      2016-01-15 01:00:00         50.659114         67.012710   \n",
              "2      2016-01-15 02:00:00         50.609929         66.103793   \n",
              "3      2016-01-15 03:00:00         51.061546         65.752751   \n",
              "4      2016-01-15 04:00:00         47.859163         65.908382   \n",
              "...                    ...               ...               ...   \n",
              "22711  2018-08-18 06:59:59         53.415050         70.781325   \n",
              "22712  2018-08-18 07:59:59         53.696482         70.539603   \n",
              "22713  2018-08-18 08:59:59         54.589604         55.376330   \n",
              "22714  2018-08-18 09:59:59         54.027355         69.201689   \n",
              "22715  2018-08-18 10:59:59         53.535054         69.544003   \n",
              "\n",
              "       total_final_conc  \n",
              "0             63.644396  \n",
              "1             63.957723  \n",
              "2             64.311180  \n",
              "3             63.573449  \n",
              "4             64.004667  \n",
              "...                 ...  \n",
              "22711         68.098589  \n",
              "22712         68.274362  \n",
              "22713         68.226068  \n",
              "22714         68.200449  \n",
              "22715         68.353154  \n",
              "\n",
              "[22716 rows x 4 columns]"
            ]
          },
          "metadata": {
            "tags": []
          },
          "execution_count": 26
        }
      ]
    },
    {
      "cell_type": "code",
      "metadata": {
        "colab": {
          "base_uri": "https://localhost:8080/",
          "height": 350
        },
        "id": "cLwBWIaR-XWn",
        "outputId": "c575041b-af8d-43a2-abb8-a0ec2ecfb230"
      },
      "source": [
        "plt.figure(figsize=(10,5))\n",
        "plt.hist(df['total_rough_feed'], bins=100, alpha=0.5, label='total_rough_feed')\n",
        "plt.hist(df['total_rough_conc'], bins=100, alpha=0.5, label='total rough []')\n",
        "plt.hist(df['total_final_conc'], bins=100, alpha=0.5, label='total final []')\n",
        "\n",
        "plt.xlabel('Total concentrations of elements at various stages of purification')\n",
        "plt.ylabel('Frequency')\n",
        "plt.title(\"Histogram for total concentrations of elements\")\n",
        "plt.legend(loc='upper right')\n",
        "plt.grid(True)"
      ],
      "execution_count": null,
      "outputs": [
        {
          "output_type": "display_data",
          "data": {
            "image/png": "[encoded data removed]",
            "text/plain": [
              "<Figure size 720x360 with 1 Axes>"
            ]
          },
          "metadata": {
            "tags": [],
            "needs_background": "light"
          }
        }
      ]
    },
    {
      "cell_type": "markdown",
      "metadata": {
        "id": "uMQRRvrl_MMF"
      },
      "source": [
        "From the histogram of total concentrations of all elements the obvious abnormal values are the ones that linger around 0. It's best to drop these values moving forward. It is ideal to remove these values from both test and train datasets because if we only remove from train, the model will be shocked with such examples on test in comparison."
      ]
    },
    {
      "cell_type": "code",
      "metadata": {
        "id": "MKaD4W4w8hHf"
      },
      "source": [
        "# Remove values around 0 from 'total_rough_feed', 'total_rough_conc', 'total_final_conc' columns\n",
        "df = df[df['total_rough_feed'] > 1] \n",
        "df = df[df['total_rough_conc'] > 1] \n",
        "df = df[df['total_final_conc'] > 1] "
      ],
      "execution_count": null,
      "outputs": []
    },
    {
      "cell_type": "code",
      "metadata": {
        "colab": {
          "base_uri": "https://localhost:8080/"
        },
        "id": "1vZPsc2t1Kjh",
        "outputId": "431cf195-d589-4900-b0bf-a7e97015b78e"
      },
      "source": [
        "# Merging columns 'total_rough_feed', 'total_rough_conc', 'total_final_conc' from df to aid in removing abnormal values\n",
        "df_train_clean = pd.merge(df_train, df[['date', 'total_rough_feed', 'total_rough_conc', 'total_final_conc']],on='date', how='left')\n",
        "\n",
        "# Removing 0 values from 'total_rough_feed', 'total_rough_conc', 'total_final_conc' columns\n",
        "columns = ['total_rough_feed', 'total_rough_conc', 'total_final_conc']\n",
        "df_train_clean = df_train_clean.replace(0, np.nan).dropna(axis=0, how='any', subset=columns).fillna(0)\n",
        "\n",
        "df_train_clean.info()"
      ],
      "execution_count": null,
      "outputs": [
        {
          "output_type": "stream",
          "text": [
            "<class 'pandas.core.frame.DataFrame'>\n",
            "Int64Index: 14612 entries, 0 to 16859\n",
            "Data columns (total 90 columns):\n",
            "date                                                  14612 non-null object\n",
            "final.output.concentrate_ag                           14612 non-null float64\n",
            "final.output.concentrate_pb                           14612 non-null float64\n",
            "final.output.concentrate_sol                          14612 non-null float64\n",
            "final.output.concentrate_au                           14612 non-null float64\n",
            "final.output.recovery                                 14612 non-null float64\n",
            "final.output.tail_ag                                  14612 non-null float64\n",
            "final.output.tail_pb                                  14612 non-null float64\n",
            "final.output.tail_sol                                 14612 non-null float64\n",
            "final.output.tail_au                                  14612 non-null float64\n",
            "primary_cleaner.input.sulfate                         14612 non-null float64\n",
            "primary_cleaner.input.depressant                      14612 non-null float64\n",
            "primary_cleaner.input.feed_size                       14612 non-null float64\n",
            "primary_cleaner.input.xanthate                        14612 non-null float64\n",
            "primary_cleaner.output.concentrate_ag                 14612 non-null float64\n",
            "primary_cleaner.output.concentrate_pb                 14612 non-null float64\n",
            "primary_cleaner.output.concentrate_sol                14612 non-null float64\n",
            "primary_cleaner.output.concentrate_au                 14612 non-null float64\n",
            "primary_cleaner.output.tail_ag                        14612 non-null float64\n",
            "primary_cleaner.output.tail_pb                        14612 non-null float64\n",
            "primary_cleaner.output.tail_sol                       14612 non-null float64\n",
            "primary_cleaner.output.tail_au                        14612 non-null float64\n",
            "primary_cleaner.state.floatbank8_a_air                14612 non-null float64\n",
            "primary_cleaner.state.floatbank8_a_level              14612 non-null float64\n",
            "primary_cleaner.state.floatbank8_b_air                14612 non-null float64\n",
            "primary_cleaner.state.floatbank8_b_level              14612 non-null float64\n",
            "primary_cleaner.state.floatbank8_c_air                14612 non-null float64\n",
            "primary_cleaner.state.floatbank8_c_level              14612 non-null float64\n",
            "primary_cleaner.state.floatbank8_d_air                14612 non-null float64\n",
            "primary_cleaner.state.floatbank8_d_level              14612 non-null float64\n",
            "rougher.calculation.sulfate_to_au_concentrate         14612 non-null float64\n",
            "rougher.calculation.floatbank10_sulfate_to_au_feed    14612 non-null float64\n",
            "rougher.calculation.floatbank11_sulfate_to_au_feed    14612 non-null float64\n",
            "rougher.calculation.au_pb_ratio                       14612 non-null float64\n",
            "rougher.input.feed_ag                                 14612 non-null float64\n",
            "rougher.input.feed_pb                                 14612 non-null float64\n",
            "rougher.input.feed_rate                               14612 non-null float64\n",
            "rougher.input.feed_size                               14612 non-null float64\n",
            "rougher.input.feed_sol                                14612 non-null float64\n",
            "rougher.input.feed_au                                 14612 non-null float64\n",
            "rougher.input.floatbank10_sulfate                     14612 non-null float64\n",
            "rougher.input.floatbank10_xanthate                    14612 non-null float64\n",
            "rougher.input.floatbank11_sulfate                     14612 non-null float64\n",
            "rougher.input.floatbank11_xanthate                    14612 non-null float64\n",
            "rougher.output.concentrate_ag                         14612 non-null float64\n",
            "rougher.output.concentrate_pb                         14612 non-null float64\n",
            "rougher.output.concentrate_sol                        14612 non-null float64\n",
            "rougher.output.concentrate_au                         14612 non-null float64\n",
            "rougher.output.recovery                               14612 non-null float64\n",
            "rougher.output.tail_ag                                14612 non-null float64\n",
            "rougher.output.tail_pb                                14612 non-null float64\n",
            "rougher.output.tail_sol                               14612 non-null float64\n",
            "rougher.output.tail_au                                14612 non-null float64\n",
            "rougher.state.floatbank10_a_air                       14612 non-null float64\n",
            "rougher.state.floatbank10_a_level                     14612 non-null float64\n",
            "rougher.state.floatbank10_b_air                       14612 non-null float64\n",
            "rougher.state.floatbank10_b_level                     14612 non-null float64\n",
            "rougher.state.floatbank10_c_air                       14612 non-null float64\n",
            "rougher.state.floatbank10_c_level                     14612 non-null float64\n",
            "rougher.state.floatbank10_d_air                       14612 non-null float64\n",
            "rougher.state.floatbank10_d_level                     14612 non-null float64\n",
            "rougher.state.floatbank10_e_air                       14612 non-null float64\n",
            "rougher.state.floatbank10_e_level                     14612 non-null float64\n",
            "rougher.state.floatbank10_f_air                       14612 non-null float64\n",
            "rougher.state.floatbank10_f_level                     14612 non-null float64\n",
            "secondary_cleaner.output.tail_ag                      14612 non-null float64\n",
            "secondary_cleaner.output.tail_pb                      14612 non-null float64\n",
            "secondary_cleaner.output.tail_sol                     14612 non-null float64\n",
            "secondary_cleaner.output.tail_au                      14612 non-null float64\n",
            "secondary_cleaner.state.floatbank2_a_air              14612 non-null float64\n",
            "secondary_cleaner.state.floatbank2_a_level            14612 non-null float64\n",
            "secondary_cleaner.state.floatbank2_b_air              14612 non-null float64\n",
            "secondary_cleaner.state.floatbank2_b_level            14612 non-null float64\n",
            "secondary_cleaner.state.floatbank3_a_air              14612 non-null float64\n",
            "secondary_cleaner.state.floatbank3_a_level            14612 non-null float64\n",
            "secondary_cleaner.state.floatbank3_b_air              14612 non-null float64\n",
            "secondary_cleaner.state.floatbank3_b_level            14612 non-null float64\n",
            "secondary_cleaner.state.floatbank4_a_air              14612 non-null float64\n",
            "secondary_cleaner.state.floatbank4_a_level            14612 non-null float64\n",
            "secondary_cleaner.state.floatbank4_b_air              14612 non-null float64\n",
            "secondary_cleaner.state.floatbank4_b_level            14612 non-null float64\n",
            "secondary_cleaner.state.floatbank5_a_air              14612 non-null float64\n",
            "secondary_cleaner.state.floatbank5_a_level            14612 non-null float64\n",
            "secondary_cleaner.state.floatbank5_b_air              14612 non-null float64\n",
            "secondary_cleaner.state.floatbank5_b_level            14612 non-null float64\n",
            "secondary_cleaner.state.floatbank6_a_air              14612 non-null float64\n",
            "secondary_cleaner.state.floatbank6_a_level            14612 non-null float64\n",
            "total_rough_feed                                      14612 non-null float64\n",
            "total_rough_conc                                      14612 non-null float64\n",
            "total_final_conc                                      14612 non-null float64\n",
            "dtypes: float64(89), object(1)\n",
            "memory usage: 10.1+ MB\n"
          ],
          "name": "stdout"
        }
      ]
    },
    {
      "cell_type": "code",
      "metadata": {
        "colab": {
          "base_uri": "https://localhost:8080/",
          "height": 1000
        },
        "id": "ZfsBVFpOzszw",
        "outputId": "f9073108-39fb-49a5-f466-a07f7b7b6968"
      },
      "source": [
        "# Merging columns 'total_rough_feed', 'total_rough_conc', 'total_final_conc' from df to aid in removing abnormal values\n",
        "df_test_clean = pd.merge(df_test, df[['date', 'total_rough_feed', 'total_rough_conc', 'total_final_conc']],on='date', how='left')\n",
        "\n",
        "# Removing 0 values from 'total_rough_feed', 'total_rough_conc', 'total_final_conc' columns\n",
        "columns = ['total_rough_feed', 'total_rough_conc', 'total_final_conc']\n",
        "df_test_clean = df_test_clean.replace(0, np.nan).dropna(axis=0, how='any', subset=columns).fillna(0)\n",
        "\n",
        "df_test_clean.info()"
      ],
      "execution_count": null,
      "outputs": [
        {
          "output_type": "stream",
          "text": [
            "<class 'pandas.core.frame.DataFrame'>\n",
            "Int64Index: 5290 entries, 0 to 5855\n",
            "Data columns (total 56 columns):\n",
            "date                                          5290 non-null object\n",
            "primary_cleaner.input.sulfate                 5290 non-null float64\n",
            "primary_cleaner.input.depressant              5290 non-null float64\n",
            "primary_cleaner.input.feed_size               5290 non-null float64\n",
            "primary_cleaner.input.xanthate                5290 non-null float64\n",
            "primary_cleaner.state.floatbank8_a_air        5290 non-null float64\n",
            "primary_cleaner.state.floatbank8_a_level      5290 non-null float64\n",
            "primary_cleaner.state.floatbank8_b_air        5290 non-null float64\n",
            "primary_cleaner.state.floatbank8_b_level      5290 non-null float64\n",
            "primary_cleaner.state.floatbank8_c_air        5290 non-null float64\n",
            "primary_cleaner.state.floatbank8_c_level      5290 non-null float64\n",
            "primary_cleaner.state.floatbank8_d_air        5290 non-null float64\n",
            "primary_cleaner.state.floatbank8_d_level      5290 non-null float64\n",
            "rougher.input.feed_ag                         5290 non-null float64\n",
            "rougher.input.feed_pb                         5290 non-null float64\n",
            "rougher.input.feed_rate                       5290 non-null float64\n",
            "rougher.input.feed_size                       5290 non-null float64\n",
            "rougher.input.feed_sol                        5290 non-null float64\n",
            "rougher.input.feed_au                         5290 non-null float64\n",
            "rougher.input.floatbank10_sulfate             5290 non-null float64\n",
            "rougher.input.floatbank10_xanthate            5290 non-null float64\n",
            "rougher.input.floatbank11_sulfate             5290 non-null float64\n",
            "rougher.input.floatbank11_xanthate            5290 non-null float64\n",
            "rougher.state.floatbank10_a_air               5290 non-null float64\n",
            "rougher.state.floatbank10_a_level             5290 non-null float64\n",
            "rougher.state.floatbank10_b_air               5290 non-null float64\n",
            "rougher.state.floatbank10_b_level             5290 non-null float64\n",
            "rougher.state.floatbank10_c_air               5290 non-null float64\n",
            "rougher.state.floatbank10_c_level             5290 non-null float64\n",
            "rougher.state.floatbank10_d_air               5290 non-null float64\n",
            "rougher.state.floatbank10_d_level             5290 non-null float64\n",
            "rougher.state.floatbank10_e_air               5290 non-null float64\n",
            "rougher.state.floatbank10_e_level             5290 non-null float64\n",
            "rougher.state.floatbank10_f_air               5290 non-null float64\n",
            "rougher.state.floatbank10_f_level             5290 non-null float64\n",
            "secondary_cleaner.state.floatbank2_a_air      5290 non-null float64\n",
            "secondary_cleaner.state.floatbank2_a_level    5290 non-null float64\n",
            "secondary_cleaner.state.floatbank2_b_air      5290 non-null float64\n",
            "secondary_cleaner.state.floatbank2_b_level    5290 non-null float64\n",
            "secondary_cleaner.state.floatbank3_a_air      5290 non-null float64\n",
            "secondary_cleaner.state.floatbank3_a_level    5290 non-null float64\n",
            "secondary_cleaner.state.floatbank3_b_air      5290 non-null float64\n",
            "secondary_cleaner.state.floatbank3_b_level    5290 non-null float64\n",
            "secondary_cleaner.state.floatbank4_a_air      5290 non-null float64\n",
            "secondary_cleaner.state.floatbank4_a_level    5290 non-null float64\n",
            "secondary_cleaner.state.floatbank4_b_air      5290 non-null float64\n",
            "secondary_cleaner.state.floatbank4_b_level    5290 non-null float64\n",
            "secondary_cleaner.state.floatbank5_a_air      5290 non-null float64\n",
            "secondary_cleaner.state.floatbank5_a_level    5290 non-null float64\n",
            "secondary_cleaner.state.floatbank5_b_air      5290 non-null float64\n",
            "secondary_cleaner.state.floatbank5_b_level    5290 non-null float64\n",
            "secondary_cleaner.state.floatbank6_a_air      5290 non-null float64\n",
            "secondary_cleaner.state.floatbank6_a_level    5290 non-null float64\n",
            "total_rough_feed                              5290 non-null float64\n",
            "total_rough_conc                              5290 non-null float64\n",
            "total_final_conc                              5290 non-null float64\n",
            "dtypes: float64(55), object(1)\n",
            "memory usage: 2.3+ MB\n"
          ],
          "name": "stdout"
        }
      ]
    },
    {
      "cell_type": "code",
      "metadata": {
        "colab": {
          "base_uri": "https://localhost:8080/",
          "height": 1000
        },
        "id": "RU_DpUpHAQvD",
        "outputId": "a876c7ed-ae3a-4296-9d11-930e94c3fb3d"
      },
      "source": [
        "# Removing 0 values from 'total_rough_feed', 'total_rough_conc', 'total_final_conc' columns\n",
        "columns = ['total_rough_feed', 'total_rough_conc', 'total_final_conc']\n",
        "df_clean = df.replace(0, np.nan).dropna(axis=0, how='any', subset=columns).fillna(0)\n",
        "\n",
        "display(df.info())\n",
        "df_clean.info()"
      ],
      "execution_count": null,
      "outputs": [
        {
          "output_type": "stream",
          "text": [
            "<class 'pandas.core.frame.DataFrame'>\n",
            "Int64Index: 19902 entries, 0 to 22715\n",
            "Data columns (total 90 columns):\n",
            "date                                                  19902 non-null object\n",
            "final.output.concentrate_ag                           19902 non-null float64\n",
            "final.output.concentrate_pb                           19902 non-null float64\n",
            "final.output.concentrate_sol                          19902 non-null float64\n",
            "final.output.concentrate_au                           19902 non-null float64\n",
            "final.output.recovery                                 19902 non-null float64\n",
            "final.output.tail_ag                                  19902 non-null float64\n",
            "final.output.tail_pb                                  19902 non-null float64\n",
            "final.output.tail_sol                                 19902 non-null float64\n",
            "final.output.tail_au                                  19902 non-null float64\n",
            "primary_cleaner.input.sulfate                         19902 non-null float64\n",
            "primary_cleaner.input.depressant                      19902 non-null float64\n",
            "primary_cleaner.input.feed_size                       19902 non-null float64\n",
            "primary_cleaner.input.xanthate                        19902 non-null float64\n",
            "primary_cleaner.output.concentrate_ag                 19902 non-null float64\n",
            "primary_cleaner.output.concentrate_pb                 19902 non-null float64\n",
            "primary_cleaner.output.concentrate_sol                19902 non-null float64\n",
            "primary_cleaner.output.concentrate_au                 19902 non-null float64\n",
            "primary_cleaner.output.tail_ag                        19902 non-null float64\n",
            "primary_cleaner.output.tail_pb                        19902 non-null float64\n",
            "primary_cleaner.output.tail_sol                       19902 non-null float64\n",
            "primary_cleaner.output.tail_au                        19902 non-null float64\n",
            "primary_cleaner.state.floatbank8_a_air                19902 non-null float64\n",
            "primary_cleaner.state.floatbank8_a_level              19902 non-null float64\n",
            "primary_cleaner.state.floatbank8_b_air                19902 non-null float64\n",
            "primary_cleaner.state.floatbank8_b_level              19902 non-null float64\n",
            "primary_cleaner.state.floatbank8_c_air                19902 non-null float64\n",
            "primary_cleaner.state.floatbank8_c_level              19902 non-null float64\n",
            "primary_cleaner.state.floatbank8_d_air                19902 non-null float64\n",
            "primary_cleaner.state.floatbank8_d_level              19902 non-null float64\n",
            "rougher.calculation.sulfate_to_au_concentrate         19902 non-null float64\n",
            "rougher.calculation.floatbank10_sulfate_to_au_feed    19902 non-null float64\n",
            "rougher.calculation.floatbank11_sulfate_to_au_feed    19902 non-null float64\n",
            "rougher.calculation.au_pb_ratio                       19902 non-null float64\n",
            "rougher.input.feed_ag                                 19902 non-null float64\n",
            "rougher.input.feed_pb                                 19902 non-null float64\n",
            "rougher.input.feed_rate                               19902 non-null float64\n",
            "rougher.input.feed_size                               19902 non-null float64\n",
            "rougher.input.feed_sol                                19902 non-null float64\n",
            "rougher.input.feed_au                                 19902 non-null float64\n",
            "rougher.input.floatbank10_sulfate                     19902 non-null float64\n",
            "rougher.input.floatbank10_xanthate                    19902 non-null float64\n",
            "rougher.input.floatbank11_sulfate                     19902 non-null float64\n",
            "rougher.input.floatbank11_xanthate                    19902 non-null float64\n",
            "rougher.output.concentrate_ag                         19902 non-null float64\n",
            "rougher.output.concentrate_pb                         19902 non-null float64\n",
            "rougher.output.concentrate_sol                        19902 non-null float64\n",
            "rougher.output.concentrate_au                         19902 non-null float64\n",
            "rougher.output.recovery                               19902 non-null float64\n",
            "rougher.output.tail_ag                                19902 non-null float64\n",
            "rougher.output.tail_pb                                19902 non-null float64\n",
            "rougher.output.tail_sol                               19902 non-null float64\n",
            "rougher.output.tail_au                                19902 non-null float64\n",
            "rougher.state.floatbank10_a_air                       19902 non-null float64\n",
            "rougher.state.floatbank10_a_level                     19902 non-null float64\n",
            "rougher.state.floatbank10_b_air                       19902 non-null float64\n",
            "rougher.state.floatbank10_b_level                     19902 non-null float64\n",
            "rougher.state.floatbank10_c_air                       19902 non-null float64\n",
            "rougher.state.floatbank10_c_level                     19902 non-null float64\n",
            "rougher.state.floatbank10_d_air                       19902 non-null float64\n",
            "rougher.state.floatbank10_d_level                     19902 non-null float64\n",
            "rougher.state.floatbank10_e_air                       19902 non-null float64\n",
            "rougher.state.floatbank10_e_level                     19902 non-null float64\n",
            "rougher.state.floatbank10_f_air                       19902 non-null float64\n",
            "rougher.state.floatbank10_f_level                     19902 non-null float64\n",
            "secondary_cleaner.output.tail_ag                      19902 non-null float64\n",
            "secondary_cleaner.output.tail_pb                      19902 non-null float64\n",
            "secondary_cleaner.output.tail_sol                     19902 non-null float64\n",
            "secondary_cleaner.output.tail_au                      19902 non-null float64\n",
            "secondary_cleaner.state.floatbank2_a_air              19902 non-null float64\n",
            "secondary_cleaner.state.floatbank2_a_level            19902 non-null float64\n",
            "secondary_cleaner.state.floatbank2_b_air              19902 non-null float64\n",
            "secondary_cleaner.state.floatbank2_b_level            19902 non-null float64\n",
            "secondary_cleaner.state.floatbank3_a_air              19902 non-null float64\n",
            "secondary_cleaner.state.floatbank3_a_level            19902 non-null float64\n",
            "secondary_cleaner.state.floatbank3_b_air              19902 non-null float64\n",
            "secondary_cleaner.state.floatbank3_b_level            19902 non-null float64\n",
            "secondary_cleaner.state.floatbank4_a_air              19902 non-null float64\n",
            "secondary_cleaner.state.floatbank4_a_level            19902 non-null float64\n",
            "secondary_cleaner.state.floatbank4_b_air              19902 non-null float64\n",
            "secondary_cleaner.state.floatbank4_b_level            19902 non-null float64\n",
            "secondary_cleaner.state.floatbank5_a_air              19902 non-null float64\n",
            "secondary_cleaner.state.floatbank5_a_level            19902 non-null float64\n",
            "secondary_cleaner.state.floatbank5_b_air              19902 non-null float64\n",
            "secondary_cleaner.state.floatbank5_b_level            19902 non-null float64\n",
            "secondary_cleaner.state.floatbank6_a_air              19902 non-null float64\n",
            "secondary_cleaner.state.floatbank6_a_level            19902 non-null float64\n",
            "total_rough_feed                                      19902 non-null float64\n",
            "total_rough_conc                                      19902 non-null float64\n",
            "total_final_conc                                      19902 non-null float64\n",
            "dtypes: float64(89), object(1)\n",
            "memory usage: 13.8+ MB\n"
          ],
          "name": "stdout"
        },
        {
          "output_type": "display_data",
          "data": {
            "text/plain": [
              "None"
            ]
          },
          "metadata": {
            "tags": []
          }
        },
        {
          "output_type": "stream",
          "text": [
            "<class 'pandas.core.frame.DataFrame'>\n",
            "Int64Index: 19902 entries, 0 to 22715\n",
            "Data columns (total 90 columns):\n",
            "date                                                  19902 non-null object\n",
            "final.output.concentrate_ag                           19902 non-null float64\n",
            "final.output.concentrate_pb                           19902 non-null float64\n",
            "final.output.concentrate_sol                          19902 non-null float64\n",
            "final.output.concentrate_au                           19902 non-null float64\n",
            "final.output.recovery                                 19902 non-null float64\n",
            "final.output.tail_ag                                  19902 non-null float64\n",
            "final.output.tail_pb                                  19902 non-null float64\n",
            "final.output.tail_sol                                 19902 non-null float64\n",
            "final.output.tail_au                                  19902 non-null float64\n",
            "primary_cleaner.input.sulfate                         19902 non-null float64\n",
            "primary_cleaner.input.depressant                      19902 non-null float64\n",
            "primary_cleaner.input.feed_size                       19902 non-null float64\n",
            "primary_cleaner.input.xanthate                        19902 non-null float64\n",
            "primary_cleaner.output.concentrate_ag                 19902 non-null float64\n",
            "primary_cleaner.output.concentrate_pb                 19902 non-null float64\n",
            "primary_cleaner.output.concentrate_sol                19902 non-null float64\n",
            "primary_cleaner.output.concentrate_au                 19902 non-null float64\n",
            "primary_cleaner.output.tail_ag                        19902 non-null float64\n",
            "primary_cleaner.output.tail_pb                        19902 non-null float64\n",
            "primary_cleaner.output.tail_sol                       19902 non-null float64\n",
            "primary_cleaner.output.tail_au                        19902 non-null float64\n",
            "primary_cleaner.state.floatbank8_a_air                19902 non-null float64\n",
            "primary_cleaner.state.floatbank8_a_level              19902 non-null float64\n",
            "primary_cleaner.state.floatbank8_b_air                19902 non-null float64\n",
            "primary_cleaner.state.floatbank8_b_level              19902 non-null float64\n",
            "primary_cleaner.state.floatbank8_c_air                19902 non-null float64\n",
            "primary_cleaner.state.floatbank8_c_level              19902 non-null float64\n",
            "primary_cleaner.state.floatbank8_d_air                19902 non-null float64\n",
            "primary_cleaner.state.floatbank8_d_level              19902 non-null float64\n",
            "rougher.calculation.sulfate_to_au_concentrate         19902 non-null float64\n",
            "rougher.calculation.floatbank10_sulfate_to_au_feed    19902 non-null float64\n",
            "rougher.calculation.floatbank11_sulfate_to_au_feed    19902 non-null float64\n",
            "rougher.calculation.au_pb_ratio                       19902 non-null float64\n",
            "rougher.input.feed_ag                                 19902 non-null float64\n",
            "rougher.input.feed_pb                                 19902 non-null float64\n",
            "rougher.input.feed_rate                               19902 non-null float64\n",
            "rougher.input.feed_size                               19902 non-null float64\n",
            "rougher.input.feed_sol                                19902 non-null float64\n",
            "rougher.input.feed_au                                 19902 non-null float64\n",
            "rougher.input.floatbank10_sulfate                     19902 non-null float64\n",
            "rougher.input.floatbank10_xanthate                    19902 non-null float64\n",
            "rougher.input.floatbank11_sulfate                     19902 non-null float64\n",
            "rougher.input.floatbank11_xanthate                    19902 non-null float64\n",
            "rougher.output.concentrate_ag                         19902 non-null float64\n",
            "rougher.output.concentrate_pb                         19902 non-null float64\n",
            "rougher.output.concentrate_sol                        19902 non-null float64\n",
            "rougher.output.concentrate_au                         19902 non-null float64\n",
            "rougher.output.recovery                               19902 non-null float64\n",
            "rougher.output.tail_ag                                19902 non-null float64\n",
            "rougher.output.tail_pb                                19902 non-null float64\n",
            "rougher.output.tail_sol                               19902 non-null float64\n",
            "rougher.output.tail_au                                19902 non-null float64\n",
            "rougher.state.floatbank10_a_air                       19902 non-null float64\n",
            "rougher.state.floatbank10_a_level                     19902 non-null float64\n",
            "rougher.state.floatbank10_b_air                       19902 non-null float64\n",
            "rougher.state.floatbank10_b_level                     19902 non-null float64\n",
            "rougher.state.floatbank10_c_air                       19902 non-null float64\n",
            "rougher.state.floatbank10_c_level                     19902 non-null float64\n",
            "rougher.state.floatbank10_d_air                       19902 non-null float64\n",
            "rougher.state.floatbank10_d_level                     19902 non-null float64\n",
            "rougher.state.floatbank10_e_air                       19902 non-null float64\n",
            "rougher.state.floatbank10_e_level                     19902 non-null float64\n",
            "rougher.state.floatbank10_f_air                       19902 non-null float64\n",
            "rougher.state.floatbank10_f_level                     19902 non-null float64\n",
            "secondary_cleaner.output.tail_ag                      19902 non-null float64\n",
            "secondary_cleaner.output.tail_pb                      19902 non-null float64\n",
            "secondary_cleaner.output.tail_sol                     19902 non-null float64\n",
            "secondary_cleaner.output.tail_au                      19902 non-null float64\n",
            "secondary_cleaner.state.floatbank2_a_air              19902 non-null float64\n",
            "secondary_cleaner.state.floatbank2_a_level            19902 non-null float64\n",
            "secondary_cleaner.state.floatbank2_b_air              19902 non-null float64\n",
            "secondary_cleaner.state.floatbank2_b_level            19902 non-null float64\n",
            "secondary_cleaner.state.floatbank3_a_air              19902 non-null float64\n",
            "secondary_cleaner.state.floatbank3_a_level            19902 non-null float64\n",
            "secondary_cleaner.state.floatbank3_b_air              19902 non-null float64\n",
            "secondary_cleaner.state.floatbank3_b_level            19902 non-null float64\n",
            "secondary_cleaner.state.floatbank4_a_air              19902 non-null float64\n",
            "secondary_cleaner.state.floatbank4_a_level            19902 non-null float64\n",
            "secondary_cleaner.state.floatbank4_b_air              19902 non-null float64\n",
            "secondary_cleaner.state.floatbank4_b_level            19902 non-null float64\n",
            "secondary_cleaner.state.floatbank5_a_air              19902 non-null float64\n",
            "secondary_cleaner.state.floatbank5_a_level            19902 non-null float64\n",
            "secondary_cleaner.state.floatbank5_b_air              19902 non-null float64\n",
            "secondary_cleaner.state.floatbank5_b_level            19902 non-null float64\n",
            "secondary_cleaner.state.floatbank6_a_air              19902 non-null float64\n",
            "secondary_cleaner.state.floatbank6_a_level            19902 non-null float64\n",
            "total_rough_feed                                      19902 non-null float64\n",
            "total_rough_conc                                      19902 non-null float64\n",
            "total_final_conc                                      19902 non-null float64\n",
            "dtypes: float64(89), object(1)\n",
            "memory usage: 13.8+ MB\n"
          ],
          "name": "stdout"
        }
      ]
    },
    {
      "cell_type": "code",
      "metadata": {
        "colab": {
          "base_uri": "https://localhost:8080/",
          "height": 350
        },
        "id": "2gqf72_s2IFE",
        "scrolled": true,
        "outputId": "faf387a2-25c3-458a-9e26-a2674611418e"
      },
      "source": [
        "plt.figure(figsize=(10,5))\n",
        "plt.hist(df_clean['total_rough_feed'], bins=100, alpha=0.5, label='total_rough_feed')\n",
        "plt.hist(df_clean['total_rough_conc'], bins=100, alpha=0.5, label='total rough []')\n",
        "plt.hist(df_clean['total_final_conc'], bins=100, alpha=0.5, label='total final []')\n",
        "\n",
        "plt.xlabel('Total concentrations of elements at various stages of purification')\n",
        "plt.ylabel('Frequency')\n",
        "plt.title(\"Histogram for total concentrations of elements\")\n",
        "plt.legend(loc='upper right')\n",
        "plt.grid(True)"
      ],
      "execution_count": null,
      "outputs": [
        {
          "output_type": "display_data",
          "data": {
            "image/png": "[encoded data removed]",
            "text/plain": [
              "<Figure size 720x360 with 1 Axes>"
            ]
          },
          "metadata": {
            "tags": [],
            "needs_background": "light"
          }
        }
      ]
    },
    {
      "cell_type": "markdown",
      "metadata": {
        "id": "Hik0r8ai3TTW"
      },
      "source": [
        "We were able to successfully drop most of abnormal values from our distrubtion from the full dataset, train dataset, and test dataset."
      ]
    },
    {
      "cell_type": "markdown",
      "metadata": {
        "id": "50c2JURv3ngZ"
      },
      "source": [
        "# Model Building"
      ]
    },
    {
      "cell_type": "markdown",
      "metadata": {
        "id": "MLh9l2gb4FmY"
      },
      "source": [
        "## Evaluation Metrics\n",
        "\n",
        "Write a function to calculate the final *sMAPE* value"
      ]
    },
    {
      "cell_type": "code",
      "metadata": {
        "id": "3r6_hHXJ4gU1"
      },
      "source": [
        "# Symmetric Mean Absolute Percentage Error\n",
        "\n",
        "def calc_smape(target, prediction):\n",
        "    try:\n",
        "        smape = 100/len(target) * np.abs(np.sum(2 * np.abs(prediction - target) / (np.abs(target) + np.abs(prediction))))\n",
        "        return smape\n",
        "    except ZeroDivisionError:\n",
        "        return 0\n",
        "\n",
        "def calc_f_smape(target, prediction):\n",
        "    r_smape = calc_smape(target[0], prediction[0])\n",
        "    f_smape = calc_smape(target[1], prediction[1])\n",
        "    \n",
        "    final_smape = (0.25 * r_smape) + (0.75 * f_smape)\n",
        "    \n",
        "    return final_smape"
      ],
      "execution_count": null,
      "outputs": []
    },
    {
      "cell_type": "code",
      "metadata": {
        "colab": {
          "base_uri": "https://localhost:8080/"
        },
        "id": "2qt4mbFY0x1f",
        "outputId": "8d68e457-eaac-4cd3-8430-28b09df421dd"
      },
      "source": [
        "smape_scorer = make_scorer(calc_f_smape, greater_is_better=False)\n",
        "smape_scorer"
      ],
      "execution_count": null,
      "outputs": [
        {
          "output_type": "execute_result",
          "data": {
            "text/plain": [
              "make_scorer(calc_f_smape, greater_is_better=False)"
            ]
          },
          "metadata": {
            "tags": []
          },
          "execution_count": 34
        }
      ]
    },
    {
      "cell_type": "markdown",
      "metadata": {
        "id": "v4WmFjFF8hHh"
      },
      "source": [
        "Parameter `greater_is_better=False` is used so further algorithms could understand that we want to minimize the score.\n"
      ]
    },
    {
      "cell_type": "markdown",
      "metadata": {
        "id": "k6L7oxVq8hHi"
      },
      "source": [
        "## Prepare data subsets"
      ]
    },
    {
      "cell_type": "code",
      "metadata": {
        "colab": {
          "base_uri": "https://localhost:8080/"
        },
        "id": "vYp5PZ4JYvCY",
        "outputId": "1e7e6f0d-8f77-48a3-9cab-ae76b3dfc4ba"
      },
      "source": [
        "# Dropping columns missing in original test dataset from train dataset and any other unnecessary columns\n",
        "\n",
        "df_train_complete = df_train_clean.drop(['final.output.concentrate_ag',\n",
        "                                  'final.output.concentrate_au',\n",
        "                                  'final.output.concentrate_pb',\n",
        "                                  'final.output.concentrate_sol',\n",
        "                                  'final.output.tail_ag',\n",
        "                                  'final.output.tail_au',\n",
        "                                  'final.output.tail_pb',\n",
        "                                  'final.output.tail_sol',\n",
        "                                  'primary_cleaner.output.concentrate_ag',\n",
        "                                  'primary_cleaner.output.concentrate_au',\n",
        "                                  'primary_cleaner.output.concentrate_pb',\n",
        "                                  'primary_cleaner.output.concentrate_sol',\n",
        "                                  'primary_cleaner.output.tail_ag',\n",
        "                                  'primary_cleaner.output.tail_au',\n",
        "                                  'primary_cleaner.output.tail_pb',\n",
        "                                  'primary_cleaner.output.tail_sol',\n",
        "                                  'rougher.calculation.au_pb_ratio',\n",
        "                                  'rougher.calculation.floatbank10_sulfate_to_au_feed',\n",
        "                                  'rougher.calculation.floatbank11_sulfate_to_au_feed',\n",
        "                                  'rougher.calculation.sulfate_to_au_concentrate',\n",
        "                                  'rougher.output.concentrate_ag',\n",
        "                                  'rougher.output.concentrate_au',\n",
        "                                  'rougher.output.concentrate_pb',\n",
        "                                  'rougher.output.concentrate_sol',\n",
        "                                  'rougher.output.tail_ag',\n",
        "                                  'rougher.output.tail_au',\n",
        "                                  'rougher.output.tail_pb',\n",
        "                                  'rougher.output.tail_sol',\n",
        "                                  'secondary_cleaner.output.tail_ag',\n",
        "                                  'secondary_cleaner.output.tail_au',\n",
        "                                  'secondary_cleaner.output.tail_pb',\n",
        "                                  'secondary_cleaner.output.tail_sol',\n",
        "                                  'total_rough_feed', \n",
        "                                  'total_rough_conc', 'total_final_conc', 'date'], axis=1)\n",
        "df_train_complete.info()"
      ],
      "execution_count": null,
      "outputs": [
        {
          "output_type": "stream",
          "text": [
            "<class 'pandas.core.frame.DataFrame'>\n",
            "Int64Index: 14612 entries, 0 to 16859\n",
            "Data columns (total 54 columns):\n",
            "final.output.recovery                         14612 non-null float64\n",
            "primary_cleaner.input.sulfate                 14612 non-null float64\n",
            "primary_cleaner.input.depressant              14612 non-null float64\n",
            "primary_cleaner.input.feed_size               14612 non-null float64\n",
            "primary_cleaner.input.xanthate                14612 non-null float64\n",
            "primary_cleaner.state.floatbank8_a_air        14612 non-null float64\n",
            "primary_cleaner.state.floatbank8_a_level      14612 non-null float64\n",
            "primary_cleaner.state.floatbank8_b_air        14612 non-null float64\n",
            "primary_cleaner.state.floatbank8_b_level      14612 non-null float64\n",
            "primary_cleaner.state.floatbank8_c_air        14612 non-null float64\n",
            "primary_cleaner.state.floatbank8_c_level      14612 non-null float64\n",
            "primary_cleaner.state.floatbank8_d_air        14612 non-null float64\n",
            "primary_cleaner.state.floatbank8_d_level      14612 non-null float64\n",
            "rougher.input.feed_ag                         14612 non-null float64\n",
            "rougher.input.feed_pb                         14612 non-null float64\n",
            "rougher.input.feed_rate                       14612 non-null float64\n",
            "rougher.input.feed_size                       14612 non-null float64\n",
            "rougher.input.feed_sol                        14612 non-null float64\n",
            "rougher.input.feed_au                         14612 non-null float64\n",
            "rougher.input.floatbank10_sulfate             14612 non-null float64\n",
            "rougher.input.floatbank10_xanthate            14612 non-null float64\n",
            "rougher.input.floatbank11_sulfate             14612 non-null float64\n",
            "rougher.input.floatbank11_xanthate            14612 non-null float64\n",
            "rougher.output.recovery                       14612 non-null float64\n",
            "rougher.state.floatbank10_a_air               14612 non-null float64\n",
            "rougher.state.floatbank10_a_level             14612 non-null float64\n",
            "rougher.state.floatbank10_b_air               14612 non-null float64\n",
            "rougher.state.floatbank10_b_level             14612 non-null float64\n",
            "rougher.state.floatbank10_c_air               14612 non-null float64\n",
            "rougher.state.floatbank10_c_level             14612 non-null float64\n",
            "rougher.state.floatbank10_d_air               14612 non-null float64\n",
            "rougher.state.floatbank10_d_level             14612 non-null float64\n",
            "rougher.state.floatbank10_e_air               14612 non-null float64\n",
            "rougher.state.floatbank10_e_level             14612 non-null float64\n",
            "rougher.state.floatbank10_f_air               14612 non-null float64\n",
            "rougher.state.floatbank10_f_level             14612 non-null float64\n",
            "secondary_cleaner.state.floatbank2_a_air      14612 non-null float64\n",
            "secondary_cleaner.state.floatbank2_a_level    14612 non-null float64\n",
            "secondary_cleaner.state.floatbank2_b_air      14612 non-null float64\n",
            "secondary_cleaner.state.floatbank2_b_level    14612 non-null float64\n",
            "secondary_cleaner.state.floatbank3_a_air      14612 non-null float64\n",
            "secondary_cleaner.state.floatbank3_a_level    14612 non-null float64\n",
            "secondary_cleaner.state.floatbank3_b_air      14612 non-null float64\n",
            "secondary_cleaner.state.floatbank3_b_level    14612 non-null float64\n",
            "secondary_cleaner.state.floatbank4_a_air      14612 non-null float64\n",
            "secondary_cleaner.state.floatbank4_a_level    14612 non-null float64\n",
            "secondary_cleaner.state.floatbank4_b_air      14612 non-null float64\n",
            "secondary_cleaner.state.floatbank4_b_level    14612 non-null float64\n",
            "secondary_cleaner.state.floatbank5_a_air      14612 non-null float64\n",
            "secondary_cleaner.state.floatbank5_a_level    14612 non-null float64\n",
            "secondary_cleaner.state.floatbank5_b_air      14612 non-null float64\n",
            "secondary_cleaner.state.floatbank5_b_level    14612 non-null float64\n",
            "secondary_cleaner.state.floatbank6_a_air      14612 non-null float64\n",
            "secondary_cleaner.state.floatbank6_a_level    14612 non-null float64\n",
            "dtypes: float64(54)\n",
            "memory usage: 6.1 MB\n"
          ],
          "name": "stdout"
        }
      ]
    },
    {
      "cell_type": "markdown",
      "metadata": {
        "id": "JEl2e6tsTZUU"
      },
      "source": [
        "We removed the columns that were not present in the test dataset from training. These additional columns can confuse the model if they are useless (since they were not present in the original test dataset). If several features were added with random values to any model it will likely reduce the quality. That’s why it’s important to use only proper features. This is why we are prepping the train dataset for the model training."
      ]
    },
    {
      "cell_type": "code",
      "metadata": {
        "colab": {
          "base_uri": "https://localhost:8080/"
        },
        "id": "FRlpSsc2b0Eh",
        "scrolled": true,
        "outputId": "434a9432-6e5a-4a41-d08a-4fb345ca4c28"
      },
      "source": [
        "# Getting columns final.output.recovery and rougher.output.recovery for test dataset and removing 'total_rough_feed', 'total_rough_conc', 'total_final_conc' columns\n",
        "\n",
        "df_test_complete = pd.merge(df_test_clean, df[['date', 'final.output.recovery', 'rougher.output.recovery']],on='date', how='left')\n",
        "df_test_complete = df_test_complete.drop(['total_rough_feed', 'total_rough_conc', 'total_final_conc', 'date'], axis=1)\n",
        "df_test_complete.info()"
      ],
      "execution_count": null,
      "outputs": [
        {
          "output_type": "stream",
          "text": [
            "<class 'pandas.core.frame.DataFrame'>\n",
            "Int64Index: 5290 entries, 0 to 5289\n",
            "Data columns (total 54 columns):\n",
            "primary_cleaner.input.sulfate                 5290 non-null float64\n",
            "primary_cleaner.input.depressant              5290 non-null float64\n",
            "primary_cleaner.input.feed_size               5290 non-null float64\n",
            "primary_cleaner.input.xanthate                5290 non-null float64\n",
            "primary_cleaner.state.floatbank8_a_air        5290 non-null float64\n",
            "primary_cleaner.state.floatbank8_a_level      5290 non-null float64\n",
            "primary_cleaner.state.floatbank8_b_air        5290 non-null float64\n",
            "primary_cleaner.state.floatbank8_b_level      5290 non-null float64\n",
            "primary_cleaner.state.floatbank8_c_air        5290 non-null float64\n",
            "primary_cleaner.state.floatbank8_c_level      5290 non-null float64\n",
            "primary_cleaner.state.floatbank8_d_air        5290 non-null float64\n",
            "primary_cleaner.state.floatbank8_d_level      5290 non-null float64\n",
            "rougher.input.feed_ag                         5290 non-null float64\n",
            "rougher.input.feed_pb                         5290 non-null float64\n",
            "rougher.input.feed_rate                       5290 non-null float64\n",
            "rougher.input.feed_size                       5290 non-null float64\n",
            "rougher.input.feed_sol                        5290 non-null float64\n",
            "rougher.input.feed_au                         5290 non-null float64\n",
            "rougher.input.floatbank10_sulfate             5290 non-null float64\n",
            "rougher.input.floatbank10_xanthate            5290 non-null float64\n",
            "rougher.input.floatbank11_sulfate             5290 non-null float64\n",
            "rougher.input.floatbank11_xanthate            5290 non-null float64\n",
            "rougher.state.floatbank10_a_air               5290 non-null float64\n",
            "rougher.state.floatbank10_a_level             5290 non-null float64\n",
            "rougher.state.floatbank10_b_air               5290 non-null float64\n",
            "rougher.state.floatbank10_b_level             5290 non-null float64\n",
            "rougher.state.floatbank10_c_air               5290 non-null float64\n",
            "rougher.state.floatbank10_c_level             5290 non-null float64\n",
            "rougher.state.floatbank10_d_air               5290 non-null float64\n",
            "rougher.state.floatbank10_d_level             5290 non-null float64\n",
            "rougher.state.floatbank10_e_air               5290 non-null float64\n",
            "rougher.state.floatbank10_e_level             5290 non-null float64\n",
            "rougher.state.floatbank10_f_air               5290 non-null float64\n",
            "rougher.state.floatbank10_f_level             5290 non-null float64\n",
            "secondary_cleaner.state.floatbank2_a_air      5290 non-null float64\n",
            "secondary_cleaner.state.floatbank2_a_level    5290 non-null float64\n",
            "secondary_cleaner.state.floatbank2_b_air      5290 non-null float64\n",
            "secondary_cleaner.state.floatbank2_b_level    5290 non-null float64\n",
            "secondary_cleaner.state.floatbank3_a_air      5290 non-null float64\n",
            "secondary_cleaner.state.floatbank3_a_level    5290 non-null float64\n",
            "secondary_cleaner.state.floatbank3_b_air      5290 non-null float64\n",
            "secondary_cleaner.state.floatbank3_b_level    5290 non-null float64\n",
            "secondary_cleaner.state.floatbank4_a_air      5290 non-null float64\n",
            "secondary_cleaner.state.floatbank4_a_level    5290 non-null float64\n",
            "secondary_cleaner.state.floatbank4_b_air      5290 non-null float64\n",
            "secondary_cleaner.state.floatbank4_b_level    5290 non-null float64\n",
            "secondary_cleaner.state.floatbank5_a_air      5290 non-null float64\n",
            "secondary_cleaner.state.floatbank5_a_level    5290 non-null float64\n",
            "secondary_cleaner.state.floatbank5_b_air      5290 non-null float64\n",
            "secondary_cleaner.state.floatbank5_b_level    5290 non-null float64\n",
            "secondary_cleaner.state.floatbank6_a_air      5290 non-null float64\n",
            "secondary_cleaner.state.floatbank6_a_level    5290 non-null float64\n",
            "final.output.recovery                         5290 non-null float64\n",
            "rougher.output.recovery                       5290 non-null float64\n",
            "dtypes: float64(54)\n",
            "memory usage: 2.2 MB\n"
          ],
          "name": "stdout"
        }
      ]
    },
    {
      "cell_type": "markdown",
      "metadata": {
        "id": "I6Zp0rlDq3LH"
      },
      "source": [
        "We added in the missing target columns to the test dataset from the original df."
      ]
    },
    {
      "cell_type": "code",
      "metadata": {
        "id": "k4F5PxUVjEjw"
      },
      "source": [
        "# Get features/target for train sub dataset\n",
        "x_train = df_train_complete.drop(['rougher.output.recovery', 'final.output.recovery'], axis=1)\n",
        "y_train = df_train_complete[['rougher.output.recovery', 'final.output.recovery']]\n",
        "\n",
        "# Get features/target for test sub dataset\n",
        "x_test = df_test_complete.drop(['rougher.output.recovery', 'final.output.recovery'], axis=1)\n",
        "y_test = df_test_complete[['rougher.output.recovery', 'final.output.recovery']]"
      ],
      "execution_count": null,
      "outputs": []
    },
    {
      "cell_type": "markdown",
      "metadata": {
        "id": "JQmR0w7KmB7V"
      },
      "source": [
        "## Train different models\n",
        "\n",
        "Evaluate them using cross-validation. Pick the best model and test it using the test sample."
      ]
    },
    {
      "cell_type": "code",
      "metadata": {
        "id": "AEL474GT8hHj"
      },
      "source": [
        "def get_cv_scores(classifier, x_train, y_train):\n",
        "\n",
        "    kfold = KFold(n_splits=5, random_state=RANDOM_STATE, shuffle=True)\n",
        "\n",
        "    cross_val_smape = np.abs(cross_val_score(classifier, x_train, y_train.to_numpy(), scoring=smape_scorer, cv=kfold))\n",
        "\n",
        "    print('Mean Cross-Validation sMAPE Score:', cross_val_smape.mean())\n",
        "    print('Min Cross-Validation sMAPE Score:', cross_val_smape.min())\n",
        "    print('Max Cross-Validation sMAPE Score:', cross_val_smape.max())"
      ],
      "execution_count": null,
      "outputs": []
    },
    {
      "cell_type": "markdown",
      "metadata": {
        "id": "yIQKdqto2esm"
      },
      "source": [
        "### LinearRegression"
      ]
    },
    {
      "cell_type": "code",
      "metadata": {
        "id": "lPejhwhE8hHk",
        "outputId": "f45dd3ac-9d75-4007-9971-aaaa9d8e3947"
      },
      "source": [
        "lr = MultiOutputRegressor(LinearRegression())\n",
        "\n",
        "print('Linear Regression model:')\n",
        "get_cv_scores(lr, x_train, y_train)"
      ],
      "execution_count": null,
      "outputs": [
        {
          "output_type": "stream",
          "text": [
            "Linear Regression model:\n",
            "Mean Cross-Validation sMAPE Score: 34.341736599192494\n",
            "Min Cross-Validation sMAPE Score: 7.541454024526066\n",
            "Max Cross-Validation sMAPE Score: 47.99015041175999\n"
          ],
          "name": "stdout"
        }
      ]
    },
    {
      "cell_type": "markdown",
      "metadata": {
        "id": "L_f2MdrZ2tkt"
      },
      "source": [
        "### DecisionTree"
      ]
    },
    {
      "cell_type": "code",
      "metadata": {
        "id": "KtFU1F--28t_",
        "outputId": "f9d58ae0-5564-451c-ad41-72433d116d74"
      },
      "source": [
        "dt = MultiOutputRegressor(DecisionTreeRegressor(random_state=RANDOM_STATE))\n",
        "\n",
        "print('Decision Tree model:')\n",
        "get_cv_scores(dt, x_train, y_train)"
      ],
      "execution_count": null,
      "outputs": [
        {
          "output_type": "stream",
          "text": [
            "Decision Tree model:\n",
            "Mean Cross-Validation sMAPE Score: 2.1941193666185566\n",
            "Min Cross-Validation sMAPE Score: 0.6229571145328955\n",
            "Max Cross-Validation sMAPE Score: 3.9114996607788086\n"
          ],
          "name": "stdout"
        }
      ]
    },
    {
      "cell_type": "markdown",
      "metadata": {
        "id": "NxmdffZ64dwf"
      },
      "source": [
        "### RandomForest"
      ]
    },
    {
      "cell_type": "code",
      "metadata": {
        "id": "kYcAn0Jl8hHl",
        "outputId": "3ec998c2-b9a7-4b3f-c0c8-26f360bceef5"
      },
      "source": [
        "rf = MultiOutputRegressor(RandomForestRegressor(random_state=RANDOM_STATE, n_estimators=100))\n",
        "\n",
        "print('Random Forest model:')\n",
        "get_cv_scores(rf, x_train, y_train)"
      ],
      "execution_count": null,
      "outputs": [
        {
          "output_type": "stream",
          "text": [
            "Random Forest model:\n",
            "Mean Cross-Validation sMAPE Score: 2.3734912002748216\n",
            "Min Cross-Validation sMAPE Score: 1.2144453600511473\n",
            "Max Cross-Validation sMAPE Score: 4.28980393715649\n"
          ],
          "name": "stdout"
        }
      ]
    },
    {
      "cell_type": "markdown",
      "metadata": {
        "id": "-g_Y4kV18hHl"
      },
      "source": [
        "### Conclusion\n",
        "\n",
        "| Cross-Validation of 5 fold sMAPE Scores | Mean | Min | Max |\n",
        "|:---|:---|:---|:---|\n",
        "| Linear Regression | 34.34 | 7.54 | 47.99 | \n",
        "| Decision Tree | 2.19 | 0.623 | 3.91 |\n",
        "| Random Forest | 2.37 | 1.21 | 4.29 |\n",
        "\n",
        "Looking that the sMAPE scores from the cross-validation of 5 fold, Decision Tree Regression model has the best lowest sMAPE scores across the mean, min, and max."
      ]
    },
    {
      "cell_type": "markdown",
      "metadata": {
        "id": "34JQ0sHHnzO1"
      },
      "source": [
        "## Parameter tuning"
      ]
    },
    {
      "cell_type": "code",
      "metadata": {
        "id": "pgfiV9708hHl"
      },
      "source": [
        "# Create the parameter grid based on the results of random search \n",
        "param_grid = {\n",
        "    'estimator__max_depth': range(1, 15),\n",
        "    'estimator__min_samples_leaf': range(1, 15)\n",
        "}\n",
        "\n",
        "# Create a based model\n",
        "model = MultiOutputRegressor(DecisionTreeRegressor(random_state=RANDOM_STATE))\n",
        "\n",
        "# Instantiate the grid search model\n",
        "grid_search = GridSearchCV(estimator= model, param_grid= param_grid, \n",
        "                           scoring= smape_scorer, cv= 3, n_jobs= -1, verbose= 2)"
      ],
      "execution_count": null,
      "outputs": []
    },
    {
      "cell_type": "code",
      "metadata": {
        "id": "MYQQLUyI8hHm",
        "outputId": "b68fdecd-fc3b-4ff0-b535-7093b6585115"
      },
      "source": [
        "# Fit the grid search to the data\n",
        "grid_search.fit(x_train, y_train.to_numpy())\n",
        "best_param = grid_search.best_params_\n",
        "\n",
        "\n",
        "print(\"\\n The best score across ALL searched params:\\n\",\n",
        "          grid_search.best_score_)\n",
        "    \n",
        "print(\"\\n The best parameters across ALL searched params:\\n\",\n",
        "          grid_search.best_params_)"
      ],
      "execution_count": null,
      "outputs": [
        {
          "output_type": "stream",
          "text": [
            "Fitting 3 folds for each of 196 candidates, totalling 588 fits\n",
            "[CV] estimator__max_depth=1, estimator__min_samples_leaf=1 ...........\n",
            "[CV]  estimator__max_depth=1, estimator__min_samples_leaf=1, total=   0.1s\n",
            "[CV] estimator__max_depth=1, estimator__min_samples_leaf=1 ...........\n"
          ],
          "name": "stdout"
        },
        {
          "output_type": "stream",
          "text": [
            "[Parallel(n_jobs=-1)]: Using backend SequentialBackend with 1 concurrent workers.\n",
            "[Parallel(n_jobs=-1)]: Done   1 out of   1 | elapsed:    0.1s remaining:    0.0s\n"
          ],
          "name": "stderr"
        },
        {
          "output_type": "stream",
          "text": [
            "[CV]  estimator__max_depth=1, estimator__min_samples_leaf=1, total=   0.1s\n",
            "[CV] estimator__max_depth=1, estimator__min_samples_leaf=1 ...........\n",
            "[CV]  estimator__max_depth=1, estimator__min_samples_leaf=1, total=   0.1s\n",
            "[CV] estimator__max_depth=1, estimator__min_samples_leaf=2 ...........\n",
            "[CV]  estimator__max_depth=1, estimator__min_samples_leaf=2, total=   0.1s\n",
            "[CV] estimator__max_depth=1, estimator__min_samples_leaf=2 ...........\n",
            "[CV]  estimator__max_depth=1, estimator__min_samples_leaf=2, total=   0.1s\n",
            "[CV] estimator__max_depth=1, estimator__min_samples_leaf=2 ...........\n",
            "[CV]  estimator__max_depth=1, estimator__min_samples_leaf=2, total=   0.1s\n",
            "[CV] estimator__max_depth=1, estimator__min_samples_leaf=3 ...........\n",
            "[CV]  estimator__max_depth=1, estimator__min_samples_leaf=3, total=   0.1s\n",
            "[CV] estimator__max_depth=1, estimator__min_samples_leaf=3 ...........\n",
            "[CV]  estimator__max_depth=1, estimator__min_samples_leaf=3, total=   0.1s\n",
            "[CV] estimator__max_depth=1, estimator__min_samples_leaf=3 ...........\n",
            "[CV]  estimator__max_depth=1, estimator__min_samples_leaf=3, total=   0.1s\n",
            "[CV] estimator__max_depth=1, estimator__min_samples_leaf=4 ...........\n",
            "[CV]  estimator__max_depth=1, estimator__min_samples_leaf=4, total=   0.1s\n",
            "[CV] estimator__max_depth=1, estimator__min_samples_leaf=4 ...........\n",
            "[CV]  estimator__max_depth=1, estimator__min_samples_leaf=4, total=   0.1s\n",
            "[CV] estimator__max_depth=1, estimator__min_samples_leaf=4 ...........\n",
            "[CV]  estimator__max_depth=1, estimator__min_samples_leaf=4, total=   0.1s\n",
            "[CV] estimator__max_depth=1, estimator__min_samples_leaf=5 ...........\n",
            "[CV]  estimator__max_depth=1, estimator__min_samples_leaf=5, total=   0.1s\n",
            "[CV] estimator__max_depth=1, estimator__min_samples_leaf=5 ...........\n",
            "[CV]  estimator__max_depth=1, estimator__min_samples_leaf=5, total=   0.1s\n",
            "[CV] estimator__max_depth=1, estimator__min_samples_leaf=5 ...........\n",
            "[CV]  estimator__max_depth=1, estimator__min_samples_leaf=5, total=   0.1s\n",
            "[CV] estimator__max_depth=1, estimator__min_samples_leaf=6 ...........\n",
            "[CV]  estimator__max_depth=1, estimator__min_samples_leaf=6, total=   0.1s\n",
            "[CV] estimator__max_depth=1, estimator__min_samples_leaf=6 ...........\n",
            "[CV]  estimator__max_depth=1, estimator__min_samples_leaf=6, total=   0.1s\n",
            "[CV] estimator__max_depth=1, estimator__min_samples_leaf=6 ...........\n",
            "[CV]  estimator__max_depth=1, estimator__min_samples_leaf=6, total=   0.1s\n",
            "[CV] estimator__max_depth=1, estimator__min_samples_leaf=7 ...........\n",
            "[CV]  estimator__max_depth=1, estimator__min_samples_leaf=7, total=   0.1s\n",
            "[CV] estimator__max_depth=1, estimator__min_samples_leaf=7 ...........\n",
            "[CV]  estimator__max_depth=1, estimator__min_samples_leaf=7, total=   0.1s\n",
            "[CV] estimator__max_depth=1, estimator__min_samples_leaf=7 ...........\n",
            "[CV]  estimator__max_depth=1, estimator__min_samples_leaf=7, total=   0.1s\n",
            "[CV] estimator__max_depth=1, estimator__min_samples_leaf=8 ...........\n",
            "[CV]  estimator__max_depth=1, estimator__min_samples_leaf=8, total=   0.1s\n",
            "[CV] estimator__max_depth=1, estimator__min_samples_leaf=8 ...........\n",
            "[CV]  estimator__max_depth=1, estimator__min_samples_leaf=8, total=   0.1s\n",
            "[CV] estimator__max_depth=1, estimator__min_samples_leaf=8 ...........\n",
            "[CV]  estimator__max_depth=1, estimator__min_samples_leaf=8, total=   0.1s\n",
            "[CV] estimator__max_depth=1, estimator__min_samples_leaf=9 ...........\n",
            "[CV]  estimator__max_depth=1, estimator__min_samples_leaf=9, total=   0.1s\n",
            "[CV] estimator__max_depth=1, estimator__min_samples_leaf=9 ...........\n",
            "[CV]  estimator__max_depth=1, estimator__min_samples_leaf=9, total=   0.1s\n",
            "[CV] estimator__max_depth=1, estimator__min_samples_leaf=9 ...........\n",
            "[CV]  estimator__max_depth=1, estimator__min_samples_leaf=9, total=   0.1s\n",
            "[CV] estimator__max_depth=1, estimator__min_samples_leaf=10 ..........\n",
            "[CV]  estimator__max_depth=1, estimator__min_samples_leaf=10, total=   0.1s\n",
            "[CV] estimator__max_depth=1, estimator__min_samples_leaf=10 ..........\n",
            "[CV]  estimator__max_depth=1, estimator__min_samples_leaf=10, total=   0.1s\n",
            "[CV] estimator__max_depth=1, estimator__min_samples_leaf=10 ..........\n",
            "[CV]  estimator__max_depth=1, estimator__min_samples_leaf=10, total=   0.1s\n",
            "[CV] estimator__max_depth=1, estimator__min_samples_leaf=11 ..........\n",
            "[CV]  estimator__max_depth=1, estimator__min_samples_leaf=11, total=   0.1s\n",
            "[CV] estimator__max_depth=1, estimator__min_samples_leaf=11 ..........\n",
            "[CV]  estimator__max_depth=1, estimator__min_samples_leaf=11, total=   0.1s\n",
            "[CV] estimator__max_depth=1, estimator__min_samples_leaf=11 ..........\n",
            "[CV]  estimator__max_depth=1, estimator__min_samples_leaf=11, total=   0.1s\n",
            "[CV] estimator__max_depth=1, estimator__min_samples_leaf=12 ..........\n",
            "[CV]  estimator__max_depth=1, estimator__min_samples_leaf=12, total=   0.1s\n",
            "[CV] estimator__max_depth=1, estimator__min_samples_leaf=12 ..........\n",
            "[CV]  estimator__max_depth=1, estimator__min_samples_leaf=12, total=   0.1s\n",
            "[CV] estimator__max_depth=1, estimator__min_samples_leaf=12 ..........\n",
            "[CV]  estimator__max_depth=1, estimator__min_samples_leaf=12, total=   0.1s\n",
            "[CV] estimator__max_depth=1, estimator__min_samples_leaf=13 ..........\n",
            "[CV]  estimator__max_depth=1, estimator__min_samples_leaf=13, total=   0.1s\n",
            "[CV] estimator__max_depth=1, estimator__min_samples_leaf=13 ..........\n",
            "[CV]  estimator__max_depth=1, estimator__min_samples_leaf=13, total=   0.1s\n",
            "[CV] estimator__max_depth=1, estimator__min_samples_leaf=13 ..........\n",
            "[CV]  estimator__max_depth=1, estimator__min_samples_leaf=13, total=   0.1s\n",
            "[CV] estimator__max_depth=1, estimator__min_samples_leaf=14 ..........\n",
            "[CV]  estimator__max_depth=1, estimator__min_samples_leaf=14, total=   0.1s\n",
            "[CV] estimator__max_depth=1, estimator__min_samples_leaf=14 ..........\n",
            "[CV]  estimator__max_depth=1, estimator__min_samples_leaf=14, total=   0.1s\n",
            "[CV] estimator__max_depth=1, estimator__min_samples_leaf=14 ..........\n",
            "[CV]  estimator__max_depth=1, estimator__min_samples_leaf=14, total=   0.1s\n",
            "[CV] estimator__max_depth=2, estimator__min_samples_leaf=1 ...........\n",
            "[CV]  estimator__max_depth=2, estimator__min_samples_leaf=1, total=   0.2s\n",
            "[CV] estimator__max_depth=2, estimator__min_samples_leaf=1 ...........\n",
            "[CV]  estimator__max_depth=2, estimator__min_samples_leaf=1, total=   0.2s\n",
            "[CV] estimator__max_depth=2, estimator__min_samples_leaf=1 ...........\n",
            "[CV]  estimator__max_depth=2, estimator__min_samples_leaf=1, total=   0.2s\n",
            "[CV] estimator__max_depth=2, estimator__min_samples_leaf=2 ...........\n",
            "[CV]  estimator__max_depth=2, estimator__min_samples_leaf=2, total=   0.2s\n",
            "[CV] estimator__max_depth=2, estimator__min_samples_leaf=2 ...........\n",
            "[CV]  estimator__max_depth=2, estimator__min_samples_leaf=2, total=   0.2s\n",
            "[CV] estimator__max_depth=2, estimator__min_samples_leaf=2 ...........\n",
            "[CV]  estimator__max_depth=2, estimator__min_samples_leaf=2, total=   0.2s\n",
            "[CV] estimator__max_depth=2, estimator__min_samples_leaf=3 ...........\n",
            "[CV]  estimator__max_depth=2, estimator__min_samples_leaf=3, total=   0.2s\n",
            "[CV] estimator__max_depth=2, estimator__min_samples_leaf=3 ...........\n",
            "[CV]  estimator__max_depth=2, estimator__min_samples_leaf=3, total=   0.2s\n",
            "[CV] estimator__max_depth=2, estimator__min_samples_leaf=3 ...........\n",
            "[CV]  estimator__max_depth=2, estimator__min_samples_leaf=3, total=   0.2s\n",
            "[CV] estimator__max_depth=2, estimator__min_samples_leaf=4 ...........\n",
            "[CV]  estimator__max_depth=2, estimator__min_samples_leaf=4, total=   0.2s\n",
            "[CV] estimator__max_depth=2, estimator__min_samples_leaf=4 ...........\n",
            "[CV]  estimator__max_depth=2, estimator__min_samples_leaf=4, total=   0.2s\n",
            "[CV] estimator__max_depth=2, estimator__min_samples_leaf=4 ...........\n",
            "[CV]  estimator__max_depth=2, estimator__min_samples_leaf=4, total=   0.2s\n",
            "[CV] estimator__max_depth=2, estimator__min_samples_leaf=5 ...........\n",
            "[CV]  estimator__max_depth=2, estimator__min_samples_leaf=5, total=   0.2s\n",
            "[CV] estimator__max_depth=2, estimator__min_samples_leaf=5 ...........\n",
            "[CV]  estimator__max_depth=2, estimator__min_samples_leaf=5, total=   0.2s\n",
            "[CV] estimator__max_depth=2, estimator__min_samples_leaf=5 ...........\n",
            "[CV]  estimator__max_depth=2, estimator__min_samples_leaf=5, total=   0.2s\n",
            "[CV] estimator__max_depth=2, estimator__min_samples_leaf=6 ...........\n",
            "[CV]  estimator__max_depth=2, estimator__min_samples_leaf=6, total=   0.2s\n",
            "[CV] estimator__max_depth=2, estimator__min_samples_leaf=6 ...........\n",
            "[CV]  estimator__max_depth=2, estimator__min_samples_leaf=6, total=   0.2s\n",
            "[CV] estimator__max_depth=2, estimator__min_samples_leaf=6 ...........\n",
            "[CV]  estimator__max_depth=2, estimator__min_samples_leaf=6, total=   0.2s\n",
            "[CV] estimator__max_depth=2, estimator__min_samples_leaf=7 ...........\n",
            "[CV]  estimator__max_depth=2, estimator__min_samples_leaf=7, total=   0.2s\n",
            "[CV] estimator__max_depth=2, estimator__min_samples_leaf=7 ...........\n",
            "[CV]  estimator__max_depth=2, estimator__min_samples_leaf=7, total=   0.2s\n",
            "[CV] estimator__max_depth=2, estimator__min_samples_leaf=7 ...........\n",
            "[CV]  estimator__max_depth=2, estimator__min_samples_leaf=7, total=   0.2s\n",
            "[CV] estimator__max_depth=2, estimator__min_samples_leaf=8 ...........\n",
            "[CV]  estimator__max_depth=2, estimator__min_samples_leaf=8, total=   0.2s\n",
            "[CV] estimator__max_depth=2, estimator__min_samples_leaf=8 ...........\n",
            "[CV]  estimator__max_depth=2, estimator__min_samples_leaf=8, total=   0.2s\n",
            "[CV] estimator__max_depth=2, estimator__min_samples_leaf=8 ...........\n",
            "[CV]  estimator__max_depth=2, estimator__min_samples_leaf=8, total=   0.2s\n",
            "[CV] estimator__max_depth=2, estimator__min_samples_leaf=9 ...........\n",
            "[CV]  estimator__max_depth=2, estimator__min_samples_leaf=9, total=   0.2s\n",
            "[CV] estimator__max_depth=2, estimator__min_samples_leaf=9 ...........\n",
            "[CV]  estimator__max_depth=2, estimator__min_samples_leaf=9, total=   0.2s\n",
            "[CV] estimator__max_depth=2, estimator__min_samples_leaf=9 ...........\n",
            "[CV]  estimator__max_depth=2, estimator__min_samples_leaf=9, total=   0.2s\n",
            "[CV] estimator__max_depth=2, estimator__min_samples_leaf=10 ..........\n",
            "[CV]  estimator__max_depth=2, estimator__min_samples_leaf=10, total=   0.2s\n",
            "[CV] estimator__max_depth=2, estimator__min_samples_leaf=10 ..........\n",
            "[CV]  estimator__max_depth=2, estimator__min_samples_leaf=10, total=   0.2s\n",
            "[CV] estimator__max_depth=2, estimator__min_samples_leaf=10 ..........\n",
            "[CV]  estimator__max_depth=2, estimator__min_samples_leaf=10, total=   0.2s\n",
            "[CV] estimator__max_depth=2, estimator__min_samples_leaf=11 ..........\n",
            "[CV]  estimator__max_depth=2, estimator__min_samples_leaf=11, total=   0.2s\n",
            "[CV] estimator__max_depth=2, estimator__min_samples_leaf=11 ..........\n",
            "[CV]  estimator__max_depth=2, estimator__min_samples_leaf=11, total=   0.2s\n",
            "[CV] estimator__max_depth=2, estimator__min_samples_leaf=11 ..........\n",
            "[CV]  estimator__max_depth=2, estimator__min_samples_leaf=11, total=   0.2s\n",
            "[CV] estimator__max_depth=2, estimator__min_samples_leaf=12 ..........\n",
            "[CV]  estimator__max_depth=2, estimator__min_samples_leaf=12, total=   0.2s\n",
            "[CV] estimator__max_depth=2, estimator__min_samples_leaf=12 ..........\n",
            "[CV]  estimator__max_depth=2, estimator__min_samples_leaf=12, total=   0.2s\n",
            "[CV] estimator__max_depth=2, estimator__min_samples_leaf=12 ..........\n",
            "[CV]  estimator__max_depth=2, estimator__min_samples_leaf=12, total=   0.2s\n",
            "[CV] estimator__max_depth=2, estimator__min_samples_leaf=13 ..........\n",
            "[CV]  estimator__max_depth=2, estimator__min_samples_leaf=13, total=   0.2s\n",
            "[CV] estimator__max_depth=2, estimator__min_samples_leaf=13 ..........\n",
            "[CV]  estimator__max_depth=2, estimator__min_samples_leaf=13, total=   0.2s\n",
            "[CV] estimator__max_depth=2, estimator__min_samples_leaf=13 ..........\n",
            "[CV]  estimator__max_depth=2, estimator__min_samples_leaf=13, total=   0.2s\n",
            "[CV] estimator__max_depth=2, estimator__min_samples_leaf=14 ..........\n",
            "[CV]  estimator__max_depth=2, estimator__min_samples_leaf=14, total=   0.2s\n",
            "[CV] estimator__max_depth=2, estimator__min_samples_leaf=14 ..........\n",
            "[CV]  estimator__max_depth=2, estimator__min_samples_leaf=14, total=   0.2s\n",
            "[CV] estimator__max_depth=2, estimator__min_samples_leaf=14 ..........\n",
            "[CV]  estimator__max_depth=2, estimator__min_samples_leaf=14, total=   0.2s\n",
            "[CV] estimator__max_depth=3, estimator__min_samples_leaf=1 ...........\n",
            "[CV]  estimator__max_depth=3, estimator__min_samples_leaf=1, total=   0.3s\n",
            "[CV] estimator__max_depth=3, estimator__min_samples_leaf=1 ...........\n",
            "[CV]  estimator__max_depth=3, estimator__min_samples_leaf=1, total=   0.3s\n",
            "[CV] estimator__max_depth=3, estimator__min_samples_leaf=1 ...........\n",
            "[CV]  estimator__max_depth=3, estimator__min_samples_leaf=1, total=   0.3s\n",
            "[CV] estimator__max_depth=3, estimator__min_samples_leaf=2 ...........\n",
            "[CV]  estimator__max_depth=3, estimator__min_samples_leaf=2, total=   0.3s\n",
            "[CV] estimator__max_depth=3, estimator__min_samples_leaf=2 ...........\n",
            "[CV]  estimator__max_depth=3, estimator__min_samples_leaf=2, total=   0.3s\n",
            "[CV] estimator__max_depth=3, estimator__min_samples_leaf=2 ...........\n",
            "[CV]  estimator__max_depth=3, estimator__min_samples_leaf=2, total=   0.3s\n",
            "[CV] estimator__max_depth=3, estimator__min_samples_leaf=3 ...........\n",
            "[CV]  estimator__max_depth=3, estimator__min_samples_leaf=3, total=   0.3s\n",
            "[CV] estimator__max_depth=3, estimator__min_samples_leaf=3 ...........\n",
            "[CV]  estimator__max_depth=3, estimator__min_samples_leaf=3, total=   0.3s\n",
            "[CV] estimator__max_depth=3, estimator__min_samples_leaf=3 ...........\n",
            "[CV]  estimator__max_depth=3, estimator__min_samples_leaf=3, total=   0.3s\n",
            "[CV] estimator__max_depth=3, estimator__min_samples_leaf=4 ...........\n",
            "[CV]  estimator__max_depth=3, estimator__min_samples_leaf=4, total=   0.3s\n",
            "[CV] estimator__max_depth=3, estimator__min_samples_leaf=4 ...........\n",
            "[CV]  estimator__max_depth=3, estimator__min_samples_leaf=4, total=   0.3s\n",
            "[CV] estimator__max_depth=3, estimator__min_samples_leaf=4 ...........\n",
            "[CV]  estimator__max_depth=3, estimator__min_samples_leaf=4, total=   0.3s\n",
            "[CV] estimator__max_depth=3, estimator__min_samples_leaf=5 ...........\n",
            "[CV]  estimator__max_depth=3, estimator__min_samples_leaf=5, total=   0.3s\n",
            "[CV] estimator__max_depth=3, estimator__min_samples_leaf=5 ...........\n",
            "[CV]  estimator__max_depth=3, estimator__min_samples_leaf=5, total=   0.3s\n",
            "[CV] estimator__max_depth=3, estimator__min_samples_leaf=5 ...........\n",
            "[CV]  estimator__max_depth=3, estimator__min_samples_leaf=5, total=   0.3s\n",
            "[CV] estimator__max_depth=3, estimator__min_samples_leaf=6 ...........\n",
            "[CV]  estimator__max_depth=3, estimator__min_samples_leaf=6, total=   0.3s\n",
            "[CV] estimator__max_depth=3, estimator__min_samples_leaf=6 ...........\n",
            "[CV]  estimator__max_depth=3, estimator__min_samples_leaf=6, total=   0.3s\n",
            "[CV] estimator__max_depth=3, estimator__min_samples_leaf=6 ...........\n",
            "[CV]  estimator__max_depth=3, estimator__min_samples_leaf=6, total=   0.3s\n",
            "[CV] estimator__max_depth=3, estimator__min_samples_leaf=7 ...........\n",
            "[CV]  estimator__max_depth=3, estimator__min_samples_leaf=7, total=   0.3s\n",
            "[CV] estimator__max_depth=3, estimator__min_samples_leaf=7 ...........\n",
            "[CV]  estimator__max_depth=3, estimator__min_samples_leaf=7, total=   0.3s\n",
            "[CV] estimator__max_depth=3, estimator__min_samples_leaf=7 ...........\n",
            "[CV]  estimator__max_depth=3, estimator__min_samples_leaf=7, total=   0.3s\n",
            "[CV] estimator__max_depth=3, estimator__min_samples_leaf=8 ...........\n",
            "[CV]  estimator__max_depth=3, estimator__min_samples_leaf=8, total=   0.3s\n",
            "[CV] estimator__max_depth=3, estimator__min_samples_leaf=8 ...........\n",
            "[CV]  estimator__max_depth=3, estimator__min_samples_leaf=8, total=   0.3s\n",
            "[CV] estimator__max_depth=3, estimator__min_samples_leaf=8 ...........\n",
            "[CV]  estimator__max_depth=3, estimator__min_samples_leaf=8, total=   0.3s\n",
            "[CV] estimator__max_depth=3, estimator__min_samples_leaf=9 ...........\n",
            "[CV]  estimator__max_depth=3, estimator__min_samples_leaf=9, total=   0.3s\n",
            "[CV] estimator__max_depth=3, estimator__min_samples_leaf=9 ...........\n",
            "[CV]  estimator__max_depth=3, estimator__min_samples_leaf=9, total=   0.3s\n",
            "[CV] estimator__max_depth=3, estimator__min_samples_leaf=9 ...........\n",
            "[CV]  estimator__max_depth=3, estimator__min_samples_leaf=9, total=   0.3s\n",
            "[CV] estimator__max_depth=3, estimator__min_samples_leaf=10 ..........\n",
            "[CV]  estimator__max_depth=3, estimator__min_samples_leaf=10, total=   0.3s\n",
            "[CV] estimator__max_depth=3, estimator__min_samples_leaf=10 ..........\n",
            "[CV]  estimator__max_depth=3, estimator__min_samples_leaf=10, total=   0.3s\n",
            "[CV] estimator__max_depth=3, estimator__min_samples_leaf=10 ..........\n",
            "[CV]  estimator__max_depth=3, estimator__min_samples_leaf=10, total=   0.3s\n",
            "[CV] estimator__max_depth=3, estimator__min_samples_leaf=11 ..........\n",
            "[CV]  estimator__max_depth=3, estimator__min_samples_leaf=11, total=   0.3s\n",
            "[CV] estimator__max_depth=3, estimator__min_samples_leaf=11 ..........\n",
            "[CV]  estimator__max_depth=3, estimator__min_samples_leaf=11, total=   0.3s\n",
            "[CV] estimator__max_depth=3, estimator__min_samples_leaf=11 ..........\n",
            "[CV]  estimator__max_depth=3, estimator__min_samples_leaf=11, total=   0.3s\n",
            "[CV] estimator__max_depth=3, estimator__min_samples_leaf=12 ..........\n",
            "[CV]  estimator__max_depth=3, estimator__min_samples_leaf=12, total=   0.3s\n",
            "[CV] estimator__max_depth=3, estimator__min_samples_leaf=12 ..........\n",
            "[CV]  estimator__max_depth=3, estimator__min_samples_leaf=12, total=   0.3s\n",
            "[CV] estimator__max_depth=3, estimator__min_samples_leaf=12 ..........\n",
            "[CV]  estimator__max_depth=3, estimator__min_samples_leaf=12, total=   0.3s\n",
            "[CV] estimator__max_depth=3, estimator__min_samples_leaf=13 ..........\n",
            "[CV]  estimator__max_depth=3, estimator__min_samples_leaf=13, total=   0.3s\n",
            "[CV] estimator__max_depth=3, estimator__min_samples_leaf=13 ..........\n",
            "[CV]  estimator__max_depth=3, estimator__min_samples_leaf=13, total=   0.3s\n",
            "[CV] estimator__max_depth=3, estimator__min_samples_leaf=13 ..........\n",
            "[CV]  estimator__max_depth=3, estimator__min_samples_leaf=13, total=   0.3s\n",
            "[CV] estimator__max_depth=3, estimator__min_samples_leaf=14 ..........\n",
            "[CV]  estimator__max_depth=3, estimator__min_samples_leaf=14, total=   0.3s\n",
            "[CV] estimator__max_depth=3, estimator__min_samples_leaf=14 ..........\n",
            "[CV]  estimator__max_depth=3, estimator__min_samples_leaf=14, total=   0.3s\n",
            "[CV] estimator__max_depth=3, estimator__min_samples_leaf=14 ..........\n",
            "[CV]  estimator__max_depth=3, estimator__min_samples_leaf=14, total=   0.3s\n",
            "[CV] estimator__max_depth=4, estimator__min_samples_leaf=1 ...........\n",
            "[CV]  estimator__max_depth=4, estimator__min_samples_leaf=1, total=   0.4s\n",
            "[CV] estimator__max_depth=4, estimator__min_samples_leaf=1 ...........\n",
            "[CV]  estimator__max_depth=4, estimator__min_samples_leaf=1, total=   0.4s\n",
            "[CV] estimator__max_depth=4, estimator__min_samples_leaf=1 ...........\n",
            "[CV]  estimator__max_depth=4, estimator__min_samples_leaf=1, total=   0.4s\n",
            "[CV] estimator__max_depth=4, estimator__min_samples_leaf=2 ...........\n",
            "[CV]  estimator__max_depth=4, estimator__min_samples_leaf=2, total=   0.4s\n",
            "[CV] estimator__max_depth=4, estimator__min_samples_leaf=2 ...........\n",
            "[CV]  estimator__max_depth=4, estimator__min_samples_leaf=2, total=   0.4s\n",
            "[CV] estimator__max_depth=4, estimator__min_samples_leaf=2 ...........\n",
            "[CV]  estimator__max_depth=4, estimator__min_samples_leaf=2, total=   0.4s\n",
            "[CV] estimator__max_depth=4, estimator__min_samples_leaf=3 ...........\n",
            "[CV]  estimator__max_depth=4, estimator__min_samples_leaf=3, total=   0.4s\n",
            "[CV] estimator__max_depth=4, estimator__min_samples_leaf=3 ...........\n",
            "[CV]  estimator__max_depth=4, estimator__min_samples_leaf=3, total=   0.4s\n",
            "[CV] estimator__max_depth=4, estimator__min_samples_leaf=3 ...........\n",
            "[CV]  estimator__max_depth=4, estimator__min_samples_leaf=3, total=   0.4s\n",
            "[CV] estimator__max_depth=4, estimator__min_samples_leaf=4 ...........\n",
            "[CV]  estimator__max_depth=4, estimator__min_samples_leaf=4, total=   0.4s\n",
            "[CV] estimator__max_depth=4, estimator__min_samples_leaf=4 ...........\n",
            "[CV]  estimator__max_depth=4, estimator__min_samples_leaf=4, total=   0.4s\n",
            "[CV] estimator__max_depth=4, estimator__min_samples_leaf=4 ...........\n",
            "[CV]  estimator__max_depth=4, estimator__min_samples_leaf=4, total=   0.4s\n",
            "[CV] estimator__max_depth=4, estimator__min_samples_leaf=5 ...........\n",
            "[CV]  estimator__max_depth=4, estimator__min_samples_leaf=5, total=   0.4s\n",
            "[CV] estimator__max_depth=4, estimator__min_samples_leaf=5 ...........\n",
            "[CV]  estimator__max_depth=4, estimator__min_samples_leaf=5, total=   0.4s\n",
            "[CV] estimator__max_depth=4, estimator__min_samples_leaf=5 ...........\n",
            "[CV]  estimator__max_depth=4, estimator__min_samples_leaf=5, total=   0.4s\n",
            "[CV] estimator__max_depth=4, estimator__min_samples_leaf=6 ...........\n",
            "[CV]  estimator__max_depth=4, estimator__min_samples_leaf=6, total=   0.4s\n",
            "[CV] estimator__max_depth=4, estimator__min_samples_leaf=6 ...........\n",
            "[CV]  estimator__max_depth=4, estimator__min_samples_leaf=6, total=   0.4s\n",
            "[CV] estimator__max_depth=4, estimator__min_samples_leaf=6 ...........\n",
            "[CV]  estimator__max_depth=4, estimator__min_samples_leaf=6, total=   0.4s\n",
            "[CV] estimator__max_depth=4, estimator__min_samples_leaf=7 ...........\n",
            "[CV]  estimator__max_depth=4, estimator__min_samples_leaf=7, total=   0.4s\n",
            "[CV] estimator__max_depth=4, estimator__min_samples_leaf=7 ...........\n",
            "[CV]  estimator__max_depth=4, estimator__min_samples_leaf=7, total=   0.4s\n",
            "[CV] estimator__max_depth=4, estimator__min_samples_leaf=7 ...........\n",
            "[CV]  estimator__max_depth=4, estimator__min_samples_leaf=7, total=   0.4s\n",
            "[CV] estimator__max_depth=4, estimator__min_samples_leaf=8 ...........\n",
            "[CV]  estimator__max_depth=4, estimator__min_samples_leaf=8, total=   0.4s\n",
            "[CV] estimator__max_depth=4, estimator__min_samples_leaf=8 ...........\n",
            "[CV]  estimator__max_depth=4, estimator__min_samples_leaf=8, total=   0.4s\n",
            "[CV] estimator__max_depth=4, estimator__min_samples_leaf=8 ...........\n",
            "[CV]  estimator__max_depth=4, estimator__min_samples_leaf=8, total=   0.4s\n",
            "[CV] estimator__max_depth=4, estimator__min_samples_leaf=9 ...........\n",
            "[CV]  estimator__max_depth=4, estimator__min_samples_leaf=9, total=   0.4s\n",
            "[CV] estimator__max_depth=4, estimator__min_samples_leaf=9 ...........\n",
            "[CV]  estimator__max_depth=4, estimator__min_samples_leaf=9, total=   0.4s\n",
            "[CV] estimator__max_depth=4, estimator__min_samples_leaf=9 ...........\n",
            "[CV]  estimator__max_depth=4, estimator__min_samples_leaf=9, total=   0.4s\n",
            "[CV] estimator__max_depth=4, estimator__min_samples_leaf=10 ..........\n",
            "[CV]  estimator__max_depth=4, estimator__min_samples_leaf=10, total=   0.4s\n",
            "[CV] estimator__max_depth=4, estimator__min_samples_leaf=10 ..........\n",
            "[CV]  estimator__max_depth=4, estimator__min_samples_leaf=10, total=   0.4s\n",
            "[CV] estimator__max_depth=4, estimator__min_samples_leaf=10 ..........\n",
            "[CV]  estimator__max_depth=4, estimator__min_samples_leaf=10, total=   0.4s\n",
            "[CV] estimator__max_depth=4, estimator__min_samples_leaf=11 ..........\n",
            "[CV]  estimator__max_depth=4, estimator__min_samples_leaf=11, total=   0.4s\n",
            "[CV] estimator__max_depth=4, estimator__min_samples_leaf=11 ..........\n",
            "[CV]  estimator__max_depth=4, estimator__min_samples_leaf=11, total=   0.4s\n",
            "[CV] estimator__max_depth=4, estimator__min_samples_leaf=11 ..........\n",
            "[CV]  estimator__max_depth=4, estimator__min_samples_leaf=11, total=   0.4s\n",
            "[CV] estimator__max_depth=4, estimator__min_samples_leaf=12 ..........\n",
            "[CV]  estimator__max_depth=4, estimator__min_samples_leaf=12, total=   0.4s\n",
            "[CV] estimator__max_depth=4, estimator__min_samples_leaf=12 ..........\n",
            "[CV]  estimator__max_depth=4, estimator__min_samples_leaf=12, total=   0.4s\n",
            "[CV] estimator__max_depth=4, estimator__min_samples_leaf=12 ..........\n",
            "[CV]  estimator__max_depth=4, estimator__min_samples_leaf=12, total=   0.4s\n",
            "[CV] estimator__max_depth=4, estimator__min_samples_leaf=13 ..........\n",
            "[CV]  estimator__max_depth=4, estimator__min_samples_leaf=13, total=   0.4s\n",
            "[CV] estimator__max_depth=4, estimator__min_samples_leaf=13 ..........\n",
            "[CV]  estimator__max_depth=4, estimator__min_samples_leaf=13, total=   0.4s\n",
            "[CV] estimator__max_depth=4, estimator__min_samples_leaf=13 ..........\n",
            "[CV]  estimator__max_depth=4, estimator__min_samples_leaf=13, total=   0.4s\n",
            "[CV] estimator__max_depth=4, estimator__min_samples_leaf=14 ..........\n",
            "[CV]  estimator__max_depth=4, estimator__min_samples_leaf=14, total=   0.4s\n",
            "[CV] estimator__max_depth=4, estimator__min_samples_leaf=14 ..........\n",
            "[CV]  estimator__max_depth=4, estimator__min_samples_leaf=14, total=   0.4s\n",
            "[CV] estimator__max_depth=4, estimator__min_samples_leaf=14 ..........\n",
            "[CV]  estimator__max_depth=4, estimator__min_samples_leaf=14, total=   0.4s\n",
            "[CV] estimator__max_depth=5, estimator__min_samples_leaf=1 ...........\n",
            "[CV]  estimator__max_depth=5, estimator__min_samples_leaf=1, total=   0.5s\n",
            "[CV] estimator__max_depth=5, estimator__min_samples_leaf=1 ...........\n",
            "[CV]  estimator__max_depth=5, estimator__min_samples_leaf=1, total=   0.5s\n",
            "[CV] estimator__max_depth=5, estimator__min_samples_leaf=1 ...........\n",
            "[CV]  estimator__max_depth=5, estimator__min_samples_leaf=1, total=   0.5s\n",
            "[CV] estimator__max_depth=5, estimator__min_samples_leaf=2 ...........\n",
            "[CV]  estimator__max_depth=5, estimator__min_samples_leaf=2, total=   0.5s\n",
            "[CV] estimator__max_depth=5, estimator__min_samples_leaf=2 ...........\n",
            "[CV]  estimator__max_depth=5, estimator__min_samples_leaf=2, total=   0.5s\n",
            "[CV] estimator__max_depth=5, estimator__min_samples_leaf=2 ...........\n",
            "[CV]  estimator__max_depth=5, estimator__min_samples_leaf=2, total=   0.5s\n",
            "[CV] estimator__max_depth=5, estimator__min_samples_leaf=3 ...........\n",
            "[CV]  estimator__max_depth=5, estimator__min_samples_leaf=3, total=   0.5s\n",
            "[CV] estimator__max_depth=5, estimator__min_samples_leaf=3 ...........\n",
            "[CV]  estimator__max_depth=5, estimator__min_samples_leaf=3, total=   0.5s\n",
            "[CV] estimator__max_depth=5, estimator__min_samples_leaf=3 ...........\n",
            "[CV]  estimator__max_depth=5, estimator__min_samples_leaf=3, total=   0.5s\n",
            "[CV] estimator__max_depth=5, estimator__min_samples_leaf=4 ...........\n",
            "[CV]  estimator__max_depth=5, estimator__min_samples_leaf=4, total=   0.5s\n",
            "[CV] estimator__max_depth=5, estimator__min_samples_leaf=4 ...........\n",
            "[CV]  estimator__max_depth=5, estimator__min_samples_leaf=4, total=   0.5s\n",
            "[CV] estimator__max_depth=5, estimator__min_samples_leaf=4 ...........\n",
            "[CV]  estimator__max_depth=5, estimator__min_samples_leaf=4, total=   0.5s\n",
            "[CV] estimator__max_depth=5, estimator__min_samples_leaf=5 ...........\n",
            "[CV]  estimator__max_depth=5, estimator__min_samples_leaf=5, total=   0.5s\n",
            "[CV] estimator__max_depth=5, estimator__min_samples_leaf=5 ...........\n",
            "[CV]  estimator__max_depth=5, estimator__min_samples_leaf=5, total=   0.5s\n",
            "[CV] estimator__max_depth=5, estimator__min_samples_leaf=5 ...........\n",
            "[CV]  estimator__max_depth=5, estimator__min_samples_leaf=5, total=   0.5s\n",
            "[CV] estimator__max_depth=5, estimator__min_samples_leaf=6 ...........\n",
            "[CV]  estimator__max_depth=5, estimator__min_samples_leaf=6, total=   0.5s\n",
            "[CV] estimator__max_depth=5, estimator__min_samples_leaf=6 ...........\n",
            "[CV]  estimator__max_depth=5, estimator__min_samples_leaf=6, total=   0.5s\n",
            "[CV] estimator__max_depth=5, estimator__min_samples_leaf=6 ...........\n",
            "[CV]  estimator__max_depth=5, estimator__min_samples_leaf=6, total=   0.5s\n",
            "[CV] estimator__max_depth=5, estimator__min_samples_leaf=7 ...........\n",
            "[CV]  estimator__max_depth=5, estimator__min_samples_leaf=7, total=   0.5s\n",
            "[CV] estimator__max_depth=5, estimator__min_samples_leaf=7 ...........\n",
            "[CV]  estimator__max_depth=5, estimator__min_samples_leaf=7, total=   0.5s\n",
            "[CV] estimator__max_depth=5, estimator__min_samples_leaf=7 ...........\n",
            "[CV]  estimator__max_depth=5, estimator__min_samples_leaf=7, total=   0.5s\n",
            "[CV] estimator__max_depth=5, estimator__min_samples_leaf=8 ...........\n",
            "[CV]  estimator__max_depth=5, estimator__min_samples_leaf=8, total=   0.5s\n",
            "[CV] estimator__max_depth=5, estimator__min_samples_leaf=8 ...........\n",
            "[CV]  estimator__max_depth=5, estimator__min_samples_leaf=8, total=   0.5s\n",
            "[CV] estimator__max_depth=5, estimator__min_samples_leaf=8 ...........\n",
            "[CV]  estimator__max_depth=5, estimator__min_samples_leaf=8, total=   0.5s\n",
            "[CV] estimator__max_depth=5, estimator__min_samples_leaf=9 ...........\n",
            "[CV]  estimator__max_depth=5, estimator__min_samples_leaf=9, total=   0.5s\n",
            "[CV] estimator__max_depth=5, estimator__min_samples_leaf=9 ...........\n",
            "[CV]  estimator__max_depth=5, estimator__min_samples_leaf=9, total=   0.5s\n",
            "[CV] estimator__max_depth=5, estimator__min_samples_leaf=9 ...........\n",
            "[CV]  estimator__max_depth=5, estimator__min_samples_leaf=9, total=   0.5s\n",
            "[CV] estimator__max_depth=5, estimator__min_samples_leaf=10 ..........\n",
            "[CV]  estimator__max_depth=5, estimator__min_samples_leaf=10, total=   0.5s\n",
            "[CV] estimator__max_depth=5, estimator__min_samples_leaf=10 ..........\n",
            "[CV]  estimator__max_depth=5, estimator__min_samples_leaf=10, total=   0.5s\n",
            "[CV] estimator__max_depth=5, estimator__min_samples_leaf=10 ..........\n",
            "[CV]  estimator__max_depth=5, estimator__min_samples_leaf=10, total=   0.5s\n",
            "[CV] estimator__max_depth=5, estimator__min_samples_leaf=11 ..........\n",
            "[CV]  estimator__max_depth=5, estimator__min_samples_leaf=11, total=   0.5s\n",
            "[CV] estimator__max_depth=5, estimator__min_samples_leaf=11 ..........\n",
            "[CV]  estimator__max_depth=5, estimator__min_samples_leaf=11, total=   0.5s\n",
            "[CV] estimator__max_depth=5, estimator__min_samples_leaf=11 ..........\n",
            "[CV]  estimator__max_depth=5, estimator__min_samples_leaf=11, total=   0.5s\n",
            "[CV] estimator__max_depth=5, estimator__min_samples_leaf=12 ..........\n",
            "[CV]  estimator__max_depth=5, estimator__min_samples_leaf=12, total=   0.5s\n",
            "[CV] estimator__max_depth=5, estimator__min_samples_leaf=12 ..........\n",
            "[CV]  estimator__max_depth=5, estimator__min_samples_leaf=12, total=   0.5s\n",
            "[CV] estimator__max_depth=5, estimator__min_samples_leaf=12 ..........\n",
            "[CV]  estimator__max_depth=5, estimator__min_samples_leaf=12, total=   0.5s\n",
            "[CV] estimator__max_depth=5, estimator__min_samples_leaf=13 ..........\n",
            "[CV]  estimator__max_depth=5, estimator__min_samples_leaf=13, total=   0.5s\n",
            "[CV] estimator__max_depth=5, estimator__min_samples_leaf=13 ..........\n",
            "[CV]  estimator__max_depth=5, estimator__min_samples_leaf=13, total=   0.5s\n",
            "[CV] estimator__max_depth=5, estimator__min_samples_leaf=13 ..........\n",
            "[CV]  estimator__max_depth=5, estimator__min_samples_leaf=13, total=   0.5s\n",
            "[CV] estimator__max_depth=5, estimator__min_samples_leaf=14 ..........\n",
            "[CV]  estimator__max_depth=5, estimator__min_samples_leaf=14, total=   0.5s\n",
            "[CV] estimator__max_depth=5, estimator__min_samples_leaf=14 ..........\n",
            "[CV]  estimator__max_depth=5, estimator__min_samples_leaf=14, total=   0.5s\n",
            "[CV] estimator__max_depth=5, estimator__min_samples_leaf=14 ..........\n",
            "[CV]  estimator__max_depth=5, estimator__min_samples_leaf=14, total=   0.5s\n",
            "[CV] estimator__max_depth=6, estimator__min_samples_leaf=1 ...........\n",
            "[CV]  estimator__max_depth=6, estimator__min_samples_leaf=1, total=   0.5s\n",
            "[CV] estimator__max_depth=6, estimator__min_samples_leaf=1 ...........\n",
            "[CV]  estimator__max_depth=6, estimator__min_samples_leaf=1, total=   0.5s\n",
            "[CV] estimator__max_depth=6, estimator__min_samples_leaf=1 ...........\n",
            "[CV]  estimator__max_depth=6, estimator__min_samples_leaf=1, total=   0.5s\n",
            "[CV] estimator__max_depth=6, estimator__min_samples_leaf=2 ...........\n",
            "[CV]  estimator__max_depth=6, estimator__min_samples_leaf=2, total=   0.5s\n",
            "[CV] estimator__max_depth=6, estimator__min_samples_leaf=2 ...........\n",
            "[CV]  estimator__max_depth=6, estimator__min_samples_leaf=2, total=   0.6s\n",
            "[CV] estimator__max_depth=6, estimator__min_samples_leaf=2 ...........\n",
            "[CV]  estimator__max_depth=6, estimator__min_samples_leaf=2, total=   0.6s\n",
            "[CV] estimator__max_depth=6, estimator__min_samples_leaf=3 ...........\n",
            "[CV]  estimator__max_depth=6, estimator__min_samples_leaf=3, total=   0.5s\n",
            "[CV] estimator__max_depth=6, estimator__min_samples_leaf=3 ...........\n",
            "[CV]  estimator__max_depth=6, estimator__min_samples_leaf=3, total=   0.6s\n",
            "[CV] estimator__max_depth=6, estimator__min_samples_leaf=3 ...........\n",
            "[CV]  estimator__max_depth=6, estimator__min_samples_leaf=3, total=   0.6s\n",
            "[CV] estimator__max_depth=6, estimator__min_samples_leaf=4 ...........\n",
            "[CV]  estimator__max_depth=6, estimator__min_samples_leaf=4, total=   0.6s\n",
            "[CV] estimator__max_depth=6, estimator__min_samples_leaf=4 ...........\n",
            "[CV]  estimator__max_depth=6, estimator__min_samples_leaf=4, total=   0.6s\n",
            "[CV] estimator__max_depth=6, estimator__min_samples_leaf=4 ...........\n",
            "[CV]  estimator__max_depth=6, estimator__min_samples_leaf=4, total=   0.6s\n",
            "[CV] estimator__max_depth=6, estimator__min_samples_leaf=5 ...........\n",
            "[CV]  estimator__max_depth=6, estimator__min_samples_leaf=5, total=   0.6s\n",
            "[CV] estimator__max_depth=6, estimator__min_samples_leaf=5 ...........\n",
            "[CV]  estimator__max_depth=6, estimator__min_samples_leaf=5, total=   0.6s\n",
            "[CV] estimator__max_depth=6, estimator__min_samples_leaf=5 ...........\n",
            "[CV]  estimator__max_depth=6, estimator__min_samples_leaf=5, total=   0.5s\n",
            "[CV] estimator__max_depth=6, estimator__min_samples_leaf=6 ...........\n",
            "[CV]  estimator__max_depth=6, estimator__min_samples_leaf=6, total=   0.6s\n",
            "[CV] estimator__max_depth=6, estimator__min_samples_leaf=6 ...........\n",
            "[CV]  estimator__max_depth=6, estimator__min_samples_leaf=6, total=   0.5s\n",
            "[CV] estimator__max_depth=6, estimator__min_samples_leaf=6 ...........\n",
            "[CV]  estimator__max_depth=6, estimator__min_samples_leaf=6, total=   0.6s\n",
            "[CV] estimator__max_depth=6, estimator__min_samples_leaf=7 ...........\n",
            "[CV]  estimator__max_depth=6, estimator__min_samples_leaf=7, total=   0.6s\n",
            "[CV] estimator__max_depth=6, estimator__min_samples_leaf=7 ...........\n",
            "[CV]  estimator__max_depth=6, estimator__min_samples_leaf=7, total=   0.6s\n",
            "[CV] estimator__max_depth=6, estimator__min_samples_leaf=7 ...........\n",
            "[CV]  estimator__max_depth=6, estimator__min_samples_leaf=7, total=   0.5s\n",
            "[CV] estimator__max_depth=6, estimator__min_samples_leaf=8 ...........\n",
            "[CV]  estimator__max_depth=6, estimator__min_samples_leaf=8, total=   0.6s\n",
            "[CV] estimator__max_depth=6, estimator__min_samples_leaf=8 ...........\n",
            "[CV]  estimator__max_depth=6, estimator__min_samples_leaf=8, total=   0.6s\n",
            "[CV] estimator__max_depth=6, estimator__min_samples_leaf=8 ...........\n",
            "[CV]  estimator__max_depth=6, estimator__min_samples_leaf=8, total=   0.6s\n",
            "[CV] estimator__max_depth=6, estimator__min_samples_leaf=9 ...........\n",
            "[CV]  estimator__max_depth=6, estimator__min_samples_leaf=9, total=   0.6s\n",
            "[CV] estimator__max_depth=6, estimator__min_samples_leaf=9 ...........\n",
            "[CV]  estimator__max_depth=6, estimator__min_samples_leaf=9, total=   0.6s\n",
            "[CV] estimator__max_depth=6, estimator__min_samples_leaf=9 ...........\n",
            "[CV]  estimator__max_depth=6, estimator__min_samples_leaf=9, total=   0.6s\n",
            "[CV] estimator__max_depth=6, estimator__min_samples_leaf=10 ..........\n",
            "[CV]  estimator__max_depth=6, estimator__min_samples_leaf=10, total=   0.6s\n",
            "[CV] estimator__max_depth=6, estimator__min_samples_leaf=10 ..........\n",
            "[CV]  estimator__max_depth=6, estimator__min_samples_leaf=10, total=   0.6s\n",
            "[CV] estimator__max_depth=6, estimator__min_samples_leaf=10 ..........\n",
            "[CV]  estimator__max_depth=6, estimator__min_samples_leaf=10, total=   0.6s\n",
            "[CV] estimator__max_depth=6, estimator__min_samples_leaf=11 ..........\n",
            "[CV]  estimator__max_depth=6, estimator__min_samples_leaf=11, total=   0.6s\n",
            "[CV] estimator__max_depth=6, estimator__min_samples_leaf=11 ..........\n",
            "[CV]  estimator__max_depth=6, estimator__min_samples_leaf=11, total=   0.5s\n",
            "[CV] estimator__max_depth=6, estimator__min_samples_leaf=11 ..........\n",
            "[CV]  estimator__max_depth=6, estimator__min_samples_leaf=11, total=   0.6s\n",
            "[CV] estimator__max_depth=6, estimator__min_samples_leaf=12 ..........\n",
            "[CV]  estimator__max_depth=6, estimator__min_samples_leaf=12, total=   0.6s\n",
            "[CV] estimator__max_depth=6, estimator__min_samples_leaf=12 ..........\n",
            "[CV]  estimator__max_depth=6, estimator__min_samples_leaf=12, total=   0.6s\n",
            "[CV] estimator__max_depth=6, estimator__min_samples_leaf=12 ..........\n",
            "[CV]  estimator__max_depth=6, estimator__min_samples_leaf=12, total=   0.6s\n",
            "[CV] estimator__max_depth=6, estimator__min_samples_leaf=13 ..........\n",
            "[CV]  estimator__max_depth=6, estimator__min_samples_leaf=13, total=   0.5s\n",
            "[CV] estimator__max_depth=6, estimator__min_samples_leaf=13 ..........\n",
            "[CV]  estimator__max_depth=6, estimator__min_samples_leaf=13, total=   0.5s\n",
            "[CV] estimator__max_depth=6, estimator__min_samples_leaf=13 ..........\n",
            "[CV]  estimator__max_depth=6, estimator__min_samples_leaf=13, total=   0.5s\n",
            "[CV] estimator__max_depth=6, estimator__min_samples_leaf=14 ..........\n",
            "[CV]  estimator__max_depth=6, estimator__min_samples_leaf=14, total=   0.5s\n",
            "[CV] estimator__max_depth=6, estimator__min_samples_leaf=14 ..........\n",
            "[CV]  estimator__max_depth=6, estimator__min_samples_leaf=14, total=   0.5s\n",
            "[CV] estimator__max_depth=6, estimator__min_samples_leaf=14 ..........\n",
            "[CV]  estimator__max_depth=6, estimator__min_samples_leaf=14, total=   0.5s\n",
            "[CV] estimator__max_depth=7, estimator__min_samples_leaf=1 ...........\n",
            "[CV]  estimator__max_depth=7, estimator__min_samples_leaf=1, total=   0.6s\n",
            "[CV] estimator__max_depth=7, estimator__min_samples_leaf=1 ...........\n",
            "[CV]  estimator__max_depth=7, estimator__min_samples_leaf=1, total=   0.6s\n",
            "[CV] estimator__max_depth=7, estimator__min_samples_leaf=1 ...........\n",
            "[CV]  estimator__max_depth=7, estimator__min_samples_leaf=1, total=   0.6s\n",
            "[CV] estimator__max_depth=7, estimator__min_samples_leaf=2 ...........\n",
            "[CV]  estimator__max_depth=7, estimator__min_samples_leaf=2, total=   0.6s\n",
            "[CV] estimator__max_depth=7, estimator__min_samples_leaf=2 ...........\n",
            "[CV]  estimator__max_depth=7, estimator__min_samples_leaf=2, total=   0.6s\n",
            "[CV] estimator__max_depth=7, estimator__min_samples_leaf=2 ...........\n",
            "[CV]  estimator__max_depth=7, estimator__min_samples_leaf=2, total=   0.6s\n",
            "[CV] estimator__max_depth=7, estimator__min_samples_leaf=3 ...........\n",
            "[CV]  estimator__max_depth=7, estimator__min_samples_leaf=3, total=   0.6s\n",
            "[CV] estimator__max_depth=7, estimator__min_samples_leaf=3 ...........\n",
            "[CV]  estimator__max_depth=7, estimator__min_samples_leaf=3, total=   0.6s\n",
            "[CV] estimator__max_depth=7, estimator__min_samples_leaf=3 ...........\n",
            "[CV]  estimator__max_depth=7, estimator__min_samples_leaf=3, total=   0.6s\n",
            "[CV] estimator__max_depth=7, estimator__min_samples_leaf=4 ...........\n",
            "[CV]  estimator__max_depth=7, estimator__min_samples_leaf=4, total=   0.6s\n",
            "[CV] estimator__max_depth=7, estimator__min_samples_leaf=4 ...........\n",
            "[CV]  estimator__max_depth=7, estimator__min_samples_leaf=4, total=   0.6s\n",
            "[CV] estimator__max_depth=7, estimator__min_samples_leaf=4 ...........\n",
            "[CV]  estimator__max_depth=7, estimator__min_samples_leaf=4, total=   0.6s\n",
            "[CV] estimator__max_depth=7, estimator__min_samples_leaf=5 ...........\n",
            "[CV]  estimator__max_depth=7, estimator__min_samples_leaf=5, total=   0.6s\n",
            "[CV] estimator__max_depth=7, estimator__min_samples_leaf=5 ...........\n",
            "[CV]  estimator__max_depth=7, estimator__min_samples_leaf=5, total=   0.6s\n",
            "[CV] estimator__max_depth=7, estimator__min_samples_leaf=5 ...........\n",
            "[CV]  estimator__max_depth=7, estimator__min_samples_leaf=5, total=   0.6s\n",
            "[CV] estimator__max_depth=7, estimator__min_samples_leaf=6 ...........\n",
            "[CV]  estimator__max_depth=7, estimator__min_samples_leaf=6, total=   0.6s\n",
            "[CV] estimator__max_depth=7, estimator__min_samples_leaf=6 ...........\n",
            "[CV]  estimator__max_depth=7, estimator__min_samples_leaf=6, total=   0.6s\n",
            "[CV] estimator__max_depth=7, estimator__min_samples_leaf=6 ...........\n",
            "[CV]  estimator__max_depth=7, estimator__min_samples_leaf=6, total=   0.6s\n",
            "[CV] estimator__max_depth=7, estimator__min_samples_leaf=7 ...........\n",
            "[CV]  estimator__max_depth=7, estimator__min_samples_leaf=7, total=   0.6s\n",
            "[CV] estimator__max_depth=7, estimator__min_samples_leaf=7 ...........\n",
            "[CV]  estimator__max_depth=7, estimator__min_samples_leaf=7, total=   0.6s\n",
            "[CV] estimator__max_depth=7, estimator__min_samples_leaf=7 ...........\n",
            "[CV]  estimator__max_depth=7, estimator__min_samples_leaf=7, total=   0.6s\n",
            "[CV] estimator__max_depth=7, estimator__min_samples_leaf=8 ...........\n",
            "[CV]  estimator__max_depth=7, estimator__min_samples_leaf=8, total=   0.6s\n",
            "[CV] estimator__max_depth=7, estimator__min_samples_leaf=8 ...........\n",
            "[CV]  estimator__max_depth=7, estimator__min_samples_leaf=8, total=   0.6s\n",
            "[CV] estimator__max_depth=7, estimator__min_samples_leaf=8 ...........\n",
            "[CV]  estimator__max_depth=7, estimator__min_samples_leaf=8, total=   0.6s\n",
            "[CV] estimator__max_depth=7, estimator__min_samples_leaf=9 ...........\n",
            "[CV]  estimator__max_depth=7, estimator__min_samples_leaf=9, total=   0.6s\n",
            "[CV] estimator__max_depth=7, estimator__min_samples_leaf=9 ...........\n",
            "[CV]  estimator__max_depth=7, estimator__min_samples_leaf=9, total=   0.6s\n",
            "[CV] estimator__max_depth=7, estimator__min_samples_leaf=9 ...........\n",
            "[CV]  estimator__max_depth=7, estimator__min_samples_leaf=9, total=   0.6s\n",
            "[CV] estimator__max_depth=7, estimator__min_samples_leaf=10 ..........\n",
            "[CV]  estimator__max_depth=7, estimator__min_samples_leaf=10, total=   0.6s\n",
            "[CV] estimator__max_depth=7, estimator__min_samples_leaf=10 ..........\n",
            "[CV]  estimator__max_depth=7, estimator__min_samples_leaf=10, total=   0.6s\n",
            "[CV] estimator__max_depth=7, estimator__min_samples_leaf=10 ..........\n",
            "[CV]  estimator__max_depth=7, estimator__min_samples_leaf=10, total=   0.6s\n",
            "[CV] estimator__max_depth=7, estimator__min_samples_leaf=11 ..........\n",
            "[CV]  estimator__max_depth=7, estimator__min_samples_leaf=11, total=   0.6s\n",
            "[CV] estimator__max_depth=7, estimator__min_samples_leaf=11 ..........\n",
            "[CV]  estimator__max_depth=7, estimator__min_samples_leaf=11, total=   0.6s\n",
            "[CV] estimator__max_depth=7, estimator__min_samples_leaf=11 ..........\n",
            "[CV]  estimator__max_depth=7, estimator__min_samples_leaf=11, total=   0.6s\n",
            "[CV] estimator__max_depth=7, estimator__min_samples_leaf=12 ..........\n",
            "[CV]  estimator__max_depth=7, estimator__min_samples_leaf=12, total=   0.6s\n",
            "[CV] estimator__max_depth=7, estimator__min_samples_leaf=12 ..........\n",
            "[CV]  estimator__max_depth=7, estimator__min_samples_leaf=12, total=   0.6s\n",
            "[CV] estimator__max_depth=7, estimator__min_samples_leaf=12 ..........\n",
            "[CV]  estimator__max_depth=7, estimator__min_samples_leaf=12, total=   0.6s\n",
            "[CV] estimator__max_depth=7, estimator__min_samples_leaf=13 ..........\n",
            "[CV]  estimator__max_depth=7, estimator__min_samples_leaf=13, total=   0.6s\n",
            "[CV] estimator__max_depth=7, estimator__min_samples_leaf=13 ..........\n",
            "[CV]  estimator__max_depth=7, estimator__min_samples_leaf=13, total=   0.6s\n",
            "[CV] estimator__max_depth=7, estimator__min_samples_leaf=13 ..........\n",
            "[CV]  estimator__max_depth=7, estimator__min_samples_leaf=13, total=   0.6s\n",
            "[CV] estimator__max_depth=7, estimator__min_samples_leaf=14 ..........\n",
            "[CV]  estimator__max_depth=7, estimator__min_samples_leaf=14, total=   0.6s\n",
            "[CV] estimator__max_depth=7, estimator__min_samples_leaf=14 ..........\n",
            "[CV]  estimator__max_depth=7, estimator__min_samples_leaf=14, total=   0.6s\n",
            "[CV] estimator__max_depth=7, estimator__min_samples_leaf=14 ..........\n",
            "[CV]  estimator__max_depth=7, estimator__min_samples_leaf=14, total=   0.6s\n",
            "[CV] estimator__max_depth=8, estimator__min_samples_leaf=1 ...........\n",
            "[CV]  estimator__max_depth=8, estimator__min_samples_leaf=1, total=   0.7s\n",
            "[CV] estimator__max_depth=8, estimator__min_samples_leaf=1 ...........\n",
            "[CV]  estimator__max_depth=8, estimator__min_samples_leaf=1, total=   0.7s\n",
            "[CV] estimator__max_depth=8, estimator__min_samples_leaf=1 ...........\n",
            "[CV]  estimator__max_depth=8, estimator__min_samples_leaf=1, total=   0.7s\n",
            "[CV] estimator__max_depth=8, estimator__min_samples_leaf=2 ...........\n",
            "[CV]  estimator__max_depth=8, estimator__min_samples_leaf=2, total=   0.7s\n",
            "[CV] estimator__max_depth=8, estimator__min_samples_leaf=2 ...........\n",
            "[CV]  estimator__max_depth=8, estimator__min_samples_leaf=2, total=   0.7s\n",
            "[CV] estimator__max_depth=8, estimator__min_samples_leaf=2 ...........\n",
            "[CV]  estimator__max_depth=8, estimator__min_samples_leaf=2, total=   0.7s\n",
            "[CV] estimator__max_depth=8, estimator__min_samples_leaf=3 ...........\n",
            "[CV]  estimator__max_depth=8, estimator__min_samples_leaf=3, total=   0.7s\n",
            "[CV] estimator__max_depth=8, estimator__min_samples_leaf=3 ...........\n",
            "[CV]  estimator__max_depth=8, estimator__min_samples_leaf=3, total=   0.7s\n",
            "[CV] estimator__max_depth=8, estimator__min_samples_leaf=3 ...........\n",
            "[CV]  estimator__max_depth=8, estimator__min_samples_leaf=3, total=   0.7s\n",
            "[CV] estimator__max_depth=8, estimator__min_samples_leaf=4 ...........\n",
            "[CV]  estimator__max_depth=8, estimator__min_samples_leaf=4, total=   0.7s\n",
            "[CV] estimator__max_depth=8, estimator__min_samples_leaf=4 ...........\n",
            "[CV]  estimator__max_depth=8, estimator__min_samples_leaf=4, total=   0.7s\n",
            "[CV] estimator__max_depth=8, estimator__min_samples_leaf=4 ...........\n",
            "[CV]  estimator__max_depth=8, estimator__min_samples_leaf=4, total=   0.7s\n",
            "[CV] estimator__max_depth=8, estimator__min_samples_leaf=5 ...........\n",
            "[CV]  estimator__max_depth=8, estimator__min_samples_leaf=5, total=   0.7s\n",
            "[CV] estimator__max_depth=8, estimator__min_samples_leaf=5 ...........\n",
            "[CV]  estimator__max_depth=8, estimator__min_samples_leaf=5, total=   0.7s\n",
            "[CV] estimator__max_depth=8, estimator__min_samples_leaf=5 ...........\n",
            "[CV]  estimator__max_depth=8, estimator__min_samples_leaf=5, total=   0.7s\n",
            "[CV] estimator__max_depth=8, estimator__min_samples_leaf=6 ...........\n",
            "[CV]  estimator__max_depth=8, estimator__min_samples_leaf=6, total=   0.7s\n",
            "[CV] estimator__max_depth=8, estimator__min_samples_leaf=6 ...........\n",
            "[CV]  estimator__max_depth=8, estimator__min_samples_leaf=6, total=   0.7s\n",
            "[CV] estimator__max_depth=8, estimator__min_samples_leaf=6 ...........\n",
            "[CV]  estimator__max_depth=8, estimator__min_samples_leaf=6, total=   0.7s\n",
            "[CV] estimator__max_depth=8, estimator__min_samples_leaf=7 ...........\n",
            "[CV]  estimator__max_depth=8, estimator__min_samples_leaf=7, total=   0.7s\n",
            "[CV] estimator__max_depth=8, estimator__min_samples_leaf=7 ...........\n",
            "[CV]  estimator__max_depth=8, estimator__min_samples_leaf=7, total=   0.7s\n",
            "[CV] estimator__max_depth=8, estimator__min_samples_leaf=7 ...........\n",
            "[CV]  estimator__max_depth=8, estimator__min_samples_leaf=7, total=   0.7s\n",
            "[CV] estimator__max_depth=8, estimator__min_samples_leaf=8 ...........\n",
            "[CV]  estimator__max_depth=8, estimator__min_samples_leaf=8, total=   0.7s\n",
            "[CV] estimator__max_depth=8, estimator__min_samples_leaf=8 ...........\n",
            "[CV]  estimator__max_depth=8, estimator__min_samples_leaf=8, total=   0.7s\n",
            "[CV] estimator__max_depth=8, estimator__min_samples_leaf=8 ...........\n",
            "[CV]  estimator__max_depth=8, estimator__min_samples_leaf=8, total=   0.7s\n",
            "[CV] estimator__max_depth=8, estimator__min_samples_leaf=9 ...........\n",
            "[CV]  estimator__max_depth=8, estimator__min_samples_leaf=9, total=   0.7s\n",
            "[CV] estimator__max_depth=8, estimator__min_samples_leaf=9 ...........\n",
            "[CV]  estimator__max_depth=8, estimator__min_samples_leaf=9, total=   0.7s\n",
            "[CV] estimator__max_depth=8, estimator__min_samples_leaf=9 ...........\n",
            "[CV]  estimator__max_depth=8, estimator__min_samples_leaf=9, total=   0.7s\n",
            "[CV] estimator__max_depth=8, estimator__min_samples_leaf=10 ..........\n",
            "[CV]  estimator__max_depth=8, estimator__min_samples_leaf=10, total=   0.7s\n",
            "[CV] estimator__max_depth=8, estimator__min_samples_leaf=10 ..........\n",
            "[CV]  estimator__max_depth=8, estimator__min_samples_leaf=10, total=   0.7s\n",
            "[CV] estimator__max_depth=8, estimator__min_samples_leaf=10 ..........\n",
            "[CV]  estimator__max_depth=8, estimator__min_samples_leaf=10, total=   0.7s\n",
            "[CV] estimator__max_depth=8, estimator__min_samples_leaf=11 ..........\n",
            "[CV]  estimator__max_depth=8, estimator__min_samples_leaf=11, total=   0.7s\n",
            "[CV] estimator__max_depth=8, estimator__min_samples_leaf=11 ..........\n",
            "[CV]  estimator__max_depth=8, estimator__min_samples_leaf=11, total=   0.7s\n",
            "[CV] estimator__max_depth=8, estimator__min_samples_leaf=11 ..........\n",
            "[CV]  estimator__max_depth=8, estimator__min_samples_leaf=11, total=   0.7s\n",
            "[CV] estimator__max_depth=8, estimator__min_samples_leaf=12 ..........\n",
            "[CV]  estimator__max_depth=8, estimator__min_samples_leaf=12, total=   0.7s\n",
            "[CV] estimator__max_depth=8, estimator__min_samples_leaf=12 ..........\n",
            "[CV]  estimator__max_depth=8, estimator__min_samples_leaf=12, total=   0.7s\n",
            "[CV] estimator__max_depth=8, estimator__min_samples_leaf=12 ..........\n",
            "[CV]  estimator__max_depth=8, estimator__min_samples_leaf=12, total=   0.7s\n",
            "[CV] estimator__max_depth=8, estimator__min_samples_leaf=13 ..........\n",
            "[CV]  estimator__max_depth=8, estimator__min_samples_leaf=13, total=   0.7s\n",
            "[CV] estimator__max_depth=8, estimator__min_samples_leaf=13 ..........\n",
            "[CV]  estimator__max_depth=8, estimator__min_samples_leaf=13, total=   0.7s\n",
            "[CV] estimator__max_depth=8, estimator__min_samples_leaf=13 ..........\n",
            "[CV]  estimator__max_depth=8, estimator__min_samples_leaf=13, total=   0.7s\n",
            "[CV] estimator__max_depth=8, estimator__min_samples_leaf=14 ..........\n",
            "[CV]  estimator__max_depth=8, estimator__min_samples_leaf=14, total=   0.7s\n",
            "[CV] estimator__max_depth=8, estimator__min_samples_leaf=14 ..........\n",
            "[CV]  estimator__max_depth=8, estimator__min_samples_leaf=14, total=   0.7s\n",
            "[CV] estimator__max_depth=8, estimator__min_samples_leaf=14 ..........\n",
            "[CV]  estimator__max_depth=8, estimator__min_samples_leaf=14, total=   0.7s\n",
            "[CV] estimator__max_depth=9, estimator__min_samples_leaf=1 ...........\n",
            "[CV]  estimator__max_depth=9, estimator__min_samples_leaf=1, total=   0.8s\n",
            "[CV] estimator__max_depth=9, estimator__min_samples_leaf=1 ...........\n",
            "[CV]  estimator__max_depth=9, estimator__min_samples_leaf=1, total=   0.9s\n",
            "[CV] estimator__max_depth=9, estimator__min_samples_leaf=1 ...........\n",
            "[CV]  estimator__max_depth=9, estimator__min_samples_leaf=1, total=   0.8s\n",
            "[CV] estimator__max_depth=9, estimator__min_samples_leaf=2 ...........\n",
            "[CV]  estimator__max_depth=9, estimator__min_samples_leaf=2, total=   0.8s\n",
            "[CV] estimator__max_depth=9, estimator__min_samples_leaf=2 ...........\n",
            "[CV]  estimator__max_depth=9, estimator__min_samples_leaf=2, total=   0.8s\n",
            "[CV] estimator__max_depth=9, estimator__min_samples_leaf=2 ...........\n",
            "[CV]  estimator__max_depth=9, estimator__min_samples_leaf=2, total=   0.8s\n",
            "[CV] estimator__max_depth=9, estimator__min_samples_leaf=3 ...........\n",
            "[CV]  estimator__max_depth=9, estimator__min_samples_leaf=3, total=   0.8s\n",
            "[CV] estimator__max_depth=9, estimator__min_samples_leaf=3 ...........\n",
            "[CV]  estimator__max_depth=9, estimator__min_samples_leaf=3, total=   0.8s\n",
            "[CV] estimator__max_depth=9, estimator__min_samples_leaf=3 ...........\n",
            "[CV]  estimator__max_depth=9, estimator__min_samples_leaf=3, total=   0.8s\n",
            "[CV] estimator__max_depth=9, estimator__min_samples_leaf=4 ...........\n",
            "[CV]  estimator__max_depth=9, estimator__min_samples_leaf=4, total=   0.8s\n",
            "[CV] estimator__max_depth=9, estimator__min_samples_leaf=4 ...........\n",
            "[CV]  estimator__max_depth=9, estimator__min_samples_leaf=4, total=   0.8s\n",
            "[CV] estimator__max_depth=9, estimator__min_samples_leaf=4 ...........\n",
            "[CV]  estimator__max_depth=9, estimator__min_samples_leaf=4, total=   0.8s\n",
            "[CV] estimator__max_depth=9, estimator__min_samples_leaf=5 ...........\n",
            "[CV]  estimator__max_depth=9, estimator__min_samples_leaf=5, total=   0.8s\n",
            "[CV] estimator__max_depth=9, estimator__min_samples_leaf=5 ...........\n",
            "[CV]  estimator__max_depth=9, estimator__min_samples_leaf=5, total=   0.8s\n",
            "[CV] estimator__max_depth=9, estimator__min_samples_leaf=5 ...........\n",
            "[CV]  estimator__max_depth=9, estimator__min_samples_leaf=5, total=   0.8s\n",
            "[CV] estimator__max_depth=9, estimator__min_samples_leaf=6 ...........\n",
            "[CV]  estimator__max_depth=9, estimator__min_samples_leaf=6, total=   0.8s\n",
            "[CV] estimator__max_depth=9, estimator__min_samples_leaf=6 ...........\n",
            "[CV]  estimator__max_depth=9, estimator__min_samples_leaf=6, total=   0.8s\n",
            "[CV] estimator__max_depth=9, estimator__min_samples_leaf=6 ...........\n",
            "[CV]  estimator__max_depth=9, estimator__min_samples_leaf=6, total=   0.8s\n",
            "[CV] estimator__max_depth=9, estimator__min_samples_leaf=7 ...........\n",
            "[CV]  estimator__max_depth=9, estimator__min_samples_leaf=7, total=   0.8s\n",
            "[CV] estimator__max_depth=9, estimator__min_samples_leaf=7 ...........\n",
            "[CV]  estimator__max_depth=9, estimator__min_samples_leaf=7, total=   0.8s\n",
            "[CV] estimator__max_depth=9, estimator__min_samples_leaf=7 ...........\n",
            "[CV]  estimator__max_depth=9, estimator__min_samples_leaf=7, total=   0.8s\n",
            "[CV] estimator__max_depth=9, estimator__min_samples_leaf=8 ...........\n",
            "[CV]  estimator__max_depth=9, estimator__min_samples_leaf=8, total=   0.8s\n",
            "[CV] estimator__max_depth=9, estimator__min_samples_leaf=8 ...........\n",
            "[CV]  estimator__max_depth=9, estimator__min_samples_leaf=8, total=   0.8s\n",
            "[CV] estimator__max_depth=9, estimator__min_samples_leaf=8 ...........\n",
            "[CV]  estimator__max_depth=9, estimator__min_samples_leaf=8, total=   0.8s\n",
            "[CV] estimator__max_depth=9, estimator__min_samples_leaf=9 ...........\n",
            "[CV]  estimator__max_depth=9, estimator__min_samples_leaf=9, total=   0.8s\n",
            "[CV] estimator__max_depth=9, estimator__min_samples_leaf=9 ...........\n",
            "[CV]  estimator__max_depth=9, estimator__min_samples_leaf=9, total=   0.8s\n",
            "[CV] estimator__max_depth=9, estimator__min_samples_leaf=9 ...........\n",
            "[CV]  estimator__max_depth=9, estimator__min_samples_leaf=9, total=   0.8s\n",
            "[CV] estimator__max_depth=9, estimator__min_samples_leaf=10 ..........\n",
            "[CV]  estimator__max_depth=9, estimator__min_samples_leaf=10, total=   0.8s\n",
            "[CV] estimator__max_depth=9, estimator__min_samples_leaf=10 ..........\n",
            "[CV]  estimator__max_depth=9, estimator__min_samples_leaf=10, total=   0.8s\n",
            "[CV] estimator__max_depth=9, estimator__min_samples_leaf=10 ..........\n",
            "[CV]  estimator__max_depth=9, estimator__min_samples_leaf=10, total=   0.8s\n",
            "[CV] estimator__max_depth=9, estimator__min_samples_leaf=11 ..........\n",
            "[CV]  estimator__max_depth=9, estimator__min_samples_leaf=11, total=   0.8s\n",
            "[CV] estimator__max_depth=9, estimator__min_samples_leaf=11 ..........\n",
            "[CV]  estimator__max_depth=9, estimator__min_samples_leaf=11, total=   0.8s\n",
            "[CV] estimator__max_depth=9, estimator__min_samples_leaf=11 ..........\n",
            "[CV]  estimator__max_depth=9, estimator__min_samples_leaf=11, total=   0.8s\n",
            "[CV] estimator__max_depth=9, estimator__min_samples_leaf=12 ..........\n",
            "[CV]  estimator__max_depth=9, estimator__min_samples_leaf=12, total=   0.8s\n",
            "[CV] estimator__max_depth=9, estimator__min_samples_leaf=12 ..........\n",
            "[CV]  estimator__max_depth=9, estimator__min_samples_leaf=12, total=   0.8s\n",
            "[CV] estimator__max_depth=9, estimator__min_samples_leaf=12 ..........\n",
            "[CV]  estimator__max_depth=9, estimator__min_samples_leaf=12, total=   0.8s\n",
            "[CV] estimator__max_depth=9, estimator__min_samples_leaf=13 ..........\n",
            "[CV]  estimator__max_depth=9, estimator__min_samples_leaf=13, total=   0.8s\n",
            "[CV] estimator__max_depth=9, estimator__min_samples_leaf=13 ..........\n",
            "[CV]  estimator__max_depth=9, estimator__min_samples_leaf=13, total=   0.8s\n",
            "[CV] estimator__max_depth=9, estimator__min_samples_leaf=13 ..........\n",
            "[CV]  estimator__max_depth=9, estimator__min_samples_leaf=13, total=   0.8s\n",
            "[CV] estimator__max_depth=9, estimator__min_samples_leaf=14 ..........\n",
            "[CV]  estimator__max_depth=9, estimator__min_samples_leaf=14, total=   0.8s\n",
            "[CV] estimator__max_depth=9, estimator__min_samples_leaf=14 ..........\n",
            "[CV]  estimator__max_depth=9, estimator__min_samples_leaf=14, total=   0.8s\n",
            "[CV] estimator__max_depth=9, estimator__min_samples_leaf=14 ..........\n",
            "[CV]  estimator__max_depth=9, estimator__min_samples_leaf=14, total=   0.8s\n",
            "[CV] estimator__max_depth=10, estimator__min_samples_leaf=1 ..........\n",
            "[CV]  estimator__max_depth=10, estimator__min_samples_leaf=1, total=   0.8s\n",
            "[CV] estimator__max_depth=10, estimator__min_samples_leaf=1 ..........\n",
            "[CV]  estimator__max_depth=10, estimator__min_samples_leaf=1, total=   0.9s\n",
            "[CV] estimator__max_depth=10, estimator__min_samples_leaf=1 ..........\n",
            "[CV]  estimator__max_depth=10, estimator__min_samples_leaf=1, total=   0.8s\n",
            "[CV] estimator__max_depth=10, estimator__min_samples_leaf=2 ..........\n",
            "[CV]  estimator__max_depth=10, estimator__min_samples_leaf=2, total=   0.8s\n",
            "[CV] estimator__max_depth=10, estimator__min_samples_leaf=2 ..........\n",
            "[CV]  estimator__max_depth=10, estimator__min_samples_leaf=2, total=   0.8s\n",
            "[CV] estimator__max_depth=10, estimator__min_samples_leaf=2 ..........\n",
            "[CV]  estimator__max_depth=10, estimator__min_samples_leaf=2, total=   0.8s\n",
            "[CV] estimator__max_depth=10, estimator__min_samples_leaf=3 ..........\n",
            "[CV]  estimator__max_depth=10, estimator__min_samples_leaf=3, total=   0.9s\n",
            "[CV] estimator__max_depth=10, estimator__min_samples_leaf=3 ..........\n",
            "[CV]  estimator__max_depth=10, estimator__min_samples_leaf=3, total=   0.9s\n",
            "[CV] estimator__max_depth=10, estimator__min_samples_leaf=3 ..........\n",
            "[CV]  estimator__max_depth=10, estimator__min_samples_leaf=3, total=   0.8s\n",
            "[CV] estimator__max_depth=10, estimator__min_samples_leaf=4 ..........\n",
            "[CV]  estimator__max_depth=10, estimator__min_samples_leaf=4, total=   0.8s\n",
            "[CV] estimator__max_depth=10, estimator__min_samples_leaf=4 ..........\n",
            "[CV]  estimator__max_depth=10, estimator__min_samples_leaf=4, total=   0.8s\n",
            "[CV] estimator__max_depth=10, estimator__min_samples_leaf=4 ..........\n",
            "[CV]  estimator__max_depth=10, estimator__min_samples_leaf=4, total=   0.8s\n",
            "[CV] estimator__max_depth=10, estimator__min_samples_leaf=5 ..........\n",
            "[CV]  estimator__max_depth=10, estimator__min_samples_leaf=5, total=   0.8s\n",
            "[CV] estimator__max_depth=10, estimator__min_samples_leaf=5 ..........\n",
            "[CV]  estimator__max_depth=10, estimator__min_samples_leaf=5, total=   0.9s\n",
            "[CV] estimator__max_depth=10, estimator__min_samples_leaf=5 ..........\n",
            "[CV]  estimator__max_depth=10, estimator__min_samples_leaf=5, total=   0.8s\n",
            "[CV] estimator__max_depth=10, estimator__min_samples_leaf=6 ..........\n",
            "[CV]  estimator__max_depth=10, estimator__min_samples_leaf=6, total=   0.9s\n",
            "[CV] estimator__max_depth=10, estimator__min_samples_leaf=6 ..........\n",
            "[CV]  estimator__max_depth=10, estimator__min_samples_leaf=6, total=   0.8s\n",
            "[CV] estimator__max_depth=10, estimator__min_samples_leaf=6 ..........\n",
            "[CV]  estimator__max_depth=10, estimator__min_samples_leaf=6, total=   0.8s\n",
            "[CV] estimator__max_depth=10, estimator__min_samples_leaf=7 ..........\n",
            "[CV]  estimator__max_depth=10, estimator__min_samples_leaf=7, total=   0.8s\n",
            "[CV] estimator__max_depth=10, estimator__min_samples_leaf=7 ..........\n",
            "[CV]  estimator__max_depth=10, estimator__min_samples_leaf=7, total=   0.9s\n",
            "[CV] estimator__max_depth=10, estimator__min_samples_leaf=7 ..........\n",
            "[CV]  estimator__max_depth=10, estimator__min_samples_leaf=7, total=   0.8s\n",
            "[CV] estimator__max_depth=10, estimator__min_samples_leaf=8 ..........\n",
            "[CV]  estimator__max_depth=10, estimator__min_samples_leaf=8, total=   0.8s\n",
            "[CV] estimator__max_depth=10, estimator__min_samples_leaf=8 ..........\n",
            "[CV]  estimator__max_depth=10, estimator__min_samples_leaf=8, total=   0.8s\n",
            "[CV] estimator__max_depth=10, estimator__min_samples_leaf=8 ..........\n",
            "[CV]  estimator__max_depth=10, estimator__min_samples_leaf=8, total=   0.8s\n",
            "[CV] estimator__max_depth=10, estimator__min_samples_leaf=9 ..........\n",
            "[CV]  estimator__max_depth=10, estimator__min_samples_leaf=9, total=   0.8s\n",
            "[CV] estimator__max_depth=10, estimator__min_samples_leaf=9 ..........\n",
            "[CV]  estimator__max_depth=10, estimator__min_samples_leaf=9, total=   0.8s\n",
            "[CV] estimator__max_depth=10, estimator__min_samples_leaf=9 ..........\n",
            "[CV]  estimator__max_depth=10, estimator__min_samples_leaf=9, total=   0.9s\n",
            "[CV] estimator__max_depth=10, estimator__min_samples_leaf=10 .........\n",
            "[CV]  estimator__max_depth=10, estimator__min_samples_leaf=10, total=   0.8s\n",
            "[CV] estimator__max_depth=10, estimator__min_samples_leaf=10 .........\n",
            "[CV]  estimator__max_depth=10, estimator__min_samples_leaf=10, total=   0.8s\n",
            "[CV] estimator__max_depth=10, estimator__min_samples_leaf=10 .........\n",
            "[CV]  estimator__max_depth=10, estimator__min_samples_leaf=10, total=   0.8s\n",
            "[CV] estimator__max_depth=10, estimator__min_samples_leaf=11 .........\n",
            "[CV]  estimator__max_depth=10, estimator__min_samples_leaf=11, total=   0.9s\n",
            "[CV] estimator__max_depth=10, estimator__min_samples_leaf=11 .........\n",
            "[CV]  estimator__max_depth=10, estimator__min_samples_leaf=11, total=   0.8s\n",
            "[CV] estimator__max_depth=10, estimator__min_samples_leaf=11 .........\n",
            "[CV]  estimator__max_depth=10, estimator__min_samples_leaf=11, total=   0.8s\n",
            "[CV] estimator__max_depth=10, estimator__min_samples_leaf=12 .........\n",
            "[CV]  estimator__max_depth=10, estimator__min_samples_leaf=12, total=   0.8s\n",
            "[CV] estimator__max_depth=10, estimator__min_samples_leaf=12 .........\n",
            "[CV]  estimator__max_depth=10, estimator__min_samples_leaf=12, total=   0.8s\n",
            "[CV] estimator__max_depth=10, estimator__min_samples_leaf=12 .........\n",
            "[CV]  estimator__max_depth=10, estimator__min_samples_leaf=12, total=   0.8s\n",
            "[CV] estimator__max_depth=10, estimator__min_samples_leaf=13 .........\n",
            "[CV]  estimator__max_depth=10, estimator__min_samples_leaf=13, total=   0.8s\n",
            "[CV] estimator__max_depth=10, estimator__min_samples_leaf=13 .........\n",
            "[CV]  estimator__max_depth=10, estimator__min_samples_leaf=13, total=   0.8s\n",
            "[CV] estimator__max_depth=10, estimator__min_samples_leaf=13 .........\n",
            "[CV]  estimator__max_depth=10, estimator__min_samples_leaf=13, total=   0.8s\n",
            "[CV] estimator__max_depth=10, estimator__min_samples_leaf=14 .........\n",
            "[CV]  estimator__max_depth=10, estimator__min_samples_leaf=14, total=   0.8s\n",
            "[CV] estimator__max_depth=10, estimator__min_samples_leaf=14 .........\n",
            "[CV]  estimator__max_depth=10, estimator__min_samples_leaf=14, total=   0.8s\n",
            "[CV] estimator__max_depth=10, estimator__min_samples_leaf=14 .........\n",
            "[CV]  estimator__max_depth=10, estimator__min_samples_leaf=14, total=   0.8s\n",
            "[CV] estimator__max_depth=11, estimator__min_samples_leaf=1 ..........\n",
            "[CV]  estimator__max_depth=11, estimator__min_samples_leaf=1, total=   0.9s\n",
            "[CV] estimator__max_depth=11, estimator__min_samples_leaf=1 ..........\n",
            "[CV]  estimator__max_depth=11, estimator__min_samples_leaf=1, total=   0.9s\n",
            "[CV] estimator__max_depth=11, estimator__min_samples_leaf=1 ..........\n",
            "[CV]  estimator__max_depth=11, estimator__min_samples_leaf=1, total=   0.9s\n",
            "[CV] estimator__max_depth=11, estimator__min_samples_leaf=2 ..........\n",
            "[CV]  estimator__max_depth=11, estimator__min_samples_leaf=2, total=   0.9s\n",
            "[CV] estimator__max_depth=11, estimator__min_samples_leaf=2 ..........\n",
            "[CV]  estimator__max_depth=11, estimator__min_samples_leaf=2, total=   0.9s\n",
            "[CV] estimator__max_depth=11, estimator__min_samples_leaf=2 ..........\n",
            "[CV]  estimator__max_depth=11, estimator__min_samples_leaf=2, total=   0.9s\n",
            "[CV] estimator__max_depth=11, estimator__min_samples_leaf=3 ..........\n",
            "[CV]  estimator__max_depth=11, estimator__min_samples_leaf=3, total=   0.9s\n",
            "[CV] estimator__max_depth=11, estimator__min_samples_leaf=3 ..........\n",
            "[CV]  estimator__max_depth=11, estimator__min_samples_leaf=3, total=   0.9s\n",
            "[CV] estimator__max_depth=11, estimator__min_samples_leaf=3 ..........\n",
            "[CV]  estimator__max_depth=11, estimator__min_samples_leaf=3, total=   0.9s\n",
            "[CV] estimator__max_depth=11, estimator__min_samples_leaf=4 ..........\n",
            "[CV]  estimator__max_depth=11, estimator__min_samples_leaf=4, total=   0.9s\n",
            "[CV] estimator__max_depth=11, estimator__min_samples_leaf=4 ..........\n",
            "[CV]  estimator__max_depth=11, estimator__min_samples_leaf=4, total=   0.9s\n",
            "[CV] estimator__max_depth=11, estimator__min_samples_leaf=4 ..........\n",
            "[CV]  estimator__max_depth=11, estimator__min_samples_leaf=4, total=   0.9s\n",
            "[CV] estimator__max_depth=11, estimator__min_samples_leaf=5 ..........\n",
            "[CV]  estimator__max_depth=11, estimator__min_samples_leaf=5, total=   0.9s\n",
            "[CV] estimator__max_depth=11, estimator__min_samples_leaf=5 ..........\n",
            "[CV]  estimator__max_depth=11, estimator__min_samples_leaf=5, total=   0.9s\n",
            "[CV] estimator__max_depth=11, estimator__min_samples_leaf=5 ..........\n",
            "[CV]  estimator__max_depth=11, estimator__min_samples_leaf=5, total=   0.9s\n",
            "[CV] estimator__max_depth=11, estimator__min_samples_leaf=6 ..........\n",
            "[CV]  estimator__max_depth=11, estimator__min_samples_leaf=6, total=   0.9s\n",
            "[CV] estimator__max_depth=11, estimator__min_samples_leaf=6 ..........\n",
            "[CV]  estimator__max_depth=11, estimator__min_samples_leaf=6, total=   0.9s\n",
            "[CV] estimator__max_depth=11, estimator__min_samples_leaf=6 ..........\n",
            "[CV]  estimator__max_depth=11, estimator__min_samples_leaf=6, total=   0.9s\n",
            "[CV] estimator__max_depth=11, estimator__min_samples_leaf=7 ..........\n",
            "[CV]  estimator__max_depth=11, estimator__min_samples_leaf=7, total=   0.9s\n",
            "[CV] estimator__max_depth=11, estimator__min_samples_leaf=7 ..........\n",
            "[CV]  estimator__max_depth=11, estimator__min_samples_leaf=7, total=   0.9s\n",
            "[CV] estimator__max_depth=11, estimator__min_samples_leaf=7 ..........\n",
            "[CV]  estimator__max_depth=11, estimator__min_samples_leaf=7, total=   0.9s\n",
            "[CV] estimator__max_depth=11, estimator__min_samples_leaf=8 ..........\n",
            "[CV]  estimator__max_depth=11, estimator__min_samples_leaf=8, total=   0.9s\n",
            "[CV] estimator__max_depth=11, estimator__min_samples_leaf=8 ..........\n",
            "[CV]  estimator__max_depth=11, estimator__min_samples_leaf=8, total=   0.9s\n",
            "[CV] estimator__max_depth=11, estimator__min_samples_leaf=8 ..........\n",
            "[CV]  estimator__max_depth=11, estimator__min_samples_leaf=8, total=   0.9s\n",
            "[CV] estimator__max_depth=11, estimator__min_samples_leaf=9 ..........\n",
            "[CV]  estimator__max_depth=11, estimator__min_samples_leaf=9, total=   0.9s\n",
            "[CV] estimator__max_depth=11, estimator__min_samples_leaf=9 ..........\n",
            "[CV]  estimator__max_depth=11, estimator__min_samples_leaf=9, total=   0.9s\n",
            "[CV] estimator__max_depth=11, estimator__min_samples_leaf=9 ..........\n",
            "[CV]  estimator__max_depth=11, estimator__min_samples_leaf=9, total=   0.9s\n",
            "[CV] estimator__max_depth=11, estimator__min_samples_leaf=10 .........\n",
            "[CV]  estimator__max_depth=11, estimator__min_samples_leaf=10, total=   0.9s\n",
            "[CV] estimator__max_depth=11, estimator__min_samples_leaf=10 .........\n",
            "[CV]  estimator__max_depth=11, estimator__min_samples_leaf=10, total=   0.9s\n",
            "[CV] estimator__max_depth=11, estimator__min_samples_leaf=10 .........\n",
            "[CV]  estimator__max_depth=11, estimator__min_samples_leaf=10, total=   0.9s\n",
            "[CV] estimator__max_depth=11, estimator__min_samples_leaf=11 .........\n",
            "[CV]  estimator__max_depth=11, estimator__min_samples_leaf=11, total=   0.9s\n",
            "[CV] estimator__max_depth=11, estimator__min_samples_leaf=11 .........\n",
            "[CV]  estimator__max_depth=11, estimator__min_samples_leaf=11, total=   0.9s\n",
            "[CV] estimator__max_depth=11, estimator__min_samples_leaf=11 .........\n",
            "[CV]  estimator__max_depth=11, estimator__min_samples_leaf=11, total=   0.9s\n",
            "[CV] estimator__max_depth=11, estimator__min_samples_leaf=12 .........\n",
            "[CV]  estimator__max_depth=11, estimator__min_samples_leaf=12, total=   0.9s\n",
            "[CV] estimator__max_depth=11, estimator__min_samples_leaf=12 .........\n",
            "[CV]  estimator__max_depth=11, estimator__min_samples_leaf=12, total=   0.9s\n",
            "[CV] estimator__max_depth=11, estimator__min_samples_leaf=12 .........\n",
            "[CV]  estimator__max_depth=11, estimator__min_samples_leaf=12, total=   0.9s\n",
            "[CV] estimator__max_depth=11, estimator__min_samples_leaf=13 .........\n",
            "[CV]  estimator__max_depth=11, estimator__min_samples_leaf=13, total=   0.9s\n",
            "[CV] estimator__max_depth=11, estimator__min_samples_leaf=13 .........\n",
            "[CV]  estimator__max_depth=11, estimator__min_samples_leaf=13, total=   0.9s\n",
            "[CV] estimator__max_depth=11, estimator__min_samples_leaf=13 .........\n",
            "[CV]  estimator__max_depth=11, estimator__min_samples_leaf=13, total=   0.9s\n",
            "[CV] estimator__max_depth=11, estimator__min_samples_leaf=14 .........\n",
            "[CV]  estimator__max_depth=11, estimator__min_samples_leaf=14, total=   0.9s\n",
            "[CV] estimator__max_depth=11, estimator__min_samples_leaf=14 .........\n",
            "[CV]  estimator__max_depth=11, estimator__min_samples_leaf=14, total=   0.9s\n",
            "[CV] estimator__max_depth=11, estimator__min_samples_leaf=14 .........\n",
            "[CV]  estimator__max_depth=11, estimator__min_samples_leaf=14, total=   0.9s\n",
            "[CV] estimator__max_depth=12, estimator__min_samples_leaf=1 ..........\n",
            "[CV]  estimator__max_depth=12, estimator__min_samples_leaf=1, total=   1.0s\n",
            "[CV] estimator__max_depth=12, estimator__min_samples_leaf=1 ..........\n",
            "[CV]  estimator__max_depth=12, estimator__min_samples_leaf=1, total=   1.0s\n",
            "[CV] estimator__max_depth=12, estimator__min_samples_leaf=1 ..........\n",
            "[CV]  estimator__max_depth=12, estimator__min_samples_leaf=1, total=   1.0s\n",
            "[CV] estimator__max_depth=12, estimator__min_samples_leaf=2 ..........\n",
            "[CV]  estimator__max_depth=12, estimator__min_samples_leaf=2, total=   1.0s\n",
            "[CV] estimator__max_depth=12, estimator__min_samples_leaf=2 ..........\n",
            "[CV]  estimator__max_depth=12, estimator__min_samples_leaf=2, total=   1.0s\n",
            "[CV] estimator__max_depth=12, estimator__min_samples_leaf=2 ..........\n",
            "[CV]  estimator__max_depth=12, estimator__min_samples_leaf=2, total=   1.0s\n",
            "[CV] estimator__max_depth=12, estimator__min_samples_leaf=3 ..........\n",
            "[CV]  estimator__max_depth=12, estimator__min_samples_leaf=3, total=   1.0s\n",
            "[CV] estimator__max_depth=12, estimator__min_samples_leaf=3 ..........\n",
            "[CV]  estimator__max_depth=12, estimator__min_samples_leaf=3, total=   1.0s\n",
            "[CV] estimator__max_depth=12, estimator__min_samples_leaf=3 ..........\n",
            "[CV]  estimator__max_depth=12, estimator__min_samples_leaf=3, total=   1.0s\n",
            "[CV] estimator__max_depth=12, estimator__min_samples_leaf=4 ..........\n",
            "[CV]  estimator__max_depth=12, estimator__min_samples_leaf=4, total=   1.0s\n",
            "[CV] estimator__max_depth=12, estimator__min_samples_leaf=4 ..........\n",
            "[CV]  estimator__max_depth=12, estimator__min_samples_leaf=4, total=   1.0s\n",
            "[CV] estimator__max_depth=12, estimator__min_samples_leaf=4 ..........\n",
            "[CV]  estimator__max_depth=12, estimator__min_samples_leaf=4, total=   1.0s\n",
            "[CV] estimator__max_depth=12, estimator__min_samples_leaf=5 ..........\n",
            "[CV]  estimator__max_depth=12, estimator__min_samples_leaf=5, total=   1.0s\n",
            "[CV] estimator__max_depth=12, estimator__min_samples_leaf=5 ..........\n",
            "[CV]  estimator__max_depth=12, estimator__min_samples_leaf=5, total=   1.0s\n",
            "[CV] estimator__max_depth=12, estimator__min_samples_leaf=5 ..........\n",
            "[CV]  estimator__max_depth=12, estimator__min_samples_leaf=5, total=   1.0s\n",
            "[CV] estimator__max_depth=12, estimator__min_samples_leaf=6 ..........\n",
            "[CV]  estimator__max_depth=12, estimator__min_samples_leaf=6, total=   1.0s\n",
            "[CV] estimator__max_depth=12, estimator__min_samples_leaf=6 ..........\n",
            "[CV]  estimator__max_depth=12, estimator__min_samples_leaf=6, total=   1.0s\n",
            "[CV] estimator__max_depth=12, estimator__min_samples_leaf=6 ..........\n",
            "[CV]  estimator__max_depth=12, estimator__min_samples_leaf=6, total=   1.0s\n",
            "[CV] estimator__max_depth=12, estimator__min_samples_leaf=7 ..........\n",
            "[CV]  estimator__max_depth=12, estimator__min_samples_leaf=7, total=   1.0s\n",
            "[CV] estimator__max_depth=12, estimator__min_samples_leaf=7 ..........\n",
            "[CV]  estimator__max_depth=12, estimator__min_samples_leaf=7, total=   1.0s\n",
            "[CV] estimator__max_depth=12, estimator__min_samples_leaf=7 ..........\n",
            "[CV]  estimator__max_depth=12, estimator__min_samples_leaf=7, total=   1.0s\n",
            "[CV] estimator__max_depth=12, estimator__min_samples_leaf=8 ..........\n",
            "[CV]  estimator__max_depth=12, estimator__min_samples_leaf=8, total=   1.0s\n",
            "[CV] estimator__max_depth=12, estimator__min_samples_leaf=8 ..........\n",
            "[CV]  estimator__max_depth=12, estimator__min_samples_leaf=8, total=   1.0s\n",
            "[CV] estimator__max_depth=12, estimator__min_samples_leaf=8 ..........\n",
            "[CV]  estimator__max_depth=12, estimator__min_samples_leaf=8, total=   1.0s\n",
            "[CV] estimator__max_depth=12, estimator__min_samples_leaf=9 ..........\n",
            "[CV]  estimator__max_depth=12, estimator__min_samples_leaf=9, total=   0.9s\n",
            "[CV] estimator__max_depth=12, estimator__min_samples_leaf=9 ..........\n",
            "[CV]  estimator__max_depth=12, estimator__min_samples_leaf=9, total=   0.9s\n",
            "[CV] estimator__max_depth=12, estimator__min_samples_leaf=9 ..........\n",
            "[CV]  estimator__max_depth=12, estimator__min_samples_leaf=9, total=   0.9s\n",
            "[CV] estimator__max_depth=12, estimator__min_samples_leaf=10 .........\n",
            "[CV]  estimator__max_depth=12, estimator__min_samples_leaf=10, total=   0.9s\n",
            "[CV] estimator__max_depth=12, estimator__min_samples_leaf=10 .........\n",
            "[CV]  estimator__max_depth=12, estimator__min_samples_leaf=10, total=   1.0s\n",
            "[CV] estimator__max_depth=12, estimator__min_samples_leaf=10 .........\n",
            "[CV]  estimator__max_depth=12, estimator__min_samples_leaf=10, total=   1.0s\n",
            "[CV] estimator__max_depth=12, estimator__min_samples_leaf=11 .........\n",
            "[CV]  estimator__max_depth=12, estimator__min_samples_leaf=11, total=   1.0s\n",
            "[CV] estimator__max_depth=12, estimator__min_samples_leaf=11 .........\n",
            "[CV]  estimator__max_depth=12, estimator__min_samples_leaf=11, total=   0.9s\n",
            "[CV] estimator__max_depth=12, estimator__min_samples_leaf=11 .........\n",
            "[CV]  estimator__max_depth=12, estimator__min_samples_leaf=11, total=   0.9s\n",
            "[CV] estimator__max_depth=12, estimator__min_samples_leaf=12 .........\n",
            "[CV]  estimator__max_depth=12, estimator__min_samples_leaf=12, total=   0.9s\n",
            "[CV] estimator__max_depth=12, estimator__min_samples_leaf=12 .........\n",
            "[CV]  estimator__max_depth=12, estimator__min_samples_leaf=12, total=   0.9s\n",
            "[CV] estimator__max_depth=12, estimator__min_samples_leaf=12 .........\n",
            "[CV]  estimator__max_depth=12, estimator__min_samples_leaf=12, total=   0.9s\n",
            "[CV] estimator__max_depth=12, estimator__min_samples_leaf=13 .........\n",
            "[CV]  estimator__max_depth=12, estimator__min_samples_leaf=13, total=   0.9s\n",
            "[CV] estimator__max_depth=12, estimator__min_samples_leaf=13 .........\n",
            "[CV]  estimator__max_depth=12, estimator__min_samples_leaf=13, total=   0.9s\n",
            "[CV] estimator__max_depth=12, estimator__min_samples_leaf=13 .........\n",
            "[CV]  estimator__max_depth=12, estimator__min_samples_leaf=13, total=   0.9s\n",
            "[CV] estimator__max_depth=12, estimator__min_samples_leaf=14 .........\n",
            "[CV]  estimator__max_depth=12, estimator__min_samples_leaf=14, total=   0.9s\n",
            "[CV] estimator__max_depth=12, estimator__min_samples_leaf=14 .........\n",
            "[CV]  estimator__max_depth=12, estimator__min_samples_leaf=14, total=   0.9s\n",
            "[CV] estimator__max_depth=12, estimator__min_samples_leaf=14 .........\n",
            "[CV]  estimator__max_depth=12, estimator__min_samples_leaf=14, total=   0.9s\n",
            "[CV] estimator__max_depth=13, estimator__min_samples_leaf=1 ..........\n",
            "[CV]  estimator__max_depth=13, estimator__min_samples_leaf=1, total=   1.1s\n",
            "[CV] estimator__max_depth=13, estimator__min_samples_leaf=1 ..........\n",
            "[CV]  estimator__max_depth=13, estimator__min_samples_leaf=1, total=   1.1s\n",
            "[CV] estimator__max_depth=13, estimator__min_samples_leaf=1 ..........\n",
            "[CV]  estimator__max_depth=13, estimator__min_samples_leaf=1, total=   1.1s\n",
            "[CV] estimator__max_depth=13, estimator__min_samples_leaf=2 ..........\n",
            "[CV]  estimator__max_depth=13, estimator__min_samples_leaf=2, total=   1.1s\n",
            "[CV] estimator__max_depth=13, estimator__min_samples_leaf=2 ..........\n",
            "[CV]  estimator__max_depth=13, estimator__min_samples_leaf=2, total=   1.1s\n",
            "[CV] estimator__max_depth=13, estimator__min_samples_leaf=2 ..........\n",
            "[CV]  estimator__max_depth=13, estimator__min_samples_leaf=2, total=   1.0s\n",
            "[CV] estimator__max_depth=13, estimator__min_samples_leaf=3 ..........\n",
            "[CV]  estimator__max_depth=13, estimator__min_samples_leaf=3, total=   1.0s\n",
            "[CV] estimator__max_depth=13, estimator__min_samples_leaf=3 ..........\n",
            "[CV]  estimator__max_depth=13, estimator__min_samples_leaf=3, total=   1.1s\n",
            "[CV] estimator__max_depth=13, estimator__min_samples_leaf=3 ..........\n",
            "[CV]  estimator__max_depth=13, estimator__min_samples_leaf=3, total=   1.0s\n",
            "[CV] estimator__max_depth=13, estimator__min_samples_leaf=4 ..........\n",
            "[CV]  estimator__max_depth=13, estimator__min_samples_leaf=4, total=   1.0s\n",
            "[CV] estimator__max_depth=13, estimator__min_samples_leaf=4 ..........\n",
            "[CV]  estimator__max_depth=13, estimator__min_samples_leaf=4, total=   1.0s\n",
            "[CV] estimator__max_depth=13, estimator__min_samples_leaf=4 ..........\n",
            "[CV]  estimator__max_depth=13, estimator__min_samples_leaf=4, total=   1.0s\n",
            "[CV] estimator__max_depth=13, estimator__min_samples_leaf=5 ..........\n",
            "[CV]  estimator__max_depth=13, estimator__min_samples_leaf=5, total=   1.0s\n",
            "[CV] estimator__max_depth=13, estimator__min_samples_leaf=5 ..........\n",
            "[CV]  estimator__max_depth=13, estimator__min_samples_leaf=5, total=   1.0s\n",
            "[CV] estimator__max_depth=13, estimator__min_samples_leaf=5 ..........\n",
            "[CV]  estimator__max_depth=13, estimator__min_samples_leaf=5, total=   1.0s\n",
            "[CV] estimator__max_depth=13, estimator__min_samples_leaf=6 ..........\n",
            "[CV]  estimator__max_depth=13, estimator__min_samples_leaf=6, total=   1.0s\n",
            "[CV] estimator__max_depth=13, estimator__min_samples_leaf=6 ..........\n",
            "[CV]  estimator__max_depth=13, estimator__min_samples_leaf=6, total=   1.0s\n",
            "[CV] estimator__max_depth=13, estimator__min_samples_leaf=6 ..........\n",
            "[CV]  estimator__max_depth=13, estimator__min_samples_leaf=6, total=   1.0s\n",
            "[CV] estimator__max_depth=13, estimator__min_samples_leaf=7 ..........\n",
            "[CV]  estimator__max_depth=13, estimator__min_samples_leaf=7, total=   1.0s\n",
            "[CV] estimator__max_depth=13, estimator__min_samples_leaf=7 ..........\n",
            "[CV]  estimator__max_depth=13, estimator__min_samples_leaf=7, total=   1.0s\n",
            "[CV] estimator__max_depth=13, estimator__min_samples_leaf=7 ..........\n",
            "[CV]  estimator__max_depth=13, estimator__min_samples_leaf=7, total=   1.0s\n",
            "[CV] estimator__max_depth=13, estimator__min_samples_leaf=8 ..........\n",
            "[CV]  estimator__max_depth=13, estimator__min_samples_leaf=8, total=   1.0s\n",
            "[CV] estimator__max_depth=13, estimator__min_samples_leaf=8 ..........\n",
            "[CV]  estimator__max_depth=13, estimator__min_samples_leaf=8, total=   1.0s\n",
            "[CV] estimator__max_depth=13, estimator__min_samples_leaf=8 ..........\n",
            "[CV]  estimator__max_depth=13, estimator__min_samples_leaf=8, total=   1.0s\n",
            "[CV] estimator__max_depth=13, estimator__min_samples_leaf=9 ..........\n",
            "[CV]  estimator__max_depth=13, estimator__min_samples_leaf=9, total=   1.0s\n",
            "[CV] estimator__max_depth=13, estimator__min_samples_leaf=9 ..........\n",
            "[CV]  estimator__max_depth=13, estimator__min_samples_leaf=9, total=   1.0s\n",
            "[CV] estimator__max_depth=13, estimator__min_samples_leaf=9 ..........\n",
            "[CV]  estimator__max_depth=13, estimator__min_samples_leaf=9, total=   1.0s\n",
            "[CV] estimator__max_depth=13, estimator__min_samples_leaf=10 .........\n",
            "[CV]  estimator__max_depth=13, estimator__min_samples_leaf=10, total=   1.0s\n",
            "[CV] estimator__max_depth=13, estimator__min_samples_leaf=10 .........\n",
            "[CV]  estimator__max_depth=13, estimator__min_samples_leaf=10, total=   1.0s\n",
            "[CV] estimator__max_depth=13, estimator__min_samples_leaf=10 .........\n",
            "[CV]  estimator__max_depth=13, estimator__min_samples_leaf=10, total=   1.0s\n",
            "[CV] estimator__max_depth=13, estimator__min_samples_leaf=11 .........\n",
            "[CV]  estimator__max_depth=13, estimator__min_samples_leaf=11, total=   1.0s\n",
            "[CV] estimator__max_depth=13, estimator__min_samples_leaf=11 .........\n",
            "[CV]  estimator__max_depth=13, estimator__min_samples_leaf=11, total=   1.0s\n",
            "[CV] estimator__max_depth=13, estimator__min_samples_leaf=11 .........\n",
            "[CV]  estimator__max_depth=13, estimator__min_samples_leaf=11, total=   1.0s\n",
            "[CV] estimator__max_depth=13, estimator__min_samples_leaf=12 .........\n",
            "[CV]  estimator__max_depth=13, estimator__min_samples_leaf=12, total=   1.0s\n",
            "[CV] estimator__max_depth=13, estimator__min_samples_leaf=12 .........\n",
            "[CV]  estimator__max_depth=13, estimator__min_samples_leaf=12, total=   1.0s\n",
            "[CV] estimator__max_depth=13, estimator__min_samples_leaf=12 .........\n",
            "[CV]  estimator__max_depth=13, estimator__min_samples_leaf=12, total=   1.0s\n",
            "[CV] estimator__max_depth=13, estimator__min_samples_leaf=13 .........\n",
            "[CV]  estimator__max_depth=13, estimator__min_samples_leaf=13, total=   1.0s\n",
            "[CV] estimator__max_depth=13, estimator__min_samples_leaf=13 .........\n",
            "[CV]  estimator__max_depth=13, estimator__min_samples_leaf=13, total=   1.0s\n",
            "[CV] estimator__max_depth=13, estimator__min_samples_leaf=13 .........\n",
            "[CV]  estimator__max_depth=13, estimator__min_samples_leaf=13, total=   1.0s\n",
            "[CV] estimator__max_depth=13, estimator__min_samples_leaf=14 .........\n",
            "[CV]  estimator__max_depth=13, estimator__min_samples_leaf=14, total=   1.0s\n",
            "[CV] estimator__max_depth=13, estimator__min_samples_leaf=14 .........\n",
            "[CV]  estimator__max_depth=13, estimator__min_samples_leaf=14, total=   1.0s\n",
            "[CV] estimator__max_depth=13, estimator__min_samples_leaf=14 .........\n",
            "[CV]  estimator__max_depth=13, estimator__min_samples_leaf=14, total=   1.0s\n",
            "[CV] estimator__max_depth=14, estimator__min_samples_leaf=1 ..........\n",
            "[CV]  estimator__max_depth=14, estimator__min_samples_leaf=1, total=   1.1s\n",
            "[CV] estimator__max_depth=14, estimator__min_samples_leaf=1 ..........\n",
            "[CV]  estimator__max_depth=14, estimator__min_samples_leaf=1, total=   1.1s\n",
            "[CV] estimator__max_depth=14, estimator__min_samples_leaf=1 ..........\n",
            "[CV]  estimator__max_depth=14, estimator__min_samples_leaf=1, total=   1.1s\n",
            "[CV] estimator__max_depth=14, estimator__min_samples_leaf=2 ..........\n",
            "[CV]  estimator__max_depth=14, estimator__min_samples_leaf=2, total=   1.1s\n",
            "[CV] estimator__max_depth=14, estimator__min_samples_leaf=2 ..........\n",
            "[CV]  estimator__max_depth=14, estimator__min_samples_leaf=2, total=   1.1s\n",
            "[CV] estimator__max_depth=14, estimator__min_samples_leaf=2 ..........\n",
            "[CV]  estimator__max_depth=14, estimator__min_samples_leaf=2, total=   1.1s\n",
            "[CV] estimator__max_depth=14, estimator__min_samples_leaf=3 ..........\n",
            "[CV]  estimator__max_depth=14, estimator__min_samples_leaf=3, total=   1.1s\n",
            "[CV] estimator__max_depth=14, estimator__min_samples_leaf=3 ..........\n",
            "[CV]  estimator__max_depth=14, estimator__min_samples_leaf=3, total=   1.1s\n",
            "[CV] estimator__max_depth=14, estimator__min_samples_leaf=3 ..........\n",
            "[CV]  estimator__max_depth=14, estimator__min_samples_leaf=3, total=   1.1s\n",
            "[CV] estimator__max_depth=14, estimator__min_samples_leaf=4 ..........\n",
            "[CV]  estimator__max_depth=14, estimator__min_samples_leaf=4, total=   1.1s\n",
            "[CV] estimator__max_depth=14, estimator__min_samples_leaf=4 ..........\n",
            "[CV]  estimator__max_depth=14, estimator__min_samples_leaf=4, total=   1.1s\n",
            "[CV] estimator__max_depth=14, estimator__min_samples_leaf=4 ..........\n",
            "[CV]  estimator__max_depth=14, estimator__min_samples_leaf=4, total=   1.1s\n",
            "[CV] estimator__max_depth=14, estimator__min_samples_leaf=5 ..........\n",
            "[CV]  estimator__max_depth=14, estimator__min_samples_leaf=5, total=   1.1s\n",
            "[CV] estimator__max_depth=14, estimator__min_samples_leaf=5 ..........\n",
            "[CV]  estimator__max_depth=14, estimator__min_samples_leaf=5, total=   1.1s\n",
            "[CV] estimator__max_depth=14, estimator__min_samples_leaf=5 ..........\n",
            "[CV]  estimator__max_depth=14, estimator__min_samples_leaf=5, total=   1.1s\n",
            "[CV] estimator__max_depth=14, estimator__min_samples_leaf=6 ..........\n",
            "[CV]  estimator__max_depth=14, estimator__min_samples_leaf=6, total=   1.1s\n",
            "[CV] estimator__max_depth=14, estimator__min_samples_leaf=6 ..........\n",
            "[CV]  estimator__max_depth=14, estimator__min_samples_leaf=6, total=   1.1s\n",
            "[CV] estimator__max_depth=14, estimator__min_samples_leaf=6 ..........\n",
            "[CV]  estimator__max_depth=14, estimator__min_samples_leaf=6, total=   1.1s\n",
            "[CV] estimator__max_depth=14, estimator__min_samples_leaf=7 ..........\n",
            "[CV]  estimator__max_depth=14, estimator__min_samples_leaf=7, total=   1.1s\n",
            "[CV] estimator__max_depth=14, estimator__min_samples_leaf=7 ..........\n",
            "[CV]  estimator__max_depth=14, estimator__min_samples_leaf=7, total=   1.1s\n",
            "[CV] estimator__max_depth=14, estimator__min_samples_leaf=7 ..........\n",
            "[CV]  estimator__max_depth=14, estimator__min_samples_leaf=7, total=   1.1s\n",
            "[CV] estimator__max_depth=14, estimator__min_samples_leaf=8 ..........\n",
            "[CV]  estimator__max_depth=14, estimator__min_samples_leaf=8, total=   1.1s\n",
            "[CV] estimator__max_depth=14, estimator__min_samples_leaf=8 ..........\n",
            "[CV]  estimator__max_depth=14, estimator__min_samples_leaf=8, total=   1.1s\n",
            "[CV] estimator__max_depth=14, estimator__min_samples_leaf=8 ..........\n",
            "[CV]  estimator__max_depth=14, estimator__min_samples_leaf=8, total=   1.1s\n",
            "[CV] estimator__max_depth=14, estimator__min_samples_leaf=9 ..........\n",
            "[CV]  estimator__max_depth=14, estimator__min_samples_leaf=9, total=   1.0s\n",
            "[CV] estimator__max_depth=14, estimator__min_samples_leaf=9 ..........\n",
            "[CV]  estimator__max_depth=14, estimator__min_samples_leaf=9, total=   1.0s\n",
            "[CV] estimator__max_depth=14, estimator__min_samples_leaf=9 ..........\n",
            "[CV]  estimator__max_depth=14, estimator__min_samples_leaf=9, total=   1.1s\n",
            "[CV] estimator__max_depth=14, estimator__min_samples_leaf=10 .........\n",
            "[CV]  estimator__max_depth=14, estimator__min_samples_leaf=10, total=   1.1s\n",
            "[CV] estimator__max_depth=14, estimator__min_samples_leaf=10 .........\n",
            "[CV]  estimator__max_depth=14, estimator__min_samples_leaf=10, total=   1.0s\n",
            "[CV] estimator__max_depth=14, estimator__min_samples_leaf=10 .........\n",
            "[CV]  estimator__max_depth=14, estimator__min_samples_leaf=10, total=   1.0s\n",
            "[CV] estimator__max_depth=14, estimator__min_samples_leaf=11 .........\n",
            "[CV]  estimator__max_depth=14, estimator__min_samples_leaf=11, total=   1.1s\n",
            "[CV] estimator__max_depth=14, estimator__min_samples_leaf=11 .........\n",
            "[CV]  estimator__max_depth=14, estimator__min_samples_leaf=11, total=   1.0s\n",
            "[CV] estimator__max_depth=14, estimator__min_samples_leaf=11 .........\n",
            "[CV]  estimator__max_depth=14, estimator__min_samples_leaf=11, total=   1.0s\n",
            "[CV] estimator__max_depth=14, estimator__min_samples_leaf=12 .........\n",
            "[CV]  estimator__max_depth=14, estimator__min_samples_leaf=12, total=   1.0s\n",
            "[CV] estimator__max_depth=14, estimator__min_samples_leaf=12 .........\n",
            "[CV]  estimator__max_depth=14, estimator__min_samples_leaf=12, total=   1.0s\n",
            "[CV] estimator__max_depth=14, estimator__min_samples_leaf=12 .........\n",
            "[CV]  estimator__max_depth=14, estimator__min_samples_leaf=12, total=   1.0s\n",
            "[CV] estimator__max_depth=14, estimator__min_samples_leaf=13 .........\n",
            "[CV]  estimator__max_depth=14, estimator__min_samples_leaf=13, total=   1.0s\n",
            "[CV] estimator__max_depth=14, estimator__min_samples_leaf=13 .........\n",
            "[CV]  estimator__max_depth=14, estimator__min_samples_leaf=13, total=   1.0s\n",
            "[CV] estimator__max_depth=14, estimator__min_samples_leaf=13 .........\n",
            "[CV]  estimator__max_depth=14, estimator__min_samples_leaf=13, total=   1.0s\n",
            "[CV] estimator__max_depth=14, estimator__min_samples_leaf=14 .........\n",
            "[CV]  estimator__max_depth=14, estimator__min_samples_leaf=14, total=   1.0s\n",
            "[CV] estimator__max_depth=14, estimator__min_samples_leaf=14 .........\n",
            "[CV]  estimator__max_depth=14, estimator__min_samples_leaf=14, total=   1.0s\n",
            "[CV] estimator__max_depth=14, estimator__min_samples_leaf=14 .........\n",
            "[CV]  estimator__max_depth=14, estimator__min_samples_leaf=14, total=   1.0s\n"
          ],
          "name": "stdout"
        },
        {
          "output_type": "stream",
          "text": [
            "[Parallel(n_jobs=-1)]: Done 588 out of 588 | elapsed:  6.2min finished\n"
          ],
          "name": "stderr"
        },
        {
          "output_type": "stream",
          "text": [
            "\n",
            " The best score across ALL searched params:\n",
            " -2.457959649299341\n",
            "\n",
            " The best parameters across ALL searched params:\n",
            " {'estimator__max_depth': 2, 'estimator__min_samples_leaf': 13}\n"
          ],
          "name": "stdout"
        }
      ]
    },
    {
      "cell_type": "markdown",
      "metadata": {
        "id": "L38FPFFgvvdB"
      },
      "source": [
        "## Model Selection"
      ]
    },
    {
      "cell_type": "code",
      "metadata": {
        "id": "sU4jOUWr8hHm"
      },
      "source": [
        "model = MultiOutputRegressor(DecisionTreeRegressor(random_state=RANDOM_STATE, \n",
        "                                                   max_depth=2, min_samples_leaf=13))\n",
        "\n",
        "model.fit(x_train, y_train.to_numpy())\n",
        "\n",
        "prediction = model.predict(x_test)"
      ],
      "execution_count": null,
      "outputs": []
    },
    {
      "cell_type": "code",
      "metadata": {
        "id": "C1W2qLtA8hHn",
        "outputId": "a25b6d46-0852-46b6-e8c0-fc3a4389f22d"
      },
      "source": [
        "smape = calc_smape(y_test.to_numpy(), prediction)\n",
        "print('Final sMAPE score: ', smape)"
      ],
      "execution_count": null,
      "outputs": [
        {
          "output_type": "stream",
          "text": [
            "Final sMAPE score:  14.464377261082916\n"
          ],
          "name": "stdout"
        }
      ]
    },
    {
      "cell_type": "markdown",
      "metadata": {
        "id": "5l2PUaDiHlFs"
      },
      "source": [
        "# Overall Conclusion"
      ]
    },
    {
      "cell_type": "markdown",
      "metadata": {
        "id": "N4zbuZwS8hHn"
      },
      "source": [
        "To fill the null values in the original datasets, we used `fillna(method='ffill')` since the data is ordered by time. MAE calculation values were also used to replace the original values in the datasets. We dropped the abnormal values for concentrations that were equal to and/or close to 0. And then we trained Linear Regression, Decision Tree Regressor, and Random Forest Regressor using the train dataset with a cross-validation of 5 fold to obtain sMAPE scores. Decision Tree had the best lowest sMAPE scores overall and was selected undergo hyper parameterization with `GridSearchCV`. Below sums up the final Decision Tree model and it's parameters:\n",
        "\n",
        "| Decision Tree Regression | |\n",
        "|:---|:---|\n",
        "| *Parameters:* | *random_state= 42, max_depth=2, min_samples_leaf=13* | \n",
        "| Final sMAPE score | 14.4644 |\n",
        "\n",
        "Testing the final model using the test dataset gave us the final sMAPE score of 14.46% which is higher than our cross-validation mean score which used the only used train dataset. \n",
        "\n"
      ]
    }
  ]
}