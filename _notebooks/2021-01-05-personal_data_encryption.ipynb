{
  "nbformat": 4,
  "nbformat_minor": 0,
  "metadata": {
    "kernelspec": {
      "display_name": "Python 3",
      "language": "python",
      "name": "python3"
    },
    "language_info": {
      "codemirror_mode": {
        "name": "ipython",
        "version": 3
      },
      "file_extension": ".py",
      "mimetype": "text/x-python",
      "name": "python",
      "nbconvert_exporter": "python",
      "pygments_lexer": "ipython3",
      "version": "3.7.8"
    },
    "toc": {
      "base_numbering": 1,
      "nav_menu": {},
      "number_sections": true,
      "sideBar": true,
      "skip_h1_title": true,
      "title_cell": "Table of Contents",
      "title_sidebar": "Contents",
      "toc_cell": false,
      "toc_position": {},
      "toc_section_display": true,
      "toc_window_display": false
    },
    "colab": {
      "name": "Personal Data Encryption",
      "provenance": []
    }
  },
  "cells": [
    {
      "cell_type": "markdown",
      "metadata": {
        "id": "wcSqBOQiDO-i"
      },
      "source": [
        "# Personal Data Encryption\n",
        "\n",
        "> An insurance company needs to protect user data by encryption of personal information. We work to create data encryption algorithm so that after transformation, the accuracy of Machine Learning model will not change as without transformation. \n",
        "\n",
        "- toc: true\n",
        "- badges: true\n",
        "- comments: true\n",
        "- categories: [Machine Learning, Python, Linear Algebra, Data Encryption, Linear Regression, pandas, numpy, scikit-learn]\n",
        "- image: images/encryption.PNG"
      ]
    },
    {
      "cell_type": "markdown",
      "metadata": {
        "id": "ElT-Um1EAm_x"
      },
      "source": [
        "# **Project Description**\n",
        "\n",
        "---\n",
        "\n",
        "The Sure Tomorrow insurance company wants to protect its clients' data. Your task is to develop a data transforming algorithm that would make it hard to recover personal information from the transformed data. This is called **data masking**, or **data obfuscation**. You are also expected to prove that the algorithm works correctly. Additionally, the data should be protected in such a way that the quality of machine learning models doesn't suffer. You don't need to pick the best model. Follow these steps to develop a new algorithm:\n",
        "\n",
        "* construct a theoretical proof using properties of models and the given task;\n",
        "* formulate an algorithm for this proof;\n",
        "* check that the algorithm is working correctly when applied to real data.\n",
        "\n",
        "We will use a simple method of data masking, based on an invertible matrix."
      ]
    },
    {
      "cell_type": "markdown",
      "metadata": {
        "id": "wKSvM41iAm_z"
      },
      "source": [
        "## **Data description**\n",
        "\n",
        "The dataset is stored in file `/datasets/insurance_us.csv`.\n",
        "\n",
        "*   **Features**: insured person's gender, age, salary, and number of family members.\n",
        "\n",
        "*   **Target**: number of insurance benefits received by the insured person over the last five years."
      ]
    },
    {
      "cell_type": "markdown",
      "metadata": {
        "id": "Arc9--7-Am_z"
      },
      "source": [
        "# Load Data\n",
        "\n",
        "---\n",
        "\n",
        "Download and look into the data."
      ]
    },
    {
      "cell_type": "code",
      "metadata": {
        "id": "FlIhtoxKAm_z"
      },
      "source": [
        "# Import in libraries to use in project\n",
        "\n",
        "import pandas as pd\n",
        "import numpy as np\n",
        "\n",
        "from sklearn.linear_model import LinearRegression\n",
        "from sklearn.model_selection import train_test_split\n",
        "from sklearn.metrics import r2_score"
      ],
      "execution_count": null,
      "outputs": []
    },
    {
      "cell_type": "code",
      "metadata": {
        "id": "6Ji1LiQpAm_0"
      },
      "source": [
        "df = pd.read_csv('/datasets/insurance_us.csv')"
      ],
      "execution_count": null,
      "outputs": []
    },
    {
      "cell_type": "code",
      "metadata": {
        "id": "QBtL0RpwAm_1"
      },
      "source": [
        "# Functions to get descriptions and info from dataframe\n",
        "\n",
        "def get_information(df):\n",
        "  \"\"\" Prints general info about the dataframe to get an idea of what it looks like\"\"\"\n",
        "  print('Head: \\n')\n",
        "  display(df.head())\n",
        "  print('*'*100, '\\n') # Prints a break to seperate print data\n",
        "  \n",
        "  print('Info: \\n')\n",
        "  display(df.info())\n",
        "  print('*'*100, '\\n')\n",
        "\n",
        "  print('Describe: \\n')\n",
        "  display(df.describe())\n",
        "  print('*'*100, '\\n')\n",
        "\n",
        "  print('Columns with nulls: \\n')\n",
        "  display(get_null_df(df,4))\n",
        "  print('*'*100, '\\n')\n",
        "\n",
        "  print('Shape: \\n')\n",
        "  display(df.shape)\n",
        "  print('*'*100, '\\n')\n",
        "\n",
        "  print('Duplicated: \\n')\n",
        "  print('Number of duplicated rows: {}'.format(df.duplicated().sum()))\n",
        "\n",
        "def get_null_df(df, num):\n",
        "  \"\"\"Gets percentage of null values per column per dataframe\"\"\"\n",
        "  df_nulls = pd.DataFrame(df.isna().sum(), columns=['missing_values'])\n",
        "  df_nulls['percent_of_nulls'] = round(df_nulls['missing_values'] / df.shape[0], num) *100\n",
        "  return df_nulls\n",
        "\n",
        "def get_null(df):\n",
        "  \"\"\"Gets percentage of null values in dataframe\"\"\"\n",
        "  count = 0\n",
        "  df = df.copy()\n",
        "  s = (df.isna().sum() / df.shape[0])\n",
        "  for column, percent in zip(s.index, s.values):\n",
        "\n",
        "    num_of_nulls = df[column].isna().sum()\n",
        "    if num_of_nulls == 0:\n",
        "      continue\n",
        "    else:\n",
        "      count += 1\n",
        "    print('Columns {} has {:.{}%} percent of Nulls, and {} number of nulls'.format(column, percent, num, num_of_nulls))\n",
        "\n",
        "    if count !=0:\n",
        "      print('Number of columns with NA: {}'.format(count))\n",
        "    else:\n",
        "      print('\\nNo NA columns found')"
      ],
      "execution_count": null,
      "outputs": []
    },
    {
      "cell_type": "code",
      "metadata": {
        "id": "1Gvi8fzSAm_2",
        "outputId": "21c5cea2-d514-4bbf-ecc6-4b0d28bff278"
      },
      "source": [
        "get_information(df)"
      ],
      "execution_count": null,
      "outputs": [
        {
          "output_type": "stream",
          "text": [
            "Head: \n",
            "\n"
          ],
          "name": "stdout"
        },
        {
          "output_type": "display_data",
          "data": {
            "text/html": [
              "<div>\n",
              "<style scoped>\n",
              "    .dataframe tbody tr th:only-of-type {\n",
              "        vertical-align: middle;\n",
              "    }\n",
              "\n",
              "    .dataframe tbody tr th {\n",
              "        vertical-align: top;\n",
              "    }\n",
              "\n",
              "    .dataframe thead th {\n",
              "        text-align: right;\n",
              "    }\n",
              "</style>\n",
              "<table border=\"1\" class=\"dataframe\">\n",
              "  <thead>\n",
              "    <tr style=\"text-align: right;\">\n",
              "      <th></th>\n",
              "      <th>Gender</th>\n",
              "      <th>Age</th>\n",
              "      <th>Salary</th>\n",
              "      <th>Family members</th>\n",
              "      <th>Insurance benefits</th>\n",
              "    </tr>\n",
              "  </thead>\n",
              "  <tbody>\n",
              "    <tr>\n",
              "      <td>0</td>\n",
              "      <td>1</td>\n",
              "      <td>41.0</td>\n",
              "      <td>49600.0</td>\n",
              "      <td>1</td>\n",
              "      <td>0</td>\n",
              "    </tr>\n",
              "    <tr>\n",
              "      <td>1</td>\n",
              "      <td>0</td>\n",
              "      <td>46.0</td>\n",
              "      <td>38000.0</td>\n",
              "      <td>1</td>\n",
              "      <td>1</td>\n",
              "    </tr>\n",
              "    <tr>\n",
              "      <td>2</td>\n",
              "      <td>0</td>\n",
              "      <td>29.0</td>\n",
              "      <td>21000.0</td>\n",
              "      <td>0</td>\n",
              "      <td>0</td>\n",
              "    </tr>\n",
              "    <tr>\n",
              "      <td>3</td>\n",
              "      <td>0</td>\n",
              "      <td>21.0</td>\n",
              "      <td>41700.0</td>\n",
              "      <td>2</td>\n",
              "      <td>0</td>\n",
              "    </tr>\n",
              "    <tr>\n",
              "      <td>4</td>\n",
              "      <td>1</td>\n",
              "      <td>28.0</td>\n",
              "      <td>26100.0</td>\n",
              "      <td>0</td>\n",
              "      <td>0</td>\n",
              "    </tr>\n",
              "  </tbody>\n",
              "</table>\n",
              "</div>"
            ],
            "text/plain": [
              "   Gender   Age   Salary  Family members  Insurance benefits\n",
              "0       1  41.0  49600.0               1                   0\n",
              "1       0  46.0  38000.0               1                   1\n",
              "2       0  29.0  21000.0               0                   0\n",
              "3       0  21.0  41700.0               2                   0\n",
              "4       1  28.0  26100.0               0                   0"
            ]
          },
          "metadata": {
            "tags": []
          }
        },
        {
          "output_type": "stream",
          "text": [
            "**************************************************************************************************** \n",
            "\n",
            "Info: \n",
            "\n",
            "<class 'pandas.core.frame.DataFrame'>\n",
            "RangeIndex: 5000 entries, 0 to 4999\n",
            "Data columns (total 5 columns):\n",
            "Gender                5000 non-null int64\n",
            "Age                   5000 non-null float64\n",
            "Salary                5000 non-null float64\n",
            "Family members        5000 non-null int64\n",
            "Insurance benefits    5000 non-null int64\n",
            "dtypes: float64(2), int64(3)\n",
            "memory usage: 195.4 KB\n"
          ],
          "name": "stdout"
        },
        {
          "output_type": "display_data",
          "data": {
            "text/plain": [
              "None"
            ]
          },
          "metadata": {
            "tags": []
          }
        },
        {
          "output_type": "stream",
          "text": [
            "**************************************************************************************************** \n",
            "\n",
            "Describe: \n",
            "\n"
          ],
          "name": "stdout"
        },
        {
          "output_type": "display_data",
          "data": {
            "text/html": [
              "<div>\n",
              "<style scoped>\n",
              "    .dataframe tbody tr th:only-of-type {\n",
              "        vertical-align: middle;\n",
              "    }\n",
              "\n",
              "    .dataframe tbody tr th {\n",
              "        vertical-align: top;\n",
              "    }\n",
              "\n",
              "    .dataframe thead th {\n",
              "        text-align: right;\n",
              "    }\n",
              "</style>\n",
              "<table border=\"1\" class=\"dataframe\">\n",
              "  <thead>\n",
              "    <tr style=\"text-align: right;\">\n",
              "      <th></th>\n",
              "      <th>Gender</th>\n",
              "      <th>Age</th>\n",
              "      <th>Salary</th>\n",
              "      <th>Family members</th>\n",
              "      <th>Insurance benefits</th>\n",
              "    </tr>\n",
              "  </thead>\n",
              "  <tbody>\n",
              "    <tr>\n",
              "      <td>count</td>\n",
              "      <td>5000.000000</td>\n",
              "      <td>5000.000000</td>\n",
              "      <td>5000.000000</td>\n",
              "      <td>5000.000000</td>\n",
              "      <td>5000.000000</td>\n",
              "    </tr>\n",
              "    <tr>\n",
              "      <td>mean</td>\n",
              "      <td>0.499000</td>\n",
              "      <td>30.952800</td>\n",
              "      <td>39916.360000</td>\n",
              "      <td>1.194200</td>\n",
              "      <td>0.148000</td>\n",
              "    </tr>\n",
              "    <tr>\n",
              "      <td>std</td>\n",
              "      <td>0.500049</td>\n",
              "      <td>8.440807</td>\n",
              "      <td>9900.083569</td>\n",
              "      <td>1.091387</td>\n",
              "      <td>0.463183</td>\n",
              "    </tr>\n",
              "    <tr>\n",
              "      <td>min</td>\n",
              "      <td>0.000000</td>\n",
              "      <td>18.000000</td>\n",
              "      <td>5300.000000</td>\n",
              "      <td>0.000000</td>\n",
              "      <td>0.000000</td>\n",
              "    </tr>\n",
              "    <tr>\n",
              "      <td>25%</td>\n",
              "      <td>0.000000</td>\n",
              "      <td>24.000000</td>\n",
              "      <td>33300.000000</td>\n",
              "      <td>0.000000</td>\n",
              "      <td>0.000000</td>\n",
              "    </tr>\n",
              "    <tr>\n",
              "      <td>50%</td>\n",
              "      <td>0.000000</td>\n",
              "      <td>30.000000</td>\n",
              "      <td>40200.000000</td>\n",
              "      <td>1.000000</td>\n",
              "      <td>0.000000</td>\n",
              "    </tr>\n",
              "    <tr>\n",
              "      <td>75%</td>\n",
              "      <td>1.000000</td>\n",
              "      <td>37.000000</td>\n",
              "      <td>46600.000000</td>\n",
              "      <td>2.000000</td>\n",
              "      <td>0.000000</td>\n",
              "    </tr>\n",
              "    <tr>\n",
              "      <td>max</td>\n",
              "      <td>1.000000</td>\n",
              "      <td>65.000000</td>\n",
              "      <td>79000.000000</td>\n",
              "      <td>6.000000</td>\n",
              "      <td>5.000000</td>\n",
              "    </tr>\n",
              "  </tbody>\n",
              "</table>\n",
              "</div>"
            ],
            "text/plain": [
              "            Gender          Age        Salary  Family members  \\\n",
              "count  5000.000000  5000.000000   5000.000000     5000.000000   \n",
              "mean      0.499000    30.952800  39916.360000        1.194200   \n",
              "std       0.500049     8.440807   9900.083569        1.091387   \n",
              "min       0.000000    18.000000   5300.000000        0.000000   \n",
              "25%       0.000000    24.000000  33300.000000        0.000000   \n",
              "50%       0.000000    30.000000  40200.000000        1.000000   \n",
              "75%       1.000000    37.000000  46600.000000        2.000000   \n",
              "max       1.000000    65.000000  79000.000000        6.000000   \n",
              "\n",
              "       Insurance benefits  \n",
              "count         5000.000000  \n",
              "mean             0.148000  \n",
              "std              0.463183  \n",
              "min              0.000000  \n",
              "25%              0.000000  \n",
              "50%              0.000000  \n",
              "75%              0.000000  \n",
              "max              5.000000  "
            ]
          },
          "metadata": {
            "tags": []
          }
        },
        {
          "output_type": "stream",
          "text": [
            "**************************************************************************************************** \n",
            "\n",
            "Columns with nulls: \n",
            "\n"
          ],
          "name": "stdout"
        },
        {
          "output_type": "display_data",
          "data": {
            "text/html": [
              "<div>\n",
              "<style scoped>\n",
              "    .dataframe tbody tr th:only-of-type {\n",
              "        vertical-align: middle;\n",
              "    }\n",
              "\n",
              "    .dataframe tbody tr th {\n",
              "        vertical-align: top;\n",
              "    }\n",
              "\n",
              "    .dataframe thead th {\n",
              "        text-align: right;\n",
              "    }\n",
              "</style>\n",
              "<table border=\"1\" class=\"dataframe\">\n",
              "  <thead>\n",
              "    <tr style=\"text-align: right;\">\n",
              "      <th></th>\n",
              "      <th>missing_values</th>\n",
              "      <th>percent_of_nulls</th>\n",
              "    </tr>\n",
              "  </thead>\n",
              "  <tbody>\n",
              "    <tr>\n",
              "      <td>Gender</td>\n",
              "      <td>0</td>\n",
              "      <td>0.0</td>\n",
              "    </tr>\n",
              "    <tr>\n",
              "      <td>Age</td>\n",
              "      <td>0</td>\n",
              "      <td>0.0</td>\n",
              "    </tr>\n",
              "    <tr>\n",
              "      <td>Salary</td>\n",
              "      <td>0</td>\n",
              "      <td>0.0</td>\n",
              "    </tr>\n",
              "    <tr>\n",
              "      <td>Family members</td>\n",
              "      <td>0</td>\n",
              "      <td>0.0</td>\n",
              "    </tr>\n",
              "    <tr>\n",
              "      <td>Insurance benefits</td>\n",
              "      <td>0</td>\n",
              "      <td>0.0</td>\n",
              "    </tr>\n",
              "  </tbody>\n",
              "</table>\n",
              "</div>"
            ],
            "text/plain": [
              "                    missing_values  percent_of_nulls\n",
              "Gender                           0               0.0\n",
              "Age                              0               0.0\n",
              "Salary                           0               0.0\n",
              "Family members                   0               0.0\n",
              "Insurance benefits               0               0.0"
            ]
          },
          "metadata": {
            "tags": []
          }
        },
        {
          "output_type": "stream",
          "text": [
            "**************************************************************************************************** \n",
            "\n",
            "Shape: \n",
            "\n"
          ],
          "name": "stdout"
        },
        {
          "output_type": "display_data",
          "data": {
            "text/plain": [
              "(5000, 5)"
            ]
          },
          "metadata": {
            "tags": []
          }
        },
        {
          "output_type": "stream",
          "text": [
            "**************************************************************************************************** \n",
            "\n",
            "Duplicated: \n",
            "\n",
            "Number of duplicated rows: 153\n"
          ],
          "name": "stdout"
        }
      ]
    },
    {
      "cell_type": "code",
      "metadata": {
        "id": "aedzttOcAm_3",
        "outputId": "31ececbc-4dd4-4cc8-99ad-85ede3271f07"
      },
      "source": [
        "df.columns = [columns.lower().replace(' ', '_') for columns in df.columns]\n",
        "df.columns"
      ],
      "execution_count": null,
      "outputs": [
        {
          "output_type": "execute_result",
          "data": {
            "text/plain": [
              "Index(['gender', 'age', 'salary', 'family_members', 'insurance_benefits'], dtype='object')"
            ]
          },
          "metadata": {
            "tags": []
          },
          "execution_count": 5
        }
      ]
    },
    {
      "cell_type": "code",
      "metadata": {
        "id": "qZOViu1jAm_3"
      },
      "source": [
        "features = df.drop('insurance_benefits', axis=1)\n",
        "target = df['insurance_benefits']"
      ],
      "execution_count": null,
      "outputs": []
    },
    {
      "cell_type": "markdown",
      "metadata": {
        "id": "loIxLHx8Am_4"
      },
      "source": [
        "The dataset has 5000 entries with no null entries/missing information. There are 5 columns (gender, age, salary, family_members, and insurance_benefits). There seems to be 153 rows of duplicated data. This may be due to simlar clients information, without a unique identifying column it is hard to determine the duplicates apart. Dataset would be broken up into the following:\n",
        "\n",
        "* **Features**: insured person's gender, age, salary, and number of family members.\n",
        "\n",
        "* **Target**: number of insurance benefits received by the insured person over the last five years."
      ]
    },
    {
      "cell_type": "markdown",
      "metadata": {
        "id": "pys99Kb6Am_4"
      },
      "source": [
        "# Multiplication of matrices\n",
        "\n",
        "---\n",
        "\n",
        "A theoretical proof based on the equation of linear regression is presented here. We will take the features multiply it by an invertible matrix. \n",
        "\n",
        "The quality of the model will be the same for both sets of parameters: the original features and the features after multiplication."
      ]
    },
    {
      "cell_type": "markdown",
      "metadata": {
        "id": "TyiQT8gPAm_4"
      },
      "source": [
        "**Matrix properties:**\n",
        "\n",
        "An identity matrix (unit matrix)  is a square matrix with 1s on main diagional and 0s everywhere else. Example would be:\n",
        "$$ E = \\begin{bmatrix} 1 & 0 & 0 \\\\ 0 & 1 & 0 \\\\ 0 & 0 & 1 \\end{bmatrix} $$\n",
        "\n",
        "If any matrix $A$ is multiplied by an identity matrix (or vice versa), the same matrix $A$ is obtained.\n",
        "\n",
        "$$ AE = EA = A $$\n",
        "\n",
        "If matrix $A$ is a square matrix and multiplied by it's inverse matrix ($A^{-1}$) the product is equal to the identity matrix.\n",
        "\n",
        "$$ AA^{-1} = A^{-1}A = E $$\n",
        "\n",
        "This would make it true that the identity matrix is the inverse of itself:\n",
        "$$ E = E^{-1} $$\n",
        "\n",
        "Matrices that have obtainable inverses are called **invertible** matrix. Not all matrices have inverses. \n",
        "\n",
        "**Invertible matrix properties:**\n",
        "\n",
        "1. $ (A^{-1})^{-1} = A $\n",
        "2. $ (A^T)^{-1} = (A^{-1})^T $\n",
        "> The transpose of an invertible matrix is also invertible, and its inverse is the transpose of the inverse of the original matrix.\n",
        "\n",
        "3. $ (kA)^{-1} = k^{-1}A^{-1} $ for non-zero scalar $k$\n",
        "4. For any **two square matrices** A and B, $ (AB)^{-1} = B^{-1}A^{-1}$\n",
        "\n",
        "This would be true with transpose properties of $A$ and $B$ matrices: $ (AB)^T = B^T A^T $\n",
        "\n",
        "> Note that the order of the factors reverses. From this one can deduce that a square matrix $A$ is invertible if and only if $A^T$ is invertible, and in this case we have $(A^{−1})^T = (A^T)^{−1}$. By induction, this result extends to the general case of multiple matrices.\n",
        "\n"
      ]
    },
    {
      "cell_type": "markdown",
      "metadata": {
        "id": "CfUp4qTLAm_5"
      },
      "source": [
        "Denote:\n",
        "\n",
        "- $X$ — feature matrix (zero column consists of unities)\n",
        "\n",
        "- $y$ — target vector\n",
        "\n",
        "- $P$ — matrix by which the features are multiplied\n",
        "\n",
        "- $w$ — linear regression weight vector (zero element is equal to the shift)"
      ]
    },
    {
      "cell_type": "markdown",
      "metadata": {
        "id": "S8di752iAm_5"
      },
      "source": [
        "Predictions:\n",
        "\n",
        "$$\n",
        "a = Xw\n",
        "$$\n",
        "\n",
        "Training objective:\n",
        "\n",
        "$$\n",
        "\\min_w d_2(Xw, y)\n",
        "$$\n",
        "\n",
        "Training formula:\n",
        "\n",
        "$$\n",
        "w = (X^T X)^{-1} X^T y\n",
        "$$"
      ]
    },
    {
      "cell_type": "markdown",
      "metadata": {
        "id": "rWnKuqbhAm_5"
      },
      "source": [
        "**Answer**:\n",
        "\n",
        "$$ a' = a $$\n",
        "\n",
        "Predictions ($a'$) made using the features matrix that is multiplied by an invertible matrix is the same as the predictions ($a$) made using the original features matrix.\n",
        "\n",
        "**Justification:**\n",
        "\n",
        "Known:\n",
        "* $ a = Xw $\n",
        "* $ w = (X^T X)^{-1} X^T y $\n",
        "* $ a' = X'w' $\n",
        "* $ X' = XP $\n",
        "\n",
        "We want to prove that:  \n",
        "* $ a' = X'w' = XP w' = Xw = a $\n",
        "\n",
        "To find $w'$ we can substitute $X$ with $X'$ which known into the linear regression weight vector function $w$. \n",
        "\n",
        "$$ w' = ((XP)^T (XP))^{-1} (XP)^T y $$\n",
        "\n",
        "$$ w' = ((P^T X^T) (XP))^{-1} P^T X^T y $$\n",
        "\n",
        "$$ w' = (XP)^{-1} (P^T X^T)^{-1} P^T X^T y $$\n",
        "\n",
        "$$ w' = (XP)^{-1} (X^T)^{-1} (P^T)^{-1} P^T X^T y $$\n",
        "\n",
        "Since $P$ is a square (*n x n*) and an invertible matrix, $(P^T)^{-1} P^T$ would cancel each other out (this is only possible since $P$ is an invertible matrix). \n",
        "\n",
        "$$ w' = (XP)^{-1} (X^T)^{-1} X^T y $$\n",
        "\n",
        "$$ w' = (X^TX P)^{-1} X^T y $$\n",
        "\n",
        "Note that $P$ and $X^TX$ are the only square matrices:\n",
        "\n",
        "$$ w' = P^{-1} (X^TX)^{-1} X^T y $$\n",
        "\n",
        "The $X$ portion of the equation now looks exactly the same to weight vector equation so a substitutiion is possible to get:\n",
        "\n",
        "$$ w' =  P^{-1} w $$\n",
        "\n",
        "Now, that $w'$ is solved it can be put into the prediction equation from earlier:\n",
        "\n",
        "$$ a' = X'w' $$\n",
        "$$ a' = XP w' $$ \n",
        "$$ a' = XP (P^{-1} w) $$\n",
        "$$ a' = XP P^{-1} w $$\n",
        "\n",
        "Since $P$ is an invertible matrix, like earlier $P$ cancels out with its inverse.\n",
        "\n",
        "$$ a' = X w  = a $$\n"
      ]
    },
    {
      "cell_type": "markdown",
      "metadata": {
        "id": "CTj6t_vDAm_6"
      },
      "source": [
        "The weight vectors from MSE minimums for these models are the similar according the proof we did earlier for linear regression. For the predictions with features multiplied by an invertible matrix, we have the weight vector being multiplied by factor of $P^{-1}$ which is the inverse matrix of the matrix used to multiply by features. This cancels out since we multiply the features with matrix with its inverse in the weight vector equation. So for the new weight vector equation after the transformation, it has a factor of $P^{-1}$. With this the quality of the model would not change since both predictions are the same according to the proof!"
      ]
    },
    {
      "cell_type": "markdown",
      "metadata": {
        "id": "weKjEBRyAm_6"
      },
      "source": [
        "# Transformation algorithm\n",
        "\n",
        "---\n",
        "\n",
        "State an algorithm for data transformation to solve the task. Explain why the linear regression quality won't change based on the proof above.\n"
      ]
    },
    {
      "cell_type": "markdown",
      "metadata": {
        "id": "uGnIBJJQAm_6"
      },
      "source": [
        "**Algorithm**\n",
        "\n",
        "$$ X' = XP $$\n",
        "$$ w = (X^T X)^{-1} X^T y $$\n",
        "$$ w' =  P^{-1} w $$\n",
        "\n",
        "\n",
        "- $X'$ — new transformed matrix (zero column consists of unities)\n",
        "- $X$ — feature matrix (zero column consists of unities)\n",
        "- $P$ — invertable matrix by which the features are multiplied\n",
        "- $y$ — target vector\n",
        "- $w$ — linear regression weight vector (zero element is equal to the shift)\n",
        "- $w'$ — transformed linear regression weight vector (zero element is equal to the shift)"
      ]
    },
    {
      "cell_type": "markdown",
      "metadata": {
        "id": "JVX6O-M_Am_6"
      },
      "source": [
        "**Justification**\n",
        "\n",
        "A new matrix ($X'$) is created by a transformation of original features matrix ($X$) by multiplying with an invertible matrix ($P$).\n",
        "\n",
        "The linear regression quality will not change as the since earlier in the proof it's shown that predictions made with original features versus the predictions with transformed matrix are the same.\n",
        "..."
      ]
    },
    {
      "cell_type": "markdown",
      "metadata": {
        "id": "d5AKxGrDAm_7"
      },
      "source": [
        "<div class=\"alert alert-success\">\n",
        "    Yep! The algorithm and it's justification are correct, provided you fix the problems with the proof in the prior section.\n",
        "</div>"
      ]
    },
    {
      "cell_type": "markdown",
      "metadata": {
        "id": "QeFSIl-YAm_7"
      },
      "source": [
        "# Algorithm test\n",
        "\n",
        "---\n",
        "\n",
        "The algorithm is programed using matrix operations. Make sure that the quality of linear regression from sklearn is the same before and after transformation. Use the R2 metric."
      ]
    },
    {
      "cell_type": "code",
      "metadata": {
        "id": "d2o3zvcfAm_7"
      },
      "source": [
        "RANDOM_STATE = 12345 # Random_State\n",
        "\n",
        "# Splits dataset to test/train (validate/train) datasets\n",
        "\n",
        "def get_train_valid(df):\n",
        "    df_train, df_valid = train_test_split(df, test_size=0.25, random_state=RANDOM_STATE) # Splits data up to 75% train and 25% test\n",
        "    return df_train, df_valid"
      ],
      "execution_count": null,
      "outputs": []
    },
    {
      "cell_type": "code",
      "metadata": {
        "id": "qqVO-ACcAm_7",
        "outputId": "0bd1b55f-e48a-4fb5-a32d-c25bc62324f9"
      },
      "source": [
        "features_train, features_valid = get_train_valid(features)\n",
        "target_train, target_valid = get_train_valid(target)\n",
        "\n",
        "assert features_train.shape[0] == target_train.shape[0]\n",
        "assert features_valid.shape[0] == target_valid.shape[0]\n",
        "\n",
        "print('Datasets: \\n')\n",
        "print('Features Train:', features_train.shape, ' Target Train:', target_train.shape)\n",
        "print('Features Validation:', features_valid.shape, ' Target Validation:', target_valid.shape)"
      ],
      "execution_count": null,
      "outputs": [
        {
          "output_type": "stream",
          "text": [
            "Datasets: \n",
            "\n",
            "Features Train: (3750, 4)  Target Train: (3750,)\n",
            "Features Validation: (1250, 4)  Target Validation: (1250,)\n"
          ],
          "name": "stdout"
        }
      ]
    },
    {
      "cell_type": "code",
      "metadata": {
        "id": "6YWIZwpwAm_7",
        "outputId": "d1bb4624-068b-47c9-936e-80f12695e671"
      },
      "source": [
        "# Orignal features test\n",
        "\n",
        "model = LinearRegression()\n",
        "model.fit(features_train, target_train)\n",
        "predictions_original = model.predict(features_valid)\n",
        "print('R2 Score with original features:', r2_score(target_valid, predictions_original))"
      ],
      "execution_count": null,
      "outputs": [
        {
          "output_type": "stream",
          "text": [
            "R2 Score with original features: 0.435227571270266\n"
          ],
          "name": "stdout"
        }
      ]
    },
    {
      "cell_type": "code",
      "metadata": {
        "id": "yVg2yQyaAm_8"
      },
      "source": [
        "def create_matrix_P(features):\n",
        "  matrix_P = np.random.normal(size=(features.shape[1], features.shape[1])) # Create matrix_P with shape of n_features x n_features\n",
        "  return matrix_P"
      ],
      "execution_count": null,
      "outputs": []
    },
    {
      "cell_type": "code",
      "metadata": {
        "id": "Qyn3DOTQAm_8",
        "outputId": "f1bc9275-7180-42e6-c3b2-0dd74a647365"
      },
      "source": [
        "# Check to see if matrix_P is invertible\n",
        "while True:\n",
        "    matrix_P = create_matrix_P(features)\n",
        "    try:\n",
        "        np.linalg.inv(matrix_P)\n",
        "        break\n",
        "    except LinAlgError:\n",
        "        print(\"Matrix is not invertible\")\n",
        "\n",
        "matrix_P.shape"
      ],
      "execution_count": null,
      "outputs": [
        {
          "output_type": "execute_result",
          "data": {
            "text/plain": [
              "(4, 4)"
            ]
          },
          "metadata": {
            "tags": []
          },
          "execution_count": 11
        }
      ]
    },
    {
      "cell_type": "code",
      "metadata": {
        "id": "ZAM0OoeeAm_8",
        "outputId": "50339057-53ca-4a73-e17d-ff96e93b80f7"
      },
      "source": [
        "# To get a square matrix A.dot(A.T) -> This would to make features a square matrix but also invertible\n",
        "#sq_feat = features.dot(features.T) -> Commenting out as this is not needed\n",
        "\n",
        "feat_P= features.dot(matrix_P)\n",
        "\n",
        "feat_P_train, feat_P_valid = get_train_valid(feat_P)\n",
        "\n",
        "assert feat_P_train.shape[0] == target_train.shape[0]\n",
        "assert feat_P_valid.shape[0] == target_valid.shape[0]\n",
        "\n",
        "print('Datasets: \\n')\n",
        "print('Transformed Features Train:', feat_P_train.shape, ' Target Train:', target_train.shape)\n",
        "print('Transformed Features Validation:', feat_P_valid.shape, ' Target Validation:', target_valid.shape)"
      ],
      "execution_count": null,
      "outputs": [
        {
          "output_type": "stream",
          "text": [
            "Datasets: \n",
            "\n",
            "Transformed Features Train: (3750, 4)  Target Train: (3750,)\n",
            "Transformed Features Validation: (1250, 4)  Target Validation: (1250,)\n"
          ],
          "name": "stdout"
        }
      ]
    },
    {
      "cell_type": "code",
      "metadata": {
        "id": "ODsprCjgAm_8",
        "outputId": "b0f61e25-a31d-4ebf-988a-6c0c37a4fe88"
      },
      "source": [
        "# Transformed features test\n",
        "\n",
        "model = LinearRegression()\n",
        "model.fit(feat_P_train, target_train)\n",
        "predictions_trans = model.predict(feat_P_valid)\n",
        "print('R2 Score with features multiplied by an invertible matrix:', r2_score(target_valid, predictions_trans))"
      ],
      "execution_count": null,
      "outputs": [
        {
          "output_type": "stream",
          "text": [
            "R2 Score with features multiplied by an invertible matrix: 0.43522757127045497\n"
          ],
          "name": "stdout"
        }
      ]
    },
    {
      "cell_type": "markdown",
      "metadata": {
        "id": "UBhzPjTOAm_8"
      },
      "source": [
        "The dataset was split into test/train (validate/train), the model was trained using the training datasets and then evaluated using the test set. With the creation of the invertible matrix P, the features matrix was transformed by multiplying it with matrix P. The R2 score for both linear regression models with the original features vs the transformed features are very similar."
      ]
    },
    {
      "cell_type": "markdown",
      "metadata": {
        "id": "9aAlPZb6Am_9"
      },
      "source": [
        "# Overall Conclusion\n",
        "\n",
        "With the transformation matrix, it was determined that having the orignal features multipled an invertible matrix gave us the same predictions in the linear regression model. The proof from above proves that it's same. The weight vector for the transformation features shows that it takes in the factor of $P^{-1}$. It's shown that the R2 score for the both models are very similar."
      ]
    }
  ]
}